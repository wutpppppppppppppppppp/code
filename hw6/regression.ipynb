{
 "cells": [
  {
   "cell_type": "markdown",
   "metadata": {},
   "source": [
    "# Create a regression model to predict sale price from given attributes.\n",
    "## Note that some data preparation techniques, feature selection,  and feature engineering must be applied beforehand.\n",
    "### The target column is price_usd."
   ]
  },
  {
   "cell_type": "code",
   "execution_count": 3,
   "metadata": {},
   "outputs": [
    {
     "name": "stderr",
     "output_type": "stream",
     "text": [
      "C:\\Users\\woosh\\AppData\\Local\\Temp\\ipykernel_23356\\1729091905.py:1: DeprecationWarning: \n",
      "Pyarrow will become a required dependency of pandas in the next major release of pandas (pandas 3.0),\n",
      "(to allow more performant data types, such as the Arrow string type, and better interoperability with other libraries)\n",
      "but was not found to be installed on your system.\n",
      "If this would cause problems for you,\n",
      "please provide us feedback at https://github.com/pandas-dev/pandas/issues/54466\n",
      "        \n",
      "  import pandas as pd\n"
     ]
    }
   ],
   "source": [
    "import pandas as pd\n",
    "df = pd.read_csv(\"used_car_price.csv\")"
   ]
  },
  {
   "cell_type": "markdown",
   "metadata": {},
   "source": [
    "# Data preparation"
   ]
  },
  {
   "cell_type": "code",
   "execution_count": 5,
   "metadata": {},
   "outputs": [
    {
     "name": "stdout",
     "output_type": "stream",
     "text": [
      "<class 'pandas.core.frame.DataFrame'>\n",
      "RangeIndex: 2059 entries, 0 to 2058\n",
      "Data columns (total 19 columns):\n",
      " #   Column                Non-Null Count  Dtype  \n",
      "---  ------                --------------  -----  \n",
      " 0   make                  2059 non-null   object \n",
      " 1   model                 2059 non-null   object \n",
      " 2   price_usd             2059 non-null   int64  \n",
      " 3   year                  2059 non-null   int64  \n",
      " 4   kilometer             2059 non-null   int64  \n",
      " 5   fuel_type             2059 non-null   object \n",
      " 6   transmission          2059 non-null   object \n",
      " 7   color                 2059 non-null   object \n",
      " 8   owner                 2059 non-null   object \n",
      " 9   seller_type           2059 non-null   object \n",
      " 10  engine                1979 non-null   object \n",
      " 11  max_power             1979 non-null   object \n",
      " 12  max_torque            1979 non-null   object \n",
      " 13  drivetrain            1923 non-null   object \n",
      " 14  length_mm             1995 non-null   float64\n",
      " 15  width_mm              1995 non-null   float64\n",
      " 16  height_mm             1995 non-null   float64\n",
      " 17  seating_capacity      1995 non-null   float64\n",
      " 18  fuel_tank_capacity_l  1946 non-null   float64\n",
      "dtypes: float64(5), int64(3), object(11)\n",
      "memory usage: 305.8+ KB\n",
      "None\n",
      "make                    False\n",
      "model                   False\n",
      "price_usd               False\n",
      "year                    False\n",
      "kilometer               False\n",
      "fuel_type               False\n",
      "transmission            False\n",
      "color                   False\n",
      "owner                   False\n",
      "seller_type             False\n",
      "engine                   True\n",
      "max_power                True\n",
      "max_torque               True\n",
      "drivetrain               True\n",
      "length_mm                True\n",
      "width_mm                 True\n",
      "height_mm                True\n",
      "seating_capacity         True\n",
      "fuel_tank_capacity_l     True\n",
      "dtype: bool\n"
     ]
    }
   ],
   "source": [
    "print(df.info())\n",
    "print(df.isna().any())"
   ]
  },
  {
   "cell_type": "code",
   "execution_count": null,
   "metadata": {},
   "outputs": [],
   "source": []
  }
 ],
 "metadata": {
  "kernelspec": {
   "display_name": ".venv",
   "language": "python",
   "name": "python3"
  },
  "language_info": {
   "codemirror_mode": {
    "name": "ipython",
    "version": 3
   },
   "file_extension": ".py",
   "mimetype": "text/x-python",
   "name": "python",
   "nbconvert_exporter": "python",
   "pygments_lexer": "ipython3",
   "version": "3.12.0"
  }
 },
 "nbformat": 4,
 "nbformat_minor": 2
}
