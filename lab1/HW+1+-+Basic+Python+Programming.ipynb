{
 "cells": [
  {
   "cell_type": "markdown",
   "id": "64e93d7b-1c77-47d7-b3e0-f77cca1258b7",
   "metadata": {},
   "source": [
    "# Lab 1: Basic Python Programming"
   ]
  },
  {
   "cell_type": "markdown",
   "id": "ccb5a923-50cb-4347-8241-904c8d3bd6f5",
   "metadata": {},
   "source": [
    "## 1. Basic usage"
   ]
  },
  {
   "cell_type": "markdown",
   "id": "fc437319-7d8c-42a6-90a3-c027dd394f55",
   "metadata": {},
   "source": [
    "> John Doe is a 29 years-old system engineer who earns ฿41500.00 a month."
   ]
  },
  {
   "cell_type": "markdown",
   "id": "e916ec77-882f-4770-a876-8034e505d987",
   "metadata": {},
   "source": [
    "Create and assign variables to store this person's information (name, age, position and salary)."
   ]
  },
  {
   "cell_type": "code",
   "execution_count": 16,
   "id": "c82ab750-42b1-4942-9126-e78858848259",
   "metadata": {},
   "outputs": [],
   "source": [
    "# Write your code here\n",
    "name = \"John Doe\"\n",
    "age = 29\n",
    "position = \"system engineer\"\n",
    "salary = 41500.00"
   ]
  },
  {
   "cell_type": "markdown",
   "id": "5276310d-91d8-462a-855f-713c14a399b3",
   "metadata": {},
   "source": [
    "What is the type of each variables?"
   ]
  },
  {
   "cell_type": "code",
   "execution_count": 17,
   "id": "51ff9507-b6ed-4fc9-bae8-32679f0ffe0f",
   "metadata": {},
   "outputs": [
    {
     "name": "stdout",
     "output_type": "stream",
     "text": [
      "name is <class 'str'>\n",
      "age is <class 'int'>\n",
      "position is <class 'str'>\n",
      "salary is <class 'float'>\n"
     ]
    }
   ],
   "source": [
    "# Write your code here\n",
    "print(\"name is \"+str(type(name))+\"\\nage is \"+str(type(age))+\"\\nposition is \"+str(type(position))+\"\\nsalary is \" + str(type(salary)))"
   ]
  },
  {
   "cell_type": "markdown",
   "id": "e9af1002-80de-4b0b-aa53-4c555f270349",
   "metadata": {},
   "source": [
    "The manager decides to give John a 7% raise. Update his salary."
   ]
  },
  {
   "cell_type": "code",
   "execution_count": 18,
   "id": "aacfb035-65b9-47b5-9980-19ea9e325051",
   "metadata": {},
   "outputs": [
    {
     "data": {
      "text/plain": [
       "44405.0"
      ]
     },
     "execution_count": 18,
     "metadata": {},
     "output_type": "execute_result"
    }
   ],
   "source": [
    "# Write your code here\n",
    "salary *= 1.07  \n",
    "salary"
   ]
  },
  {
   "cell_type": "markdown",
   "id": "b38d04d0-c43b-44c5-9a37-11d7a768a124",
   "metadata": {},
   "source": [
    "Prints his information again with his new salary."
   ]
  },
  {
   "cell_type": "code",
   "execution_count": 19,
   "id": "04699250-3a2e-43e4-a84c-2a5cbcf38c36",
   "metadata": {},
   "outputs": [
    {
     "name": "stdout",
     "output_type": "stream",
     "text": [
      "John Doe 29 system engineer 44405.0\n"
     ]
    }
   ],
   "source": [
    "# Write your code here\n",
    "print(name,age,position,salary)"
   ]
  },
  {
   "cell_type": "markdown",
   "id": "590d49a7-eac2-434b-b73f-af1d2f13cca6",
   "metadata": {},
   "source": [
    "Now, he decides to resign. Delete his information from the system."
   ]
  },
  {
   "cell_type": "code",
   "execution_count": 22,
   "id": "f7f06b90-67cf-4e04-be79-deb29cfabdb1",
   "metadata": {},
   "outputs": [
    {
     "ename": "NameError",
     "evalue": "name 'name' is not defined",
     "output_type": "error",
     "traceback": [
      "\u001b[1;31m---------------------------------------------------------------------------\u001b[0m",
      "\u001b[1;31mNameError\u001b[0m                                 Traceback (most recent call last)",
      "Cell \u001b[1;32mIn[22], line 2\u001b[0m\n\u001b[0;32m      1\u001b[0m \u001b[38;5;66;03m# Write your code here\u001b[39;00m\n\u001b[1;32m----> 2\u001b[0m \u001b[38;5;28;01mdel\u001b[39;00m \u001b[43mname\u001b[49m,age,position,salary\n",
      "\u001b[1;31mNameError\u001b[0m: name 'name' is not defined"
     ]
    }
   ],
   "source": [
    "# Write your code here\n",
    "del name,age,position,salary"
   ]
  },
  {
   "cell_type": "markdown",
   "id": "077aee58-d6d1-4262-bef9-4e9a9a82a800",
   "metadata": {},
   "source": [
    "## 2. Variable and Expression"
   ]
  },
  {
   "cell_type": "markdown",
   "id": "af79a9e3-db50-456c-841e-eef66ef246a9",
   "metadata": {},
   "source": [
    "**2.1** Write a code to convert temperature unit from celcius to other units"
   ]
  },
  {
   "cell_type": "code",
   "execution_count": 23,
   "id": "8dfd591f-41f0-4b73-b770-fbcf60eb983a",
   "metadata": {},
   "outputs": [],
   "source": [
    "C = 34.5"
   ]
  },
  {
   "cell_type": "markdown",
   "id": "afd0633b-76ca-4ab8-b61c-7e1f8fdf724b",
   "metadata": {},
   "source": [
    "**Fahrenheit**  \n",
    "#### $\\frac{C}{5} = \\frac{F-32}{9}$"
   ]
  },
  {
   "cell_type": "code",
   "execution_count": 24,
   "id": "93e1649c-5724-4842-b121-82bdd2922a1b",
   "metadata": {},
   "outputs": [
    {
     "data": {
      "text/plain": [
       "94.1"
      ]
     },
     "execution_count": 24,
     "metadata": {},
     "output_type": "execute_result"
    }
   ],
   "source": [
    "F = (C*9/5) + 32\n",
    "F"
   ]
  },
  {
   "cell_type": "markdown",
   "id": "05017521-6d16-4d65-a100-e9c94e49f9d6",
   "metadata": {},
   "source": [
    "**Kelvin**  \n",
    "$K = C + 273.15$"
   ]
  },
  {
   "cell_type": "code",
   "execution_count": 25,
   "id": "0790d13f-3a85-4bb7-b341-3796e7d81816",
   "metadata": {},
   "outputs": [
    {
     "data": {
      "text/plain": [
       "307.65"
      ]
     },
     "execution_count": 25,
     "metadata": {},
     "output_type": "execute_result"
    }
   ],
   "source": [
    "K = C+273.15\n",
    "K"
   ]
  },
  {
   "cell_type": "markdown",
   "id": "3aafb9c3-7135-4730-9f72-41919a7bf8aa",
   "metadata": {},
   "source": [
    "**Rømer**  \n",
    "#### $Ro = \\frac{C \\times 21}{40} + 7.5$"
   ]
  },
  {
   "cell_type": "code",
   "execution_count": 26,
   "id": "f77ad9dd-966e-4e6e-974e-64f1796f9d2e",
   "metadata": {},
   "outputs": [
    {
     "data": {
      "text/plain": [
       "25.6125"
      ]
     },
     "execution_count": 26,
     "metadata": {},
     "output_type": "execute_result"
    }
   ],
   "source": [
    "Ro = (C*21/40) + 7.5\n",
    "Ro"
   ]
  },
  {
   "cell_type": "markdown",
   "id": "46be05e7-89f8-4461-989d-017343872b4a",
   "metadata": {
    "tags": []
   },
   "source": [
    "## 3. Multi-item variables\n",
    "#### List"
   ]
  },
  {
   "cell_type": "code",
   "execution_count": 38,
   "id": "bcf35687-0b65-4958-ac2b-e24627ef68d1",
   "metadata": {},
   "outputs": [],
   "source": [
    "names = ['Thomas', 'Kate', 'Mike', 'Amelia', 'James', 'Megan']"
   ]
  },
  {
   "cell_type": "markdown",
   "id": "448e0cac-5140-4c01-ae36-6483e68d538b",
   "metadata": {},
   "source": [
    "Create new variable call `new_name` which takes input name of the user."
   ]
  },
  {
   "cell_type": "code",
   "execution_count": 39,
   "id": "ae8b5b8e-5718-4d6b-923d-8d3c1562c845",
   "metadata": {},
   "outputs": [],
   "source": [
    "new_name = input('Enter your name: ')"
   ]
  },
  {
   "cell_type": "markdown",
   "id": "46726149-c092-45ab-ae91-a3505ff28f81",
   "metadata": {},
   "source": [
    "Insert `new_name` into `names` list."
   ]
  },
  {
   "cell_type": "code",
   "execution_count": 40,
   "id": "4f757eb7-5658-490e-b523-cb1c880db7fd",
   "metadata": {},
   "outputs": [
    {
     "data": {
      "text/plain": [
       "['Thomas', 'Kate', 'Mike', 'Amelia', 'James', 'Megan', 'Wut']"
      ]
     },
     "execution_count": 40,
     "metadata": {},
     "output_type": "execute_result"
    }
   ],
   "source": [
    "# Write your code here\n",
    "names.append(new_name)\n",
    "names"
   ]
  },
  {
   "cell_type": "markdown",
   "id": "4600f46e-4a21-41f7-a4b1-00e5921e134b",
   "metadata": {},
   "source": [
    "Select your name from the list"
   ]
  },
  {
   "cell_type": "code",
   "execution_count": 41,
   "id": "cbae27d8-6dda-45ae-9839-6513d1086384",
   "metadata": {},
   "outputs": [
    {
     "data": {
      "text/plain": [
       "'Wut'"
      ]
     },
     "execution_count": 41,
     "metadata": {},
     "output_type": "execute_result"
    }
   ],
   "source": [
    "# Write your code here\n",
    "names[-1]"
   ]
  },
  {
   "cell_type": "markdown",
   "id": "5114e655-d67e-428b-a179-1ef8cec4da28",
   "metadata": {},
   "source": [
    "Merge `another_names` into `names`."
   ]
  },
  {
   "cell_type": "code",
   "execution_count": 31,
   "id": "330ecf29-1771-427d-a16f-f515994c617c",
   "metadata": {},
   "outputs": [],
   "source": [
    "another_names = ['Peter', 'Steve', 'Sam', 'Charlotte']"
   ]
  },
  {
   "cell_type": "code",
   "execution_count": 42,
   "id": "35bd286b-2303-45a4-90ec-17a84d1a91c6",
   "metadata": {},
   "outputs": [
    {
     "data": {
      "text/plain": [
       "['Thomas',\n",
       " 'Kate',\n",
       " 'Mike',\n",
       " 'Amelia',\n",
       " 'James',\n",
       " 'Megan',\n",
       " 'Wut',\n",
       " 'Peter',\n",
       " 'Steve',\n",
       " 'Sam',\n",
       " 'Charlotte']"
      ]
     },
     "execution_count": 42,
     "metadata": {},
     "output_type": "execute_result"
    }
   ],
   "source": [
    "# Write your code here\n",
    "names.extend(another_names)\n",
    "names"
   ]
  },
  {
   "cell_type": "markdown",
   "id": "8326fcba-7997-42b4-979e-ef7dee45c1d4",
   "metadata": {},
   "source": [
    "Change `Amelia`'s name to `Amy`"
   ]
  },
  {
   "cell_type": "code",
   "execution_count": 43,
   "id": "feb53ff6-f95e-43ac-9302-d4097bdeb123",
   "metadata": {},
   "outputs": [
    {
     "data": {
      "text/plain": [
       "['Thomas',\n",
       " 'Kate',\n",
       " 'Mike',\n",
       " 'Amy',\n",
       " 'James',\n",
       " 'Megan',\n",
       " 'Wut',\n",
       " 'Peter',\n",
       " 'Steve',\n",
       " 'Sam',\n",
       " 'Charlotte']"
      ]
     },
     "execution_count": 43,
     "metadata": {},
     "output_type": "execute_result"
    }
   ],
   "source": [
    "# Write your code here\n",
    "index = names.index(\"Amelia\")\n",
    "names[index] = \"Amy\"\n",
    "names"
   ]
  },
  {
   "cell_type": "markdown",
   "id": "eb232f36-b03a-4666-a8be-11f6493ddda3",
   "metadata": {},
   "source": [
    "#### Dictionary"
   ]
  },
  {
   "cell_type": "code",
   "execution_count": 44,
   "id": "c7784413-7700-438d-9bae-e264327f16eb",
   "metadata": {},
   "outputs": [],
   "source": [
    "capital_city = {'England':'London',\n",
    "                'Spain':'Madrid',\n",
    "                'Japan':'Tokyo',\n",
    "                'Australia':'Sydney',\n",
    "                'Germany':'Berlin',\n",
    "               }"
   ]
  },
  {
   "cell_type": "markdown",
   "id": "4a1424d4-8955-455d-9bda-ddc573c50307",
   "metadata": {},
   "source": [
    "Add a record `Thailand` and it's capital city to this dictionary"
   ]
  },
  {
   "cell_type": "code",
   "execution_count": 45,
   "id": "d7134edd-6732-4c37-9b69-28c02579c74f",
   "metadata": {},
   "outputs": [
    {
     "data": {
      "text/plain": [
       "{'England': 'London',\n",
       " 'Spain': 'Madrid',\n",
       " 'Japan': 'Tokyo',\n",
       " 'Australia': 'Sydney',\n",
       " 'Germany': 'Berlin',\n",
       " 'Thailand': 'Bangkok'}"
      ]
     },
     "execution_count": 45,
     "metadata": {},
     "output_type": "execute_result"
    }
   ],
   "source": [
    "# Write your code here\n",
    "capital_city[\"Thailand\"] = \"Bangkok\"\n",
    "capital_city"
   ]
  },
  {
   "cell_type": "markdown",
   "id": "442728cb-9f2d-472b-8909-987996e176cb",
   "metadata": {},
   "source": [
    "You may notice that the capital city of `Australia` is wrong. It should be `Canberra`. Correct this mistake."
   ]
  },
  {
   "cell_type": "code",
   "execution_count": 46,
   "id": "e9c689e8-ad32-4ddd-9e33-8025d2b8fa00",
   "metadata": {
    "jp-MarkdownHeadingCollapsed": true,
    "tags": []
   },
   "outputs": [
    {
     "data": {
      "text/plain": [
       "{'England': 'London',\n",
       " 'Spain': 'Madrid',\n",
       " 'Japan': 'Tokyo',\n",
       " 'Australia': 'Canberra',\n",
       " 'Germany': 'Berlin',\n",
       " 'Thailand': 'Bangkok'}"
      ]
     },
     "execution_count": 46,
     "metadata": {},
     "output_type": "execute_result"
    }
   ],
   "source": [
    "# Write your code here\n",
    "capital_city[\"Australia\"] = \"Canberra\"\n",
    "capital_city"
   ]
  },
  {
   "cell_type": "markdown",
   "id": "47de81e4-3a74-40ba-b383-4d9a4ba8a240",
   "metadata": {},
   "source": [
    "## 4. Control Flows and conditional statements"
   ]
  },
  {
   "cell_type": "markdown",
   "id": "26875311-407e-403d-9fdb-f8ded74f4926",
   "metadata": {},
   "source": [
    "### if...elif...else"
   ]
  },
  {
   "cell_type": "markdown",
   "id": "ef7bc755-efcd-45c5-a8e4-446724231dd1",
   "metadata": {},
   "source": [
    "**1.** Define a variable to get input age from user."
   ]
  },
  {
   "cell_type": "code",
   "execution_count": 47,
   "id": "908ab4b9-4452-4558-9dfa-33aba76e683c",
   "metadata": {},
   "outputs": [
    {
     "data": {
      "text/plain": [
       "20"
      ]
     },
     "execution_count": 47,
     "metadata": {},
     "output_type": "execute_result"
    }
   ],
   "source": [
    "age = int(input(\"Enter your age: \"))\n",
    "age"
   ]
  },
  {
   "cell_type": "markdown",
   "id": "92ee554c-f82d-4ad6-80ae-6d095b6eca2d",
   "metadata": {},
   "source": [
    "Write a series of if...elif...else statement that categorize input age into following groups:\n",
    "> Babies: 0-2 years old  \n",
    "Children: 3-12 years old  \n",
    "Teenager: 13-19 years old  \n",
    "Young Adults: 20-29 years old  \n",
    "Middle-aged Adults: 30-45 years old  \n",
    "Old Adult: 46-59 years old  \n",
    "Elderly: Above 60 years old  "
   ]
  },
  {
   "cell_type": "code",
   "execution_count": 49,
   "id": "77dc4105-8e3f-49da-932a-82611fd9dd8d",
   "metadata": {},
   "outputs": [
    {
     "name": "stdout",
     "output_type": "stream",
     "text": [
      "Young Adults\n"
     ]
    }
   ],
   "source": [
    "# Write your code here\n",
    "if age >= 60 :\n",
    "    print(\"Elderly\")\n",
    "elif age > 45:\n",
    "    print(\"Old Adult\")\n",
    "elif age > 29:\n",
    "    print(\"Middle-aged\")\n",
    "elif age > 19:\n",
    "    print(\"Young Adults\")\n",
    "elif age > 12:\n",
    "    print(\"Teenager\")\n",
    "elif age > 2:\n",
    "    print(\"Children\")\n",
    "else :\n",
    "    print(\"Babies\")"
   ]
  },
  {
   "cell_type": "markdown",
   "id": "c5713324-a3ea-46f9-9cd3-b3bbfa754ae7",
   "metadata": {},
   "source": [
    "### Looping"
   ]
  },
  {
   "cell_type": "markdown",
   "id": "93f2d88b-535e-4446-a81c-26d99ecedaaf",
   "metadata": {},
   "source": [
    "**1.** Write a code to create a multiplication table of an input number (multiplier from 1-12)."
   ]
  },
  {
   "cell_type": "code",
   "execution_count": 50,
   "id": "edea70e8-9bb0-46f1-9234-5b7c78c5038e",
   "metadata": {},
   "outputs": [
    {
     "name": "stdout",
     "output_type": "stream",
     "text": [
      "9 x 1 = 9\n",
      "9 x 2 = 18\n",
      "9 x 3 = 27\n",
      "9 x 4 = 36\n",
      "9 x 5 = 45\n",
      "9 x 6 = 54\n",
      "9 x 7 = 63\n",
      "9 x 8 = 72\n",
      "9 x 9 = 81\n",
      "9 x 10 = 90\n",
      "9 x 11 = 99\n",
      "9 x 12 = 108\n"
     ]
    }
   ],
   "source": [
    "# Write your code here\n",
    "num = int(input(\"Enter the number: \"))\n",
    "for i in range(1,13):\n",
    "    print(str(num) + \" x \" + str(i) + \" = \" + str(num*i))"
   ]
  },
  {
   "cell_type": "markdown",
   "id": "344ae7de-0986-416d-a86d-31f739a4df7a",
   "metadata": {},
   "source": [
    "**2.** Write a code that construct the following pattern.  "
   ]
  },
  {
   "cell_type": "raw",
   "id": "16aa5fe5-2651-4c06-9481-314df81a2d49",
   "metadata": {},
   "source": [
    "input: 5  \n",
    "output: \n",
    "*  \n",
    "**  \n",
    "***  \n",
    "****  \n",
    "***** "
   ]
  },
  {
   "cell_type": "code",
   "execution_count": 51,
   "id": "05671650-e184-4f5e-b17a-3e3f44a563e9",
   "metadata": {},
   "outputs": [
    {
     "name": "stdout",
     "output_type": "stream",
     "text": [
      "input: 8\n",
      "output: \n",
      "*\n",
      "**\n",
      "***\n",
      "****\n",
      "*****\n",
      "******\n",
      "*******\n",
      "********\n"
     ]
    }
   ],
   "source": [
    "# Write your code here\n",
    "level = int(input(\"Enter the level of the stars: \"))\n",
    "print(\"input: \"+str(level))\n",
    "print(\"output: \")\n",
    "for i in range(1,level+1):\n",
    "    print(\"*\"*i)"
   ]
  },
  {
   "cell_type": "markdown",
   "id": "591e6802-3d1c-450c-96ff-17bb703cff34",
   "metadata": {},
   "source": [
    "**3.** Creates a loop to print `I love <programming language>!` except for Assembly, print `Not you, Assembly`."
   ]
  },
  {
   "cell_type": "code",
   "execution_count": 52,
   "id": "27ae77b1-cca1-45b0-853f-458bad532661",
   "metadata": {},
   "outputs": [],
   "source": [
    "languages = ['C/C++', 'Python', 'R', 'Java', 'SQLs', 'Assembly', 'Go', 'Rust', 'Kotlin']"
   ]
  },
  {
   "cell_type": "code",
   "execution_count": 53,
   "id": "f94fb0d3-1482-403d-a4d2-245191c75931",
   "metadata": {},
   "outputs": [
    {
     "name": "stdout",
     "output_type": "stream",
     "text": [
      "I love C/C++!\n",
      "I love Python!\n",
      "I love R!\n",
      "I love Java!\n",
      "I love SQLs!\n",
      "Not you, Assembly\n",
      "I love Go!\n",
      "I love Rust!\n",
      "I love Kotlin!\n"
     ]
    }
   ],
   "source": [
    "# Write your code here\n",
    "for language in languages:\n",
    "    if language==\"Assembly\":\n",
    "        print(\"Not you, Assembly\")\n",
    "    else :\n",
    "        print(\"I love \" + str(language) + \"!\")"
   ]
  },
  {
   "cell_type": "markdown",
   "id": "b6e64546-269f-4b47-a1f3-d91bde2156c5",
   "metadata": {},
   "source": [
    "**4.** Write a code to print every number from 1 to 25 except the one that is divisible by 3."
   ]
  },
  {
   "cell_type": "code",
   "execution_count": 54,
   "id": "d09b0d6d-0245-4137-a160-1c7d5d5b7d52",
   "metadata": {},
   "outputs": [
    {
     "name": "stdout",
     "output_type": "stream",
     "text": [
      "1\n",
      "2\n",
      "4\n",
      "5\n",
      "7\n",
      "8\n",
      "10\n",
      "11\n",
      "13\n",
      "14\n",
      "16\n",
      "17\n",
      "19\n",
      "20\n",
      "22\n",
      "23\n",
      "25\n"
     ]
    }
   ],
   "source": [
    "# Write your code here\n",
    "for i in range (1,26):\n",
    "    if i%3==0:\n",
    "        continue\n",
    "    else:\n",
    "        print(i)\n"
   ]
  },
  {
   "cell_type": "markdown",
   "id": "96121e50-14d1-422c-855d-6b0f4df8d1ce",
   "metadata": {},
   "source": [
    "**5.** Write a code that finds the number that is divisible by 7 in a given range."
   ]
  },
  {
   "cell_type": "code",
   "execution_count": 55,
   "id": "b161d861-2250-48d1-a348-66a8616de8ca",
   "metadata": {},
   "outputs": [],
   "source": [
    "lower_bound = 1\n",
    "upper_bound = 100\n",
    "divisor = 7\n",
    "\n",
    "result = []"
   ]
  },
  {
   "cell_type": "code",
   "execution_count": 56,
   "id": "0ee01cfb-bbe2-482e-a7fd-cbcb0b444657",
   "metadata": {},
   "outputs": [
    {
     "data": {
      "text/plain": [
       "[7, 14, 21, 28, 35, 42, 49, 56, 63, 70, 77, 84, 91, 98]"
      ]
     },
     "execution_count": 56,
     "metadata": {},
     "output_type": "execute_result"
    }
   ],
   "source": [
    "# Write your code here\n",
    "for i in range(lower_bound,upper_bound):\n",
    "    if i%7 == 0:\n",
    "        result.append(i)\n",
    "result"
   ]
  },
  {
   "cell_type": "markdown",
   "id": "5f79cd06-9c78-4d92-9c81-962ea26148e1",
   "metadata": {},
   "source": [
    "**6.** Write a code that construct the following pattern.  "
   ]
  },
  {
   "cell_type": "code",
   "execution_count": 39,
   "id": "f8583076-5656-4e2f-8615-7da2ddda7fd9",
   "metadata": {},
   "outputs": [
    {
     "ename": "SyntaxError",
     "evalue": "invalid syntax (258756908.py, line 2)",
     "output_type": "error",
     "traceback": [
      "\u001b[1;36m  Cell \u001b[1;32mIn[39], line 2\u001b[1;36m\u001b[0m\n\u001b[1;33m    output:\u001b[0m\n\u001b[1;37m             ^\u001b[0m\n\u001b[1;31mSyntaxError\u001b[0m\u001b[1;31m:\u001b[0m invalid syntax\n"
     ]
    }
   ],
   "source": [
    "input: 5  \n",
    "output:  \n",
    "*#####\n",
    "**####\n",
    "***###\n",
    "****##\n",
    "*****#\n",
    "\n",
    "input: 10  \n",
    "output:  \n",
    "*##########  \n",
    "**#########  \n",
    "***########  \n",
    "****#######  \n",
    "*****######  \n",
    "******#####  \n",
    "*******####  \n",
    "********###  \n",
    "*********##  \n",
    "**********#  "
   ]
  },
  {
   "cell_type": "code",
   "execution_count": 62,
   "id": "e7ef0bd3-eb14-406a-842f-63716252ec26",
   "metadata": {},
   "outputs": [
    {
     "name": "stdout",
     "output_type": "stream",
     "text": [
      "input: 10\n",
      "output: \n",
      "*##########\n",
      "**#########\n",
      "***########\n",
      "****#######\n",
      "*****######\n",
      "******#####\n",
      "*******####\n",
      "********###\n",
      "*********##\n",
      "**********#\n"
     ]
    }
   ],
   "source": [
    "# Write your code here\n",
    "level = int(input(\"Enter the level of the stars: \"))\n",
    "print(\"input: \"+str(level))\n",
    "print(\"output: \")\n",
    "for i in range(1,level+1):\n",
    "    print(\"*\"*i,\"#\"*(level-i+1),sep='')"
   ]
  },
  {
   "cell_type": "markdown",
   "id": "aff11c81-82c8-4ac5-950e-9f8fc7e75717",
   "metadata": {},
   "source": [
    "## 5. Functions"
   ]
  },
  {
   "cell_type": "markdown",
   "id": "a9494a61-60d0-46dc-bfb6-9732cf2db524",
   "metadata": {},
   "source": [
    "**1.** Define a function `average` that takes arbitrary number of arguments and calculate the mean of input."
   ]
  },
  {
   "cell_type": "code",
   "execution_count": 63,
   "id": "4a7e53c3-c56e-4c12-96f6-090fdfffcfa7",
   "metadata": {},
   "outputs": [
    {
     "data": {
      "text/plain": [
       "3.0"
      ]
     },
     "execution_count": 63,
     "metadata": {},
     "output_type": "execute_result"
    }
   ],
   "source": [
    "# Write your code here\n",
    "def average (*arg):\n",
    "    sum = 0\n",
    "    for num in arg:\n",
    "        sum += num\n",
    "    return sum/len(arg)\n",
    "average(1,2,3,4,5)"
   ]
  },
  {
   "cell_type": "markdown",
   "id": "b3518966-bb87-4045-ac93-a44dd659fdf2",
   "metadata": {},
   "source": [
    "**2.** Define a function `sumproduct` that takes 2 equal-sized lists and calculate sum of the products of two lists.  \n",
    "It should look like this:  \n",
    "> sumproduct([1,2,3],[4,5,6])  \n",
    "output: 32"
   ]
  },
  {
   "cell_type": "markdown",
   "id": "b8cc65c3-d723-4150-915f-50952b6c89b5",
   "metadata": {},
   "source": [
    "(1 * 4) + (2 * 5) + (3 * 6) = 32"
   ]
  },
  {
   "cell_type": "code",
   "execution_count": 64,
   "id": "5ee40a62-62c2-4c32-b443-be74c4561633",
   "metadata": {},
   "outputs": [
    {
     "data": {
      "text/plain": [
       "32"
      ]
     },
     "execution_count": 64,
     "metadata": {},
     "output_type": "execute_result"
    }
   ],
   "source": [
    "# Write your code here\n",
    "def sumproduct (lst1, lst2):\n",
    "    sum = 0\n",
    "    for index in range(len(lst1)):\n",
    "        sum += lst1[index]*lst2[index]\n",
    "    return sum\n",
    "sumproduct([1,2,3],[4,5,6])"
   ]
  },
  {
   "cell_type": "markdown",
   "id": "fa9e1ec4-f283-4914-97b6-1c3c7e4559b3",
   "metadata": {},
   "source": [
    "**3.** Define a function `fibonacci` that returns Fibonacci number at `n` position.  \n",
    "A Fibonacci number at position `n` is defined by `F(n) = F(n-1) + F(n-2)`. Where `F(0) = 0` and `F(1) = 1`  \n",
    "**Example:** `0, 1, 1, 2, 3, 5, 8, 13, 21, 34, 55, 89, 144, ...`  "
   ]
  },
  {
   "cell_type": "code",
   "execution_count": 66,
   "id": "be842d69-614f-4a99-92b3-06546ecfad8a",
   "metadata": {},
   "outputs": [
    {
     "data": {
      "text/plain": [
       "144"
      ]
     },
     "execution_count": 66,
     "metadata": {},
     "output_type": "execute_result"
    }
   ],
   "source": [
    "# Write your code here\n",
    "def fibonacci (n):\n",
    "    if n>=2:\n",
    "        return fibonacci(n-1)+fibonacci(n-2)\n",
    "    elif n==0 :\n",
    "        return 0\n",
    "    else:\n",
    "        return 1\n",
    "fibonacci(12)"
   ]
  },
  {
   "cell_type": "markdown",
   "id": "0fe45b53-d936-4f0f-a8fd-c1e0e62206d5",
   "metadata": {},
   "source": [
    "**4.** Define a function `is_palindrome` that takes input string and check whether it is a palindrome or not.  \n",
    "A string is a palindrome if it reads the same forward and backwards.  \n",
    "**Example:** `madam`, `race car`, `borrow or rob`, `amore roma`, `never odd or even`  \n",
    "Do not consider whitespace. Use `str.replace(' ', '')` to remove whitespace from your string.  \n",
    "Case-insensitive. You can turn everything into lower or uppercase using `str.lower()` or `str.upper()`  \n",
    "**Hint:** you can reverse the string using `[::-1]` slice."
   ]
  },
  {
   "cell_type": "code",
   "execution_count": 67,
   "id": "94112078-1914-4892-bae3-27b8296bb901",
   "metadata": {},
   "outputs": [],
   "source": [
    "str1 = \"radar\" # palindrome\n",
    "str2 = \"rotator\" # palindrome\n",
    "str3 = \"lemon\" # not palindrome"
   ]
  },
  {
   "cell_type": "code",
   "execution_count": 69,
   "id": "247b2d87-cd37-4389-a304-59a4229be2ff",
   "metadata": {},
   "outputs": [
    {
     "name": "stdout",
     "output_type": "stream",
     "text": [
      "radar is palindrome\n",
      "rotator is palindrome\n",
      "lemon is not palindrome\n"
     ]
    }
   ],
   "source": [
    "# Write your code here\n",
    "def is_palindrome (str1):\n",
    "    str2 = str1[::-1].lower().replace(' ','')\n",
    "    if str1==str2:\n",
    "        return \"palindrome\"\n",
    "    else:\n",
    "        return \"not palindrome\"\n",
    "print(str(str1)+ \" is \" +str(is_palindrome(str1)))\n",
    "print(str(str2)+ \" is \" +str(is_palindrome(str2)))\n",
    "print(str(str3)+ \" is \" +str(is_palindrome(str3)))"
   ]
  },
  {
   "cell_type": "markdown",
   "id": "e71451d8-adc1-4d52-b9f7-c1a69e3fa65a",
   "metadata": {},
   "source": [
    "**5.** An `anagram` is a word or phrase formed by rearranging the letters of a different word or phrase.  \n",
    "Define a function `is_anagram` that takes in 2 strings and check whether it is possible to compose a second string using letters in the first string or not.  \n",
    "**Example:** `Tom Marrvolo Riddle` can be rearraged into `I am Lord Voldermort`  \n",
    "`Meaning of Life` can be rearranged into `Engine of a Film`  \n",
    "Do not consider whitespace. Use `str.replace(' ', '')` to remove whitespace from your string.  \n",
    "Case-insensitive. You can turn everything into lower or uppercase using `str.lower()` or `str.upper()`  \n",
    "Returns only `True` of `False`"
   ]
  },
  {
   "cell_type": "code",
   "execution_count": 71,
   "id": "fb6fdf92-c164-49d1-9e2c-0065c9541409",
   "metadata": {},
   "outputs": [
    {
     "data": {
      "text/plain": [
       "True"
      ]
     },
     "execution_count": 71,
     "metadata": {},
     "output_type": "execute_result"
    }
   ],
   "source": [
    "# Write your code here\n",
    "str1 = \"Meaning of Life\"\n",
    "str2 = \"Engine of a Film\"\n",
    "def is_anagram (str1, str2):\n",
    "    str1 = str1.lower().replace(\" \",'')\n",
    "    str2 = str2.lower().replace(\" \",'')\n",
    "    str1 = sorted(str1)\n",
    "    str2 = sorted(str2)\n",
    "    # print(str1,str2)\n",
    "    return True if str1==str2 else False\n",
    "is_anagram(str1,str2)\n",
    "    "
   ]
  },
  {
   "cell_type": "markdown",
   "id": "b4930c70-1db0-4c50-93c7-406538b1d140",
   "metadata": {},
   "source": [
    "---"
   ]
  }
 ],
 "metadata": {
  "kernelspec": {
   "display_name": "Python 3 (ipykernel)",
   "language": "python",
   "name": "python3"
  },
  "language_info": {
   "codemirror_mode": {
    "name": "ipython",
    "version": 3
   },
   "file_extension": ".py",
   "mimetype": "text/x-python",
   "name": "python",
   "nbconvert_exporter": "python",
   "pygments_lexer": "ipython3",
   "version": "3.12.1"
  }
 },
 "nbformat": 4,
 "nbformat_minor": 5
}
