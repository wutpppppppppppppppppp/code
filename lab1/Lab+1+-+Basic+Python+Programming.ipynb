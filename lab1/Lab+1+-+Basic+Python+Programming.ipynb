{
 "cells": [
  {
   "cell_type": "markdown",
   "metadata": {},
   "source": [
    "# Basic Python"
   ]
  },
  {
   "cell_type": "markdown",
   "metadata": {},
   "source": [
    "## Variable"
   ]
  },
  {
   "cell_type": "markdown",
   "metadata": {},
   "source": [
    "### Number Variable"
   ]
  },
  {
   "cell_type": "code",
   "execution_count": 8,
   "metadata": {},
   "outputs": [
    {
     "name": "stdout",
     "output_type": "stream",
     "text": [
      "100\n",
      "12.5\n",
      "112.5\n",
      "87.5\n",
      "1250.0\n",
      "8.0\n"
     ]
    }
   ],
   "source": [
    "num = 100 #integer variable\n",
    "num2 = 12.5 #float variable\n",
    "print(num)\n",
    "print(num2)\n",
    "\n",
    "print(num + num2)   #addition\n",
    "print(num - num2)   #subtraction\n",
    "print(num * num2)   #multiplication\n",
    "print( num / num2)  #division"
   ]
  },
  {
   "cell_type": "markdown",
   "metadata": {},
   "source": [
    "### String Variable"
   ]
  },
  {
   "cell_type": "code",
   "execution_count": 9,
   "metadata": {},
   "outputs": [
    {
     "name": "stdout",
     "output_type": "stream",
     "text": [
      "Atom Fasai\n",
      "Hello Atom Fasai\n",
      "A\n",
      "Atom\n",
      "Fasai\n",
      "tom\n",
      "Atom FasaiAtom Fasai\n"
     ]
    }
   ],
   "source": [
    "#string variable\n",
    "string = \"Atom Fasai\"\n",
    "print(string) #print complete string\n",
    "\n",
    "print(\"Hello \" + string)    #print concatenated string\n",
    "print(string[0])            #print first character of the string\n",
    "print(string[:4])           #print first to 4th character of the string\n",
    "print(string[5:])           #print 6th to last character of the string\n",
    "print(string[1:4])          #print 2nd to 4th character of the string\n",
    "print(string * 2)           #print string 2 time\n"
   ]
  },
  {
   "cell_type": "markdown",
   "metadata": {},
   "source": [
    "### Boolean Variable"
   ]
  },
  {
   "cell_type": "code",
   "execution_count": 10,
   "metadata": {},
   "outputs": [
    {
     "name": "stdout",
     "output_type": "stream",
     "text": [
      "True\n",
      "False\n",
      "False\n",
      "True\n"
     ]
    }
   ],
   "source": [
    "#boolean variable\n",
    "boolean = True\n",
    "boolean2 = False\n",
    "\n",
    "print(boolean)              #print boolean variable\n",
    "print(not boolean)          #print opposite of boolean variable\n",
    "print(boolean and boolean2) #print boolean and boolean2\n",
    "print(boolean or boolean2)  #print boolean or boolean2"
   ]
  },
  {
   "cell_type": "markdown",
   "metadata": {},
   "source": [
    "### List Variable"
   ]
  },
  {
   "cell_type": "code",
   "execution_count": 11,
   "metadata": {},
   "outputs": [
    {
     "name": "stdout",
     "output_type": "stream",
     "text": [
      "['Atom', 20, 123.23, 40, 50]\n",
      "Atom\n",
      "[20, 123.23]\n",
      "[123.23, 40, 50]\n",
      "['Fasai', 60]\n",
      "['Fasai', 60, 'Fasai', 60]\n",
      "['Atom', 20, 123.23, 40, 50, 'Fasai', 60]\n",
      "['AtomFasai', 20, 123.23, 40, 50]\n"
     ]
    }
   ],
   "source": [
    "#list variable\n",
    "list = [\"Atom\",20,123.23,40,50]\n",
    "another_list = [\"Fasai\",60]\n",
    "\n",
    "print(list)                 #print complete list\n",
    "print(list[0])              #print first element of the list\n",
    "print(list[1:3])            #print 2nd to 3rd element of the list\n",
    "print(list[2:])             #print 3rd to last element of the list\n",
    "print(another_list)         #print complete another_list\n",
    "print(another_list * 2)     #print another_list two times\n",
    "print(list + another_list)  #print concatenated list\n",
    "\n",
    "list[0] = \"AtomFasai\"       #change first element of the list\n",
    "print(list)                 #print complete list\n"
   ]
  },
  {
   "cell_type": "markdown",
   "metadata": {},
   "source": [
    "### Tuple Variable"
   ]
  },
  {
   "cell_type": "code",
   "execution_count": 12,
   "metadata": {},
   "outputs": [
    {
     "name": "stdout",
     "output_type": "stream",
     "text": [
      "('Atom', 20, 123.23, 40, 50)\n",
      "Atom\n",
      "(20, 123.23)\n",
      "(123.23, 40, 50)\n",
      "('Atom', 20, 123.23, 40, 50, 'Atom', 20, 123.23, 40, 50)\n",
      "('Atom', 20, 123.23, 40, 50, 'Fasai', 60)\n"
     ]
    }
   ],
   "source": [
    "#tuple variable\n",
    "tuple = (\"Atom\",20,123.23,40,50)\n",
    "another_tuple = (\"Fasai\",60)\n",
    "\n",
    "print(tuple)                    #print complete tuple\n",
    "print(tuple[0])                 #print first element of the tuple\n",
    "print(tuple[1:3])               #print 2nd to 3rd element of the tuple\n",
    "print(tuple[2:])                #print 3rd to last element of the tuple\n",
    "print(tuple * 2)                #print tuple two times\n",
    "print(tuple + another_tuple)    #print concatenated tuple\n"
   ]
  },
  {
   "cell_type": "code",
   "execution_count": 13,
   "metadata": {},
   "outputs": [
    {
     "ename": "TypeError",
     "evalue": "'tuple' object does not support item assignment",
     "output_type": "error",
     "traceback": [
      "\u001b[1;31m---------------------------------------------------------------------------\u001b[0m",
      "\u001b[1;31mTypeError\u001b[0m                                 Traceback (most recent call last)",
      "Cell \u001b[1;32mIn[13], line 1\u001b[0m\n\u001b[1;32m----> 1\u001b[0m \u001b[38;5;28;43mtuple\u001b[39;49m\u001b[43m[\u001b[49m\u001b[38;5;241;43m0\u001b[39;49m\u001b[43m]\u001b[49m \u001b[38;5;241m=\u001b[39m \u001b[38;5;124m\"\u001b[39m\u001b[38;5;124mAtomFasai\u001b[39m\u001b[38;5;124m\"\u001b[39m          \u001b[38;5;66;03m#trying to change first element of the tuple but it cannot be changed so it gives error\u001b[39;00m\n",
      "\u001b[1;31mTypeError\u001b[0m: 'tuple' object does not support item assignment"
     ]
    }
   ],
   "source": [
    "tuple[0] = \"AtomFasai\"          #trying to change first element of the tuple but it cannot be changed so it gives error"
   ]
  },
  {
   "cell_type": "markdown",
   "metadata": {},
   "source": [
    "### Dictionary Variable"
   ]
  },
  {
   "cell_type": "code",
   "execution_count": 14,
   "metadata": {},
   "outputs": [
    {
     "name": "stdout",
     "output_type": "stream",
     "text": [
      "{'name': 'Chanon', 'age': 21}\n",
      "Chanon\n",
      "dict_keys(['name', 'age'])\n",
      "dict_values(['Chanon', 21])\n",
      "dict_items([('name', 'Chanon'), ('age', 21)])\n",
      "{'name': 'AtomFasai', 'age': 21}\n"
     ]
    }
   ],
   "source": [
    "#dictionary variable\n",
    "dictionary = {\"name\":\"Chanon\",\"age\":21}\n",
    "another_dictionary = {}\n",
    "another_dictionary[\"name\"] = \"AtomFasai\"\n",
    "another_dictionary[\"age\"] = 21\n",
    "\n",
    "print(dictionary)                  #print complete dictionary\n",
    "print(dictionary[\"name\"])          #print value for specific key\n",
    "print(dictionary.keys())           #print all the keys\n",
    "print(dictionary.values())         #print all the values\n",
    "print(dictionary.items())          #print all the items\n",
    "print(another_dictionary)          #print complete another_dictionary"
   ]
  },
  {
   "cell_type": "markdown",
   "metadata": {},
   "source": [
    "# Control Flow"
   ]
  },
  {
   "cell_type": "markdown",
   "metadata": {},
   "source": [
    "### IF ... ELIF ... ELSE"
   ]
  },
  {
   "cell_type": "code",
   "execution_count": 15,
   "metadata": {},
   "outputs": [
    {
     "name": "stdout",
     "output_type": "stream",
     "text": [
      "number is greater thanu number2\n"
     ]
    }
   ],
   "source": [
    "number = 123\n",
    "number2 = 34\n",
    "\n",
    "if number > number2:\n",
    "    print(\"number is greater than number2\")\n",
    "elif number < number2:\n",
    "    print(\"number is less than number2\")\n",
    "else:\n",
    "    print(\"number is equal to number2\")\n"
   ]
  },
  {
   "cell_type": "markdown",
   "metadata": {},
   "source": [
    "## Loop"
   ]
  },
  {
   "cell_type": "markdown",
   "metadata": {},
   "source": [
    "### For Loop"
   ]
  },
  {
   "cell_type": "code",
   "execution_count": 16,
   "metadata": {},
   "outputs": [
    {
     "name": "stdout",
     "output_type": "stream",
     "text": [
      "0\n",
      "1\n",
      "2\n",
      "3\n",
      "4\n",
      "5\n",
      "6\n",
      "7\n",
      "8\n",
      "9\n"
     ]
    }
   ],
   "source": [
    "#for loops\n",
    "for num in range(0,10):\n",
    "    print(num)"
   ]
  },
  {
   "cell_type": "code",
   "execution_count": 17,
   "metadata": {},
   "outputs": [
    {
     "name": "stdout",
     "output_type": "stream",
     "text": [
      "Atom\n",
      "Fasai\n",
      "Chanon\n",
      "Khanijoh\n"
     ]
    }
   ],
   "source": [
    "#for loop with list\n",
    "\n",
    "list = [\"Atom\",\"Fasai\",\"Chanon\",\"Khanijoh\"]\n",
    "\n",
    "for name in list:\n",
    "    print(name)"
   ]
  },
  {
   "cell_type": "code",
   "execution_count": 18,
   "metadata": {},
   "outputs": [
    {
     "name": "stdout",
     "output_type": "stream",
     "text": [
      "1\n",
      "23\n",
      "7\n",
      "1123\n",
      "43\n",
      "23\n",
      "12\n"
     ]
    }
   ],
   "source": [
    "#continue in for loop\n",
    "\n",
    "list = [1,23,7,\"hello\",True,1123,43,23,12]\n",
    "\n",
    "for element in list:\n",
    "    if type(element) != int:\n",
    "        continue   \n",
    "    print(element)"
   ]
  },
  {
   "cell_type": "code",
   "execution_count": 19,
   "metadata": {},
   "outputs": [
    {
     "name": "stdout",
     "output_type": "stream",
     "text": [
      "1\n",
      "23\n",
      "7\n"
     ]
    }
   ],
   "source": [
    "#break in for loop\n",
    "\n",
    "list = [1,23,7,\"hello\",True,1123,43,23,12]\n",
    "\n",
    "for element in list:\n",
    "    if type(element) != int:\n",
    "        break\n",
    "    print(element)"
   ]
  },
  {
   "cell_type": "markdown",
   "metadata": {},
   "source": [
    "### While loop"
   ]
  },
  {
   "cell_type": "code",
   "execution_count": 20,
   "metadata": {},
   "outputs": [
    {
     "name": "stdout",
     "output_type": "stream",
     "text": [
      "Atom\n",
      "Fasai\n",
      "Chanon\n",
      "Khanijoh\n"
     ]
    }
   ],
   "source": [
    "#while loop\n",
    "\n",
    "list = [\"Atom\",\"Fasai\",\"Chanon\",\"Khanijoh\"]\n",
    "count = 0\n",
    "\n",
    "while count < len(list):\n",
    "    print(list[count])\n",
    "    count += 1"
   ]
  },
  {
   "cell_type": "code",
   "execution_count": 21,
   "metadata": {},
   "outputs": [
    {
     "name": "stdout",
     "output_type": "stream",
     "text": [
      "1\n",
      "23\n",
      "7\n",
      "1123\n",
      "43\n",
      "23\n",
      "12\n"
     ]
    }
   ],
   "source": [
    "#continue in while loop\n",
    "\n",
    "list = [1,23,7,\"hello\",True,1123,43,23,12]\n",
    "count = 0\n",
    "\n",
    "while count < len(list):\n",
    "    if type(list[count]) != int:\n",
    "        count += 1\n",
    "        continue\n",
    "    print(list[count])\n",
    "    count += 1"
   ]
  },
  {
   "cell_type": "code",
   "execution_count": 22,
   "metadata": {},
   "outputs": [
    {
     "name": "stdout",
     "output_type": "stream",
     "text": [
      "1\n",
      "23\n",
      "7\n"
     ]
    }
   ],
   "source": [
    "#break in while loop\n",
    "\n",
    "list = [1,23,7,\"hello\",True,1123,43,23,12]\n",
    "count = 0\n",
    "\n",
    "while count < len(list):\n",
    "    if type(list[count]) != int:\n",
    "        break\n",
    "    print(list[count])\n",
    "    count += 1"
   ]
  },
  {
   "cell_type": "markdown",
   "metadata": {},
   "source": [
    "## Function"
   ]
  },
  {
   "cell_type": "code",
   "execution_count": 23,
   "metadata": {},
   "outputs": [
    {
     "data": {
      "text/plain": [
       "3"
      ]
     },
     "execution_count": 23,
     "metadata": {},
     "output_type": "execute_result"
    }
   ],
   "source": [
    "#define function\n",
    "def function_name (arg1, arg2):\n",
    "    return arg1 + arg2\n",
    "\n",
    "#calling function\n",
    "function_name(1,2)"
   ]
  },
  {
   "cell_type": "code",
   "execution_count": 26,
   "metadata": {},
   "outputs": [
    {
     "name": "stdout",
     "output_type": "stream",
     "text": [
      "61\n",
      "38\n",
      "18\n"
     ]
    }
   ],
   "source": [
    "#define function with default argument\n",
    "def function_with_default_arg(arg1, arg2 = 10, arg3 = 20 , arg4 = 30):\n",
    "    return arg1 + arg2 + arg3 + arg4\n",
    "\n",
    "result_1 = function_with_default_arg(1)\n",
    "result_2 = function_with_default_arg(1,2,5)\n",
    "result_3 = function_with_default_arg(1,2,5,10)\n",
    "\n",
    "print(result_1)\n",
    "print(result_2)\n",
    "print(result_3)"
   ]
  },
  {
   "cell_type": "code",
   "execution_count": 27,
   "metadata": {},
   "outputs": [
    {
     "name": "stdout",
     "output_type": "stream",
     "text": [
      "(1, 2, 3, 4, 5)\n",
      "<class 'tuple'>\n"
     ]
    },
    {
     "data": {
      "text/plain": [
       "15"
      ]
     },
     "execution_count": 27,
     "metadata": {},
     "output_type": "execute_result"
    }
   ],
   "source": [
    "#multiple agument\n",
    "def function_with_multiple_arg(*args):\n",
    "    print(args)\n",
    "    print(type(args))\n",
    "    sum = 0\n",
    "    for num in args:\n",
    "        sum += num\n",
    "        \n",
    "    return sum\n",
    "\n",
    "function_with_multiple_arg(1,2,3,4,5)"
   ]
  },
  {
   "cell_type": "code",
   "execution_count": 29,
   "metadata": {},
   "outputs": [
    {
     "name": "stdout",
     "output_type": "stream",
     "text": [
      "3\n"
     ]
    }
   ],
   "source": [
    "#lambda function\n",
    "lambda_function = lambda arg1, arg2: arg1 + arg2\n",
    "\n",
    "print(lambda_function(1,2))"
   ]
  },
  {
   "cell_type": "markdown",
   "metadata": {},
   "source": [
    "# Opening Closing File"
   ]
  },
  {
   "cell_type": "markdown",
   "metadata": {},
   "source": [
    "## Text File"
   ]
  },
  {
   "cell_type": "code",
   "execution_count": 30,
   "metadata": {},
   "outputs": [],
   "source": [
    "with open(\"test.txt\",\"w\") as file:\n",
    "    file.write(\"Hello World\")"
   ]
  },
  {
   "cell_type": "code",
   "execution_count": 31,
   "metadata": {},
   "outputs": [
    {
     "name": "stdout",
     "output_type": "stream",
     "text": [
      "Hello World\n"
     ]
    }
   ],
   "source": [
    "with open(\"test.txt\",\"r\") as file:\n",
    "    print(file.read())"
   ]
  },
  {
   "cell_type": "markdown",
   "metadata": {},
   "source": [
    "## CSV File"
   ]
  },
  {
   "cell_type": "code",
   "execution_count": 32,
   "metadata": {},
   "outputs": [],
   "source": [
    "import csv\n",
    "\n",
    "with open(\"test.csv\",\"w\",newline='') as file:\n",
    "        writer = csv.writer(file)\n",
    "        writer.writerow([\"Name\",\"Surname\"])\n",
    "        writer.writerow([\"Atom\",\"Fasai\"])\n",
    "        writer.writerow([\"Chanon\",\"Khanijoh\"])"
   ]
  },
  {
   "cell_type": "code",
   "execution_count": 33,
   "metadata": {},
   "outputs": [
    {
     "name": "stdout",
     "output_type": "stream",
     "text": [
      "['Name', 'Surname']\n",
      "['Atom', 'Fasai']\n",
      "['Chanon', 'Khanijoh']\n"
     ]
    }
   ],
   "source": [
    "import csv \n",
    "\n",
    "with open(\"test.csv\",\"r\") as file:\n",
    "    reader = csv.reader(file)\n",
    "    for row in reader:\n",
    "        print(row)"
   ]
  }
 ],
 "metadata": {
  "kernelspec": {
   "display_name": "Python 3",
   "language": "python",
   "name": "python3"
  },
  "language_info": {
   "codemirror_mode": {
    "name": "ipython",
    "version": 3
   },
   "file_extension": ".py",
   "mimetype": "text/x-python",
   "name": "python",
   "nbconvert_exporter": "python",
   "pygments_lexer": "ipython3",
   "version": "3.12.1"
  }
 },
 "nbformat": 4,
 "nbformat_minor": 2
}
