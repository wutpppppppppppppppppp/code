{
  "cells": [
    {
      "cell_type": "markdown",
      "metadata": {},
      "source": [
        "# Supplementary #1: Static Data Visualization"
      ]
    },
    {
      "cell_type": "code",
      "execution_count": 1,
      "metadata": {
        "id": "bciQdo-d4gdh"
      },
      "outputs": [],
      "source": [
        "# connect to Google Colab"
      ]
    },
    {
      "cell_type": "code",
      "execution_count": null,
      "metadata": {
        "colab": {
          "base_uri": "https://localhost:8080/"
        },
        "id": "BMlBGtJ66FHR",
        "outputId": "5f9ba87e-f63c-4621-daad-1f4baf0e3a4d"
      },
      "outputs": [],
      "source": [
        "from google.colab import drive\n",
        "drive.mount('/content/drive')"
      ]
    },
    {
      "cell_type": "code",
      "execution_count": null,
      "metadata": {
        "id": "WR4ptptb4gdk"
      },
      "outputs": [],
      "source": [
        "\n",
        "# import necessary libraries\n",
        "import matplotlib.pyplot as plt\n",
        "import numpy as np\n",
        "import pandas as pd"
      ]
    },
    {
      "cell_type": "markdown",
      "metadata": {
        "id": "UYDawOXU4gdl"
      },
      "source": [
        "## Line\n",
        "1. Straight line\n",
        "2. Parabola\n",
        "3. Sine\n",
        "---"
      ]
    },
    {
      "cell_type": "markdown",
      "metadata": {
        "id": "cbNwoyTy4gdm"
      },
      "source": [
        "#### Straight Line\n",
        "- y = mx + c; where m = slope, c = intercept"
      ]
    },
    {
      "cell_type": "code",
      "execution_count": null,
      "metadata": {
        "colab": {
          "base_uri": "https://localhost:8080/",
          "height": 489
        },
        "id": "L942FZ_B4gdm",
        "outputId": "e2f5b231-3c18-46a4-8a68-98a0048e4020"
      },
      "outputs": [],
      "source": [
        "# define data values\n",
        "x = np.array([1, 2, 3, 4])  # X-axis points\n",
        "y = x*1  # Y-axis points\n",
        "print('(x,y): ', x, y)\n",
        "\n",
        "plt.plot(x, y)  # Plot the chart\n",
        "\n",
        "plt.title(\"Line graph example\")\n",
        "plt.xlabel(\"X axis\")\n",
        "plt.ylabel(\"Y axis\")\n",
        "plt.grid()\n",
        "plt.show()  # display"
      ]
    },
    {
      "cell_type": "markdown",
      "metadata": {
        "id": "pV_F-lye4gdn"
      },
      "source": [
        "Update the slope to 3"
      ]
    },
    {
      "cell_type": "code",
      "execution_count": null,
      "metadata": {
        "id": "iQTTEQxG4gdn"
      },
      "outputs": [],
      "source": [
        "y = x*3  # Y-axis points\n",
        "print('(x,y): ', x, y)\n",
        "\n",
        "plt.plot(x, y)  # Plot the chart\n",
        "\n",
        "plt.title(\"Line graph with updated slope\")\n",
        "plt.xlabel(\"X axis\")\n",
        "plt.ylabel(\"Y axis\")\n",
        "plt.grid()\n",
        "plt.show()  # display"
      ]
    },
    {
      "cell_type": "markdown",
      "metadata": {
        "id": "O58njOuP4gdn"
      },
      "source": [
        "Two lines in the same plot"
      ]
    },
    {
      "cell_type": "code",
      "execution_count": null,
      "metadata": {
        "id": "ctSZ0ERX4gdo"
      },
      "outputs": [],
      "source": [
        "y = x*1  # First line\n",
        "\n",
        "plt.plot(x, y)  # Plot the chart\n",
        "print('(x,y) of plot#1: ', x, y)\n",
        "# -----------\n",
        "\n",
        "\n",
        "y = x*3 # Second line\n",
        "plt.plot(x, y, color = 'red')  # Plot the chart\n",
        "print('(x,y) of plot#2: ', x, y)\n",
        "\n",
        "plt.grid()\n",
        "plt.show()  # display"
      ]
    },
    {
      "cell_type": "markdown",
      "metadata": {
        "id": "noxIlRzj4gdo"
      },
      "source": [
        "Negative slope"
      ]
    },
    {
      "cell_type": "code",
      "execution_count": null,
      "metadata": {
        "id": "vFV_tpb94gdo"
      },
      "outputs": [],
      "source": [
        "# Set m = -1\n",
        "y= x*(-1)\n",
        "print('(x,y): ', x, y)\n",
        "\n",
        "plt.plot(x, y)  # Plot the chart\n",
        "plt.title(\"Line graph\")\n",
        "plt.xlabel(\"X axis\")\n",
        "plt.ylabel(\"Y axis\")\n",
        "\n",
        "plt.grid()\n",
        "plt.show()  # display"
      ]
    },
    {
      "cell_type": "markdown",
      "metadata": {
        "id": "Iofu8Jja4gdp"
      },
      "source": [
        "Positive vs Negative slopes"
      ]
    },
    {
      "cell_type": "code",
      "execution_count": null,
      "metadata": {
        "id": "ysuD0N974gdp"
      },
      "outputs": [],
      "source": [
        "# 2 lines in the same plot\n",
        "y=x\n",
        "plt.plot(x, y)  # Plot the chart\n",
        "print('(x,y) of plot#1: ', x, y)\n",
        "\n",
        "y=-x\n",
        "plt.plot(x, -x, color = 'red', linestyle='-.')  # Plot the chart\n",
        "print('(x,y) of plot#2: ', x, y)\n",
        "\n",
        "plt.title(\"Line graph\")\n",
        "plt.xlabel(\"X axis\")\n",
        "plt.ylabel(\"Y axis\")\n",
        "plt.grid()\n",
        "plt.show()  # display"
      ]
    },
    {
      "cell_type": "markdown",
      "metadata": {
        "id": "xWuZO3H44gdp"
      },
      "source": [
        "### Parabola\n",
        "\n",
        "- y = x^2"
      ]
    },
    {
      "cell_type": "code",
      "execution_count": null,
      "metadata": {
        "id": "XCDvh1Xq4gdp"
      },
      "outputs": [],
      "source": [
        "# data to be plotted\n",
        "x = np.arange(1, 11)\n",
        "y = x * x\n",
        "print('(x,y): ', x, y)\n",
        "\n",
        "# plotting\n",
        "plt.title(\"Parabola graph\")\n",
        "plt.xlabel(\"X axis\")\n",
        "plt.ylabel(\"Y axis\")\n",
        "plt.plot(x, y, color =\"pink\")\n",
        "plt.grid()\n",
        "plt.show()"
      ]
    },
    {
      "cell_type": "markdown",
      "metadata": {
        "id": "z8KRm-S44gdp"
      },
      "source": [
        "### Sine\n",
        "Reference: [numpy.sin](https://numpy.org/doc/stable/reference/generated/numpy.sin.html)"
      ]
    },
    {
      "cell_type": "code",
      "execution_count": null,
      "metadata": {
        "id": "34pddy104gdp"
      },
      "outputs": [],
      "source": [
        "#sine\n",
        "x = np.linspace(-np.pi, np.pi, 201)\n",
        "y = np.sin(x)\n",
        "# print('(x,y): ', x, y)\n",
        "\n",
        "plt.plot(x, y) #can substitute y with np.sin(x) to reduce space\n",
        "plt.xlabel('Angle [rad]')\n",
        "plt.ylabel('sin(x)')\n",
        "plt.axis('tight')\n",
        "plt.grid()\n",
        "plt.show()"
      ]
    },
    {
      "cell_type": "markdown",
      "metadata": {
        "id": "5ssUlk8hlGtR"
      },
      "source": [
        "### Using Pandas\n",
        "\n",
        "Demonstrate the plot of straight line"
      ]
    },
    {
      "cell_type": "code",
      "execution_count": null,
      "metadata": {
        "colab": {
          "base_uri": "https://localhost:8080/"
        },
        "id": "IBcIZc-iix1l",
        "outputId": "4c01a7fa-2d79-430a-cb21-b82c562615b9"
      },
      "outputs": [],
      "source": [
        "# Using pandas\n",
        "pd_line = pd.Series(x)\n",
        "# pd_line\n",
        "pd_line.plot(grid=True)"
      ]
    },
    {
      "cell_type": "markdown",
      "metadata": {
        "id": "xk1lpYEl4gdp"
      },
      "source": [
        "Suitable for what kind of problem/data:\n",
        "- Time series\n",
        "- Trend analysis"
      ]
    },
    {
      "cell_type": "markdown",
      "metadata": {
        "id": "N7z4gY8D4gdp"
      },
      "source": [
        "## Bar\n",
        "1. Bar graph\n",
        "2. Histogram\n",
        "---"
      ]
    },
    {
      "cell_type": "markdown",
      "metadata": {
        "id": "dmdxYaib4gdp"
      },
      "source": [
        "#### Bar Graph\n",
        "- Categorical data\n",
        "- Represent value on the y-axis\n",
        "- Represent category on the x-axis"
      ]
    },
    {
      "cell_type": "code",
      "execution_count": null,
      "metadata": {
        "colab": {
          "base_uri": "https://localhost:8080/",
          "height": 489
        },
        "id": "4jxO1CEU4gdp",
        "outputId": "2c58ac87-c7f0-46fa-f1c3-a6fcd9c4afce"
      },
      "outputs": [],
      "source": [
        "# general Bar\n",
        "years = range(2017, 2023)\n",
        "boys = [35, 62, 91, 84, 65, 86]\n",
        "girls = [42, 83, 79, 72, 60, 81]\n",
        "\n",
        "plt.bar(years, boys)\n",
        "plt.xlabel('Year')\n",
        "plt.ylabel('Number of Students')\n",
        "plt.grid()\n",
        "plt.title(\"Enrolled Students (Boy)\")"
      ]
    },
    {
      "cell_type": "markdown",
      "metadata": {
        "id": "KU_U2OCT4gdq"
      },
      "source": [
        "From vertical to horizontal"
      ]
    },
    {
      "cell_type": "code",
      "execution_count": null,
      "metadata": {
        "id": "7AR-ku6B4gdq"
      },
      "outputs": [],
      "source": [
        "# From vertical to horizontal\n",
        "plt.barh(years, boys)\n",
        "plt.ylabel('Year')\n",
        "plt.xlabel('Number of Students')\n",
        "plt.grid()\n",
        "plt.title(\"Enrolled Students\")"
      ]
    },
    {
      "cell_type": "markdown",
      "metadata": {
        "id": "65O_eUES4gdq"
      },
      "source": [
        "Stacked bar graph"
      ]
    },
    {
      "cell_type": "code",
      "execution_count": null,
      "metadata": {
        "id": "m5qDDBEa4gdq"
      },
      "outputs": [],
      "source": [
        "# stacked\n",
        "plt.bar(years, boys)\n",
        "plt.bar(years, girls, bottom=boys)\n",
        "plt.xlabel('Year')\n",
        "plt.ylabel('Number of Students')\n",
        "plt.grid()\n",
        "plt.title(\"Enrolled Students (Stacked)\")"
      ]
    },
    {
      "cell_type": "markdown",
      "metadata": {
        "id": "PrXmLGHe4gdq"
      },
      "source": [
        "Compare bars side-by-side"
      ]
    },
    {
      "cell_type": "code",
      "execution_count": null,
      "metadata": {
        "id": "dgFqs1ap4gdq"
      },
      "outputs": [],
      "source": [
        "# Compare side by side\n",
        "years = range(2017, 2023)\n",
        "boys = [35, 62, 91, 84, 65, 86]\n",
        "girls = [42, 83, 79, 72, 60, 81]\n",
        "\n",
        "x_axis = np.arange(len(years))\n",
        "# avoid overlapping of bars in each group, the bars are shifted -0.2 units and +0.2 units from the X-axis.\n",
        "plt.bar(x_axis-0.2, girls, 0.4, label='Girls') # The width of the bars of each group is taken as 0.4 units.\n",
        "plt.bar(x_axis+0.2, boys, 0.4, label ='Boys')\n",
        "plt.xticks(x_axis, years)\n",
        "\n",
        "plt.xlabel(\"Year\")\n",
        "plt.ylabel(\"Number of Students\")\n",
        "plt.title(\"Number of Students in each group\")\n",
        "plt.legend()\n",
        "plt.show()"
      ]
    },
    {
      "cell_type": "markdown",
      "metadata": {
        "id": "cD22aWcI4gdq"
      },
      "source": [
        "#### Histogram\n",
        "- Used to plot data over a range of values or frequency distribution\n",
        "- Is a bar representation to show the data belonging to each range"
      ]
    },
    {
      "cell_type": "code",
      "execution_count": null,
      "metadata": {
        "colab": {
          "base_uri": "https://localhost:8080/"
        },
        "id": "4rwKzKhy4gdq",
        "outputId": "a1b49091-7e80-489c-a3ca-4cdeae05b379"
      },
      "outputs": [],
      "source": [
        "# generate normal data distribution\n",
        "x = np.random.normal(170, 10, 250)\n",
        "print(x)"
      ]
    },
    {
      "cell_type": "markdown",
      "metadata": {
        "id": "vmxOrDtl4gdq"
      },
      "source": [
        "Call the function `hist()`"
      ]
    },
    {
      "cell_type": "code",
      "execution_count": null,
      "metadata": {
        "colab": {
          "base_uri": "https://localhost:8080/",
          "height": 430
        },
        "id": "Wk4sx1wG4gdq",
        "outputId": "5d463e4b-a4a5-430d-840c-a3a1cf9fe602"
      },
      "outputs": [],
      "source": [
        "# use hist()function\n",
        "plt.hist(x)\n",
        "plt.show()"
      ]
    },
    {
      "cell_type": "markdown",
      "metadata": {
        "id": "NbIPO_hvldET"
      },
      "source": [
        "#### Using Pandas\n",
        "\n",
        "Demonstrate the plot of bar graph and histogram"
      ]
    },
    {
      "cell_type": "code",
      "execution_count": null,
      "metadata": {
        "colab": {
          "base_uri": "https://localhost:8080/",
          "height": 238
        },
        "id": "GMWXkWezkH-4",
        "outputId": "b0fdf78b-ddf2-4f8f-dcdb-4234726e5473"
      },
      "outputs": [],
      "source": [
        "# Using pandas\n",
        "pd_bar_data = {'years': years,\n",
        "          'boys': boys,\n",
        "          'girls': girls}\n",
        "pd_bar = pd.DataFrame(data=pd_bar_data)\n",
        "pd_bar\n"
      ]
    },
    {
      "cell_type": "code",
      "execution_count": null,
      "metadata": {
        "colab": {
          "base_uri": "https://localhost:8080/",
          "height": 488
        },
        "id": "L09ZY7-sll6K",
        "outputId": "76e85439-1baa-4692-e89f-365eb099ad28"
      },
      "outputs": [],
      "source": [
        "pd_bar.plot(x='years', y='boys', kind='bar', grid=True,\n",
        "            ylabel='Number of Students', xlabel='Year')"
      ]
    },
    {
      "cell_type": "code",
      "execution_count": null,
      "metadata": {
        "colab": {
          "base_uri": "https://localhost:8080/",
          "height": 466
        },
        "id": "4qHV4Lu8maaz",
        "outputId": "4efe297a-c332-4f6f-8876-e001de3b163b"
      },
      "outputs": [],
      "source": [
        "pd_bar.plot(x='years', y='boys', kind='barh', grid=True,\n",
        "            ylabel='Year', xlabel='Number of Students')"
      ]
    },
    {
      "cell_type": "code",
      "execution_count": null,
      "metadata": {
        "colab": {
          "base_uri": "https://localhost:8080/",
          "height": 469
        },
        "id": "KCEiyP5imicU",
        "outputId": "11444bac-3a24-41a4-9d0c-38162605640e"
      },
      "outputs": [],
      "source": [
        "# Histogram\n",
        "x = np.random.normal(170, 10, 250)\n",
        "pd_hist = pd.DataFrame(data = x)\n",
        "# pd_hist\n",
        "\n",
        "pd_hist.hist(grid=False)"
      ]
    },
    {
      "cell_type": "markdown",
      "metadata": {
        "id": "66hwvb0r4gdq"
      },
      "source": [
        "## Pie Chart"
      ]
    },
    {
      "cell_type": "markdown",
      "metadata": {
        "id": "Z7xA47Dj4gdq"
      },
      "source": [
        "- Used to represent sample data\n",
        "- Considered as an alternative to the stacked bar chart (only for one bar)"
      ]
    },
    {
      "cell_type": "code",
      "execution_count": null,
      "metadata": {
        "colab": {
          "base_uri": "https://localhost:8080/",
          "height": 406
        },
        "id": "Hc3s03Oa4gdq",
        "outputId": "b66917cb-2740-4f6b-a438-a0222b18b912"
      },
      "outputs": [],
      "source": [
        "y = np.array([35, 25, 25, 15])\n",
        "mylabels = [\"Apples\", \"Bananas\", \"Cherries\", \"Dates\"]\n",
        "\n",
        "plt.pie(y, labels = mylabels) # default angle = 0\n",
        "plt.show()"
      ]
    },
    {
      "cell_type": "markdown",
      "metadata": {
        "id": "g2nWtg3Q4gdq"
      },
      "source": [
        "Set starting angle"
      ]
    },
    {
      "cell_type": "code",
      "execution_count": null,
      "metadata": {
        "id": "qYgUYwj44gdq"
      },
      "outputs": [],
      "source": [
        "y = np.array([35, 25, 25, 15])\n",
        "mylabels = [\"Apples\", \"Bananas\", \"Cherries\", \"Dates\"]\n",
        "\n",
        "plt.pie(y, labels = mylabels, startangle=90) # set angle = 90\n",
        "plt.show()"
      ]
    },
    {
      "cell_type": "markdown",
      "metadata": {
        "id": "qpdhpDZFnK2R"
      },
      "source": [
        "Pie chart via Pandas"
      ]
    },
    {
      "cell_type": "code",
      "execution_count": null,
      "metadata": {
        "colab": {
          "base_uri": "https://localhost:8080/",
          "height": 423
        },
        "id": "a3dqMtwPnKeX",
        "outputId": "fc2699fe-4dc2-484c-ef6c-35910da4a08d"
      },
      "outputs": [],
      "source": [
        "pd_pie = pd.DataFrame({'Data': mylabels, 'Labels': y},\n",
        "                      index=mylabels)\n",
        "\n",
        "pd_pie.plot.pie(y='Labels')\n",
        "# pd_pie.plot(kind='pie',y='Labels') # this method also works"
      ]
    },
    {
      "cell_type": "markdown",
      "metadata": {
        "id": "Vku3cAZS4gdr"
      },
      "source": [
        "## Scatter Plot\n",
        "- To display the relationship between two variables and observe the nature of the relationship\n",
        "- To display what happens to one variable when another variable is changed"
      ]
    },
    {
      "cell_type": "code",
      "execution_count": null,
      "metadata": {
        "colab": {
          "base_uri": "https://localhost:8080/",
          "height": 430
        },
        "id": "mDcBbCeZ4gdr",
        "outputId": "71868d63-0821-4b96-be19-bb7dcc22410a"
      },
      "outputs": [],
      "source": [
        "# generate normal data distribution\n",
        "x = np.random.normal(170, 10, 250)\n",
        "y = np.random.normal(170, 10, 250)\n",
        "\n",
        "plt.scatter(x, y)\n",
        "plt.show()\n"
      ]
    },
    {
      "cell_type": "markdown",
      "metadata": {
        "id": "-JR6HPb7o15O"
      },
      "source": [
        "Scatter plot via Pandas"
      ]
    },
    {
      "cell_type": "code",
      "execution_count": null,
      "metadata": {
        "colab": {
          "base_uri": "https://localhost:8080/",
          "height": 466
        },
        "id": "twtyPExCo1LT",
        "outputId": "9889420c-e7a1-4ee8-d1fa-116573d48548"
      },
      "outputs": [],
      "source": [
        "pd_scatter = pd.DataFrame({'x':x, 'y':y}, columns=['x', 'y'])\n",
        "pd_scatter.plot.scatter(x='x', y='y')"
      ]
    },
    {
      "cell_type": "markdown",
      "metadata": {
        "id": "kDDNlI8s4gdr"
      },
      "source": [
        "Compare two scatter plots"
      ]
    },
    {
      "cell_type": "code",
      "execution_count": null,
      "metadata": {
        "id": "Piz3EH2v4gdw"
      },
      "outputs": [],
      "source": [
        "# Compare\n",
        "\n",
        "# set 1\n",
        "# generate normal data distribution\n",
        "x1 = np.random.normal(170, 10, 250)\n",
        "y1 = np.random.normal(170, 10, 250)\n",
        "plt.scatter(x1, y1)\n",
        "\n",
        "# Set 2\n",
        "x2 = np.random.normal(170, 10, 250)\n",
        "y2 = np.random.normal(170, 10, 250)\n",
        "plt.scatter(x2, y2, color = 'red')\n",
        "\n",
        "plt.show()"
      ]
    },
    {
      "cell_type": "markdown",
      "metadata": {
        "id": "GavVTYwq4gdw"
      },
      "source": [
        "Update color\n",
        "\n",
        "Set cmap='viridis'"
      ]
    },
    {
      "cell_type": "code",
      "execution_count": null,
      "metadata": {
        "id": "zUTreSoN4gdw"
      },
      "outputs": [],
      "source": [
        "# generate normal data distribution\n",
        "x = np.random.normal(170, 10, 250)\n",
        "y = np.random.normal(170, 10, 250)\n",
        "colors = np.arange(250)\n",
        "\n",
        "# Nice color maps: viridis, plasma, gray, binary, seismic, gnuplot\n",
        "plt.scatter(x, y, c=colors, cmap='viridis')\n",
        "plt.colorbar()\n",
        "plt.show()"
      ]
    },
    {
      "cell_type": "markdown",
      "metadata": {
        "id": "ASqxpnI04gdw"
      },
      "source": [
        "Set cmap='plasma'"
      ]
    },
    {
      "cell_type": "code",
      "execution_count": null,
      "metadata": {
        "id": "Q-31YbOi4gdw"
      },
      "outputs": [],
      "source": [
        "plt.scatter(x, y, c=colors, cmap='plasma')\n",
        "plt.colorbar()\n",
        "plt.show()"
      ]
    },
    {
      "cell_type": "markdown",
      "metadata": {
        "id": "G5fW25c94gdw"
      },
      "source": [
        "Set cmap='gray'"
      ]
    },
    {
      "cell_type": "code",
      "execution_count": null,
      "metadata": {
        "id": "y6LL9sls4gdw"
      },
      "outputs": [],
      "source": [
        "plt.scatter(x, y, c=colors, cmap='gray')\n",
        "plt.colorbar()\n",
        "plt.show()"
      ]
    },
    {
      "cell_type": "markdown",
      "metadata": {
        "id": "2ActSOjl4gdw"
      },
      "source": [
        "Set cmap='binary'"
      ]
    },
    {
      "cell_type": "code",
      "execution_count": null,
      "metadata": {
        "id": "TS56RDCG4gdw"
      },
      "outputs": [],
      "source": [
        "plt.scatter(x, y, c=colors, cmap='binary')\n",
        "plt.colorbar()\n",
        "plt.show()"
      ]
    },
    {
      "cell_type": "markdown",
      "metadata": {
        "id": "aXwroPH94gdw"
      },
      "source": [
        "Set cmap='seismic'"
      ]
    },
    {
      "cell_type": "code",
      "execution_count": null,
      "metadata": {
        "id": "EFJcJMSS4gdw"
      },
      "outputs": [],
      "source": [
        "plt.scatter(x, y, c=colors, cmap='seismic')\n",
        "plt.colorbar()\n",
        "plt.show()"
      ]
    },
    {
      "cell_type": "markdown",
      "metadata": {
        "id": "QkNrG2sm4gdw"
      },
      "source": [
        "Set cmap='gnuplot'"
      ]
    },
    {
      "cell_type": "code",
      "execution_count": null,
      "metadata": {
        "id": "4e3Jt1Dl4gdw"
      },
      "outputs": [],
      "source": [
        "plt.scatter(x, y, c=colors, cmap='gnuplot')\n",
        "plt.colorbar()\n",
        "plt.show()"
      ]
    },
    {
      "cell_type": "markdown",
      "metadata": {
        "id": "apxFj8fa4gdx"
      },
      "source": [
        "## Heatmap\n",
        "- To see changes in behavior or gradual changes in data\n",
        "- Different colors are used to represent different values"
      ]
    },
    {
      "cell_type": "code",
      "execution_count": null,
      "metadata": {
        "colab": {
          "base_uri": "https://localhost:8080/",
          "height": 452
        },
        "id": "X9BaA96w4gdx",
        "outputId": "cc8d965f-69b0-46fc-fad2-57e4166b8c06"
      },
      "outputs": [],
      "source": [
        "data = np.random.random((20,20))\n",
        "plt.imshow(data)\n",
        "\n",
        "plt.title(\"Heatmap Example\")\n",
        "plt.show()"
      ]
    },
    {
      "cell_type": "markdown",
      "metadata": {
        "id": "WT8-PfTp4gdx"
      },
      "source": [
        "Update color and add colorbar"
      ]
    },
    {
      "cell_type": "code",
      "execution_count": null,
      "metadata": {
        "id": "RsfwaYqg4gdx"
      },
      "outputs": [],
      "source": [
        "plt.imshow(data, cmap='plasma')\n",
        "plt.colorbar()\n",
        "plt.title(\"Heatmap\")\n",
        "plt.show()"
      ]
    },
    {
      "cell_type": "code",
      "execution_count": null,
      "metadata": {
        "id": "46s5YjUZ4gdx"
      },
      "outputs": [],
      "source": [
        "plt.imshow(data, cmap='autumn')\n",
        "plt.colorbar()\n",
        "plt.title(\"Heatmap\")\n",
        "plt.show()"
      ]
    },
    {
      "cell_type": "markdown",
      "metadata": {
        "id": "sQcx5nMS4gdx"
      },
      "source": [
        "Subplot"
      ]
    },
    {
      "cell_type": "code",
      "execution_count": null,
      "metadata": {
        "id": "CbqsK9CP4gdx"
      },
      "outputs": [],
      "source": [
        "fig, ax = plt.subplots(2) #customize number to specify number of subplots\n",
        "print(fig)\n",
        "print(ax)"
      ]
    },
    {
      "cell_type": "markdown",
      "metadata": {
        "id": "G0_gaDp74gdx"
      },
      "source": [
        "Add annotation"
      ]
    },
    {
      "cell_type": "code",
      "execution_count": null,
      "metadata": {
        "id": "KJkXEe9z4gdx"
      },
      "outputs": [],
      "source": [
        "# with annotation\n",
        "\n",
        "rand_num = np.random.randint(10, size=(5,5))\n",
        "print(rand_num)\n",
        "data = rand_num\n",
        "\n",
        "fig, ax = plt.subplots()\n",
        "\n",
        "# Loop over data dimensions and create text annotations.\n",
        "for i in range(5):\n",
        "    for j in range(5):\n",
        "        text = ax.text(j, i, data[i, j], ha=\"center\", va=\"center\", color=\"w\")\n",
        "        # ha is horizontal alignment, va is vertical alignment\n",
        "\n",
        "plt.imshow(data)\n",
        "\n",
        "plt.colorbar()\n",
        "plt.title(\"Heatmap\")\n",
        "plt.show()"
      ]
    },
    {
      "cell_type": "markdown",
      "metadata": {
        "id": "nRfhWEsHq1uC"
      },
      "source": [
        "Heeatmap via Pandas"
      ]
    },
    {
      "cell_type": "code",
      "execution_count": null,
      "metadata": {
        "colab": {
          "base_uri": "https://localhost:8080/",
          "height": 447
        },
        "id": "9phzOKa7q044",
        "outputId": "589e7436-fbb9-45c4-c438-09568c366b1f"
      },
      "outputs": [],
      "source": [
        "pd_heat = pd.DataFrame(np.random.random((5,5)))\n",
        "\n",
        "\n",
        "# use seaborn for visualization\n",
        "import seaborn as sns\n",
        "sns.heatmap(pd_heat, cmap ='RdYlGn', linewidths = 0.30, annot = True)"
      ]
    }
  ],
  "metadata": {
    "colab": {
      "provenance": []
    },
    "kernelspec": {
      "display_name": "Python 3.11.1 64-bit",
      "language": "python",
      "name": "python3"
    },
    "language_info": {
      "codemirror_mode": {
        "name": "ipython",
        "version": 3
      },
      "file_extension": ".py",
      "mimetype": "text/x-python",
      "name": "python",
      "nbconvert_exporter": "python",
      "pygments_lexer": "ipython3",
      "version": "3.12.0"
    },
    "orig_nbformat": 4,
    "vscode": {
      "interpreter": {
        "hash": "aee8b7b246df8f9039afb4144a1f6fd8d2ca17a180786b69acc140d282b71a49"
      }
    }
  },
  "nbformat": 4,
  "nbformat_minor": 0
}
