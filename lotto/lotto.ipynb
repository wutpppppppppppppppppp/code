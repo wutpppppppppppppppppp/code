{
 "cells": [
  {
   "cell_type": "markdown",
   "metadata": {},
   "source": [
    "### Initialization\n"
   ]
  },
  {
   "cell_type": "code",
   "execution_count": 1,
   "metadata": {},
   "outputs": [],
   "source": [
    "import pandas as pd\n",
    "from bs4 import BeautifulSoup\n",
    "import plotly.express as px\n",
    "import plotly.graph_objects as go\n",
    "from plotly.subplots import make_subplots"
   ]
  },
  {
   "cell_type": "code",
   "execution_count": 2,
   "metadata": {},
   "outputs": [
    {
     "data": {
      "text/html": [
       "<div>\n",
       "<style scoped>\n",
       "    .dataframe tbody tr th:only-of-type {\n",
       "        vertical-align: middle;\n",
       "    }\n",
       "\n",
       "    .dataframe tbody tr th {\n",
       "        vertical-align: top;\n",
       "    }\n",
       "\n",
       "    .dataframe thead th {\n",
       "        text-align: right;\n",
       "    }\n",
       "</style>\n",
       "<table border=\"1\" class=\"dataframe\">\n",
       "  <thead>\n",
       "    <tr style=\"text-align: right;\">\n",
       "      <th></th>\n",
       "      <th>งวดวันที่</th>\n",
       "      <th>งวดเดือน</th>\n",
       "      <th>ปี</th>\n",
       "      <th>เลขหวยหน้า 3 ตัว</th>\n",
       "      <th>เลขหวยหลัง 3 ตัว</th>\n",
       "      <th>เลขท้าย 2 ตัว</th>\n",
       "      <th>Non-breaking space1</th>\n",
       "      <th>เลขหน้า 3 ตัว1</th>\n",
       "      <th>เลขท้าย 3 ตัว2</th>\n",
       "      <th>เลขท้าย 3 ตัว1</th>\n",
       "      <th>เลขหน้า 3 ตัว2</th>\n",
       "      <th>Non-breaking space2</th>\n",
       "      <th>Unnamed: 12</th>\n",
       "    </tr>\n",
       "  </thead>\n",
       "  <tbody>\n",
       "    <tr>\n",
       "      <th>0</th>\n",
       "      <td>1</td>\n",
       "      <td>กันยายน</td>\n",
       "      <td>2559</td>\n",
       "      <td>638</td>\n",
       "      <td>&lt;font class=\"brown\"&gt;6&lt;u&gt;84&lt;/u&gt;&lt;/font&gt;</td>\n",
       "      <td>62</td>\n",
       "      <td>&amp;nbsp;</td>\n",
       "      <td>&lt;b&gt;334&lt;/b&gt;</td>\n",
       "      <td>&lt;b&gt;335&lt;/b&gt;</td>\n",
       "      <td>630</td>\n",
       "      <td>&lt;b&gt;669&lt;/b&gt;</td>\n",
       "      <td>&amp;nbsp;</td>\n",
       "      <td>NaN</td>\n",
       "    </tr>\n",
       "    <tr>\n",
       "      <th>1</th>\n",
       "      <td>16</td>\n",
       "      <td>สิงหาคม</td>\n",
       "      <td>2559</td>\n",
       "      <td>254</td>\n",
       "      <td>&lt;font class=\"brown\"&gt;&lt;b&gt;0&lt;u&gt;04&lt;/u&gt;&lt;/b&gt;&lt;/font&gt;</td>\n",
       "      <td>&lt;b&gt;33&lt;/b&gt;</td>\n",
       "      <td>&amp;nbsp;</td>\n",
       "      <td>&lt;b&gt;366&lt;/b&gt;</td>\n",
       "      <td>596</td>\n",
       "      <td>631</td>\n",
       "      <td>&lt;b&gt;966&lt;/b&gt;</td>\n",
       "      <td>&amp;nbsp;</td>\n",
       "      <td>NaN</td>\n",
       "    </tr>\n",
       "    <tr>\n",
       "      <th>2</th>\n",
       "      <td>1</td>\n",
       "      <td>สิงหาคม</td>\n",
       "      <td>2559</td>\n",
       "      <td>272</td>\n",
       "      <td>&lt;font class=\"brown\"&gt;9&lt;u&gt;32&lt;/u&gt;&lt;/font&gt;</td>\n",
       "      <td>57</td>\n",
       "      <td>&amp;nbsp;</td>\n",
       "      <td>472</td>\n",
       "      <td>538</td>\n",
       "      <td>871</td>\n",
       "      <td>983</td>\n",
       "      <td>&amp;nbsp;</td>\n",
       "      <td>NaN</td>\n",
       "    </tr>\n",
       "    <tr>\n",
       "      <th>3</th>\n",
       "      <td>16</td>\n",
       "      <td>กรกฎาคม</td>\n",
       "      <td>2559</td>\n",
       "      <td>449</td>\n",
       "      <td>&lt;font class=\"brown\"&gt;7&lt;u&gt;64&lt;/u&gt;&lt;/font&gt;</td>\n",
       "      <td>&lt;b&gt;55&lt;/b&gt;</td>\n",
       "      <td>&amp;nbsp;</td>\n",
       "      <td>158</td>\n",
       "      <td>&lt;b&gt;552&lt;/b&gt;</td>\n",
       "      <td>734</td>\n",
       "      <td>925</td>\n",
       "      <td>&amp;nbsp;</td>\n",
       "      <td>NaN</td>\n",
       "    </tr>\n",
       "    <tr>\n",
       "      <th>4</th>\n",
       "      <td>1</td>\n",
       "      <td>กรกฎาคม</td>\n",
       "      <td>2559</td>\n",
       "      <td>082</td>\n",
       "      <td>&lt;font class=\"brown\"&gt;4&lt;u&gt;60&lt;/u&gt;&lt;/font&gt;</td>\n",
       "      <td>53</td>\n",
       "      <td>&amp;nbsp;</td>\n",
       "      <td>169</td>\n",
       "      <td>173</td>\n",
       "      <td>302</td>\n",
       "      <td>609</td>\n",
       "      <td>&amp;nbsp;</td>\n",
       "      <td>NaN</td>\n",
       "    </tr>\n",
       "  </tbody>\n",
       "</table>\n",
       "</div>"
      ],
      "text/plain": [
       "  งวดวันที่ งวดเดือน    ปี เลขหวยหน้า 3 ตัว  \\\n",
       "0         1  กันยายน  2559              638   \n",
       "1        16  สิงหาคม  2559              254   \n",
       "2         1  สิงหาคม  2559              272   \n",
       "3        16  กรกฎาคม  2559              449   \n",
       "4         1  กรกฎาคม  2559              082   \n",
       "\n",
       "                               เลขหวยหลัง 3 ตัว เลขท้าย 2 ตัว  \\\n",
       "0         <font class=\"brown\">6<u>84</u></font>            62   \n",
       "1  <font class=\"brown\"><b>0<u>04</u></b></font>     <b>33</b>   \n",
       "2         <font class=\"brown\">9<u>32</u></font>            57   \n",
       "3         <font class=\"brown\">7<u>64</u></font>     <b>55</b>   \n",
       "4         <font class=\"brown\">4<u>60</u></font>            53   \n",
       "\n",
       "  Non-breaking space1 เลขหน้า 3 ตัว1 เลขท้าย 3 ตัว2 เลขท้าย 3 ตัว1  \\\n",
       "0              &nbsp;     <b>334</b>     <b>335</b>            630   \n",
       "1              &nbsp;     <b>366</b>            596            631   \n",
       "2              &nbsp;            472            538            871   \n",
       "3              &nbsp;            158     <b>552</b>            734   \n",
       "4              &nbsp;            169            173            302   \n",
       "\n",
       "  เลขหน้า 3 ตัว2 Non-breaking space2 Unnamed: 12  \n",
       "0     <b>669</b>              &nbsp;         NaN  \n",
       "1     <b>966</b>              &nbsp;         NaN  \n",
       "2            983              &nbsp;         NaN  \n",
       "3            925              &nbsp;         NaN  \n",
       "4            609              &nbsp;         NaN  "
      ]
     },
     "execution_count": 2,
     "metadata": {},
     "output_type": "execute_result"
    }
   ],
   "source": [
    "df = pd.read_csv('20.csv', dtype=str)\n",
    "df.head()"
   ]
  },
  {
   "cell_type": "code",
   "execution_count": 3,
   "metadata": {},
   "outputs": [
    {
     "name": "stdout",
     "output_type": "stream",
     "text": [
      "<class 'pandas.core.frame.DataFrame'>\n",
      "RangeIndex: 480 entries, 0 to 479\n",
      "Data columns (total 13 columns):\n",
      " #   Column               Non-Null Count  Dtype \n",
      "---  ------               --------------  ----- \n",
      " 0   งวดวันที่            480 non-null    object\n",
      " 1   งวดเดือน             480 non-null    object\n",
      " 2   ปี                   480 non-null    object\n",
      " 3   เลขหวยหน้า 3 ตัว     480 non-null    object\n",
      " 4   เลขหวยหลัง 3 ตัว     480 non-null    object\n",
      " 5   เลขท้าย 2 ตัว        480 non-null    object\n",
      " 6   Non-breaking space1  480 non-null    object\n",
      " 7   เลขหน้า 3 ตัว1       480 non-null    object\n",
      " 8   เลขท้าย 3 ตัว2       480 non-null    object\n",
      " 9   เลขท้าย 3 ตัว1       480 non-null    object\n",
      " 10  เลขหน้า 3 ตัว2       480 non-null    object\n",
      " 11  Non-breaking space2  480 non-null    object\n",
      " 12  Unnamed: 12          0 non-null      object\n",
      "dtypes: object(13)\n",
      "memory usage: 48.9+ KB\n"
     ]
    }
   ],
   "source": [
    "df.info()"
   ]
  },
  {
   "cell_type": "markdown",
   "metadata": {},
   "source": [
    "### Data Cleaning\n"
   ]
  },
  {
   "cell_type": "markdown",
   "metadata": {},
   "source": [
    "There are 13 columns in this dataset.\n"
   ]
  },
  {
   "cell_type": "code",
   "execution_count": 4,
   "metadata": {},
   "outputs": [],
   "source": [
    "# remove unnecessary columns\n",
    "df = df.drop(columns=['Non-breaking space1','Non-breaking space2','Unnamed: 12'])"
   ]
  },
  {
   "cell_type": "code",
   "execution_count": 5,
   "metadata": {},
   "outputs": [],
   "source": [
    "def remove_html_tags(text):\n",
    "    \"\"\" Remove all HTML tags from a text\"\"\"\n",
    "    soup = BeautifulSoup(text, \"html.parser\")\n",
    "    return soup.get_text()\n",
    "\n",
    "for col in df.columns:\n",
    "    df[col] = df[col].apply(remove_html_tags)"
   ]
  },
  {
   "cell_type": "code",
   "execution_count": 6,
   "metadata": {},
   "outputs": [],
   "source": [
    "month_dict = {\n",
    "    'มกราคม': '1',\n",
    "    'กุมภาพันธ์': '2',\n",
    "    'มีนาคม': '3',\n",
    "    'เมษายน': '4',\n",
    "    'พฤษภาคม': '5',\n",
    "    'มิถุนายน': '6',\n",
    "    'กรกฎาคม': '7',\n",
    "    'สิงหาคม': '8',\n",
    "    'กันยายน': '9',\n",
    "    'ตุลาคม': '10',\n",
    "    'พฤศจิกายน': '11',\n",
    "    'ธันวาคม': '12'\n",
    "}\n",
    "\n",
    "# Replace month names with numbers\n",
    "df['งวดเดือน'] = df['งวดเดือน'].map(month_dict)"
   ]
  },
  {
   "cell_type": "code",
   "execution_count": 7,
   "metadata": {},
   "outputs": [],
   "source": [
    "# Create a datetime64 column\n",
    "df = df.rename(columns={'งวดวันที่' : 'day',\n",
    "                        'งวดเดือน' : 'month',\n",
    "                        'ปี' : 'year'})\n",
    "df[['year', 'month', 'day']] = df[['year', 'month', 'day']].apply(pd.to_numeric)\n",
    "df['year'] = df['year']-543\n",
    "df['Date'] = pd.to_datetime(df[['year', 'month', 'day']], format='mixed')"
   ]
  },
  {
   "cell_type": "markdown",
   "metadata": {},
   "source": [
    "### Feature Engineering\n"
   ]
  },
  {
   "cell_type": "markdown",
   "metadata": {},
   "source": [
    "After cleaned out all of the HTML tags and make sure that every columns is properly formatted, Let's create some beneficial features.\n"
   ]
  },
  {
   "cell_type": "code",
   "execution_count": 8,
   "metadata": {},
   "outputs": [
    {
     "name": "stdout",
     "output_type": "stream",
     "text": [
      "<class 'pandas.core.frame.DataFrame'>\n",
      "RangeIndex: 480 entries, 0 to 479\n",
      "Data columns (total 11 columns):\n",
      " #   Column            Non-Null Count  Dtype         \n",
      "---  ------            --------------  -----         \n",
      " 0   day               480 non-null    int64         \n",
      " 1   month             480 non-null    int64         \n",
      " 2   year              480 non-null    int64         \n",
      " 3   เลขหวยหน้า 3 ตัว  480 non-null    object        \n",
      " 4   เลขหวยหลัง 3 ตัว  480 non-null    object        \n",
      " 5   เลขท้าย 2 ตัว     480 non-null    object        \n",
      " 6   เลขหน้า 3 ตัว1    480 non-null    object        \n",
      " 7   เลขท้าย 3 ตัว2    480 non-null    object        \n",
      " 8   เลขท้าย 3 ตัว1    480 non-null    object        \n",
      " 9   เลขหน้า 3 ตัว2    480 non-null    object        \n",
      " 10  Date              480 non-null    datetime64[ns]\n",
      "dtypes: datetime64[ns](1), int64(3), object(7)\n",
      "memory usage: 41.4+ KB\n"
     ]
    }
   ],
   "source": [
    "df.info()"
   ]
  },
  {
   "cell_type": "code",
   "execution_count": 9,
   "metadata": {},
   "outputs": [],
   "source": [
    "# combine seperated digit to proper string.\n",
    "df['รางวัลที่หนึ่ง'] = df['เลขหวยหน้า 3 ตัว'] + df['เลขหวยหลัง 3 ตัว']"
   ]
  },
  {
   "cell_type": "code",
   "execution_count": 10,
   "metadata": {},
   "outputs": [],
   "source": [
    "df.set_index('Date', inplace=True)"
   ]
  },
  {
   "cell_type": "code",
   "execution_count": 11,
   "metadata": {},
   "outputs": [],
   "source": [
    "df = df.drop(columns = ['เลขหวยหน้า 3 ตัว','เลขหวยหลัง 3 ตัว','day', 'month', 'year'])"
   ]
  },
  {
   "cell_type": "code",
   "execution_count": 12,
   "metadata": {},
   "outputs": [
    {
     "name": "stdout",
     "output_type": "stream",
     "text": [
      "<class 'pandas.core.frame.DataFrame'>\n",
      "DatetimeIndex: 480 entries, 2016-09-01 to 1996-09-16\n",
      "Data columns (total 6 columns):\n",
      " #   Column          Non-Null Count  Dtype \n",
      "---  ------          --------------  ----- \n",
      " 0   เลขท้าย 2 ตัว   480 non-null    object\n",
      " 1   เลขหน้า 3 ตัว1  480 non-null    object\n",
      " 2   เลขท้าย 3 ตัว2  480 non-null    object\n",
      " 3   เลขท้าย 3 ตัว1  480 non-null    object\n",
      " 4   เลขหน้า 3 ตัว2  480 non-null    object\n",
      " 5   รางวัลที่หนึ่ง  480 non-null    object\n",
      "dtypes: object(6)\n",
      "memory usage: 26.2+ KB\n"
     ]
    }
   ],
   "source": [
    "df.info()"
   ]
  },
  {
   "cell_type": "code",
   "execution_count": 13,
   "metadata": {},
   "outputs": [],
   "source": [
    "# split เลขท้าย 2 ตัว to individual digit\n",
    "df['last_two_digits_first'] = df['เลขท้าย 2 ตัว'].str[0].astype(int)\n",
    "df['last_two_digits_second'] = df['เลขท้าย 2 ตัว'].str[1].astype(int)"
   ]
  },
  {
   "cell_type": "code",
   "execution_count": 14,
   "metadata": {},
   "outputs": [],
   "source": [
    "# split รางวัลที่หนึ่ง to individual digit\n",
    "df['first_digit'] = df['รางวัลที่หนึ่ง'].str[0].astype(int)\n",
    "df['second_digit'] = df['รางวัลที่หนึ่ง'].str[1].astype(int)\n",
    "df['third_digit'] = df['รางวัลที่หนึ่ง'].str[2].astype(int)\n",
    "df['fourth_digit'] = df['รางวัลที่หนึ่ง'].str[3].astype(int)\n",
    "df['fifth_digit'] = df['รางวัลที่หนึ่ง'].str[4].astype(int)\n",
    "df['sixth_digit'] = df['รางวัลที่หนึ่ง'].str[5].astype(int)"
   ]
  },
  {
   "cell_type": "code",
   "execution_count": 15,
   "metadata": {},
   "outputs": [],
   "source": [
    "for column in ['เลขท้าย 3 ตัว1', 'เลขท้าย 3 ตัว2', 'เลขหน้า 3 ตัว1', 'เลขหน้า 3 ตัว2']:\n",
    "    df[f'{column}_first'] = df[column].astype(str).str[0].astype(int)\n",
    "    df[f'{column}_second'] = df[column].astype(str).str[1].astype(int)\n",
    "    df[f'{column}_third'] = df[column].astype(str).str[2].astype(int)"
   ]
  },
  {
   "cell_type": "markdown",
   "metadata": {},
   "source": [
    "### EDA\n"
   ]
  },
  {
   "cell_type": "markdown",
   "metadata": {},
   "source": [
    "After tokenize all of the prizes, let's take a look at some visualizations\n"
   ]
  },
  {
   "cell_type": "code",
   "execution_count": 16,
   "metadata": {},
   "outputs": [
    {
     "name": "stdout",
     "output_type": "stream",
     "text": [
      "<class 'pandas.core.frame.DataFrame'>\n",
      "DatetimeIndex: 480 entries, 2016-09-01 to 1996-09-16\n",
      "Data columns (total 26 columns):\n",
      " #   Column                  Non-Null Count  Dtype \n",
      "---  ------                  --------------  ----- \n",
      " 0   เลขท้าย 2 ตัว           480 non-null    object\n",
      " 1   เลขหน้า 3 ตัว1          480 non-null    object\n",
      " 2   เลขท้าย 3 ตัว2          480 non-null    object\n",
      " 3   เลขท้าย 3 ตัว1          480 non-null    object\n",
      " 4   เลขหน้า 3 ตัว2          480 non-null    object\n",
      " 5   รางวัลที่หนึ่ง          480 non-null    object\n",
      " 6   last_two_digits_first   480 non-null    int32 \n",
      " 7   last_two_digits_second  480 non-null    int32 \n",
      " 8   first_digit             480 non-null    int32 \n",
      " 9   second_digit            480 non-null    int32 \n",
      " 10  third_digit             480 non-null    int32 \n",
      " 11  fourth_digit            480 non-null    int32 \n",
      " 12  fifth_digit             480 non-null    int32 \n",
      " 13  sixth_digit             480 non-null    int32 \n",
      " 14  เลขท้าย 3 ตัว1_first    480 non-null    int32 \n",
      " 15  เลขท้าย 3 ตัว1_second   480 non-null    int32 \n",
      " 16  เลขท้าย 3 ตัว1_third    480 non-null    int32 \n",
      " 17  เลขท้าย 3 ตัว2_first    480 non-null    int32 \n",
      " 18  เลขท้าย 3 ตัว2_second   480 non-null    int32 \n",
      " 19  เลขท้าย 3 ตัว2_third    480 non-null    int32 \n",
      " 20  เลขหน้า 3 ตัว1_first    480 non-null    int32 \n",
      " 21  เลขหน้า 3 ตัว1_second   480 non-null    int32 \n",
      " 22  เลขหน้า 3 ตัว1_third    480 non-null    int32 \n",
      " 23  เลขหน้า 3 ตัว2_first    480 non-null    int32 \n",
      " 24  เลขหน้า 3 ตัว2_second   480 non-null    int32 \n",
      " 25  เลขหน้า 3 ตัว2_third    480 non-null    int32 \n",
      "dtypes: int32(20), object(6)\n",
      "memory usage: 63.8+ KB\n"
     ]
    }
   ],
   "source": [
    "df.info()"
   ]
  },
  {
   "cell_type": "code",
   "execution_count": 17,
   "metadata": {},
   "outputs": [
    {
     "data": {
      "text/html": [
       "<div>\n",
       "<style scoped>\n",
       "    .dataframe tbody tr th:only-of-type {\n",
       "        vertical-align: middle;\n",
       "    }\n",
       "\n",
       "    .dataframe tbody tr th {\n",
       "        vertical-align: top;\n",
       "    }\n",
       "\n",
       "    .dataframe thead th {\n",
       "        text-align: right;\n",
       "    }\n",
       "</style>\n",
       "<table border=\"1\" class=\"dataframe\">\n",
       "  <thead>\n",
       "    <tr style=\"text-align: right;\">\n",
       "      <th></th>\n",
       "      <th>เลขท้าย 2 ตัว</th>\n",
       "      <th>เลขหน้า 3 ตัว1</th>\n",
       "      <th>เลขหน้า 3 ตัว2</th>\n",
       "      <th>เลขท้าย 3 ตัว1</th>\n",
       "      <th>เลขท้าย 3 ตัว2</th>\n",
       "      <th>รางวัลที่หนึ่ง</th>\n",
       "    </tr>\n",
       "  </thead>\n",
       "  <tbody>\n",
       "    <tr>\n",
       "      <th>count</th>\n",
       "      <td>480.000000</td>\n",
       "      <td>480.000000</td>\n",
       "      <td>480.000000</td>\n",
       "      <td>480.000000</td>\n",
       "      <td>480.000000</td>\n",
       "      <td>480.000000</td>\n",
       "    </tr>\n",
       "    <tr>\n",
       "      <th>mean</th>\n",
       "      <td>50.150000</td>\n",
       "      <td>192.333333</td>\n",
       "      <td>796.995833</td>\n",
       "      <td>590.345833</td>\n",
       "      <td>393.112500</td>\n",
       "      <td>495123.364583</td>\n",
       "    </tr>\n",
       "    <tr>\n",
       "      <th>std</th>\n",
       "      <td>28.859504</td>\n",
       "      <td>155.421097</td>\n",
       "      <td>164.419190</td>\n",
       "      <td>203.985102</td>\n",
       "      <td>201.375499</td>\n",
       "      <td>289364.133386</td>\n",
       "    </tr>\n",
       "    <tr>\n",
       "      <th>min</th>\n",
       "      <td>0.000000</td>\n",
       "      <td>1.000000</td>\n",
       "      <td>226.000000</td>\n",
       "      <td>109.000000</td>\n",
       "      <td>1.000000</td>\n",
       "      <td>686.000000</td>\n",
       "    </tr>\n",
       "    <tr>\n",
       "      <th>25%</th>\n",
       "      <td>25.000000</td>\n",
       "      <td>74.000000</td>\n",
       "      <td>697.750000</td>\n",
       "      <td>431.750000</td>\n",
       "      <td>235.000000</td>\n",
       "      <td>230841.500000</td>\n",
       "    </tr>\n",
       "    <tr>\n",
       "      <th>50%</th>\n",
       "      <td>52.000000</td>\n",
       "      <td>155.000000</td>\n",
       "      <td>828.500000</td>\n",
       "      <td>607.000000</td>\n",
       "      <td>381.000000</td>\n",
       "      <td>502381.000000</td>\n",
       "    </tr>\n",
       "    <tr>\n",
       "      <th>75%</th>\n",
       "      <td>73.000000</td>\n",
       "      <td>275.000000</td>\n",
       "      <td>933.000000</td>\n",
       "      <td>752.000000</td>\n",
       "      <td>534.750000</td>\n",
       "      <td>739536.250000</td>\n",
       "    </tr>\n",
       "    <tr>\n",
       "      <th>max</th>\n",
       "      <td>99.000000</td>\n",
       "      <td>896.000000</td>\n",
       "      <td>999.000000</td>\n",
       "      <td>999.000000</td>\n",
       "      <td>952.000000</td>\n",
       "      <td>997833.000000</td>\n",
       "    </tr>\n",
       "  </tbody>\n",
       "</table>\n",
       "</div>"
      ],
      "text/plain": [
       "       เลขท้าย 2 ตัว  เลขหน้า 3 ตัว1  เลขหน้า 3 ตัว2  เลขท้าย 3 ตัว1  \\\n",
       "count     480.000000      480.000000      480.000000      480.000000   \n",
       "mean       50.150000      192.333333      796.995833      590.345833   \n",
       "std        28.859504      155.421097      164.419190      203.985102   \n",
       "min         0.000000        1.000000      226.000000      109.000000   \n",
       "25%        25.000000       74.000000      697.750000      431.750000   \n",
       "50%        52.000000      155.000000      828.500000      607.000000   \n",
       "75%        73.000000      275.000000      933.000000      752.000000   \n",
       "max        99.000000      896.000000      999.000000      999.000000   \n",
       "\n",
       "       เลขท้าย 3 ตัว2  รางวัลที่หนึ่ง  \n",
       "count      480.000000      480.000000  \n",
       "mean       393.112500   495123.364583  \n",
       "std        201.375499   289364.133386  \n",
       "min          1.000000      686.000000  \n",
       "25%        235.000000   230841.500000  \n",
       "50%        381.000000   502381.000000  \n",
       "75%        534.750000   739536.250000  \n",
       "max        952.000000   997833.000000  "
      ]
     },
     "execution_count": 17,
     "metadata": {},
     "output_type": "execute_result"
    }
   ],
   "source": [
    "df.loc[:,['เลขท้าย 2 ตัว','เลขหน้า 3 ตัว1','เลขหน้า 3 ตัว2','เลขท้าย 3 ตัว1','เลขท้าย 3 ตัว2','รางวัลที่หนึ่ง']].astype('int32').describe()"
   ]
  },
  {
   "cell_type": "code",
   "execution_count": 18,
   "metadata": {},
   "outputs": [
    {
     "data": {
      "application/vnd.plotly.v1+json": {
       "config": {
        "plotlyServerURL": "https://plot.ly"
       },
       "data": [
        {
         "alignmentgroup": "True",
         "hovertemplate": "x=%{x}<br>y=%{y}<extra></extra>",
         "legendgroup": "",
         "marker": {
          "color": "#636efa",
          "pattern": {
           "shape": ""
          }
         },
         "name": "",
         "offsetgroup": "",
         "orientation": "v",
         "showlegend": false,
         "textposition": "auto",
         "type": "bar",
         "x": [
          "00",
          "01",
          "02",
          "03",
          "04",
          "05",
          "06",
          "07",
          "08",
          "09",
          "10",
          "11",
          "12",
          "13",
          "14",
          "15",
          "16",
          "17",
          "18",
          "19",
          "20",
          "21",
          "22",
          "23",
          "24",
          "25",
          "26",
          "27",
          "28",
          "29",
          "30",
          "31",
          "32",
          "33",
          "34",
          "35",
          "36",
          "37",
          "38",
          "39",
          "40",
          "41",
          "42",
          "43",
          "44",
          "45",
          "46",
          "47",
          "48",
          "49",
          "50",
          "51",
          "52",
          "53",
          "54",
          "55",
          "56",
          "57",
          "58",
          "59",
          "60",
          "61",
          "62",
          "63",
          "64",
          "65",
          "66",
          "67",
          "68",
          "69",
          "70",
          "71",
          "72",
          "73",
          "74",
          "75",
          "76",
          "77",
          "78",
          "79",
          "80",
          "81",
          "82",
          "83",
          "84",
          "85",
          "86",
          "87",
          "88",
          "89",
          "90",
          "91",
          "92",
          "93",
          "94",
          "95",
          "96",
          "97",
          "98",
          "99"
         ],
         "xaxis": "x",
         "y": [
          5,
          2,
          5,
          7,
          1,
          8,
          5,
          5,
          5,
          4,
          5,
          7,
          6,
          5,
          6,
          4,
          2,
          5,
          5,
          2,
          6,
          3,
          4,
          2,
          6,
          6,
          6,
          3,
          7,
          7,
          4,
          3,
          3,
          4,
          5,
          5,
          5,
          3,
          4,
          3,
          2,
          4,
          2,
          6,
          6,
          6,
          2,
          4,
          6,
          5,
          7,
          5,
          8,
          5,
          2,
          6,
          6,
          8,
          5,
          6,
          2,
          4,
          7,
          8,
          7,
          8,
          8,
          7,
          3,
          11,
          2,
          4,
          4,
          2,
          4,
          3,
          4,
          2,
          2,
          9,
          4,
          5,
          4,
          1,
          1,
          7,
          5,
          6,
          4,
          1,
          4,
          8,
          8,
          5,
          5,
          6,
          6,
          5,
          7,
          3
         ],
         "yaxis": "y"
        }
       ],
       "layout": {
        "barmode": "relative",
        "legend": {
         "tracegroupgap": 0
        },
        "template": {
         "data": {
          "bar": [
           {
            "error_x": {
             "color": "#2a3f5f"
            },
            "error_y": {
             "color": "#2a3f5f"
            },
            "marker": {
             "line": {
              "color": "#E5ECF6",
              "width": 0.5
             },
             "pattern": {
              "fillmode": "overlay",
              "size": 10,
              "solidity": 0.2
             }
            },
            "type": "bar"
           }
          ],
          "barpolar": [
           {
            "marker": {
             "line": {
              "color": "#E5ECF6",
              "width": 0.5
             },
             "pattern": {
              "fillmode": "overlay",
              "size": 10,
              "solidity": 0.2
             }
            },
            "type": "barpolar"
           }
          ],
          "carpet": [
           {
            "aaxis": {
             "endlinecolor": "#2a3f5f",
             "gridcolor": "white",
             "linecolor": "white",
             "minorgridcolor": "white",
             "startlinecolor": "#2a3f5f"
            },
            "baxis": {
             "endlinecolor": "#2a3f5f",
             "gridcolor": "white",
             "linecolor": "white",
             "minorgridcolor": "white",
             "startlinecolor": "#2a3f5f"
            },
            "type": "carpet"
           }
          ],
          "choropleth": [
           {
            "colorbar": {
             "outlinewidth": 0,
             "ticks": ""
            },
            "type": "choropleth"
           }
          ],
          "contour": [
           {
            "colorbar": {
             "outlinewidth": 0,
             "ticks": ""
            },
            "colorscale": [
             [
              0,
              "#0d0887"
             ],
             [
              0.1111111111111111,
              "#46039f"
             ],
             [
              0.2222222222222222,
              "#7201a8"
             ],
             [
              0.3333333333333333,
              "#9c179e"
             ],
             [
              0.4444444444444444,
              "#bd3786"
             ],
             [
              0.5555555555555556,
              "#d8576b"
             ],
             [
              0.6666666666666666,
              "#ed7953"
             ],
             [
              0.7777777777777778,
              "#fb9f3a"
             ],
             [
              0.8888888888888888,
              "#fdca26"
             ],
             [
              1,
              "#f0f921"
             ]
            ],
            "type": "contour"
           }
          ],
          "contourcarpet": [
           {
            "colorbar": {
             "outlinewidth": 0,
             "ticks": ""
            },
            "type": "contourcarpet"
           }
          ],
          "heatmap": [
           {
            "colorbar": {
             "outlinewidth": 0,
             "ticks": ""
            },
            "colorscale": [
             [
              0,
              "#0d0887"
             ],
             [
              0.1111111111111111,
              "#46039f"
             ],
             [
              0.2222222222222222,
              "#7201a8"
             ],
             [
              0.3333333333333333,
              "#9c179e"
             ],
             [
              0.4444444444444444,
              "#bd3786"
             ],
             [
              0.5555555555555556,
              "#d8576b"
             ],
             [
              0.6666666666666666,
              "#ed7953"
             ],
             [
              0.7777777777777778,
              "#fb9f3a"
             ],
             [
              0.8888888888888888,
              "#fdca26"
             ],
             [
              1,
              "#f0f921"
             ]
            ],
            "type": "heatmap"
           }
          ],
          "heatmapgl": [
           {
            "colorbar": {
             "outlinewidth": 0,
             "ticks": ""
            },
            "colorscale": [
             [
              0,
              "#0d0887"
             ],
             [
              0.1111111111111111,
              "#46039f"
             ],
             [
              0.2222222222222222,
              "#7201a8"
             ],
             [
              0.3333333333333333,
              "#9c179e"
             ],
             [
              0.4444444444444444,
              "#bd3786"
             ],
             [
              0.5555555555555556,
              "#d8576b"
             ],
             [
              0.6666666666666666,
              "#ed7953"
             ],
             [
              0.7777777777777778,
              "#fb9f3a"
             ],
             [
              0.8888888888888888,
              "#fdca26"
             ],
             [
              1,
              "#f0f921"
             ]
            ],
            "type": "heatmapgl"
           }
          ],
          "histogram": [
           {
            "marker": {
             "pattern": {
              "fillmode": "overlay",
              "size": 10,
              "solidity": 0.2
             }
            },
            "type": "histogram"
           }
          ],
          "histogram2d": [
           {
            "colorbar": {
             "outlinewidth": 0,
             "ticks": ""
            },
            "colorscale": [
             [
              0,
              "#0d0887"
             ],
             [
              0.1111111111111111,
              "#46039f"
             ],
             [
              0.2222222222222222,
              "#7201a8"
             ],
             [
              0.3333333333333333,
              "#9c179e"
             ],
             [
              0.4444444444444444,
              "#bd3786"
             ],
             [
              0.5555555555555556,
              "#d8576b"
             ],
             [
              0.6666666666666666,
              "#ed7953"
             ],
             [
              0.7777777777777778,
              "#fb9f3a"
             ],
             [
              0.8888888888888888,
              "#fdca26"
             ],
             [
              1,
              "#f0f921"
             ]
            ],
            "type": "histogram2d"
           }
          ],
          "histogram2dcontour": [
           {
            "colorbar": {
             "outlinewidth": 0,
             "ticks": ""
            },
            "colorscale": [
             [
              0,
              "#0d0887"
             ],
             [
              0.1111111111111111,
              "#46039f"
             ],
             [
              0.2222222222222222,
              "#7201a8"
             ],
             [
              0.3333333333333333,
              "#9c179e"
             ],
             [
              0.4444444444444444,
              "#bd3786"
             ],
             [
              0.5555555555555556,
              "#d8576b"
             ],
             [
              0.6666666666666666,
              "#ed7953"
             ],
             [
              0.7777777777777778,
              "#fb9f3a"
             ],
             [
              0.8888888888888888,
              "#fdca26"
             ],
             [
              1,
              "#f0f921"
             ]
            ],
            "type": "histogram2dcontour"
           }
          ],
          "mesh3d": [
           {
            "colorbar": {
             "outlinewidth": 0,
             "ticks": ""
            },
            "type": "mesh3d"
           }
          ],
          "parcoords": [
           {
            "line": {
             "colorbar": {
              "outlinewidth": 0,
              "ticks": ""
             }
            },
            "type": "parcoords"
           }
          ],
          "pie": [
           {
            "automargin": true,
            "type": "pie"
           }
          ],
          "scatter": [
           {
            "fillpattern": {
             "fillmode": "overlay",
             "size": 10,
             "solidity": 0.2
            },
            "type": "scatter"
           }
          ],
          "scatter3d": [
           {
            "line": {
             "colorbar": {
              "outlinewidth": 0,
              "ticks": ""
             }
            },
            "marker": {
             "colorbar": {
              "outlinewidth": 0,
              "ticks": ""
             }
            },
            "type": "scatter3d"
           }
          ],
          "scattercarpet": [
           {
            "marker": {
             "colorbar": {
              "outlinewidth": 0,
              "ticks": ""
             }
            },
            "type": "scattercarpet"
           }
          ],
          "scattergeo": [
           {
            "marker": {
             "colorbar": {
              "outlinewidth": 0,
              "ticks": ""
             }
            },
            "type": "scattergeo"
           }
          ],
          "scattergl": [
           {
            "marker": {
             "colorbar": {
              "outlinewidth": 0,
              "ticks": ""
             }
            },
            "type": "scattergl"
           }
          ],
          "scattermapbox": [
           {
            "marker": {
             "colorbar": {
              "outlinewidth": 0,
              "ticks": ""
             }
            },
            "type": "scattermapbox"
           }
          ],
          "scatterpolar": [
           {
            "marker": {
             "colorbar": {
              "outlinewidth": 0,
              "ticks": ""
             }
            },
            "type": "scatterpolar"
           }
          ],
          "scatterpolargl": [
           {
            "marker": {
             "colorbar": {
              "outlinewidth": 0,
              "ticks": ""
             }
            },
            "type": "scatterpolargl"
           }
          ],
          "scatterternary": [
           {
            "marker": {
             "colorbar": {
              "outlinewidth": 0,
              "ticks": ""
             }
            },
            "type": "scatterternary"
           }
          ],
          "surface": [
           {
            "colorbar": {
             "outlinewidth": 0,
             "ticks": ""
            },
            "colorscale": [
             [
              0,
              "#0d0887"
             ],
             [
              0.1111111111111111,
              "#46039f"
             ],
             [
              0.2222222222222222,
              "#7201a8"
             ],
             [
              0.3333333333333333,
              "#9c179e"
             ],
             [
              0.4444444444444444,
              "#bd3786"
             ],
             [
              0.5555555555555556,
              "#d8576b"
             ],
             [
              0.6666666666666666,
              "#ed7953"
             ],
             [
              0.7777777777777778,
              "#fb9f3a"
             ],
             [
              0.8888888888888888,
              "#fdca26"
             ],
             [
              1,
              "#f0f921"
             ]
            ],
            "type": "surface"
           }
          ],
          "table": [
           {
            "cells": {
             "fill": {
              "color": "#EBF0F8"
             },
             "line": {
              "color": "white"
             }
            },
            "header": {
             "fill": {
              "color": "#C8D4E3"
             },
             "line": {
              "color": "white"
             }
            },
            "type": "table"
           }
          ]
         },
         "layout": {
          "annotationdefaults": {
           "arrowcolor": "#2a3f5f",
           "arrowhead": 0,
           "arrowwidth": 1
          },
          "autotypenumbers": "strict",
          "coloraxis": {
           "colorbar": {
            "outlinewidth": 0,
            "ticks": ""
           }
          },
          "colorscale": {
           "diverging": [
            [
             0,
             "#8e0152"
            ],
            [
             0.1,
             "#c51b7d"
            ],
            [
             0.2,
             "#de77ae"
            ],
            [
             0.3,
             "#f1b6da"
            ],
            [
             0.4,
             "#fde0ef"
            ],
            [
             0.5,
             "#f7f7f7"
            ],
            [
             0.6,
             "#e6f5d0"
            ],
            [
             0.7,
             "#b8e186"
            ],
            [
             0.8,
             "#7fbc41"
            ],
            [
             0.9,
             "#4d9221"
            ],
            [
             1,
             "#276419"
            ]
           ],
           "sequential": [
            [
             0,
             "#0d0887"
            ],
            [
             0.1111111111111111,
             "#46039f"
            ],
            [
             0.2222222222222222,
             "#7201a8"
            ],
            [
             0.3333333333333333,
             "#9c179e"
            ],
            [
             0.4444444444444444,
             "#bd3786"
            ],
            [
             0.5555555555555556,
             "#d8576b"
            ],
            [
             0.6666666666666666,
             "#ed7953"
            ],
            [
             0.7777777777777778,
             "#fb9f3a"
            ],
            [
             0.8888888888888888,
             "#fdca26"
            ],
            [
             1,
             "#f0f921"
            ]
           ],
           "sequentialminus": [
            [
             0,
             "#0d0887"
            ],
            [
             0.1111111111111111,
             "#46039f"
            ],
            [
             0.2222222222222222,
             "#7201a8"
            ],
            [
             0.3333333333333333,
             "#9c179e"
            ],
            [
             0.4444444444444444,
             "#bd3786"
            ],
            [
             0.5555555555555556,
             "#d8576b"
            ],
            [
             0.6666666666666666,
             "#ed7953"
            ],
            [
             0.7777777777777778,
             "#fb9f3a"
            ],
            [
             0.8888888888888888,
             "#fdca26"
            ],
            [
             1,
             "#f0f921"
            ]
           ]
          },
          "colorway": [
           "#636efa",
           "#EF553B",
           "#00cc96",
           "#ab63fa",
           "#FFA15A",
           "#19d3f3",
           "#FF6692",
           "#B6E880",
           "#FF97FF",
           "#FECB52"
          ],
          "font": {
           "color": "#2a3f5f"
          },
          "geo": {
           "bgcolor": "white",
           "lakecolor": "white",
           "landcolor": "#E5ECF6",
           "showlakes": true,
           "showland": true,
           "subunitcolor": "white"
          },
          "hoverlabel": {
           "align": "left"
          },
          "hovermode": "closest",
          "mapbox": {
           "style": "light"
          },
          "paper_bgcolor": "white",
          "plot_bgcolor": "#E5ECF6",
          "polar": {
           "angularaxis": {
            "gridcolor": "white",
            "linecolor": "white",
            "ticks": ""
           },
           "bgcolor": "#E5ECF6",
           "radialaxis": {
            "gridcolor": "white",
            "linecolor": "white",
            "ticks": ""
           }
          },
          "scene": {
           "xaxis": {
            "backgroundcolor": "#E5ECF6",
            "gridcolor": "white",
            "gridwidth": 2,
            "linecolor": "white",
            "showbackground": true,
            "ticks": "",
            "zerolinecolor": "white"
           },
           "yaxis": {
            "backgroundcolor": "#E5ECF6",
            "gridcolor": "white",
            "gridwidth": 2,
            "linecolor": "white",
            "showbackground": true,
            "ticks": "",
            "zerolinecolor": "white"
           },
           "zaxis": {
            "backgroundcolor": "#E5ECF6",
            "gridcolor": "white",
            "gridwidth": 2,
            "linecolor": "white",
            "showbackground": true,
            "ticks": "",
            "zerolinecolor": "white"
           }
          },
          "shapedefaults": {
           "line": {
            "color": "#2a3f5f"
           }
          },
          "ternary": {
           "aaxis": {
            "gridcolor": "white",
            "linecolor": "white",
            "ticks": ""
           },
           "baxis": {
            "gridcolor": "white",
            "linecolor": "white",
            "ticks": ""
           },
           "bgcolor": "#E5ECF6",
           "caxis": {
            "gridcolor": "white",
            "linecolor": "white",
            "ticks": ""
           }
          },
          "title": {
           "x": 0.05
          },
          "xaxis": {
           "automargin": true,
           "gridcolor": "white",
           "linecolor": "white",
           "ticks": "",
           "title": {
            "standoff": 15
           },
           "zerolinecolor": "white",
           "zerolinewidth": 2
          },
          "yaxis": {
           "automargin": true,
           "gridcolor": "white",
           "linecolor": "white",
           "ticks": "",
           "title": {
            "standoff": 15
           },
           "zerolinecolor": "white",
           "zerolinewidth": 2
          }
         }
        },
        "title": {
         "text": "Frequency of เลขท้าย 2 ตัว"
        },
        "xaxis": {
         "anchor": "y",
         "domain": [
          0,
          1
         ],
         "title": {
          "text": "เลขท้าย 2 ตัว"
         }
        },
        "yaxis": {
         "anchor": "x",
         "domain": [
          0,
          1
         ],
         "title": {
          "text": "Frequency"
         }
        }
       }
      }
     },
     "metadata": {},
     "output_type": "display_data"
    }
   ],
   "source": [
    "value_counts = df['เลขท้าย 2 ตัว'].value_counts().sort_index()\n",
    "fig = px.bar(x=value_counts.index, y=value_counts.values, title = 'Frequency of เลขท้าย 2 ตัว')\n",
    "fig.update_layout(xaxis_title='เลขท้าย 2 ตัว', yaxis_title='Frequency')\n",
    "fig.show()"
   ]
  },
  {
   "cell_type": "code",
   "execution_count": 19,
   "metadata": {},
   "outputs": [
    {
     "data": {
      "application/vnd.plotly.v1+json": {
       "config": {
        "plotlyServerURL": "https://plot.ly"
       },
       "data": [
        {
         "alignmentgroup": "True",
         "hovertemplate": "x=%{x}<br>y=%{y}<extra></extra>",
         "legendgroup": "",
         "marker": {
          "color": "#636efa",
          "pattern": {
           "shape": ""
          }
         },
         "name": "",
         "offsetgroup": "",
         "orientation": "v",
         "showlegend": false,
         "textposition": "auto",
         "type": "bar",
         "x": [
          "001",
          "015",
          "031",
          "040",
          "043",
          "045",
          "048",
          "056",
          "060",
          "071",
          "072",
          "073",
          "074",
          "076",
          "080",
          "081",
          "082",
          "083",
          "084",
          "085",
          "086",
          "089",
          "091",
          "101",
          "103",
          "104",
          "109",
          "110",
          "113",
          "114",
          "115",
          "116",
          "117",
          "120",
          "123",
          "124",
          "125",
          "126",
          "133",
          "134",
          "135",
          "137",
          "138",
          "139",
          "140",
          "149",
          "150",
          "151",
          "152",
          "155",
          "158",
          "159",
          "162",
          "164",
          "165",
          "166",
          "167",
          "168",
          "169",
          "171",
          "173",
          "174",
          "177",
          "179",
          "181",
          "183",
          "186",
          "189",
          "191",
          "192",
          "193",
          "195",
          "197",
          "198",
          "199",
          "200",
          "202",
          "205",
          "206",
          "208",
          "209",
          "211",
          "214",
          "215",
          "216",
          "217",
          "218",
          "219",
          "221",
          "222",
          "224",
          "226",
          "227",
          "228",
          "230",
          "233",
          "234",
          "235",
          "236",
          "238",
          "239",
          "240",
          "241",
          "242",
          "244",
          "245",
          "246",
          "250",
          "251",
          "252",
          "255",
          "256",
          "257",
          "260",
          "261",
          "263",
          "264",
          "268",
          "270",
          "271",
          "272",
          "273",
          "275",
          "276",
          "277",
          "279",
          "280",
          "281",
          "282",
          "283",
          "284",
          "285",
          "286",
          "287",
          "288",
          "290",
          "291",
          "292",
          "293",
          "294",
          "295",
          "298",
          "299",
          "301",
          "302",
          "303",
          "304",
          "305",
          "306",
          "308",
          "309",
          "311",
          "312",
          "313",
          "314",
          "315",
          "316",
          "319",
          "320",
          "321",
          "322",
          "324",
          "325",
          "326",
          "328",
          "329",
          "330",
          "332",
          "333",
          "334",
          "335",
          "337",
          "338",
          "339",
          "340",
          "341",
          "342",
          "343",
          "344",
          "345",
          "346",
          "347",
          "349",
          "350",
          "352",
          "353",
          "354",
          "355",
          "356",
          "357",
          "358",
          "359",
          "361",
          "362",
          "363",
          "364",
          "365",
          "366",
          "368",
          "370",
          "371",
          "372",
          "374",
          "375",
          "378",
          "379",
          "380",
          "381",
          "382",
          "383",
          "384",
          "385",
          "386",
          "388",
          "389",
          "390",
          "391",
          "392",
          "394",
          "395",
          "396",
          "397",
          "398",
          "400",
          "401",
          "402",
          "403",
          "404",
          "405",
          "407",
          "408",
          "409",
          "410",
          "412",
          "413",
          "414",
          "415",
          "416",
          "417",
          "418",
          "419",
          "420",
          "421",
          "422",
          "424",
          "425",
          "426",
          "427",
          "429",
          "430",
          "431",
          "432",
          "433",
          "434",
          "435",
          "436",
          "437",
          "438",
          "439",
          "440",
          "441",
          "442",
          "444",
          "445",
          "446",
          "447",
          "448",
          "451",
          "454",
          "456",
          "457",
          "459",
          "460",
          "461",
          "462",
          "463",
          "465",
          "467",
          "468",
          "469",
          "470",
          "472",
          "473",
          "474",
          "476",
          "477",
          "478",
          "479",
          "480",
          "482",
          "485",
          "486",
          "487",
          "489",
          "490",
          "492",
          "494",
          "495",
          "496",
          "498",
          "499",
          "502",
          "503",
          "504",
          "505",
          "506",
          "507",
          "508",
          "510",
          "511",
          "512",
          "513",
          "515",
          "516",
          "517",
          "518",
          "519",
          "521",
          "522",
          "523",
          "524",
          "526",
          "529",
          "530",
          "532",
          "533",
          "534",
          "535",
          "536",
          "537",
          "538",
          "539",
          "541",
          "543",
          "544",
          "546",
          "547",
          "548",
          "549",
          "550",
          "551",
          "552",
          "553",
          "554",
          "555",
          "556",
          "557",
          "558",
          "559",
          "562",
          "563",
          "565",
          "566",
          "567",
          "569",
          "570",
          "571",
          "573",
          "574",
          "576",
          "577",
          "578",
          "579",
          "580",
          "581",
          "583",
          "584",
          "586",
          "588",
          "589",
          "592",
          "594",
          "595",
          "596",
          "597",
          "598",
          "600",
          "601",
          "602",
          "603",
          "604",
          "605",
          "606",
          "607",
          "608",
          "609",
          "610",
          "611",
          "612",
          "616",
          "617",
          "618",
          "619",
          "620",
          "621",
          "622",
          "623",
          "624",
          "625",
          "626",
          "627",
          "628",
          "630",
          "631",
          "633",
          "635",
          "638",
          "639",
          "640",
          "641",
          "642",
          "643",
          "644",
          "645",
          "646",
          "647",
          "648",
          "649",
          "651",
          "654",
          "656",
          "657",
          "658",
          "660",
          "661",
          "662",
          "663",
          "664",
          "665",
          "666",
          "670",
          "672",
          "673",
          "676",
          "677",
          "681",
          "685",
          "687",
          "688",
          "689",
          "691",
          "694",
          "695",
          "696",
          "700",
          "702",
          "703",
          "705",
          "707",
          "709",
          "713",
          "714",
          "715",
          "716",
          "717",
          "718",
          "719",
          "720",
          "721",
          "722",
          "723",
          "725",
          "727",
          "729",
          "730",
          "732",
          "733",
          "734",
          "735",
          "737",
          "739",
          "740",
          "741",
          "742",
          "743",
          "744",
          "745",
          "747",
          "748",
          "749",
          "750",
          "751",
          "752",
          "753",
          "755",
          "756",
          "761",
          "762",
          "763",
          "764",
          "766",
          "769",
          "771",
          "773",
          "774",
          "775",
          "776",
          "778",
          "779",
          "781",
          "784",
          "785",
          "786",
          "788",
          "789",
          "792",
          "793",
          "794",
          "796",
          "798",
          "799",
          "800",
          "801",
          "802",
          "803",
          "804",
          "805",
          "806",
          "808",
          "810",
          "811",
          "817",
          "818",
          "821",
          "822",
          "823",
          "824",
          "825",
          "830",
          "831",
          "832",
          "834",
          "835",
          "838",
          "842",
          "843",
          "844",
          "847",
          "848",
          "851",
          "852",
          "853",
          "854",
          "855",
          "857",
          "858",
          "859",
          "860",
          "861",
          "862",
          "863",
          "864",
          "865",
          "866",
          "867",
          "870",
          "871",
          "873",
          "876",
          "877",
          "879",
          "880",
          "881",
          "885",
          "887",
          "888",
          "889",
          "893",
          "903",
          "904",
          "906",
          "907",
          "909",
          "911",
          "918",
          "920",
          "921",
          "922",
          "933",
          "939",
          "942",
          "944",
          "949",
          "950",
          "952",
          "958",
          "981",
          "990",
          "999"
         ],
         "xaxis": "x",
         "y": [
          1,
          1,
          1,
          1,
          1,
          1,
          1,
          1,
          1,
          2,
          1,
          1,
          2,
          1,
          1,
          1,
          1,
          1,
          1,
          2,
          1,
          1,
          1,
          1,
          1,
          1,
          2,
          1,
          1,
          2,
          1,
          1,
          2,
          1,
          1,
          1,
          1,
          3,
          1,
          2,
          1,
          1,
          1,
          1,
          2,
          1,
          2,
          1,
          3,
          1,
          3,
          2,
          1,
          1,
          1,
          2,
          2,
          1,
          1,
          1,
          3,
          3,
          2,
          2,
          1,
          3,
          1,
          1,
          3,
          1,
          1,
          2,
          1,
          1,
          1,
          4,
          2,
          2,
          1,
          1,
          1,
          1,
          2,
          1,
          3,
          1,
          1,
          1,
          3,
          1,
          1,
          1,
          2,
          3,
          1,
          1,
          2,
          2,
          2,
          3,
          1,
          2,
          1,
          3,
          1,
          1,
          2,
          2,
          1,
          1,
          1,
          1,
          2,
          2,
          2,
          2,
          2,
          1,
          1,
          2,
          2,
          2,
          2,
          1,
          1,
          1,
          2,
          2,
          3,
          2,
          1,
          3,
          1,
          4,
          2,
          2,
          2,
          1,
          2,
          2,
          3,
          1,
          1,
          3,
          2,
          2,
          3,
          2,
          2,
          1,
          3,
          1,
          3,
          2,
          2,
          2,
          3,
          1,
          2,
          1,
          1,
          4,
          1,
          1,
          1,
          1,
          1,
          1,
          1,
          2,
          2,
          1,
          1,
          1,
          1,
          1,
          1,
          1,
          1,
          2,
          2,
          1,
          1,
          2,
          1,
          1,
          1,
          1,
          4,
          1,
          3,
          1,
          3,
          3,
          2,
          2,
          1,
          1,
          1,
          1,
          2,
          1,
          3,
          1,
          1,
          1,
          2,
          4,
          3,
          2,
          1,
          3,
          3,
          1,
          1,
          4,
          1,
          3,
          2,
          2,
          2,
          3,
          1,
          2,
          3,
          1,
          3,
          1,
          1,
          3,
          2,
          1,
          2,
          3,
          1,
          2,
          1,
          1,
          1,
          2,
          1,
          1,
          3,
          2,
          1,
          2,
          1,
          2,
          2,
          2,
          1,
          5,
          1,
          3,
          2,
          1,
          1,
          1,
          1,
          2,
          2,
          1,
          1,
          1,
          1,
          2,
          1,
          1,
          1,
          3,
          2,
          2,
          3,
          2,
          1,
          3,
          2,
          1,
          2,
          1,
          3,
          2,
          1,
          3,
          1,
          2,
          1,
          2,
          1,
          1,
          2,
          2,
          1,
          1,
          4,
          2,
          1,
          1,
          1,
          4,
          2,
          1,
          1,
          1,
          1,
          1,
          3,
          2,
          3,
          1,
          1,
          1,
          1,
          1,
          2,
          3,
          1,
          1,
          3,
          2,
          3,
          4,
          4,
          2,
          1,
          2,
          2,
          1,
          1,
          1,
          2,
          2,
          1,
          2,
          2,
          3,
          2,
          1,
          1,
          2,
          2,
          1,
          1,
          1,
          1,
          1,
          1,
          1,
          1,
          1,
          1,
          1,
          1,
          2,
          1,
          4,
          1,
          2,
          1,
          5,
          3,
          1,
          1,
          1,
          1,
          1,
          4,
          2,
          1,
          5,
          1,
          1,
          1,
          3,
          1,
          5,
          4,
          1,
          1,
          1,
          1,
          2,
          4,
          2,
          2,
          1,
          1,
          2,
          2,
          1,
          1,
          2,
          1,
          2,
          1,
          1,
          2,
          1,
          2,
          2,
          4,
          2,
          2,
          2,
          1,
          1,
          1,
          5,
          1,
          2,
          2,
          2,
          2,
          2,
          1,
          2,
          3,
          1,
          1,
          1,
          6,
          1,
          2,
          2,
          3,
          1,
          1,
          2,
          1,
          1,
          2,
          1,
          2,
          1,
          3,
          3,
          2,
          1,
          1,
          2,
          1,
          2,
          3,
          3,
          2,
          1,
          1,
          2,
          1,
          1,
          3,
          1,
          2,
          2,
          1,
          1,
          1,
          1,
          3,
          1,
          1,
          1,
          1,
          1,
          1,
          2,
          1,
          4,
          2,
          1,
          4,
          1,
          2,
          2,
          1,
          2,
          3,
          1,
          1,
          1,
          1,
          1,
          2,
          1,
          1,
          1,
          2,
          1,
          5,
          1,
          2,
          4,
          2,
          2,
          1,
          3,
          1,
          1,
          1,
          1,
          2,
          1,
          1,
          2,
          2,
          1,
          1,
          1,
          1,
          1,
          2,
          2,
          3,
          1,
          2,
          1,
          1,
          2,
          1,
          1,
          2,
          1,
          1,
          1,
          1,
          2,
          1,
          1,
          1,
          1,
          2,
          1,
          1,
          1,
          1,
          2,
          1,
          1,
          2,
          2,
          1,
          1,
          1,
          3,
          2,
          1,
          2,
          2,
          1,
          1,
          1,
          1,
          1,
          1,
          1,
          1,
          1,
          2,
          2,
          1,
          1,
          1,
          1,
          1,
          1,
          1,
          1,
          1,
          1,
          2,
          1,
          2,
          1,
          1,
          1,
          1,
          1,
          1,
          1,
          1,
          2,
          1,
          1,
          2,
          1,
          1,
          1,
          1,
          1
         ],
         "yaxis": "y"
        }
       ],
       "layout": {
        "barmode": "relative",
        "legend": {
         "tracegroupgap": 0
        },
        "template": {
         "data": {
          "bar": [
           {
            "error_x": {
             "color": "#2a3f5f"
            },
            "error_y": {
             "color": "#2a3f5f"
            },
            "marker": {
             "line": {
              "color": "#E5ECF6",
              "width": 0.5
             },
             "pattern": {
              "fillmode": "overlay",
              "size": 10,
              "solidity": 0.2
             }
            },
            "type": "bar"
           }
          ],
          "barpolar": [
           {
            "marker": {
             "line": {
              "color": "#E5ECF6",
              "width": 0.5
             },
             "pattern": {
              "fillmode": "overlay",
              "size": 10,
              "solidity": 0.2
             }
            },
            "type": "barpolar"
           }
          ],
          "carpet": [
           {
            "aaxis": {
             "endlinecolor": "#2a3f5f",
             "gridcolor": "white",
             "linecolor": "white",
             "minorgridcolor": "white",
             "startlinecolor": "#2a3f5f"
            },
            "baxis": {
             "endlinecolor": "#2a3f5f",
             "gridcolor": "white",
             "linecolor": "white",
             "minorgridcolor": "white",
             "startlinecolor": "#2a3f5f"
            },
            "type": "carpet"
           }
          ],
          "choropleth": [
           {
            "colorbar": {
             "outlinewidth": 0,
             "ticks": ""
            },
            "type": "choropleth"
           }
          ],
          "contour": [
           {
            "colorbar": {
             "outlinewidth": 0,
             "ticks": ""
            },
            "colorscale": [
             [
              0,
              "#0d0887"
             ],
             [
              0.1111111111111111,
              "#46039f"
             ],
             [
              0.2222222222222222,
              "#7201a8"
             ],
             [
              0.3333333333333333,
              "#9c179e"
             ],
             [
              0.4444444444444444,
              "#bd3786"
             ],
             [
              0.5555555555555556,
              "#d8576b"
             ],
             [
              0.6666666666666666,
              "#ed7953"
             ],
             [
              0.7777777777777778,
              "#fb9f3a"
             ],
             [
              0.8888888888888888,
              "#fdca26"
             ],
             [
              1,
              "#f0f921"
             ]
            ],
            "type": "contour"
           }
          ],
          "contourcarpet": [
           {
            "colorbar": {
             "outlinewidth": 0,
             "ticks": ""
            },
            "type": "contourcarpet"
           }
          ],
          "heatmap": [
           {
            "colorbar": {
             "outlinewidth": 0,
             "ticks": ""
            },
            "colorscale": [
             [
              0,
              "#0d0887"
             ],
             [
              0.1111111111111111,
              "#46039f"
             ],
             [
              0.2222222222222222,
              "#7201a8"
             ],
             [
              0.3333333333333333,
              "#9c179e"
             ],
             [
              0.4444444444444444,
              "#bd3786"
             ],
             [
              0.5555555555555556,
              "#d8576b"
             ],
             [
              0.6666666666666666,
              "#ed7953"
             ],
             [
              0.7777777777777778,
              "#fb9f3a"
             ],
             [
              0.8888888888888888,
              "#fdca26"
             ],
             [
              1,
              "#f0f921"
             ]
            ],
            "type": "heatmap"
           }
          ],
          "heatmapgl": [
           {
            "colorbar": {
             "outlinewidth": 0,
             "ticks": ""
            },
            "colorscale": [
             [
              0,
              "#0d0887"
             ],
             [
              0.1111111111111111,
              "#46039f"
             ],
             [
              0.2222222222222222,
              "#7201a8"
             ],
             [
              0.3333333333333333,
              "#9c179e"
             ],
             [
              0.4444444444444444,
              "#bd3786"
             ],
             [
              0.5555555555555556,
              "#d8576b"
             ],
             [
              0.6666666666666666,
              "#ed7953"
             ],
             [
              0.7777777777777778,
              "#fb9f3a"
             ],
             [
              0.8888888888888888,
              "#fdca26"
             ],
             [
              1,
              "#f0f921"
             ]
            ],
            "type": "heatmapgl"
           }
          ],
          "histogram": [
           {
            "marker": {
             "pattern": {
              "fillmode": "overlay",
              "size": 10,
              "solidity": 0.2
             }
            },
            "type": "histogram"
           }
          ],
          "histogram2d": [
           {
            "colorbar": {
             "outlinewidth": 0,
             "ticks": ""
            },
            "colorscale": [
             [
              0,
              "#0d0887"
             ],
             [
              0.1111111111111111,
              "#46039f"
             ],
             [
              0.2222222222222222,
              "#7201a8"
             ],
             [
              0.3333333333333333,
              "#9c179e"
             ],
             [
              0.4444444444444444,
              "#bd3786"
             ],
             [
              0.5555555555555556,
              "#d8576b"
             ],
             [
              0.6666666666666666,
              "#ed7953"
             ],
             [
              0.7777777777777778,
              "#fb9f3a"
             ],
             [
              0.8888888888888888,
              "#fdca26"
             ],
             [
              1,
              "#f0f921"
             ]
            ],
            "type": "histogram2d"
           }
          ],
          "histogram2dcontour": [
           {
            "colorbar": {
             "outlinewidth": 0,
             "ticks": ""
            },
            "colorscale": [
             [
              0,
              "#0d0887"
             ],
             [
              0.1111111111111111,
              "#46039f"
             ],
             [
              0.2222222222222222,
              "#7201a8"
             ],
             [
              0.3333333333333333,
              "#9c179e"
             ],
             [
              0.4444444444444444,
              "#bd3786"
             ],
             [
              0.5555555555555556,
              "#d8576b"
             ],
             [
              0.6666666666666666,
              "#ed7953"
             ],
             [
              0.7777777777777778,
              "#fb9f3a"
             ],
             [
              0.8888888888888888,
              "#fdca26"
             ],
             [
              1,
              "#f0f921"
             ]
            ],
            "type": "histogram2dcontour"
           }
          ],
          "mesh3d": [
           {
            "colorbar": {
             "outlinewidth": 0,
             "ticks": ""
            },
            "type": "mesh3d"
           }
          ],
          "parcoords": [
           {
            "line": {
             "colorbar": {
              "outlinewidth": 0,
              "ticks": ""
             }
            },
            "type": "parcoords"
           }
          ],
          "pie": [
           {
            "automargin": true,
            "type": "pie"
           }
          ],
          "scatter": [
           {
            "fillpattern": {
             "fillmode": "overlay",
             "size": 10,
             "solidity": 0.2
            },
            "type": "scatter"
           }
          ],
          "scatter3d": [
           {
            "line": {
             "colorbar": {
              "outlinewidth": 0,
              "ticks": ""
             }
            },
            "marker": {
             "colorbar": {
              "outlinewidth": 0,
              "ticks": ""
             }
            },
            "type": "scatter3d"
           }
          ],
          "scattercarpet": [
           {
            "marker": {
             "colorbar": {
              "outlinewidth": 0,
              "ticks": ""
             }
            },
            "type": "scattercarpet"
           }
          ],
          "scattergeo": [
           {
            "marker": {
             "colorbar": {
              "outlinewidth": 0,
              "ticks": ""
             }
            },
            "type": "scattergeo"
           }
          ],
          "scattergl": [
           {
            "marker": {
             "colorbar": {
              "outlinewidth": 0,
              "ticks": ""
             }
            },
            "type": "scattergl"
           }
          ],
          "scattermapbox": [
           {
            "marker": {
             "colorbar": {
              "outlinewidth": 0,
              "ticks": ""
             }
            },
            "type": "scattermapbox"
           }
          ],
          "scatterpolar": [
           {
            "marker": {
             "colorbar": {
              "outlinewidth": 0,
              "ticks": ""
             }
            },
            "type": "scatterpolar"
           }
          ],
          "scatterpolargl": [
           {
            "marker": {
             "colorbar": {
              "outlinewidth": 0,
              "ticks": ""
             }
            },
            "type": "scatterpolargl"
           }
          ],
          "scatterternary": [
           {
            "marker": {
             "colorbar": {
              "outlinewidth": 0,
              "ticks": ""
             }
            },
            "type": "scatterternary"
           }
          ],
          "surface": [
           {
            "colorbar": {
             "outlinewidth": 0,
             "ticks": ""
            },
            "colorscale": [
             [
              0,
              "#0d0887"
             ],
             [
              0.1111111111111111,
              "#46039f"
             ],
             [
              0.2222222222222222,
              "#7201a8"
             ],
             [
              0.3333333333333333,
              "#9c179e"
             ],
             [
              0.4444444444444444,
              "#bd3786"
             ],
             [
              0.5555555555555556,
              "#d8576b"
             ],
             [
              0.6666666666666666,
              "#ed7953"
             ],
             [
              0.7777777777777778,
              "#fb9f3a"
             ],
             [
              0.8888888888888888,
              "#fdca26"
             ],
             [
              1,
              "#f0f921"
             ]
            ],
            "type": "surface"
           }
          ],
          "table": [
           {
            "cells": {
             "fill": {
              "color": "#EBF0F8"
             },
             "line": {
              "color": "white"
             }
            },
            "header": {
             "fill": {
              "color": "#C8D4E3"
             },
             "line": {
              "color": "white"
             }
            },
            "type": "table"
           }
          ]
         },
         "layout": {
          "annotationdefaults": {
           "arrowcolor": "#2a3f5f",
           "arrowhead": 0,
           "arrowwidth": 1
          },
          "autotypenumbers": "strict",
          "coloraxis": {
           "colorbar": {
            "outlinewidth": 0,
            "ticks": ""
           }
          },
          "colorscale": {
           "diverging": [
            [
             0,
             "#8e0152"
            ],
            [
             0.1,
             "#c51b7d"
            ],
            [
             0.2,
             "#de77ae"
            ],
            [
             0.3,
             "#f1b6da"
            ],
            [
             0.4,
             "#fde0ef"
            ],
            [
             0.5,
             "#f7f7f7"
            ],
            [
             0.6,
             "#e6f5d0"
            ],
            [
             0.7,
             "#b8e186"
            ],
            [
             0.8,
             "#7fbc41"
            ],
            [
             0.9,
             "#4d9221"
            ],
            [
             1,
             "#276419"
            ]
           ],
           "sequential": [
            [
             0,
             "#0d0887"
            ],
            [
             0.1111111111111111,
             "#46039f"
            ],
            [
             0.2222222222222222,
             "#7201a8"
            ],
            [
             0.3333333333333333,
             "#9c179e"
            ],
            [
             0.4444444444444444,
             "#bd3786"
            ],
            [
             0.5555555555555556,
             "#d8576b"
            ],
            [
             0.6666666666666666,
             "#ed7953"
            ],
            [
             0.7777777777777778,
             "#fb9f3a"
            ],
            [
             0.8888888888888888,
             "#fdca26"
            ],
            [
             1,
             "#f0f921"
            ]
           ],
           "sequentialminus": [
            [
             0,
             "#0d0887"
            ],
            [
             0.1111111111111111,
             "#46039f"
            ],
            [
             0.2222222222222222,
             "#7201a8"
            ],
            [
             0.3333333333333333,
             "#9c179e"
            ],
            [
             0.4444444444444444,
             "#bd3786"
            ],
            [
             0.5555555555555556,
             "#d8576b"
            ],
            [
             0.6666666666666666,
             "#ed7953"
            ],
            [
             0.7777777777777778,
             "#fb9f3a"
            ],
            [
             0.8888888888888888,
             "#fdca26"
            ],
            [
             1,
             "#f0f921"
            ]
           ]
          },
          "colorway": [
           "#636efa",
           "#EF553B",
           "#00cc96",
           "#ab63fa",
           "#FFA15A",
           "#19d3f3",
           "#FF6692",
           "#B6E880",
           "#FF97FF",
           "#FECB52"
          ],
          "font": {
           "color": "#2a3f5f"
          },
          "geo": {
           "bgcolor": "white",
           "lakecolor": "white",
           "landcolor": "#E5ECF6",
           "showlakes": true,
           "showland": true,
           "subunitcolor": "white"
          },
          "hoverlabel": {
           "align": "left"
          },
          "hovermode": "closest",
          "mapbox": {
           "style": "light"
          },
          "paper_bgcolor": "white",
          "plot_bgcolor": "#E5ECF6",
          "polar": {
           "angularaxis": {
            "gridcolor": "white",
            "linecolor": "white",
            "ticks": ""
           },
           "bgcolor": "#E5ECF6",
           "radialaxis": {
            "gridcolor": "white",
            "linecolor": "white",
            "ticks": ""
           }
          },
          "scene": {
           "xaxis": {
            "backgroundcolor": "#E5ECF6",
            "gridcolor": "white",
            "gridwidth": 2,
            "linecolor": "white",
            "showbackground": true,
            "ticks": "",
            "zerolinecolor": "white"
           },
           "yaxis": {
            "backgroundcolor": "#E5ECF6",
            "gridcolor": "white",
            "gridwidth": 2,
            "linecolor": "white",
            "showbackground": true,
            "ticks": "",
            "zerolinecolor": "white"
           },
           "zaxis": {
            "backgroundcolor": "#E5ECF6",
            "gridcolor": "white",
            "gridwidth": 2,
            "linecolor": "white",
            "showbackground": true,
            "ticks": "",
            "zerolinecolor": "white"
           }
          },
          "shapedefaults": {
           "line": {
            "color": "#2a3f5f"
           }
          },
          "ternary": {
           "aaxis": {
            "gridcolor": "white",
            "linecolor": "white",
            "ticks": ""
           },
           "baxis": {
            "gridcolor": "white",
            "linecolor": "white",
            "ticks": ""
           },
           "bgcolor": "#E5ECF6",
           "caxis": {
            "gridcolor": "white",
            "linecolor": "white",
            "ticks": ""
           }
          },
          "title": {
           "x": 0.05
          },
          "xaxis": {
           "automargin": true,
           "gridcolor": "white",
           "linecolor": "white",
           "ticks": "",
           "title": {
            "standoff": 15
           },
           "zerolinecolor": "white",
           "zerolinewidth": 2
          },
          "yaxis": {
           "automargin": true,
           "gridcolor": "white",
           "linecolor": "white",
           "ticks": "",
           "title": {
            "standoff": 15
           },
           "zerolinecolor": "white",
           "zerolinewidth": 2
          }
         }
        },
        "title": {
         "text": "Frequency of เลขท้าย 3 ตัว"
        },
        "xaxis": {
         "anchor": "y",
         "domain": [
          0,
          1
         ],
         "title": {
          "text": "เลขท้าย 3 ตัว"
         }
        },
        "yaxis": {
         "anchor": "x",
         "domain": [
          0,
          1
         ],
         "title": {
          "text": "Frequency"
         }
        }
       }
      }
     },
     "metadata": {},
     "output_type": "display_data"
    }
   ],
   "source": [
    "series1 = df['เลขท้าย 3 ตัว1'].value_counts()\n",
    "series2 = df['เลขท้าย 3 ตัว2'].value_counts()\n",
    "combined_series = series1.combine(series2, lambda x, y: x + y, fill_value=0)\n",
    "fig = px.bar(x=combined_series.index, y=combined_series.values, title = 'Frequency of เลขท้าย 3 ตัว')\n",
    "fig.update_layout(xaxis_title='เลขท้าย 3 ตัว', yaxis_title='Frequency')\n",
    "fig.show()"
   ]
  },
  {
   "cell_type": "code",
   "execution_count": 20,
   "metadata": {},
   "outputs": [
    {
     "data": {
      "application/vnd.plotly.v1+json": {
       "config": {
        "plotlyServerURL": "https://plot.ly"
       },
       "data": [
        {
         "alignmentgroup": "True",
         "hovertemplate": "x=%{x}<br>y=%{y}<extra></extra>",
         "legendgroup": "",
         "marker": {
          "color": "#636efa",
          "pattern": {
           "shape": ""
          }
         },
         "name": "",
         "offsetgroup": "",
         "orientation": "v",
         "showlegend": false,
         "textposition": "auto",
         "type": "bar",
         "x": [
          "001",
          "003",
          "004",
          "005",
          "006",
          "007",
          "008",
          "009",
          "012",
          "013",
          "014",
          "015",
          "017",
          "018",
          "019",
          "020",
          "021",
          "022",
          "024",
          "025",
          "026",
          "027",
          "028",
          "031",
          "032",
          "034",
          "035",
          "036",
          "038",
          "039",
          "040",
          "042",
          "044",
          "045",
          "046",
          "047",
          "048",
          "049",
          "052",
          "054",
          "055",
          "056",
          "057",
          "058",
          "060",
          "061",
          "063",
          "064",
          "065",
          "066",
          "067",
          "068",
          "069",
          "070",
          "071",
          "072",
          "073",
          "074",
          "075",
          "076",
          "077",
          "079",
          "080",
          "081",
          "082",
          "083",
          "084",
          "085",
          "086",
          "087",
          "088",
          "089",
          "090",
          "091",
          "092",
          "093",
          "094",
          "096",
          "097",
          "098",
          "099",
          "100",
          "101",
          "103",
          "104",
          "105",
          "106",
          "107",
          "108",
          "109",
          "111",
          "112",
          "115",
          "116",
          "120",
          "121",
          "122",
          "123",
          "124",
          "125",
          "126",
          "127",
          "129",
          "130",
          "131",
          "132",
          "133",
          "135",
          "137",
          "140",
          "142",
          "143",
          "145",
          "146",
          "147",
          "148",
          "149",
          "150",
          "151",
          "153",
          "154",
          "155",
          "156",
          "158",
          "160",
          "161",
          "162",
          "163",
          "164",
          "166",
          "167",
          "168",
          "169",
          "170",
          "171",
          "175",
          "176",
          "177",
          "179",
          "180",
          "181",
          "182",
          "185",
          "186",
          "187",
          "188",
          "189",
          "190",
          "191",
          "195",
          "196",
          "197",
          "200",
          "201",
          "203",
          "204",
          "206",
          "209",
          "210",
          "213",
          "214",
          "216",
          "217",
          "219",
          "221",
          "222",
          "224",
          "225",
          "226",
          "227",
          "229",
          "230",
          "234",
          "235",
          "236",
          "237",
          "238",
          "239",
          "242",
          "244",
          "246",
          "247",
          "249",
          "250",
          "251",
          "253",
          "255",
          "257",
          "258",
          "260",
          "261",
          "262",
          "263",
          "266",
          "267",
          "268",
          "269",
          "272",
          "275",
          "285",
          "287",
          "290",
          "291",
          "292",
          "293",
          "294",
          "295",
          "296",
          "297",
          "298",
          "303",
          "304",
          "305",
          "306",
          "307",
          "308",
          "309",
          "310",
          "311",
          "314",
          "316",
          "324",
          "328",
          "329",
          "333",
          "334",
          "337",
          "338",
          "339",
          "344",
          "346",
          "349",
          "350",
          "355",
          "356",
          "357",
          "362",
          "363",
          "365",
          "366",
          "370",
          "374",
          "375",
          "376",
          "377",
          "378",
          "380",
          "381",
          "384",
          "386",
          "394",
          "395",
          "399",
          "400",
          "401",
          "402",
          "403",
          "406",
          "413",
          "414",
          "418",
          "422",
          "424",
          "425",
          "426",
          "431",
          "434",
          "435",
          "437",
          "438",
          "442",
          "448",
          "450",
          "452",
          "454",
          "457",
          "459",
          "460",
          "461",
          "463",
          "464",
          "467",
          "470",
          "471",
          "472",
          "479",
          "480",
          "484",
          "486",
          "494",
          "496",
          "498",
          "502",
          "503",
          "504",
          "505",
          "507",
          "510",
          "520",
          "523",
          "530",
          "532",
          "533",
          "535",
          "539",
          "540",
          "544",
          "551",
          "553",
          "555",
          "557",
          "559",
          "560",
          "563",
          "571",
          "572",
          "576",
          "580",
          "582",
          "584",
          "585",
          "586",
          "589",
          "593",
          "595",
          "596",
          "597",
          "599",
          "605",
          "606",
          "607",
          "608",
          "609",
          "612",
          "616",
          "618",
          "621",
          "623",
          "624",
          "627",
          "632",
          "634",
          "636",
          "637",
          "638",
          "639",
          "642",
          "645",
          "647",
          "648",
          "650",
          "653",
          "654",
          "659",
          "663",
          "664",
          "665",
          "667",
          "669",
          "670",
          "671",
          "673",
          "680",
          "686",
          "688",
          "689",
          "690",
          "691",
          "693",
          "694",
          "699",
          "702",
          "703",
          "705",
          "707",
          "708",
          "709",
          "711",
          "714",
          "715",
          "716",
          "723",
          "724",
          "725",
          "726",
          "728",
          "730",
          "736",
          "739",
          "742",
          "743",
          "744",
          "747",
          "749",
          "750",
          "752",
          "753",
          "754",
          "755",
          "757",
          "758",
          "759",
          "764",
          "765",
          "767",
          "768",
          "769",
          "770",
          "771",
          "775",
          "777",
          "778",
          "780",
          "781",
          "782",
          "783",
          "784",
          "786",
          "787",
          "790",
          "791",
          "792",
          "794",
          "796",
          "797",
          "798",
          "799",
          "800",
          "801",
          "802",
          "804",
          "806",
          "807",
          "809",
          "811",
          "812",
          "813",
          "814",
          "815",
          "816",
          "817",
          "818",
          "819",
          "820",
          "822",
          "826",
          "827",
          "828",
          "830",
          "832",
          "833",
          "836",
          "839",
          "843",
          "844",
          "845",
          "846",
          "847",
          "849",
          "852",
          "856",
          "857",
          "858",
          "859",
          "861",
          "862",
          "863",
          "864",
          "865",
          "866",
          "867",
          "868",
          "870",
          "872",
          "877",
          "878",
          "879",
          "880",
          "881",
          "882",
          "884",
          "885",
          "887",
          "888",
          "889",
          "890",
          "892",
          "893",
          "895",
          "896",
          "897",
          "900",
          "901",
          "902",
          "903",
          "904",
          "905",
          "906",
          "909",
          "910",
          "912",
          "913",
          "914",
          "915",
          "916",
          "917",
          "918",
          "920",
          "922",
          "923",
          "924",
          "925",
          "926",
          "927",
          "928",
          "929",
          "930",
          "933",
          "935",
          "936",
          "937",
          "938",
          "940",
          "941",
          "943",
          "944",
          "945",
          "946",
          "947",
          "949",
          "950",
          "951",
          "952",
          "953",
          "954",
          "955",
          "956",
          "957",
          "959",
          "961",
          "962",
          "964",
          "965",
          "966",
          "968",
          "969",
          "971",
          "972",
          "973",
          "974",
          "975",
          "976",
          "978",
          "979",
          "980",
          "981",
          "982",
          "983",
          "984",
          "985",
          "986",
          "987",
          "989",
          "991",
          "992",
          "993",
          "994",
          "995",
          "996",
          "997",
          "998",
          "999"
         ],
         "xaxis": "x",
         "y": [
          4,
          2,
          2,
          3,
          3,
          3,
          7,
          2,
          2,
          3,
          3,
          2,
          1,
          1,
          1,
          2,
          2,
          1,
          1,
          2,
          3,
          2,
          2,
          2,
          2,
          2,
          2,
          1,
          2,
          1,
          2,
          2,
          6,
          1,
          2,
          1,
          2,
          1,
          1,
          2,
          2,
          3,
          2,
          1,
          1,
          2,
          2,
          4,
          2,
          2,
          1,
          3,
          1,
          2,
          1,
          2,
          1,
          4,
          5,
          1,
          2,
          1,
          1,
          3,
          1,
          1,
          1,
          2,
          3,
          2,
          3,
          4,
          1,
          2,
          2,
          1,
          4,
          2,
          1,
          2,
          1,
          1,
          3,
          3,
          2,
          1,
          1,
          2,
          1,
          2,
          4,
          2,
          1,
          2,
          1,
          2,
          1,
          2,
          1,
          1,
          1,
          1,
          1,
          1,
          2,
          1,
          3,
          2,
          3,
          2,
          2,
          2,
          2,
          1,
          2,
          2,
          2,
          3,
          1,
          2,
          2,
          3,
          2,
          3,
          2,
          2,
          3,
          1,
          1,
          1,
          1,
          2,
          1,
          2,
          1,
          4,
          1,
          1,
          2,
          1,
          1,
          1,
          3,
          2,
          1,
          2,
          1,
          1,
          1,
          1,
          1,
          1,
          3,
          1,
          1,
          1,
          2,
          2,
          2,
          3,
          1,
          1,
          2,
          1,
          1,
          1,
          2,
          1,
          1,
          1,
          2,
          1,
          1,
          2,
          2,
          2,
          1,
          2,
          2,
          1,
          1,
          2,
          2,
          3,
          2,
          3,
          1,
          1,
          1,
          1,
          1,
          1,
          1,
          1,
          2,
          1,
          3,
          1,
          3,
          2,
          2,
          1,
          1,
          1,
          2,
          2,
          1,
          1,
          1,
          1,
          1,
          1,
          2,
          1,
          1,
          1,
          1,
          2,
          3,
          1,
          1,
          1,
          1,
          1,
          2,
          1,
          1,
          1,
          2,
          2,
          1,
          2,
          1,
          1,
          2,
          2,
          1,
          1,
          1,
          2,
          1,
          1,
          1,
          1,
          1,
          2,
          1,
          1,
          3,
          3,
          1,
          2,
          1,
          1,
          1,
          1,
          1,
          2,
          2,
          2,
          1,
          1,
          2,
          2,
          3,
          1,
          1,
          2,
          1,
          2,
          1,
          1,
          1,
          1,
          1,
          1,
          1,
          2,
          2,
          1,
          1,
          1,
          1,
          1,
          1,
          1,
          2,
          1,
          1,
          1,
          1,
          1,
          2,
          1,
          1,
          1,
          1,
          2,
          2,
          2,
          2,
          2,
          2,
          4,
          1,
          1,
          1,
          1,
          1,
          1,
          1,
          1,
          2,
          1,
          1,
          2,
          1,
          1,
          1,
          1,
          1,
          1,
          1,
          1,
          1,
          1,
          2,
          1,
          1,
          3,
          1,
          1,
          2,
          1,
          2,
          1,
          1,
          1,
          1,
          2,
          1,
          1,
          1,
          1,
          1,
          1,
          1,
          1,
          1,
          2,
          1,
          1,
          1,
          1,
          1,
          3,
          1,
          1,
          2,
          1,
          1,
          1,
          1,
          2,
          1,
          2,
          1,
          2,
          3,
          3,
          2,
          1,
          1,
          2,
          1,
          1,
          1,
          1,
          2,
          2,
          1,
          1,
          1,
          1,
          1,
          2,
          1,
          1,
          2,
          1,
          3,
          1,
          1,
          1,
          2,
          1,
          1,
          2,
          1,
          3,
          1,
          1,
          1,
          2,
          2,
          1,
          1,
          3,
          2,
          2,
          1,
          2,
          1,
          3,
          3,
          1,
          3,
          1,
          1,
          2,
          1,
          2,
          1,
          2,
          3,
          2,
          2,
          1,
          1,
          3,
          2,
          3,
          1,
          1,
          2,
          1,
          1,
          3,
          1,
          1,
          1,
          2,
          1,
          4,
          2,
          1,
          1,
          1,
          3,
          1,
          1,
          1,
          1,
          2,
          1,
          2,
          1,
          3,
          1,
          1,
          2,
          1,
          1,
          1,
          1,
          2,
          1,
          4,
          1,
          1,
          1,
          1,
          2,
          1,
          6,
          1,
          2,
          1,
          1,
          2,
          1,
          1,
          1,
          1,
          3,
          1,
          2,
          2,
          3,
          2,
          1,
          1,
          1,
          3,
          2,
          3,
          1,
          4,
          1,
          1,
          2,
          2,
          1,
          2,
          3,
          1,
          5,
          1,
          2,
          1,
          2,
          2,
          3,
          1,
          1,
          4,
          1,
          4,
          3,
          2,
          2,
          1,
          1,
          2,
          2,
          2,
          5,
          2,
          2,
          2,
          2,
          2,
          4,
          1,
          2,
          1,
          2,
          3,
          2,
          2,
          2,
          1,
          2,
          2,
          2,
          2,
          2,
          1,
          2,
          2,
          2,
          4,
          1,
          4,
          3,
          1,
          4,
          3,
          3,
          3,
          2,
          2,
          2,
          1,
          2,
          2,
          2,
          2,
          4,
          1,
          1,
          3
         ],
         "yaxis": "y"
        }
       ],
       "layout": {
        "barmode": "relative",
        "legend": {
         "tracegroupgap": 0
        },
        "template": {
         "data": {
          "bar": [
           {
            "error_x": {
             "color": "#2a3f5f"
            },
            "error_y": {
             "color": "#2a3f5f"
            },
            "marker": {
             "line": {
              "color": "#E5ECF6",
              "width": 0.5
             },
             "pattern": {
              "fillmode": "overlay",
              "size": 10,
              "solidity": 0.2
             }
            },
            "type": "bar"
           }
          ],
          "barpolar": [
           {
            "marker": {
             "line": {
              "color": "#E5ECF6",
              "width": 0.5
             },
             "pattern": {
              "fillmode": "overlay",
              "size": 10,
              "solidity": 0.2
             }
            },
            "type": "barpolar"
           }
          ],
          "carpet": [
           {
            "aaxis": {
             "endlinecolor": "#2a3f5f",
             "gridcolor": "white",
             "linecolor": "white",
             "minorgridcolor": "white",
             "startlinecolor": "#2a3f5f"
            },
            "baxis": {
             "endlinecolor": "#2a3f5f",
             "gridcolor": "white",
             "linecolor": "white",
             "minorgridcolor": "white",
             "startlinecolor": "#2a3f5f"
            },
            "type": "carpet"
           }
          ],
          "choropleth": [
           {
            "colorbar": {
             "outlinewidth": 0,
             "ticks": ""
            },
            "type": "choropleth"
           }
          ],
          "contour": [
           {
            "colorbar": {
             "outlinewidth": 0,
             "ticks": ""
            },
            "colorscale": [
             [
              0,
              "#0d0887"
             ],
             [
              0.1111111111111111,
              "#46039f"
             ],
             [
              0.2222222222222222,
              "#7201a8"
             ],
             [
              0.3333333333333333,
              "#9c179e"
             ],
             [
              0.4444444444444444,
              "#bd3786"
             ],
             [
              0.5555555555555556,
              "#d8576b"
             ],
             [
              0.6666666666666666,
              "#ed7953"
             ],
             [
              0.7777777777777778,
              "#fb9f3a"
             ],
             [
              0.8888888888888888,
              "#fdca26"
             ],
             [
              1,
              "#f0f921"
             ]
            ],
            "type": "contour"
           }
          ],
          "contourcarpet": [
           {
            "colorbar": {
             "outlinewidth": 0,
             "ticks": ""
            },
            "type": "contourcarpet"
           }
          ],
          "heatmap": [
           {
            "colorbar": {
             "outlinewidth": 0,
             "ticks": ""
            },
            "colorscale": [
             [
              0,
              "#0d0887"
             ],
             [
              0.1111111111111111,
              "#46039f"
             ],
             [
              0.2222222222222222,
              "#7201a8"
             ],
             [
              0.3333333333333333,
              "#9c179e"
             ],
             [
              0.4444444444444444,
              "#bd3786"
             ],
             [
              0.5555555555555556,
              "#d8576b"
             ],
             [
              0.6666666666666666,
              "#ed7953"
             ],
             [
              0.7777777777777778,
              "#fb9f3a"
             ],
             [
              0.8888888888888888,
              "#fdca26"
             ],
             [
              1,
              "#f0f921"
             ]
            ],
            "type": "heatmap"
           }
          ],
          "heatmapgl": [
           {
            "colorbar": {
             "outlinewidth": 0,
             "ticks": ""
            },
            "colorscale": [
             [
              0,
              "#0d0887"
             ],
             [
              0.1111111111111111,
              "#46039f"
             ],
             [
              0.2222222222222222,
              "#7201a8"
             ],
             [
              0.3333333333333333,
              "#9c179e"
             ],
             [
              0.4444444444444444,
              "#bd3786"
             ],
             [
              0.5555555555555556,
              "#d8576b"
             ],
             [
              0.6666666666666666,
              "#ed7953"
             ],
             [
              0.7777777777777778,
              "#fb9f3a"
             ],
             [
              0.8888888888888888,
              "#fdca26"
             ],
             [
              1,
              "#f0f921"
             ]
            ],
            "type": "heatmapgl"
           }
          ],
          "histogram": [
           {
            "marker": {
             "pattern": {
              "fillmode": "overlay",
              "size": 10,
              "solidity": 0.2
             }
            },
            "type": "histogram"
           }
          ],
          "histogram2d": [
           {
            "colorbar": {
             "outlinewidth": 0,
             "ticks": ""
            },
            "colorscale": [
             [
              0,
              "#0d0887"
             ],
             [
              0.1111111111111111,
              "#46039f"
             ],
             [
              0.2222222222222222,
              "#7201a8"
             ],
             [
              0.3333333333333333,
              "#9c179e"
             ],
             [
              0.4444444444444444,
              "#bd3786"
             ],
             [
              0.5555555555555556,
              "#d8576b"
             ],
             [
              0.6666666666666666,
              "#ed7953"
             ],
             [
              0.7777777777777778,
              "#fb9f3a"
             ],
             [
              0.8888888888888888,
              "#fdca26"
             ],
             [
              1,
              "#f0f921"
             ]
            ],
            "type": "histogram2d"
           }
          ],
          "histogram2dcontour": [
           {
            "colorbar": {
             "outlinewidth": 0,
             "ticks": ""
            },
            "colorscale": [
             [
              0,
              "#0d0887"
             ],
             [
              0.1111111111111111,
              "#46039f"
             ],
             [
              0.2222222222222222,
              "#7201a8"
             ],
             [
              0.3333333333333333,
              "#9c179e"
             ],
             [
              0.4444444444444444,
              "#bd3786"
             ],
             [
              0.5555555555555556,
              "#d8576b"
             ],
             [
              0.6666666666666666,
              "#ed7953"
             ],
             [
              0.7777777777777778,
              "#fb9f3a"
             ],
             [
              0.8888888888888888,
              "#fdca26"
             ],
             [
              1,
              "#f0f921"
             ]
            ],
            "type": "histogram2dcontour"
           }
          ],
          "mesh3d": [
           {
            "colorbar": {
             "outlinewidth": 0,
             "ticks": ""
            },
            "type": "mesh3d"
           }
          ],
          "parcoords": [
           {
            "line": {
             "colorbar": {
              "outlinewidth": 0,
              "ticks": ""
             }
            },
            "type": "parcoords"
           }
          ],
          "pie": [
           {
            "automargin": true,
            "type": "pie"
           }
          ],
          "scatter": [
           {
            "fillpattern": {
             "fillmode": "overlay",
             "size": 10,
             "solidity": 0.2
            },
            "type": "scatter"
           }
          ],
          "scatter3d": [
           {
            "line": {
             "colorbar": {
              "outlinewidth": 0,
              "ticks": ""
             }
            },
            "marker": {
             "colorbar": {
              "outlinewidth": 0,
              "ticks": ""
             }
            },
            "type": "scatter3d"
           }
          ],
          "scattercarpet": [
           {
            "marker": {
             "colorbar": {
              "outlinewidth": 0,
              "ticks": ""
             }
            },
            "type": "scattercarpet"
           }
          ],
          "scattergeo": [
           {
            "marker": {
             "colorbar": {
              "outlinewidth": 0,
              "ticks": ""
             }
            },
            "type": "scattergeo"
           }
          ],
          "scattergl": [
           {
            "marker": {
             "colorbar": {
              "outlinewidth": 0,
              "ticks": ""
             }
            },
            "type": "scattergl"
           }
          ],
          "scattermapbox": [
           {
            "marker": {
             "colorbar": {
              "outlinewidth": 0,
              "ticks": ""
             }
            },
            "type": "scattermapbox"
           }
          ],
          "scatterpolar": [
           {
            "marker": {
             "colorbar": {
              "outlinewidth": 0,
              "ticks": ""
             }
            },
            "type": "scatterpolar"
           }
          ],
          "scatterpolargl": [
           {
            "marker": {
             "colorbar": {
              "outlinewidth": 0,
              "ticks": ""
             }
            },
            "type": "scatterpolargl"
           }
          ],
          "scatterternary": [
           {
            "marker": {
             "colorbar": {
              "outlinewidth": 0,
              "ticks": ""
             }
            },
            "type": "scatterternary"
           }
          ],
          "surface": [
           {
            "colorbar": {
             "outlinewidth": 0,
             "ticks": ""
            },
            "colorscale": [
             [
              0,
              "#0d0887"
             ],
             [
              0.1111111111111111,
              "#46039f"
             ],
             [
              0.2222222222222222,
              "#7201a8"
             ],
             [
              0.3333333333333333,
              "#9c179e"
             ],
             [
              0.4444444444444444,
              "#bd3786"
             ],
             [
              0.5555555555555556,
              "#d8576b"
             ],
             [
              0.6666666666666666,
              "#ed7953"
             ],
             [
              0.7777777777777778,
              "#fb9f3a"
             ],
             [
              0.8888888888888888,
              "#fdca26"
             ],
             [
              1,
              "#f0f921"
             ]
            ],
            "type": "surface"
           }
          ],
          "table": [
           {
            "cells": {
             "fill": {
              "color": "#EBF0F8"
             },
             "line": {
              "color": "white"
             }
            },
            "header": {
             "fill": {
              "color": "#C8D4E3"
             },
             "line": {
              "color": "white"
             }
            },
            "type": "table"
           }
          ]
         },
         "layout": {
          "annotationdefaults": {
           "arrowcolor": "#2a3f5f",
           "arrowhead": 0,
           "arrowwidth": 1
          },
          "autotypenumbers": "strict",
          "coloraxis": {
           "colorbar": {
            "outlinewidth": 0,
            "ticks": ""
           }
          },
          "colorscale": {
           "diverging": [
            [
             0,
             "#8e0152"
            ],
            [
             0.1,
             "#c51b7d"
            ],
            [
             0.2,
             "#de77ae"
            ],
            [
             0.3,
             "#f1b6da"
            ],
            [
             0.4,
             "#fde0ef"
            ],
            [
             0.5,
             "#f7f7f7"
            ],
            [
             0.6,
             "#e6f5d0"
            ],
            [
             0.7,
             "#b8e186"
            ],
            [
             0.8,
             "#7fbc41"
            ],
            [
             0.9,
             "#4d9221"
            ],
            [
             1,
             "#276419"
            ]
           ],
           "sequential": [
            [
             0,
             "#0d0887"
            ],
            [
             0.1111111111111111,
             "#46039f"
            ],
            [
             0.2222222222222222,
             "#7201a8"
            ],
            [
             0.3333333333333333,
             "#9c179e"
            ],
            [
             0.4444444444444444,
             "#bd3786"
            ],
            [
             0.5555555555555556,
             "#d8576b"
            ],
            [
             0.6666666666666666,
             "#ed7953"
            ],
            [
             0.7777777777777778,
             "#fb9f3a"
            ],
            [
             0.8888888888888888,
             "#fdca26"
            ],
            [
             1,
             "#f0f921"
            ]
           ],
           "sequentialminus": [
            [
             0,
             "#0d0887"
            ],
            [
             0.1111111111111111,
             "#46039f"
            ],
            [
             0.2222222222222222,
             "#7201a8"
            ],
            [
             0.3333333333333333,
             "#9c179e"
            ],
            [
             0.4444444444444444,
             "#bd3786"
            ],
            [
             0.5555555555555556,
             "#d8576b"
            ],
            [
             0.6666666666666666,
             "#ed7953"
            ],
            [
             0.7777777777777778,
             "#fb9f3a"
            ],
            [
             0.8888888888888888,
             "#fdca26"
            ],
            [
             1,
             "#f0f921"
            ]
           ]
          },
          "colorway": [
           "#636efa",
           "#EF553B",
           "#00cc96",
           "#ab63fa",
           "#FFA15A",
           "#19d3f3",
           "#FF6692",
           "#B6E880",
           "#FF97FF",
           "#FECB52"
          ],
          "font": {
           "color": "#2a3f5f"
          },
          "geo": {
           "bgcolor": "white",
           "lakecolor": "white",
           "landcolor": "#E5ECF6",
           "showlakes": true,
           "showland": true,
           "subunitcolor": "white"
          },
          "hoverlabel": {
           "align": "left"
          },
          "hovermode": "closest",
          "mapbox": {
           "style": "light"
          },
          "paper_bgcolor": "white",
          "plot_bgcolor": "#E5ECF6",
          "polar": {
           "angularaxis": {
            "gridcolor": "white",
            "linecolor": "white",
            "ticks": ""
           },
           "bgcolor": "#E5ECF6",
           "radialaxis": {
            "gridcolor": "white",
            "linecolor": "white",
            "ticks": ""
           }
          },
          "scene": {
           "xaxis": {
            "backgroundcolor": "#E5ECF6",
            "gridcolor": "white",
            "gridwidth": 2,
            "linecolor": "white",
            "showbackground": true,
            "ticks": "",
            "zerolinecolor": "white"
           },
           "yaxis": {
            "backgroundcolor": "#E5ECF6",
            "gridcolor": "white",
            "gridwidth": 2,
            "linecolor": "white",
            "showbackground": true,
            "ticks": "",
            "zerolinecolor": "white"
           },
           "zaxis": {
            "backgroundcolor": "#E5ECF6",
            "gridcolor": "white",
            "gridwidth": 2,
            "linecolor": "white",
            "showbackground": true,
            "ticks": "",
            "zerolinecolor": "white"
           }
          },
          "shapedefaults": {
           "line": {
            "color": "#2a3f5f"
           }
          },
          "ternary": {
           "aaxis": {
            "gridcolor": "white",
            "linecolor": "white",
            "ticks": ""
           },
           "baxis": {
            "gridcolor": "white",
            "linecolor": "white",
            "ticks": ""
           },
           "bgcolor": "#E5ECF6",
           "caxis": {
            "gridcolor": "white",
            "linecolor": "white",
            "ticks": ""
           }
          },
          "title": {
           "x": 0.05
          },
          "xaxis": {
           "automargin": true,
           "gridcolor": "white",
           "linecolor": "white",
           "ticks": "",
           "title": {
            "standoff": 15
           },
           "zerolinecolor": "white",
           "zerolinewidth": 2
          },
          "yaxis": {
           "automargin": true,
           "gridcolor": "white",
           "linecolor": "white",
           "ticks": "",
           "title": {
            "standoff": 15
           },
           "zerolinecolor": "white",
           "zerolinewidth": 2
          }
         }
        },
        "title": {
         "text": "Frequency of เลขหน้า 3 ตัว"
        },
        "xaxis": {
         "anchor": "y",
         "domain": [
          0,
          1
         ],
         "title": {
          "text": "เลขหน้า3 ตัว"
         }
        },
        "yaxis": {
         "anchor": "x",
         "domain": [
          0,
          1
         ],
         "title": {
          "text": "Frequency"
         }
        }
       }
      }
     },
     "metadata": {},
     "output_type": "display_data"
    }
   ],
   "source": [
    "series1 = df['เลขหน้า 3 ตัว1'].value_counts()\n",
    "series2 = df['เลขหน้า 3 ตัว2'].value_counts()\n",
    "combined_series = series1.combine(series2, lambda x, y: x + y, fill_value=0)\n",
    "fig = px.bar(x=combined_series.index, y=combined_series.values, title = 'Frequency of เลขหน้า 3 ตัว')\n",
    "fig.update_layout(xaxis_title='เลขหน้า3 ตัว', yaxis_title='Frequency')\n",
    "fig.show()"
   ]
  },
  {
   "cell_type": "code",
   "execution_count": 21,
   "metadata": {},
   "outputs": [
    {
     "data": {
      "application/vnd.plotly.v1+json": {
       "config": {
        "plotlyServerURL": "https://plot.ly"
       },
       "data": [
        {
         "domain": {
          "x": [
           0,
           1
          ],
          "y": [
           0,
           1
          ]
         },
         "hovertemplate": "Digit=%{label}<br>Count=%{value}<extra></extra>",
         "labels": [
          "5",
          "1",
          "6",
          "9",
          "4",
          "2",
          "0",
          "8",
          "3",
          "7"
         ],
         "legendgroup": "",
         "name": "",
         "showlegend": true,
         "type": "pie",
         "values": [
          300,
          308,
          297,
          259,
          310,
          262,
          295,
          276,
          280,
          293
         ]
        }
       ],
       "layout": {
        "legend": {
         "tracegroupgap": 0
        },
        "template": {
         "data": {
          "bar": [
           {
            "error_x": {
             "color": "#2a3f5f"
            },
            "error_y": {
             "color": "#2a3f5f"
            },
            "marker": {
             "line": {
              "color": "#E5ECF6",
              "width": 0.5
             },
             "pattern": {
              "fillmode": "overlay",
              "size": 10,
              "solidity": 0.2
             }
            },
            "type": "bar"
           }
          ],
          "barpolar": [
           {
            "marker": {
             "line": {
              "color": "#E5ECF6",
              "width": 0.5
             },
             "pattern": {
              "fillmode": "overlay",
              "size": 10,
              "solidity": 0.2
             }
            },
            "type": "barpolar"
           }
          ],
          "carpet": [
           {
            "aaxis": {
             "endlinecolor": "#2a3f5f",
             "gridcolor": "white",
             "linecolor": "white",
             "minorgridcolor": "white",
             "startlinecolor": "#2a3f5f"
            },
            "baxis": {
             "endlinecolor": "#2a3f5f",
             "gridcolor": "white",
             "linecolor": "white",
             "minorgridcolor": "white",
             "startlinecolor": "#2a3f5f"
            },
            "type": "carpet"
           }
          ],
          "choropleth": [
           {
            "colorbar": {
             "outlinewidth": 0,
             "ticks": ""
            },
            "type": "choropleth"
           }
          ],
          "contour": [
           {
            "colorbar": {
             "outlinewidth": 0,
             "ticks": ""
            },
            "colorscale": [
             [
              0,
              "#0d0887"
             ],
             [
              0.1111111111111111,
              "#46039f"
             ],
             [
              0.2222222222222222,
              "#7201a8"
             ],
             [
              0.3333333333333333,
              "#9c179e"
             ],
             [
              0.4444444444444444,
              "#bd3786"
             ],
             [
              0.5555555555555556,
              "#d8576b"
             ],
             [
              0.6666666666666666,
              "#ed7953"
             ],
             [
              0.7777777777777778,
              "#fb9f3a"
             ],
             [
              0.8888888888888888,
              "#fdca26"
             ],
             [
              1,
              "#f0f921"
             ]
            ],
            "type": "contour"
           }
          ],
          "contourcarpet": [
           {
            "colorbar": {
             "outlinewidth": 0,
             "ticks": ""
            },
            "type": "contourcarpet"
           }
          ],
          "heatmap": [
           {
            "colorbar": {
             "outlinewidth": 0,
             "ticks": ""
            },
            "colorscale": [
             [
              0,
              "#0d0887"
             ],
             [
              0.1111111111111111,
              "#46039f"
             ],
             [
              0.2222222222222222,
              "#7201a8"
             ],
             [
              0.3333333333333333,
              "#9c179e"
             ],
             [
              0.4444444444444444,
              "#bd3786"
             ],
             [
              0.5555555555555556,
              "#d8576b"
             ],
             [
              0.6666666666666666,
              "#ed7953"
             ],
             [
              0.7777777777777778,
              "#fb9f3a"
             ],
             [
              0.8888888888888888,
              "#fdca26"
             ],
             [
              1,
              "#f0f921"
             ]
            ],
            "type": "heatmap"
           }
          ],
          "heatmapgl": [
           {
            "colorbar": {
             "outlinewidth": 0,
             "ticks": ""
            },
            "colorscale": [
             [
              0,
              "#0d0887"
             ],
             [
              0.1111111111111111,
              "#46039f"
             ],
             [
              0.2222222222222222,
              "#7201a8"
             ],
             [
              0.3333333333333333,
              "#9c179e"
             ],
             [
              0.4444444444444444,
              "#bd3786"
             ],
             [
              0.5555555555555556,
              "#d8576b"
             ],
             [
              0.6666666666666666,
              "#ed7953"
             ],
             [
              0.7777777777777778,
              "#fb9f3a"
             ],
             [
              0.8888888888888888,
              "#fdca26"
             ],
             [
              1,
              "#f0f921"
             ]
            ],
            "type": "heatmapgl"
           }
          ],
          "histogram": [
           {
            "marker": {
             "pattern": {
              "fillmode": "overlay",
              "size": 10,
              "solidity": 0.2
             }
            },
            "type": "histogram"
           }
          ],
          "histogram2d": [
           {
            "colorbar": {
             "outlinewidth": 0,
             "ticks": ""
            },
            "colorscale": [
             [
              0,
              "#0d0887"
             ],
             [
              0.1111111111111111,
              "#46039f"
             ],
             [
              0.2222222222222222,
              "#7201a8"
             ],
             [
              0.3333333333333333,
              "#9c179e"
             ],
             [
              0.4444444444444444,
              "#bd3786"
             ],
             [
              0.5555555555555556,
              "#d8576b"
             ],
             [
              0.6666666666666666,
              "#ed7953"
             ],
             [
              0.7777777777777778,
              "#fb9f3a"
             ],
             [
              0.8888888888888888,
              "#fdca26"
             ],
             [
              1,
              "#f0f921"
             ]
            ],
            "type": "histogram2d"
           }
          ],
          "histogram2dcontour": [
           {
            "colorbar": {
             "outlinewidth": 0,
             "ticks": ""
            },
            "colorscale": [
             [
              0,
              "#0d0887"
             ],
             [
              0.1111111111111111,
              "#46039f"
             ],
             [
              0.2222222222222222,
              "#7201a8"
             ],
             [
              0.3333333333333333,
              "#9c179e"
             ],
             [
              0.4444444444444444,
              "#bd3786"
             ],
             [
              0.5555555555555556,
              "#d8576b"
             ],
             [
              0.6666666666666666,
              "#ed7953"
             ],
             [
              0.7777777777777778,
              "#fb9f3a"
             ],
             [
              0.8888888888888888,
              "#fdca26"
             ],
             [
              1,
              "#f0f921"
             ]
            ],
            "type": "histogram2dcontour"
           }
          ],
          "mesh3d": [
           {
            "colorbar": {
             "outlinewidth": 0,
             "ticks": ""
            },
            "type": "mesh3d"
           }
          ],
          "parcoords": [
           {
            "line": {
             "colorbar": {
              "outlinewidth": 0,
              "ticks": ""
             }
            },
            "type": "parcoords"
           }
          ],
          "pie": [
           {
            "automargin": true,
            "type": "pie"
           }
          ],
          "scatter": [
           {
            "fillpattern": {
             "fillmode": "overlay",
             "size": 10,
             "solidity": 0.2
            },
            "type": "scatter"
           }
          ],
          "scatter3d": [
           {
            "line": {
             "colorbar": {
              "outlinewidth": 0,
              "ticks": ""
             }
            },
            "marker": {
             "colorbar": {
              "outlinewidth": 0,
              "ticks": ""
             }
            },
            "type": "scatter3d"
           }
          ],
          "scattercarpet": [
           {
            "marker": {
             "colorbar": {
              "outlinewidth": 0,
              "ticks": ""
             }
            },
            "type": "scattercarpet"
           }
          ],
          "scattergeo": [
           {
            "marker": {
             "colorbar": {
              "outlinewidth": 0,
              "ticks": ""
             }
            },
            "type": "scattergeo"
           }
          ],
          "scattergl": [
           {
            "marker": {
             "colorbar": {
              "outlinewidth": 0,
              "ticks": ""
             }
            },
            "type": "scattergl"
           }
          ],
          "scattermapbox": [
           {
            "marker": {
             "colorbar": {
              "outlinewidth": 0,
              "ticks": ""
             }
            },
            "type": "scattermapbox"
           }
          ],
          "scatterpolar": [
           {
            "marker": {
             "colorbar": {
              "outlinewidth": 0,
              "ticks": ""
             }
            },
            "type": "scatterpolar"
           }
          ],
          "scatterpolargl": [
           {
            "marker": {
             "colorbar": {
              "outlinewidth": 0,
              "ticks": ""
             }
            },
            "type": "scatterpolargl"
           }
          ],
          "scatterternary": [
           {
            "marker": {
             "colorbar": {
              "outlinewidth": 0,
              "ticks": ""
             }
            },
            "type": "scatterternary"
           }
          ],
          "surface": [
           {
            "colorbar": {
             "outlinewidth": 0,
             "ticks": ""
            },
            "colorscale": [
             [
              0,
              "#0d0887"
             ],
             [
              0.1111111111111111,
              "#46039f"
             ],
             [
              0.2222222222222222,
              "#7201a8"
             ],
             [
              0.3333333333333333,
              "#9c179e"
             ],
             [
              0.4444444444444444,
              "#bd3786"
             ],
             [
              0.5555555555555556,
              "#d8576b"
             ],
             [
              0.6666666666666666,
              "#ed7953"
             ],
             [
              0.7777777777777778,
              "#fb9f3a"
             ],
             [
              0.8888888888888888,
              "#fdca26"
             ],
             [
              1,
              "#f0f921"
             ]
            ],
            "type": "surface"
           }
          ],
          "table": [
           {
            "cells": {
             "fill": {
              "color": "#EBF0F8"
             },
             "line": {
              "color": "white"
             }
            },
            "header": {
             "fill": {
              "color": "#C8D4E3"
             },
             "line": {
              "color": "white"
             }
            },
            "type": "table"
           }
          ]
         },
         "layout": {
          "annotationdefaults": {
           "arrowcolor": "#2a3f5f",
           "arrowhead": 0,
           "arrowwidth": 1
          },
          "autotypenumbers": "strict",
          "coloraxis": {
           "colorbar": {
            "outlinewidth": 0,
            "ticks": ""
           }
          },
          "colorscale": {
           "diverging": [
            [
             0,
             "#8e0152"
            ],
            [
             0.1,
             "#c51b7d"
            ],
            [
             0.2,
             "#de77ae"
            ],
            [
             0.3,
             "#f1b6da"
            ],
            [
             0.4,
             "#fde0ef"
            ],
            [
             0.5,
             "#f7f7f7"
            ],
            [
             0.6,
             "#e6f5d0"
            ],
            [
             0.7,
             "#b8e186"
            ],
            [
             0.8,
             "#7fbc41"
            ],
            [
             0.9,
             "#4d9221"
            ],
            [
             1,
             "#276419"
            ]
           ],
           "sequential": [
            [
             0,
             "#0d0887"
            ],
            [
             0.1111111111111111,
             "#46039f"
            ],
            [
             0.2222222222222222,
             "#7201a8"
            ],
            [
             0.3333333333333333,
             "#9c179e"
            ],
            [
             0.4444444444444444,
             "#bd3786"
            ],
            [
             0.5555555555555556,
             "#d8576b"
            ],
            [
             0.6666666666666666,
             "#ed7953"
            ],
            [
             0.7777777777777778,
             "#fb9f3a"
            ],
            [
             0.8888888888888888,
             "#fdca26"
            ],
            [
             1,
             "#f0f921"
            ]
           ],
           "sequentialminus": [
            [
             0,
             "#0d0887"
            ],
            [
             0.1111111111111111,
             "#46039f"
            ],
            [
             0.2222222222222222,
             "#7201a8"
            ],
            [
             0.3333333333333333,
             "#9c179e"
            ],
            [
             0.4444444444444444,
             "#bd3786"
            ],
            [
             0.5555555555555556,
             "#d8576b"
            ],
            [
             0.6666666666666666,
             "#ed7953"
            ],
            [
             0.7777777777777778,
             "#fb9f3a"
            ],
            [
             0.8888888888888888,
             "#fdca26"
            ],
            [
             1,
             "#f0f921"
            ]
           ]
          },
          "colorway": [
           "#636efa",
           "#EF553B",
           "#00cc96",
           "#ab63fa",
           "#FFA15A",
           "#19d3f3",
           "#FF6692",
           "#B6E880",
           "#FF97FF",
           "#FECB52"
          ],
          "font": {
           "color": "#2a3f5f"
          },
          "geo": {
           "bgcolor": "white",
           "lakecolor": "white",
           "landcolor": "#E5ECF6",
           "showlakes": true,
           "showland": true,
           "subunitcolor": "white"
          },
          "hoverlabel": {
           "align": "left"
          },
          "hovermode": "closest",
          "mapbox": {
           "style": "light"
          },
          "paper_bgcolor": "white",
          "plot_bgcolor": "#E5ECF6",
          "polar": {
           "angularaxis": {
            "gridcolor": "white",
            "linecolor": "white",
            "ticks": ""
           },
           "bgcolor": "#E5ECF6",
           "radialaxis": {
            "gridcolor": "white",
            "linecolor": "white",
            "ticks": ""
           }
          },
          "scene": {
           "xaxis": {
            "backgroundcolor": "#E5ECF6",
            "gridcolor": "white",
            "gridwidth": 2,
            "linecolor": "white",
            "showbackground": true,
            "ticks": "",
            "zerolinecolor": "white"
           },
           "yaxis": {
            "backgroundcolor": "#E5ECF6",
            "gridcolor": "white",
            "gridwidth": 2,
            "linecolor": "white",
            "showbackground": true,
            "ticks": "",
            "zerolinecolor": "white"
           },
           "zaxis": {
            "backgroundcolor": "#E5ECF6",
            "gridcolor": "white",
            "gridwidth": 2,
            "linecolor": "white",
            "showbackground": true,
            "ticks": "",
            "zerolinecolor": "white"
           }
          },
          "shapedefaults": {
           "line": {
            "color": "#2a3f5f"
           }
          },
          "ternary": {
           "aaxis": {
            "gridcolor": "white",
            "linecolor": "white",
            "ticks": ""
           },
           "baxis": {
            "gridcolor": "white",
            "linecolor": "white",
            "ticks": ""
           },
           "bgcolor": "#E5ECF6",
           "caxis": {
            "gridcolor": "white",
            "linecolor": "white",
            "ticks": ""
           }
          },
          "title": {
           "x": 0.05
          },
          "xaxis": {
           "automargin": true,
           "gridcolor": "white",
           "linecolor": "white",
           "ticks": "",
           "title": {
            "standoff": 15
           },
           "zerolinecolor": "white",
           "zerolinewidth": 2
          },
          "yaxis": {
           "automargin": true,
           "gridcolor": "white",
           "linecolor": "white",
           "ticks": "",
           "title": {
            "standoff": 15
           },
           "zerolinecolor": "white",
           "zerolinewidth": 2
          }
         }
        },
        "title": {
         "text": "โอกาสของแต่ละตัวเลขในรางวัลที่หนึ่ง"
        }
       }
      }
     },
     "metadata": {},
     "output_type": "display_data"
    }
   ],
   "source": [
    "occurrence = {}\n",
    "\n",
    "for digit in ['first','second','third','fourth','fifth','sixth']:\n",
    "    num = df[f'{digit}_digit'].value_counts()\n",
    "    for id in num.index:\n",
    "        occurrence[id] = occurrence.get(id, 0) + num[id]\n",
    "    \n",
    "occurrence_series = pd.Series(occurrence)\n",
    "occurrence_df = pd.DataFrame({\n",
    "    'Digit': occurrence_series.index.astype(str),\n",
    "    'Count': occurrence_series.values\n",
    "})\n",
    "\n",
    "fig = px.pie(occurrence_df, names='Digit', values='Count', title=\"โอกาสของแต่ละตัวเลขในรางวัลที่หนึ่ง\")\n",
    "fig.show()"
   ]
  },
  {
   "cell_type": "code",
   "execution_count": 22,
   "metadata": {},
   "outputs": [
    {
     "name": "stderr",
     "output_type": "stream",
     "text": [
      "d:\\Study\\Year2_2\\CPE232\\code\\.venv\\Lib\\site-packages\\plotly\\express\\_core.py:2065: FutureWarning:\n",
      "\n",
      "When grouping with a length-1 list-like, you will need to pass a length-1 tuple to get_group in a future version of pandas. Pass `(name,)` instead of `name` to silence this warning.\n",
      "\n"
     ]
    },
    {
     "data": {
      "application/vnd.plotly.v1+json": {
       "config": {
        "plotlyServerURL": "https://plot.ly"
       },
       "data": [
        {
         "alignmentgroup": "True",
         "hovertemplate": "Number=0<br>Digit Position=%{x}<br>Occurrences=%{y}<extra></extra>",
         "legendgroup": "0",
         "marker": {
          "color": "#636efa",
          "pattern": {
           "shape": ""
          }
         },
         "name": "0",
         "offsetgroup": "0",
         "orientation": "v",
         "showlegend": true,
         "textposition": "auto",
         "type": "bar",
         "x": [
          0,
          1,
          2,
          3,
          4,
          5
         ],
         "xaxis": "x",
         "y": [
          0,
          0,
          0,
          0,
          0,
          0
         ],
         "yaxis": "y"
        },
        {
         "alignmentgroup": "True",
         "hovertemplate": "Number=1<br>Digit Position=%{x}<br>Occurrences=%{y}<extra></extra>",
         "legendgroup": "1",
         "marker": {
          "color": "#EF553B",
          "pattern": {
           "shape": ""
          }
         },
         "name": "1",
         "offsetgroup": "1",
         "orientation": "v",
         "showlegend": true,
         "textposition": "auto",
         "type": "bar",
         "x": [
          0,
          1,
          2,
          3,
          4,
          5
         ],
         "xaxis": "x",
         "y": [
          0,
          0,
          0,
          0,
          0,
          0
         ],
         "yaxis": "y"
        },
        {
         "alignmentgroup": "True",
         "hovertemplate": "Number=2<br>Digit Position=%{x}<br>Occurrences=%{y}<extra></extra>",
         "legendgroup": "2",
         "marker": {
          "color": "#00cc96",
          "pattern": {
           "shape": ""
          }
         },
         "name": "2",
         "offsetgroup": "2",
         "orientation": "v",
         "showlegend": true,
         "textposition": "auto",
         "type": "bar",
         "x": [
          0,
          1,
          2,
          3,
          4,
          5
         ],
         "xaxis": "x",
         "y": [
          0,
          0,
          0,
          0,
          0,
          0
         ],
         "yaxis": "y"
        },
        {
         "alignmentgroup": "True",
         "hovertemplate": "Number=3<br>Digit Position=%{x}<br>Occurrences=%{y}<extra></extra>",
         "legendgroup": "3",
         "marker": {
          "color": "#ab63fa",
          "pattern": {
           "shape": ""
          }
         },
         "name": "3",
         "offsetgroup": "3",
         "orientation": "v",
         "showlegend": true,
         "textposition": "auto",
         "type": "bar",
         "x": [
          0,
          1,
          2,
          3,
          4,
          5
         ],
         "xaxis": "x",
         "y": [
          0,
          0,
          0,
          0,
          0,
          0
         ],
         "yaxis": "y"
        },
        {
         "alignmentgroup": "True",
         "hovertemplate": "Number=4<br>Digit Position=%{x}<br>Occurrences=%{y}<extra></extra>",
         "legendgroup": "4",
         "marker": {
          "color": "#FFA15A",
          "pattern": {
           "shape": ""
          }
         },
         "name": "4",
         "offsetgroup": "4",
         "orientation": "v",
         "showlegend": true,
         "textposition": "auto",
         "type": "bar",
         "x": [
          0,
          1,
          2,
          3,
          4,
          5
         ],
         "xaxis": "x",
         "y": [
          0,
          0,
          0,
          0,
          0,
          0
         ],
         "yaxis": "y"
        },
        {
         "alignmentgroup": "True",
         "hovertemplate": "Number=5<br>Digit Position=%{x}<br>Occurrences=%{y}<extra></extra>",
         "legendgroup": "5",
         "marker": {
          "color": "#19d3f3",
          "pattern": {
           "shape": ""
          }
         },
         "name": "5",
         "offsetgroup": "5",
         "orientation": "v",
         "showlegend": true,
         "textposition": "auto",
         "type": "bar",
         "x": [
          0,
          1,
          2,
          3,
          4,
          5
         ],
         "xaxis": "x",
         "y": [
          0,
          0,
          0,
          0,
          0,
          0
         ],
         "yaxis": "y"
        },
        {
         "alignmentgroup": "True",
         "hovertemplate": "Number=6<br>Digit Position=%{x}<br>Occurrences=%{y}<extra></extra>",
         "legendgroup": "6",
         "marker": {
          "color": "#FF6692",
          "pattern": {
           "shape": ""
          }
         },
         "name": "6",
         "offsetgroup": "6",
         "orientation": "v",
         "showlegend": true,
         "textposition": "auto",
         "type": "bar",
         "x": [
          0,
          1,
          2,
          3,
          4,
          5
         ],
         "xaxis": "x",
         "y": [
          0,
          0,
          0,
          0,
          0,
          0
         ],
         "yaxis": "y"
        },
        {
         "alignmentgroup": "True",
         "hovertemplate": "Number=7<br>Digit Position=%{x}<br>Occurrences=%{y}<extra></extra>",
         "legendgroup": "7",
         "marker": {
          "color": "#B6E880",
          "pattern": {
           "shape": ""
          }
         },
         "name": "7",
         "offsetgroup": "7",
         "orientation": "v",
         "showlegend": true,
         "textposition": "auto",
         "type": "bar",
         "x": [
          0,
          1,
          2,
          3,
          4,
          5
         ],
         "xaxis": "x",
         "y": [
          0,
          0,
          0,
          0,
          0,
          0
         ],
         "yaxis": "y"
        },
        {
         "alignmentgroup": "True",
         "hovertemplate": "Number=8<br>Digit Position=%{x}<br>Occurrences=%{y}<extra></extra>",
         "legendgroup": "8",
         "marker": {
          "color": "#FF97FF",
          "pattern": {
           "shape": ""
          }
         },
         "name": "8",
         "offsetgroup": "8",
         "orientation": "v",
         "showlegend": true,
         "textposition": "auto",
         "type": "bar",
         "x": [
          0,
          1,
          2,
          3,
          4,
          5
         ],
         "xaxis": "x",
         "y": [
          0,
          0,
          0,
          0,
          0,
          0
         ],
         "yaxis": "y"
        },
        {
         "alignmentgroup": "True",
         "hovertemplate": "Number=9<br>Digit Position=%{x}<br>Occurrences=%{y}<extra></extra>",
         "legendgroup": "9",
         "marker": {
          "color": "#FECB52",
          "pattern": {
           "shape": ""
          }
         },
         "name": "9",
         "offsetgroup": "9",
         "orientation": "v",
         "showlegend": true,
         "textposition": "auto",
         "type": "bar",
         "x": [
          0,
          1,
          2,
          3,
          4,
          5
         ],
         "xaxis": "x",
         "y": [
          0,
          0,
          0,
          0,
          0,
          0
         ],
         "yaxis": "y"
        },
        {
         "alignmentgroup": "True",
         "hovertemplate": "Number=0<br>Digit Position=%{x}<br>Occurrences=%{y}<extra></extra>",
         "legendgroup": "0",
         "marker": {
          "color": "#636efa",
          "pattern": {
           "shape": ""
          }
         },
         "name": "0",
         "offsetgroup": "0",
         "orientation": "v",
         "showlegend": false,
         "textposition": "auto",
         "type": "bar",
         "x": [
          0,
          1,
          2,
          3,
          4,
          5
         ],
         "xaxis": "x",
         "y": [
          46,
          48,
          57,
          48,
          47,
          49
         ],
         "yaxis": "y"
        },
        {
         "alignmentgroup": "True",
         "hovertemplate": "Number=1<br>Digit Position=%{x}<br>Occurrences=%{y}<extra></extra>",
         "legendgroup": "1",
         "marker": {
          "color": "#EF553B",
          "pattern": {
           "shape": ""
          }
         },
         "name": "1",
         "offsetgroup": "1",
         "orientation": "v",
         "showlegend": false,
         "textposition": "auto",
         "type": "bar",
         "x": [
          0,
          1,
          2,
          3,
          4,
          5
         ],
         "xaxis": "x",
         "y": [
          55,
          57,
          53,
          39,
          54,
          50
         ],
         "yaxis": "y"
        },
        {
         "alignmentgroup": "True",
         "hovertemplate": "Number=2<br>Digit Position=%{x}<br>Occurrences=%{y}<extra></extra>",
         "legendgroup": "2",
         "marker": {
          "color": "#00cc96",
          "pattern": {
           "shape": ""
          }
         },
         "name": "2",
         "offsetgroup": "2",
         "orientation": "v",
         "showlegend": false,
         "textposition": "auto",
         "type": "bar",
         "x": [
          0,
          1,
          2,
          3,
          4,
          5
         ],
         "xaxis": "x",
         "y": [
          46,
          40,
          49,
          36,
          40,
          51
         ],
         "yaxis": "y"
        },
        {
         "alignmentgroup": "True",
         "hovertemplate": "Number=3<br>Digit Position=%{x}<br>Occurrences=%{y}<extra></extra>",
         "legendgroup": "3",
         "marker": {
          "color": "#ab63fa",
          "pattern": {
           "shape": ""
          }
         },
         "name": "3",
         "offsetgroup": "3",
         "orientation": "v",
         "showlegend": false,
         "textposition": "auto",
         "type": "bar",
         "x": [
          0,
          1,
          2,
          3,
          4,
          5
         ],
         "xaxis": "x",
         "y": [
          44,
          53,
          40,
          56,
          39,
          48
         ],
         "yaxis": "y"
        },
        {
         "alignmentgroup": "True",
         "hovertemplate": "Number=4<br>Digit Position=%{x}<br>Occurrences=%{y}<extra></extra>",
         "legendgroup": "4",
         "marker": {
          "color": "#FFA15A",
          "pattern": {
           "shape": ""
          }
         },
         "name": "4",
         "offsetgroup": "4",
         "orientation": "v",
         "showlegend": false,
         "textposition": "auto",
         "type": "bar",
         "x": [
          0,
          1,
          2,
          3,
          4,
          5
         ],
         "xaxis": "x",
         "y": [
          48,
          43,
          46,
          59,
          51,
          63
         ],
         "yaxis": "y"
        },
        {
         "alignmentgroup": "True",
         "hovertemplate": "Number=5<br>Digit Position=%{x}<br>Occurrences=%{y}<extra></extra>",
         "legendgroup": "5",
         "marker": {
          "color": "#19d3f3",
          "pattern": {
           "shape": ""
          }
         },
         "name": "5",
         "offsetgroup": "5",
         "orientation": "v",
         "showlegend": false,
         "textposition": "auto",
         "type": "bar",
         "x": [
          0,
          1,
          2,
          3,
          4,
          5
         ],
         "xaxis": "x",
         "y": [
          56,
          48,
          49,
          51,
          53,
          43
         ],
         "yaxis": "y"
        },
        {
         "alignmentgroup": "True",
         "hovertemplate": "Number=6<br>Digit Position=%{x}<br>Occurrences=%{y}<extra></extra>",
         "legendgroup": "6",
         "marker": {
          "color": "#FF6692",
          "pattern": {
           "shape": ""
          }
         },
         "name": "6",
         "offsetgroup": "6",
         "orientation": "v",
         "showlegend": false,
         "textposition": "auto",
         "type": "bar",
         "x": [
          0,
          1,
          2,
          3,
          4,
          5
         ],
         "xaxis": "x",
         "y": [
          53,
          50,
          54,
          43,
          50,
          47
         ],
         "yaxis": "y"
        },
        {
         "alignmentgroup": "True",
         "hovertemplate": "Number=7<br>Digit Position=%{x}<br>Occurrences=%{y}<extra></extra>",
         "legendgroup": "7",
         "marker": {
          "color": "#B6E880",
          "pattern": {
           "shape": ""
          }
         },
         "name": "7",
         "offsetgroup": "7",
         "orientation": "v",
         "showlegend": false,
         "textposition": "auto",
         "type": "bar",
         "x": [
          0,
          1,
          2,
          3,
          4,
          5
         ],
         "xaxis": "x",
         "y": [
          36,
          48,
          42,
          48,
          54,
          65
         ],
         "yaxis": "y"
        },
        {
         "alignmentgroup": "True",
         "hovertemplate": "Number=8<br>Digit Position=%{x}<br>Occurrences=%{y}<extra></extra>",
         "legendgroup": "8",
         "marker": {
          "color": "#FF97FF",
          "pattern": {
           "shape": ""
          }
         },
         "name": "8",
         "offsetgroup": "8",
         "orientation": "v",
         "showlegend": false,
         "textposition": "auto",
         "type": "bar",
         "x": [
          0,
          1,
          2,
          3,
          4,
          5
         ],
         "xaxis": "x",
         "y": [
          45,
          48,
          44,
          50,
          48,
          41
         ],
         "yaxis": "y"
        },
        {
         "alignmentgroup": "True",
         "hovertemplate": "Number=9<br>Digit Position=%{x}<br>Occurrences=%{y}<extra></extra>",
         "legendgroup": "9",
         "marker": {
          "color": "#FECB52",
          "pattern": {
           "shape": ""
          }
         },
         "name": "9",
         "offsetgroup": "9",
         "orientation": "v",
         "showlegend": false,
         "textposition": "auto",
         "type": "bar",
         "x": [
          0,
          1,
          2,
          3,
          4,
          5
         ],
         "xaxis": "x",
         "y": [
          51,
          45,
          46,
          50,
          44,
          23
         ],
         "yaxis": "y"
        }
       ],
       "layout": {
        "barmode": "group",
        "legend": {
         "title": {
          "text": "Number"
         },
         "tracegroupgap": 0
        },
        "template": {
         "data": {
          "bar": [
           {
            "error_x": {
             "color": "#2a3f5f"
            },
            "error_y": {
             "color": "#2a3f5f"
            },
            "marker": {
             "line": {
              "color": "#E5ECF6",
              "width": 0.5
             },
             "pattern": {
              "fillmode": "overlay",
              "size": 10,
              "solidity": 0.2
             }
            },
            "type": "bar"
           }
          ],
          "barpolar": [
           {
            "marker": {
             "line": {
              "color": "#E5ECF6",
              "width": 0.5
             },
             "pattern": {
              "fillmode": "overlay",
              "size": 10,
              "solidity": 0.2
             }
            },
            "type": "barpolar"
           }
          ],
          "carpet": [
           {
            "aaxis": {
             "endlinecolor": "#2a3f5f",
             "gridcolor": "white",
             "linecolor": "white",
             "minorgridcolor": "white",
             "startlinecolor": "#2a3f5f"
            },
            "baxis": {
             "endlinecolor": "#2a3f5f",
             "gridcolor": "white",
             "linecolor": "white",
             "minorgridcolor": "white",
             "startlinecolor": "#2a3f5f"
            },
            "type": "carpet"
           }
          ],
          "choropleth": [
           {
            "colorbar": {
             "outlinewidth": 0,
             "ticks": ""
            },
            "type": "choropleth"
           }
          ],
          "contour": [
           {
            "colorbar": {
             "outlinewidth": 0,
             "ticks": ""
            },
            "colorscale": [
             [
              0,
              "#0d0887"
             ],
             [
              0.1111111111111111,
              "#46039f"
             ],
             [
              0.2222222222222222,
              "#7201a8"
             ],
             [
              0.3333333333333333,
              "#9c179e"
             ],
             [
              0.4444444444444444,
              "#bd3786"
             ],
             [
              0.5555555555555556,
              "#d8576b"
             ],
             [
              0.6666666666666666,
              "#ed7953"
             ],
             [
              0.7777777777777778,
              "#fb9f3a"
             ],
             [
              0.8888888888888888,
              "#fdca26"
             ],
             [
              1,
              "#f0f921"
             ]
            ],
            "type": "contour"
           }
          ],
          "contourcarpet": [
           {
            "colorbar": {
             "outlinewidth": 0,
             "ticks": ""
            },
            "type": "contourcarpet"
           }
          ],
          "heatmap": [
           {
            "colorbar": {
             "outlinewidth": 0,
             "ticks": ""
            },
            "colorscale": [
             [
              0,
              "#0d0887"
             ],
             [
              0.1111111111111111,
              "#46039f"
             ],
             [
              0.2222222222222222,
              "#7201a8"
             ],
             [
              0.3333333333333333,
              "#9c179e"
             ],
             [
              0.4444444444444444,
              "#bd3786"
             ],
             [
              0.5555555555555556,
              "#d8576b"
             ],
             [
              0.6666666666666666,
              "#ed7953"
             ],
             [
              0.7777777777777778,
              "#fb9f3a"
             ],
             [
              0.8888888888888888,
              "#fdca26"
             ],
             [
              1,
              "#f0f921"
             ]
            ],
            "type": "heatmap"
           }
          ],
          "heatmapgl": [
           {
            "colorbar": {
             "outlinewidth": 0,
             "ticks": ""
            },
            "colorscale": [
             [
              0,
              "#0d0887"
             ],
             [
              0.1111111111111111,
              "#46039f"
             ],
             [
              0.2222222222222222,
              "#7201a8"
             ],
             [
              0.3333333333333333,
              "#9c179e"
             ],
             [
              0.4444444444444444,
              "#bd3786"
             ],
             [
              0.5555555555555556,
              "#d8576b"
             ],
             [
              0.6666666666666666,
              "#ed7953"
             ],
             [
              0.7777777777777778,
              "#fb9f3a"
             ],
             [
              0.8888888888888888,
              "#fdca26"
             ],
             [
              1,
              "#f0f921"
             ]
            ],
            "type": "heatmapgl"
           }
          ],
          "histogram": [
           {
            "marker": {
             "pattern": {
              "fillmode": "overlay",
              "size": 10,
              "solidity": 0.2
             }
            },
            "type": "histogram"
           }
          ],
          "histogram2d": [
           {
            "colorbar": {
             "outlinewidth": 0,
             "ticks": ""
            },
            "colorscale": [
             [
              0,
              "#0d0887"
             ],
             [
              0.1111111111111111,
              "#46039f"
             ],
             [
              0.2222222222222222,
              "#7201a8"
             ],
             [
              0.3333333333333333,
              "#9c179e"
             ],
             [
              0.4444444444444444,
              "#bd3786"
             ],
             [
              0.5555555555555556,
              "#d8576b"
             ],
             [
              0.6666666666666666,
              "#ed7953"
             ],
             [
              0.7777777777777778,
              "#fb9f3a"
             ],
             [
              0.8888888888888888,
              "#fdca26"
             ],
             [
              1,
              "#f0f921"
             ]
            ],
            "type": "histogram2d"
           }
          ],
          "histogram2dcontour": [
           {
            "colorbar": {
             "outlinewidth": 0,
             "ticks": ""
            },
            "colorscale": [
             [
              0,
              "#0d0887"
             ],
             [
              0.1111111111111111,
              "#46039f"
             ],
             [
              0.2222222222222222,
              "#7201a8"
             ],
             [
              0.3333333333333333,
              "#9c179e"
             ],
             [
              0.4444444444444444,
              "#bd3786"
             ],
             [
              0.5555555555555556,
              "#d8576b"
             ],
             [
              0.6666666666666666,
              "#ed7953"
             ],
             [
              0.7777777777777778,
              "#fb9f3a"
             ],
             [
              0.8888888888888888,
              "#fdca26"
             ],
             [
              1,
              "#f0f921"
             ]
            ],
            "type": "histogram2dcontour"
           }
          ],
          "mesh3d": [
           {
            "colorbar": {
             "outlinewidth": 0,
             "ticks": ""
            },
            "type": "mesh3d"
           }
          ],
          "parcoords": [
           {
            "line": {
             "colorbar": {
              "outlinewidth": 0,
              "ticks": ""
             }
            },
            "type": "parcoords"
           }
          ],
          "pie": [
           {
            "automargin": true,
            "type": "pie"
           }
          ],
          "scatter": [
           {
            "fillpattern": {
             "fillmode": "overlay",
             "size": 10,
             "solidity": 0.2
            },
            "type": "scatter"
           }
          ],
          "scatter3d": [
           {
            "line": {
             "colorbar": {
              "outlinewidth": 0,
              "ticks": ""
             }
            },
            "marker": {
             "colorbar": {
              "outlinewidth": 0,
              "ticks": ""
             }
            },
            "type": "scatter3d"
           }
          ],
          "scattercarpet": [
           {
            "marker": {
             "colorbar": {
              "outlinewidth": 0,
              "ticks": ""
             }
            },
            "type": "scattercarpet"
           }
          ],
          "scattergeo": [
           {
            "marker": {
             "colorbar": {
              "outlinewidth": 0,
              "ticks": ""
             }
            },
            "type": "scattergeo"
           }
          ],
          "scattergl": [
           {
            "marker": {
             "colorbar": {
              "outlinewidth": 0,
              "ticks": ""
             }
            },
            "type": "scattergl"
           }
          ],
          "scattermapbox": [
           {
            "marker": {
             "colorbar": {
              "outlinewidth": 0,
              "ticks": ""
             }
            },
            "type": "scattermapbox"
           }
          ],
          "scatterpolar": [
           {
            "marker": {
             "colorbar": {
              "outlinewidth": 0,
              "ticks": ""
             }
            },
            "type": "scatterpolar"
           }
          ],
          "scatterpolargl": [
           {
            "marker": {
             "colorbar": {
              "outlinewidth": 0,
              "ticks": ""
             }
            },
            "type": "scatterpolargl"
           }
          ],
          "scatterternary": [
           {
            "marker": {
             "colorbar": {
              "outlinewidth": 0,
              "ticks": ""
             }
            },
            "type": "scatterternary"
           }
          ],
          "surface": [
           {
            "colorbar": {
             "outlinewidth": 0,
             "ticks": ""
            },
            "colorscale": [
             [
              0,
              "#0d0887"
             ],
             [
              0.1111111111111111,
              "#46039f"
             ],
             [
              0.2222222222222222,
              "#7201a8"
             ],
             [
              0.3333333333333333,
              "#9c179e"
             ],
             [
              0.4444444444444444,
              "#bd3786"
             ],
             [
              0.5555555555555556,
              "#d8576b"
             ],
             [
              0.6666666666666666,
              "#ed7953"
             ],
             [
              0.7777777777777778,
              "#fb9f3a"
             ],
             [
              0.8888888888888888,
              "#fdca26"
             ],
             [
              1,
              "#f0f921"
             ]
            ],
            "type": "surface"
           }
          ],
          "table": [
           {
            "cells": {
             "fill": {
              "color": "#EBF0F8"
             },
             "line": {
              "color": "white"
             }
            },
            "header": {
             "fill": {
              "color": "#C8D4E3"
             },
             "line": {
              "color": "white"
             }
            },
            "type": "table"
           }
          ]
         },
         "layout": {
          "annotationdefaults": {
           "arrowcolor": "#2a3f5f",
           "arrowhead": 0,
           "arrowwidth": 1
          },
          "autotypenumbers": "strict",
          "coloraxis": {
           "colorbar": {
            "outlinewidth": 0,
            "ticks": ""
           }
          },
          "colorscale": {
           "diverging": [
            [
             0,
             "#8e0152"
            ],
            [
             0.1,
             "#c51b7d"
            ],
            [
             0.2,
             "#de77ae"
            ],
            [
             0.3,
             "#f1b6da"
            ],
            [
             0.4,
             "#fde0ef"
            ],
            [
             0.5,
             "#f7f7f7"
            ],
            [
             0.6,
             "#e6f5d0"
            ],
            [
             0.7,
             "#b8e186"
            ],
            [
             0.8,
             "#7fbc41"
            ],
            [
             0.9,
             "#4d9221"
            ],
            [
             1,
             "#276419"
            ]
           ],
           "sequential": [
            [
             0,
             "#0d0887"
            ],
            [
             0.1111111111111111,
             "#46039f"
            ],
            [
             0.2222222222222222,
             "#7201a8"
            ],
            [
             0.3333333333333333,
             "#9c179e"
            ],
            [
             0.4444444444444444,
             "#bd3786"
            ],
            [
             0.5555555555555556,
             "#d8576b"
            ],
            [
             0.6666666666666666,
             "#ed7953"
            ],
            [
             0.7777777777777778,
             "#fb9f3a"
            ],
            [
             0.8888888888888888,
             "#fdca26"
            ],
            [
             1,
             "#f0f921"
            ]
           ],
           "sequentialminus": [
            [
             0,
             "#0d0887"
            ],
            [
             0.1111111111111111,
             "#46039f"
            ],
            [
             0.2222222222222222,
             "#7201a8"
            ],
            [
             0.3333333333333333,
             "#9c179e"
            ],
            [
             0.4444444444444444,
             "#bd3786"
            ],
            [
             0.5555555555555556,
             "#d8576b"
            ],
            [
             0.6666666666666666,
             "#ed7953"
            ],
            [
             0.7777777777777778,
             "#fb9f3a"
            ],
            [
             0.8888888888888888,
             "#fdca26"
            ],
            [
             1,
             "#f0f921"
            ]
           ]
          },
          "colorway": [
           "#636efa",
           "#EF553B",
           "#00cc96",
           "#ab63fa",
           "#FFA15A",
           "#19d3f3",
           "#FF6692",
           "#B6E880",
           "#FF97FF",
           "#FECB52"
          ],
          "font": {
           "color": "#2a3f5f"
          },
          "geo": {
           "bgcolor": "white",
           "lakecolor": "white",
           "landcolor": "#E5ECF6",
           "showlakes": true,
           "showland": true,
           "subunitcolor": "white"
          },
          "hoverlabel": {
           "align": "left"
          },
          "hovermode": "closest",
          "mapbox": {
           "style": "light"
          },
          "paper_bgcolor": "white",
          "plot_bgcolor": "#E5ECF6",
          "polar": {
           "angularaxis": {
            "gridcolor": "white",
            "linecolor": "white",
            "ticks": ""
           },
           "bgcolor": "#E5ECF6",
           "radialaxis": {
            "gridcolor": "white",
            "linecolor": "white",
            "ticks": ""
           }
          },
          "scene": {
           "xaxis": {
            "backgroundcolor": "#E5ECF6",
            "gridcolor": "white",
            "gridwidth": 2,
            "linecolor": "white",
            "showbackground": true,
            "ticks": "",
            "zerolinecolor": "white"
           },
           "yaxis": {
            "backgroundcolor": "#E5ECF6",
            "gridcolor": "white",
            "gridwidth": 2,
            "linecolor": "white",
            "showbackground": true,
            "ticks": "",
            "zerolinecolor": "white"
           },
           "zaxis": {
            "backgroundcolor": "#E5ECF6",
            "gridcolor": "white",
            "gridwidth": 2,
            "linecolor": "white",
            "showbackground": true,
            "ticks": "",
            "zerolinecolor": "white"
           }
          },
          "shapedefaults": {
           "line": {
            "color": "#2a3f5f"
           }
          },
          "ternary": {
           "aaxis": {
            "gridcolor": "white",
            "linecolor": "white",
            "ticks": ""
           },
           "baxis": {
            "gridcolor": "white",
            "linecolor": "white",
            "ticks": ""
           },
           "bgcolor": "#E5ECF6",
           "caxis": {
            "gridcolor": "white",
            "linecolor": "white",
            "ticks": ""
           }
          },
          "title": {
           "x": 0.05
          },
          "xaxis": {
           "automargin": true,
           "gridcolor": "white",
           "linecolor": "white",
           "ticks": "",
           "title": {
            "standoff": 15
           },
           "zerolinecolor": "white",
           "zerolinewidth": 2
          },
          "yaxis": {
           "automargin": true,
           "gridcolor": "white",
           "linecolor": "white",
           "ticks": "",
           "title": {
            "standoff": 15
           },
           "zerolinecolor": "white",
           "zerolinewidth": 2
          }
         }
        },
        "title": {
         "text": "จำนวนการถูกเลือกของแต่ละตัวเลขในแต่ละหลักจากรางวัลที่หนึ่ง (หลักเริ่มจากซ้ายไปขวา)"
        },
        "xaxis": {
         "anchor": "y",
         "domain": [
          0,
          1
         ],
         "ticktext": [
          "หลัก 1",
          "หลัก 2",
          "หลัก 3",
          "หลัก 4",
          "หลัก 5",
          "หลัก 6"
         ],
         "tickvals": [
          0,
          1,
          2,
          3,
          4,
          5
         ],
         "title": {
          "text": "Digit Position"
         }
        },
        "yaxis": {
         "anchor": "x",
         "domain": [
          0,
          1
         ],
         "title": {
          "text": "Occurrences"
         }
        }
       }
      }
     },
     "metadata": {},
     "output_type": "display_data"
    }
   ],
   "source": [
    "occurrences = {i: {str(j): 0 for j in range(10)} for i in range(6)}\n",
    "\n",
    "for i,digit in enumerate(['first','second','third','fourth','fifth','sixth']):\n",
    "    for number in range(10):\n",
    "        occurrences[i][number] = df[f'{digit}_digit'].value_counts()[number]\n",
    "\n",
    "df_occurrences = pd.DataFrame(occurrences)\n",
    "df_occurrences = df_occurrences.melt(var_name='Position', value_name='Occurrences', ignore_index=False) # Reshape the DataFrame to have columns for digits and digit positions\n",
    "df_occurrences.reset_index(inplace=True) # Reset the index to make 'Position' a column\n",
    "\n",
    "fig = px.bar(df_occurrences, x='Position', y='Occurrences', color='index', title='จำนวนการถูกเลือกของแต่ละตัวเลขในแต่ละหลักจากรางวัลที่หนึ่ง (หลักเริ่มจากซ้ายไปขวา)',\n",
    "             labels={'index': 'Number', 'Position': 'Digit Position', 'Occurrences': 'Occurrences'}, barmode='group')\n",
    "fig.update_layout(xaxis=dict(tickvals=list(range(6)), ticktext=[f'หลัก {i+1}' for i in range(6)]))\n",
    "fig.show()"
   ]
  },
  {
   "cell_type": "code",
   "execution_count": 23,
   "metadata": {},
   "outputs": [
    {
     "name": "stderr",
     "output_type": "stream",
     "text": [
      "d:\\Study\\Year2_2\\CPE232\\code\\.venv\\Lib\\site-packages\\plotly\\express\\_core.py:2065: FutureWarning:\n",
      "\n",
      "When grouping with a length-1 list-like, you will need to pass a length-1 tuple to get_group in a future version of pandas. Pass `(name,)` instead of `name` to silence this warning.\n",
      "\n"
     ]
    },
    {
     "data": {
      "application/vnd.plotly.v1+json": {
       "config": {
        "plotlyServerURL": "https://plot.ly"
       },
       "data": [
        {
         "alignmentgroup": "True",
         "hovertemplate": "Number=0<br>Digit Position=%{x}<br>Occurrences=%{y}<extra></extra>",
         "legendgroup": "0",
         "marker": {
          "color": "#636efa",
          "pattern": {
           "shape": ""
          }
         },
         "name": "0",
         "offsetgroup": "0",
         "orientation": "v",
         "showlegend": true,
         "textposition": "auto",
         "type": "bar",
         "x": [
          0,
          1,
          2,
          3,
          4,
          5
         ],
         "xaxis": "x",
         "y": [
          214,
          163,
          148,
          74,
          203,
          192
         ],
         "yaxis": "y"
        },
        {
         "alignmentgroup": "True",
         "hovertemplate": "Number=1<br>Digit Position=%{x}<br>Occurrences=%{y}<extra></extra>",
         "legendgroup": "1",
         "marker": {
          "color": "#EF553B",
          "pattern": {
           "shape": ""
          }
         },
         "name": "1",
         "offsetgroup": "1",
         "orientation": "v",
         "showlegend": true,
         "textposition": "auto",
         "type": "bar",
         "x": [
          0,
          1,
          2,
          3,
          4,
          5
         ],
         "xaxis": "x",
         "y": [
          176,
          143,
          130,
          117,
          190,
          199
         ],
         "yaxis": "y"
        },
        {
         "alignmentgroup": "True",
         "hovertemplate": "Number=2<br>Digit Position=%{x}<br>Occurrences=%{y}<extra></extra>",
         "legendgroup": "2",
         "marker": {
          "color": "#00cc96",
          "pattern": {
           "shape": ""
          }
         },
         "name": "2",
         "offsetgroup": "2",
         "orientation": "v",
         "showlegend": true,
         "textposition": "auto",
         "type": "bar",
         "x": [
          0,
          1,
          2,
          3,
          4,
          5
         ],
         "xaxis": "x",
         "y": [
          135,
          127,
          137,
          153,
          186,
          197
         ],
         "yaxis": "y"
        },
        {
         "alignmentgroup": "True",
         "hovertemplate": "Number=3<br>Digit Position=%{x}<br>Occurrences=%{y}<extra></extra>",
         "legendgroup": "3",
         "marker": {
          "color": "#ab63fa",
          "pattern": {
           "shape": ""
          }
         },
         "name": "3",
         "offsetgroup": "3",
         "orientation": "v",
         "showlegend": true,
         "textposition": "auto",
         "type": "bar",
         "x": [
          0,
          1,
          2,
          3,
          4,
          5
         ],
         "xaxis": "x",
         "y": [
          104,
          143,
          129,
          197,
          176,
          187
         ],
         "yaxis": "y"
        },
        {
         "alignmentgroup": "True",
         "hovertemplate": "Number=4<br>Digit Position=%{x}<br>Occurrences=%{y}<extra></extra>",
         "legendgroup": "4",
         "marker": {
          "color": "#FFA15A",
          "pattern": {
           "shape": ""
          }
         },
         "name": "4",
         "offsetgroup": "4",
         "orientation": "v",
         "showlegend": true,
         "textposition": "auto",
         "type": "bar",
         "x": [
          0,
          1,
          2,
          3,
          4,
          5
         ],
         "xaxis": "x",
         "y": [
          99,
          132,
          161,
          195,
          188,
          209
         ],
         "yaxis": "y"
        },
        {
         "alignmentgroup": "True",
         "hovertemplate": "Number=5<br>Digit Position=%{x}<br>Occurrences=%{y}<extra></extra>",
         "legendgroup": "5",
         "marker": {
          "color": "#19d3f3",
          "pattern": {
           "shape": ""
          }
         },
         "name": "5",
         "offsetgroup": "5",
         "orientation": "v",
         "showlegend": true,
         "textposition": "auto",
         "type": "bar",
         "x": [
          0,
          1,
          2,
          3,
          4,
          5
         ],
         "xaxis": "x",
         "y": [
          105,
          143,
          161,
          182,
          203,
          199
         ],
         "yaxis": "y"
        },
        {
         "alignmentgroup": "True",
         "hovertemplate": "Number=6<br>Digit Position=%{x}<br>Occurrences=%{y}<extra></extra>",
         "legendgroup": "6",
         "marker": {
          "color": "#FF6692",
          "pattern": {
           "shape": ""
          }
         },
         "name": "6",
         "offsetgroup": "6",
         "orientation": "v",
         "showlegend": true,
         "textposition": "auto",
         "type": "bar",
         "x": [
          0,
          1,
          2,
          3,
          4,
          5
         ],
         "xaxis": "x",
         "y": [
          113,
          148,
          170,
          168,
          204,
          202
         ],
         "yaxis": "y"
        },
        {
         "alignmentgroup": "True",
         "hovertemplate": "Number=7<br>Digit Position=%{x}<br>Occurrences=%{y}<extra></extra>",
         "legendgroup": "7",
         "marker": {
          "color": "#B6E880",
          "pattern": {
           "shape": ""
          }
         },
         "name": "7",
         "offsetgroup": "7",
         "orientation": "v",
         "showlegend": true,
         "textposition": "auto",
         "type": "bar",
         "x": [
          0,
          1,
          2,
          3,
          4,
          5
         ],
         "xaxis": "x",
         "y": [
          123,
          140,
          140,
          154,
          191,
          195
         ],
         "yaxis": "y"
        },
        {
         "alignmentgroup": "True",
         "hovertemplate": "Number=8<br>Digit Position=%{x}<br>Occurrences=%{y}<extra></extra>",
         "legendgroup": "8",
         "marker": {
          "color": "#FF97FF",
          "pattern": {
           "shape": ""
          }
         },
         "name": "8",
         "offsetgroup": "8",
         "orientation": "v",
         "showlegend": true,
         "textposition": "auto",
         "type": "bar",
         "x": [
          0,
          1,
          2,
          3,
          4,
          5
         ],
         "xaxis": "x",
         "y": [
          148,
          156,
          124,
          125,
          189,
          175
         ],
         "yaxis": "y"
        },
        {
         "alignmentgroup": "True",
         "hovertemplate": "Number=9<br>Digit Position=%{x}<br>Occurrences=%{y}<extra></extra>",
         "legendgroup": "9",
         "marker": {
          "color": "#FECB52",
          "pattern": {
           "shape": ""
          }
         },
         "name": "9",
         "offsetgroup": "9",
         "orientation": "v",
         "showlegend": true,
         "textposition": "auto",
         "type": "bar",
         "x": [
          0,
          1,
          2,
          3,
          4,
          5
         ],
         "xaxis": "x",
         "y": [
          223,
          145,
          140,
          75,
          190,
          165
         ],
         "yaxis": "y"
        }
       ],
       "layout": {
        "barmode": "group",
        "legend": {
         "title": {
          "text": "Number"
         },
         "tracegroupgap": 0
        },
        "template": {
         "data": {
          "bar": [
           {
            "error_x": {
             "color": "#2a3f5f"
            },
            "error_y": {
             "color": "#2a3f5f"
            },
            "marker": {
             "line": {
              "color": "#E5ECF6",
              "width": 0.5
             },
             "pattern": {
              "fillmode": "overlay",
              "size": 10,
              "solidity": 0.2
             }
            },
            "type": "bar"
           }
          ],
          "barpolar": [
           {
            "marker": {
             "line": {
              "color": "#E5ECF6",
              "width": 0.5
             },
             "pattern": {
              "fillmode": "overlay",
              "size": 10,
              "solidity": 0.2
             }
            },
            "type": "barpolar"
           }
          ],
          "carpet": [
           {
            "aaxis": {
             "endlinecolor": "#2a3f5f",
             "gridcolor": "white",
             "linecolor": "white",
             "minorgridcolor": "white",
             "startlinecolor": "#2a3f5f"
            },
            "baxis": {
             "endlinecolor": "#2a3f5f",
             "gridcolor": "white",
             "linecolor": "white",
             "minorgridcolor": "white",
             "startlinecolor": "#2a3f5f"
            },
            "type": "carpet"
           }
          ],
          "choropleth": [
           {
            "colorbar": {
             "outlinewidth": 0,
             "ticks": ""
            },
            "type": "choropleth"
           }
          ],
          "contour": [
           {
            "colorbar": {
             "outlinewidth": 0,
             "ticks": ""
            },
            "colorscale": [
             [
              0,
              "#0d0887"
             ],
             [
              0.1111111111111111,
              "#46039f"
             ],
             [
              0.2222222222222222,
              "#7201a8"
             ],
             [
              0.3333333333333333,
              "#9c179e"
             ],
             [
              0.4444444444444444,
              "#bd3786"
             ],
             [
              0.5555555555555556,
              "#d8576b"
             ],
             [
              0.6666666666666666,
              "#ed7953"
             ],
             [
              0.7777777777777778,
              "#fb9f3a"
             ],
             [
              0.8888888888888888,
              "#fdca26"
             ],
             [
              1,
              "#f0f921"
             ]
            ],
            "type": "contour"
           }
          ],
          "contourcarpet": [
           {
            "colorbar": {
             "outlinewidth": 0,
             "ticks": ""
            },
            "type": "contourcarpet"
           }
          ],
          "heatmap": [
           {
            "colorbar": {
             "outlinewidth": 0,
             "ticks": ""
            },
            "colorscale": [
             [
              0,
              "#0d0887"
             ],
             [
              0.1111111111111111,
              "#46039f"
             ],
             [
              0.2222222222222222,
              "#7201a8"
             ],
             [
              0.3333333333333333,
              "#9c179e"
             ],
             [
              0.4444444444444444,
              "#bd3786"
             ],
             [
              0.5555555555555556,
              "#d8576b"
             ],
             [
              0.6666666666666666,
              "#ed7953"
             ],
             [
              0.7777777777777778,
              "#fb9f3a"
             ],
             [
              0.8888888888888888,
              "#fdca26"
             ],
             [
              1,
              "#f0f921"
             ]
            ],
            "type": "heatmap"
           }
          ],
          "heatmapgl": [
           {
            "colorbar": {
             "outlinewidth": 0,
             "ticks": ""
            },
            "colorscale": [
             [
              0,
              "#0d0887"
             ],
             [
              0.1111111111111111,
              "#46039f"
             ],
             [
              0.2222222222222222,
              "#7201a8"
             ],
             [
              0.3333333333333333,
              "#9c179e"
             ],
             [
              0.4444444444444444,
              "#bd3786"
             ],
             [
              0.5555555555555556,
              "#d8576b"
             ],
             [
              0.6666666666666666,
              "#ed7953"
             ],
             [
              0.7777777777777778,
              "#fb9f3a"
             ],
             [
              0.8888888888888888,
              "#fdca26"
             ],
             [
              1,
              "#f0f921"
             ]
            ],
            "type": "heatmapgl"
           }
          ],
          "histogram": [
           {
            "marker": {
             "pattern": {
              "fillmode": "overlay",
              "size": 10,
              "solidity": 0.2
             }
            },
            "type": "histogram"
           }
          ],
          "histogram2d": [
           {
            "colorbar": {
             "outlinewidth": 0,
             "ticks": ""
            },
            "colorscale": [
             [
              0,
              "#0d0887"
             ],
             [
              0.1111111111111111,
              "#46039f"
             ],
             [
              0.2222222222222222,
              "#7201a8"
             ],
             [
              0.3333333333333333,
              "#9c179e"
             ],
             [
              0.4444444444444444,
              "#bd3786"
             ],
             [
              0.5555555555555556,
              "#d8576b"
             ],
             [
              0.6666666666666666,
              "#ed7953"
             ],
             [
              0.7777777777777778,
              "#fb9f3a"
             ],
             [
              0.8888888888888888,
              "#fdca26"
             ],
             [
              1,
              "#f0f921"
             ]
            ],
            "type": "histogram2d"
           }
          ],
          "histogram2dcontour": [
           {
            "colorbar": {
             "outlinewidth": 0,
             "ticks": ""
            },
            "colorscale": [
             [
              0,
              "#0d0887"
             ],
             [
              0.1111111111111111,
              "#46039f"
             ],
             [
              0.2222222222222222,
              "#7201a8"
             ],
             [
              0.3333333333333333,
              "#9c179e"
             ],
             [
              0.4444444444444444,
              "#bd3786"
             ],
             [
              0.5555555555555556,
              "#d8576b"
             ],
             [
              0.6666666666666666,
              "#ed7953"
             ],
             [
              0.7777777777777778,
              "#fb9f3a"
             ],
             [
              0.8888888888888888,
              "#fdca26"
             ],
             [
              1,
              "#f0f921"
             ]
            ],
            "type": "histogram2dcontour"
           }
          ],
          "mesh3d": [
           {
            "colorbar": {
             "outlinewidth": 0,
             "ticks": ""
            },
            "type": "mesh3d"
           }
          ],
          "parcoords": [
           {
            "line": {
             "colorbar": {
              "outlinewidth": 0,
              "ticks": ""
             }
            },
            "type": "parcoords"
           }
          ],
          "pie": [
           {
            "automargin": true,
            "type": "pie"
           }
          ],
          "scatter": [
           {
            "fillpattern": {
             "fillmode": "overlay",
             "size": 10,
             "solidity": 0.2
            },
            "type": "scatter"
           }
          ],
          "scatter3d": [
           {
            "line": {
             "colorbar": {
              "outlinewidth": 0,
              "ticks": ""
             }
            },
            "marker": {
             "colorbar": {
              "outlinewidth": 0,
              "ticks": ""
             }
            },
            "type": "scatter3d"
           }
          ],
          "scattercarpet": [
           {
            "marker": {
             "colorbar": {
              "outlinewidth": 0,
              "ticks": ""
             }
            },
            "type": "scattercarpet"
           }
          ],
          "scattergeo": [
           {
            "marker": {
             "colorbar": {
              "outlinewidth": 0,
              "ticks": ""
             }
            },
            "type": "scattergeo"
           }
          ],
          "scattergl": [
           {
            "marker": {
             "colorbar": {
              "outlinewidth": 0,
              "ticks": ""
             }
            },
            "type": "scattergl"
           }
          ],
          "scattermapbox": [
           {
            "marker": {
             "colorbar": {
              "outlinewidth": 0,
              "ticks": ""
             }
            },
            "type": "scattermapbox"
           }
          ],
          "scatterpolar": [
           {
            "marker": {
             "colorbar": {
              "outlinewidth": 0,
              "ticks": ""
             }
            },
            "type": "scatterpolar"
           }
          ],
          "scatterpolargl": [
           {
            "marker": {
             "colorbar": {
              "outlinewidth": 0,
              "ticks": ""
             }
            },
            "type": "scatterpolargl"
           }
          ],
          "scatterternary": [
           {
            "marker": {
             "colorbar": {
              "outlinewidth": 0,
              "ticks": ""
             }
            },
            "type": "scatterternary"
           }
          ],
          "surface": [
           {
            "colorbar": {
             "outlinewidth": 0,
             "ticks": ""
            },
            "colorscale": [
             [
              0,
              "#0d0887"
             ],
             [
              0.1111111111111111,
              "#46039f"
             ],
             [
              0.2222222222222222,
              "#7201a8"
             ],
             [
              0.3333333333333333,
              "#9c179e"
             ],
             [
              0.4444444444444444,
              "#bd3786"
             ],
             [
              0.5555555555555556,
              "#d8576b"
             ],
             [
              0.6666666666666666,
              "#ed7953"
             ],
             [
              0.7777777777777778,
              "#fb9f3a"
             ],
             [
              0.8888888888888888,
              "#fdca26"
             ],
             [
              1,
              "#f0f921"
             ]
            ],
            "type": "surface"
           }
          ],
          "table": [
           {
            "cells": {
             "fill": {
              "color": "#EBF0F8"
             },
             "line": {
              "color": "white"
             }
            },
            "header": {
             "fill": {
              "color": "#C8D4E3"
             },
             "line": {
              "color": "white"
             }
            },
            "type": "table"
           }
          ]
         },
         "layout": {
          "annotationdefaults": {
           "arrowcolor": "#2a3f5f",
           "arrowhead": 0,
           "arrowwidth": 1
          },
          "autotypenumbers": "strict",
          "coloraxis": {
           "colorbar": {
            "outlinewidth": 0,
            "ticks": ""
           }
          },
          "colorscale": {
           "diverging": [
            [
             0,
             "#8e0152"
            ],
            [
             0.1,
             "#c51b7d"
            ],
            [
             0.2,
             "#de77ae"
            ],
            [
             0.3,
             "#f1b6da"
            ],
            [
             0.4,
             "#fde0ef"
            ],
            [
             0.5,
             "#f7f7f7"
            ],
            [
             0.6,
             "#e6f5d0"
            ],
            [
             0.7,
             "#b8e186"
            ],
            [
             0.8,
             "#7fbc41"
            ],
            [
             0.9,
             "#4d9221"
            ],
            [
             1,
             "#276419"
            ]
           ],
           "sequential": [
            [
             0,
             "#0d0887"
            ],
            [
             0.1111111111111111,
             "#46039f"
            ],
            [
             0.2222222222222222,
             "#7201a8"
            ],
            [
             0.3333333333333333,
             "#9c179e"
            ],
            [
             0.4444444444444444,
             "#bd3786"
            ],
            [
             0.5555555555555556,
             "#d8576b"
            ],
            [
             0.6666666666666666,
             "#ed7953"
            ],
            [
             0.7777777777777778,
             "#fb9f3a"
            ],
            [
             0.8888888888888888,
             "#fdca26"
            ],
            [
             1,
             "#f0f921"
            ]
           ],
           "sequentialminus": [
            [
             0,
             "#0d0887"
            ],
            [
             0.1111111111111111,
             "#46039f"
            ],
            [
             0.2222222222222222,
             "#7201a8"
            ],
            [
             0.3333333333333333,
             "#9c179e"
            ],
            [
             0.4444444444444444,
             "#bd3786"
            ],
            [
             0.5555555555555556,
             "#d8576b"
            ],
            [
             0.6666666666666666,
             "#ed7953"
            ],
            [
             0.7777777777777778,
             "#fb9f3a"
            ],
            [
             0.8888888888888888,
             "#fdca26"
            ],
            [
             1,
             "#f0f921"
            ]
           ]
          },
          "colorway": [
           "#636efa",
           "#EF553B",
           "#00cc96",
           "#ab63fa",
           "#FFA15A",
           "#19d3f3",
           "#FF6692",
           "#B6E880",
           "#FF97FF",
           "#FECB52"
          ],
          "font": {
           "color": "#2a3f5f"
          },
          "geo": {
           "bgcolor": "white",
           "lakecolor": "white",
           "landcolor": "#E5ECF6",
           "showlakes": true,
           "showland": true,
           "subunitcolor": "white"
          },
          "hoverlabel": {
           "align": "left"
          },
          "hovermode": "closest",
          "mapbox": {
           "style": "light"
          },
          "paper_bgcolor": "white",
          "plot_bgcolor": "#E5ECF6",
          "polar": {
           "angularaxis": {
            "gridcolor": "white",
            "linecolor": "white",
            "ticks": ""
           },
           "bgcolor": "#E5ECF6",
           "radialaxis": {
            "gridcolor": "white",
            "linecolor": "white",
            "ticks": ""
           }
          },
          "scene": {
           "xaxis": {
            "backgroundcolor": "#E5ECF6",
            "gridcolor": "white",
            "gridwidth": 2,
            "linecolor": "white",
            "showbackground": true,
            "ticks": "",
            "zerolinecolor": "white"
           },
           "yaxis": {
            "backgroundcolor": "#E5ECF6",
            "gridcolor": "white",
            "gridwidth": 2,
            "linecolor": "white",
            "showbackground": true,
            "ticks": "",
            "zerolinecolor": "white"
           },
           "zaxis": {
            "backgroundcolor": "#E5ECF6",
            "gridcolor": "white",
            "gridwidth": 2,
            "linecolor": "white",
            "showbackground": true,
            "ticks": "",
            "zerolinecolor": "white"
           }
          },
          "shapedefaults": {
           "line": {
            "color": "#2a3f5f"
           }
          },
          "ternary": {
           "aaxis": {
            "gridcolor": "white",
            "linecolor": "white",
            "ticks": ""
           },
           "baxis": {
            "gridcolor": "white",
            "linecolor": "white",
            "ticks": ""
           },
           "bgcolor": "#E5ECF6",
           "caxis": {
            "gridcolor": "white",
            "linecolor": "white",
            "ticks": ""
           }
          },
          "title": {
           "x": 0.05
          },
          "xaxis": {
           "automargin": true,
           "gridcolor": "white",
           "linecolor": "white",
           "ticks": "",
           "title": {
            "standoff": 15
           },
           "zerolinecolor": "white",
           "zerolinewidth": 2
          },
          "yaxis": {
           "automargin": true,
           "gridcolor": "white",
           "linecolor": "white",
           "ticks": "",
           "title": {
            "standoff": 15
           },
           "zerolinecolor": "white",
           "zerolinewidth": 2
          }
         }
        },
        "title": {
         "text": "จำนวนการถูกเลือกของแต่ละเลข ในทุกตำแหน่ง ในทุกรางวัล"
        },
        "xaxis": {
         "anchor": "y",
         "domain": [
          0,
          1
         ],
         "ticktext": [
          "หลัก 1",
          "หลัก 2",
          "หลัก 3",
          "หลัก 4",
          "หลัก 5",
          "หลัก 6"
         ],
         "tickvals": [
          0,
          1,
          2,
          3,
          4,
          5
         ],
         "title": {
          "text": "Digit Position"
         }
        },
        "yaxis": {
         "anchor": "x",
         "domain": [
          0,
          1
         ],
         "title": {
          "text": "Occurrences"
         }
        }
       }
      }
     },
     "metadata": {},
     "output_type": "display_data"
    }
   ],
   "source": [
    "occurrences = {i: {str(j): 0 for j in range(10)} for i in range(6)}\n",
    "# print(occurrences)\n",
    "\n",
    "for prizes in ['เลขท้าย 2 ตัว']:\n",
    "    # Iterate over each lottery number\n",
    "    for number in df[prizes]:\n",
    "        # Iterate over each digit position\n",
    "        for i, digit in enumerate(number):\n",
    "            # print(i,digit)\n",
    "            occurrences[i+4][digit] += 1\n",
    "            \n",
    "for prizes in ['เลขหน้า 3 ตัว1','เลขหน้า 3 ตัว2']:\n",
    "    # print(prizes)\n",
    "    # Iterate over each lottery number\n",
    "    for number in df[prizes]:\n",
    "        # Iterate over each digit position\n",
    "        for i, digit in enumerate(number):\n",
    "            occurrences[i][digit] += 1\n",
    "\n",
    "for prizes in ['เลขท้าย 3 ตัว1','เลขท้าย 3 ตัว2']:\n",
    "    # print(prizes)\n",
    "    # Iterate over each lottery number\n",
    "    for number in df[prizes]:\n",
    "        # Iterate over each digit position\n",
    "        for i, digit in enumerate(number):\n",
    "            occurrences[i+3][digit] += 1\n",
    "            \n",
    "for number in df['รางวัลที่หนึ่ง']:\n",
    "    # Iterate over each digit position\n",
    "    for i, digit in enumerate(number):\n",
    "        occurrences[i][digit] += 1\n",
    "\n",
    "# Convert the dictionary into a DataFrame\n",
    "df_occurrences = pd.DataFrame(occurrences)\n",
    "df_occurrences = df_occurrences.melt(var_name='Position', value_name='Occurrences', ignore_index=False)\n",
    "df_occurrences.reset_index(inplace=True)\n",
    "df_occurrences['Position'] = pd.to_numeric(df_occurrences['Position'])\n",
    "df_occurrences.sort_values(by=['Position', 'index'], inplace=True)\n",
    "fig = px.bar(df_occurrences, x='Position', y='Occurrences', color='index', title='จำนวนการถูกเลือกของแต่ละเลข ในทุกตำแหน่ง ในทุกรางวัล',\n",
    "             labels={'index': 'Number', 'Position': 'Digit Position', 'Occurrences': 'Occurrences'},barmode='group')\n",
    "fig.update_layout(xaxis=dict(tickvals=list(range(6)), ticktext=[f'หลัก {i+1}' for i in range(6)]))\n",
    "fig.show()"
   ]
  },
  {
   "cell_type": "code",
   "execution_count": 24,
   "metadata": {},
   "outputs": [
    {
     "data": {
      "application/vnd.plotly.v1+json": {
       "config": {
        "plotlyServerURL": "https://plot.ly"
       },
       "data": [
        {
         "colorscale": [
          [
           0,
           "#440154"
          ],
          [
           0.1111111111111111,
           "#482878"
          ],
          [
           0.2222222222222222,
           "#3e4989"
          ],
          [
           0.3333333333333333,
           "#31688e"
          ],
          [
           0.4444444444444444,
           "#26828e"
          ],
          [
           0.5555555555555556,
           "#1f9e89"
          ],
          [
           0.6666666666666666,
           "#35b779"
          ],
          [
           0.7777777777777778,
           "#6ece58"
          ],
          [
           0.8888888888888888,
           "#b5de2b"
          ],
          [
           1,
           "#fde725"
          ]
         ],
         "type": "heatmap",
         "x": [
          0,
          1,
          2,
          3,
          4,
          5,
          6,
          7,
          8,
          9
         ],
         "y": [
          0,
          1,
          2,
          3,
          4,
          5,
          6,
          7,
          8,
          9
         ],
         "z": [
          [
           5,
           2,
           5,
           7,
           1,
           8,
           5,
           5,
           5,
           4
          ],
          [
           5,
           7,
           6,
           5,
           6,
           4,
           2,
           5,
           5,
           2
          ],
          [
           6,
           3,
           4,
           2,
           6,
           6,
           6,
           3,
           7,
           7
          ],
          [
           4,
           3,
           3,
           4,
           5,
           5,
           5,
           3,
           4,
           3
          ],
          [
           2,
           4,
           2,
           6,
           6,
           6,
           2,
           4,
           6,
           5
          ],
          [
           7,
           5,
           8,
           5,
           2,
           6,
           6,
           8,
           5,
           6
          ],
          [
           2,
           4,
           7,
           8,
           7,
           8,
           8,
           7,
           3,
           11
          ],
          [
           2,
           4,
           4,
           2,
           4,
           3,
           4,
           2,
           2,
           9
          ],
          [
           4,
           5,
           4,
           1,
           1,
           7,
           5,
           6,
           4,
           1
          ],
          [
           4,
           8,
           8,
           5,
           5,
           6,
           6,
           5,
           7,
           3
          ]
         ]
        }
       ],
       "layout": {
        "template": {
         "data": {
          "bar": [
           {
            "error_x": {
             "color": "#2a3f5f"
            },
            "error_y": {
             "color": "#2a3f5f"
            },
            "marker": {
             "line": {
              "color": "#E5ECF6",
              "width": 0.5
             },
             "pattern": {
              "fillmode": "overlay",
              "size": 10,
              "solidity": 0.2
             }
            },
            "type": "bar"
           }
          ],
          "barpolar": [
           {
            "marker": {
             "line": {
              "color": "#E5ECF6",
              "width": 0.5
             },
             "pattern": {
              "fillmode": "overlay",
              "size": 10,
              "solidity": 0.2
             }
            },
            "type": "barpolar"
           }
          ],
          "carpet": [
           {
            "aaxis": {
             "endlinecolor": "#2a3f5f",
             "gridcolor": "white",
             "linecolor": "white",
             "minorgridcolor": "white",
             "startlinecolor": "#2a3f5f"
            },
            "baxis": {
             "endlinecolor": "#2a3f5f",
             "gridcolor": "white",
             "linecolor": "white",
             "minorgridcolor": "white",
             "startlinecolor": "#2a3f5f"
            },
            "type": "carpet"
           }
          ],
          "choropleth": [
           {
            "colorbar": {
             "outlinewidth": 0,
             "ticks": ""
            },
            "type": "choropleth"
           }
          ],
          "contour": [
           {
            "colorbar": {
             "outlinewidth": 0,
             "ticks": ""
            },
            "colorscale": [
             [
              0,
              "#0d0887"
             ],
             [
              0.1111111111111111,
              "#46039f"
             ],
             [
              0.2222222222222222,
              "#7201a8"
             ],
             [
              0.3333333333333333,
              "#9c179e"
             ],
             [
              0.4444444444444444,
              "#bd3786"
             ],
             [
              0.5555555555555556,
              "#d8576b"
             ],
             [
              0.6666666666666666,
              "#ed7953"
             ],
             [
              0.7777777777777778,
              "#fb9f3a"
             ],
             [
              0.8888888888888888,
              "#fdca26"
             ],
             [
              1,
              "#f0f921"
             ]
            ],
            "type": "contour"
           }
          ],
          "contourcarpet": [
           {
            "colorbar": {
             "outlinewidth": 0,
             "ticks": ""
            },
            "type": "contourcarpet"
           }
          ],
          "heatmap": [
           {
            "colorbar": {
             "outlinewidth": 0,
             "ticks": ""
            },
            "colorscale": [
             [
              0,
              "#0d0887"
             ],
             [
              0.1111111111111111,
              "#46039f"
             ],
             [
              0.2222222222222222,
              "#7201a8"
             ],
             [
              0.3333333333333333,
              "#9c179e"
             ],
             [
              0.4444444444444444,
              "#bd3786"
             ],
             [
              0.5555555555555556,
              "#d8576b"
             ],
             [
              0.6666666666666666,
              "#ed7953"
             ],
             [
              0.7777777777777778,
              "#fb9f3a"
             ],
             [
              0.8888888888888888,
              "#fdca26"
             ],
             [
              1,
              "#f0f921"
             ]
            ],
            "type": "heatmap"
           }
          ],
          "heatmapgl": [
           {
            "colorbar": {
             "outlinewidth": 0,
             "ticks": ""
            },
            "colorscale": [
             [
              0,
              "#0d0887"
             ],
             [
              0.1111111111111111,
              "#46039f"
             ],
             [
              0.2222222222222222,
              "#7201a8"
             ],
             [
              0.3333333333333333,
              "#9c179e"
             ],
             [
              0.4444444444444444,
              "#bd3786"
             ],
             [
              0.5555555555555556,
              "#d8576b"
             ],
             [
              0.6666666666666666,
              "#ed7953"
             ],
             [
              0.7777777777777778,
              "#fb9f3a"
             ],
             [
              0.8888888888888888,
              "#fdca26"
             ],
             [
              1,
              "#f0f921"
             ]
            ],
            "type": "heatmapgl"
           }
          ],
          "histogram": [
           {
            "marker": {
             "pattern": {
              "fillmode": "overlay",
              "size": 10,
              "solidity": 0.2
             }
            },
            "type": "histogram"
           }
          ],
          "histogram2d": [
           {
            "colorbar": {
             "outlinewidth": 0,
             "ticks": ""
            },
            "colorscale": [
             [
              0,
              "#0d0887"
             ],
             [
              0.1111111111111111,
              "#46039f"
             ],
             [
              0.2222222222222222,
              "#7201a8"
             ],
             [
              0.3333333333333333,
              "#9c179e"
             ],
             [
              0.4444444444444444,
              "#bd3786"
             ],
             [
              0.5555555555555556,
              "#d8576b"
             ],
             [
              0.6666666666666666,
              "#ed7953"
             ],
             [
              0.7777777777777778,
              "#fb9f3a"
             ],
             [
              0.8888888888888888,
              "#fdca26"
             ],
             [
              1,
              "#f0f921"
             ]
            ],
            "type": "histogram2d"
           }
          ],
          "histogram2dcontour": [
           {
            "colorbar": {
             "outlinewidth": 0,
             "ticks": ""
            },
            "colorscale": [
             [
              0,
              "#0d0887"
             ],
             [
              0.1111111111111111,
              "#46039f"
             ],
             [
              0.2222222222222222,
              "#7201a8"
             ],
             [
              0.3333333333333333,
              "#9c179e"
             ],
             [
              0.4444444444444444,
              "#bd3786"
             ],
             [
              0.5555555555555556,
              "#d8576b"
             ],
             [
              0.6666666666666666,
              "#ed7953"
             ],
             [
              0.7777777777777778,
              "#fb9f3a"
             ],
             [
              0.8888888888888888,
              "#fdca26"
             ],
             [
              1,
              "#f0f921"
             ]
            ],
            "type": "histogram2dcontour"
           }
          ],
          "mesh3d": [
           {
            "colorbar": {
             "outlinewidth": 0,
             "ticks": ""
            },
            "type": "mesh3d"
           }
          ],
          "parcoords": [
           {
            "line": {
             "colorbar": {
              "outlinewidth": 0,
              "ticks": ""
             }
            },
            "type": "parcoords"
           }
          ],
          "pie": [
           {
            "automargin": true,
            "type": "pie"
           }
          ],
          "scatter": [
           {
            "fillpattern": {
             "fillmode": "overlay",
             "size": 10,
             "solidity": 0.2
            },
            "type": "scatter"
           }
          ],
          "scatter3d": [
           {
            "line": {
             "colorbar": {
              "outlinewidth": 0,
              "ticks": ""
             }
            },
            "marker": {
             "colorbar": {
              "outlinewidth": 0,
              "ticks": ""
             }
            },
            "type": "scatter3d"
           }
          ],
          "scattercarpet": [
           {
            "marker": {
             "colorbar": {
              "outlinewidth": 0,
              "ticks": ""
             }
            },
            "type": "scattercarpet"
           }
          ],
          "scattergeo": [
           {
            "marker": {
             "colorbar": {
              "outlinewidth": 0,
              "ticks": ""
             }
            },
            "type": "scattergeo"
           }
          ],
          "scattergl": [
           {
            "marker": {
             "colorbar": {
              "outlinewidth": 0,
              "ticks": ""
             }
            },
            "type": "scattergl"
           }
          ],
          "scattermapbox": [
           {
            "marker": {
             "colorbar": {
              "outlinewidth": 0,
              "ticks": ""
             }
            },
            "type": "scattermapbox"
           }
          ],
          "scatterpolar": [
           {
            "marker": {
             "colorbar": {
              "outlinewidth": 0,
              "ticks": ""
             }
            },
            "type": "scatterpolar"
           }
          ],
          "scatterpolargl": [
           {
            "marker": {
             "colorbar": {
              "outlinewidth": 0,
              "ticks": ""
             }
            },
            "type": "scatterpolargl"
           }
          ],
          "scatterternary": [
           {
            "marker": {
             "colorbar": {
              "outlinewidth": 0,
              "ticks": ""
             }
            },
            "type": "scatterternary"
           }
          ],
          "surface": [
           {
            "colorbar": {
             "outlinewidth": 0,
             "ticks": ""
            },
            "colorscale": [
             [
              0,
              "#0d0887"
             ],
             [
              0.1111111111111111,
              "#46039f"
             ],
             [
              0.2222222222222222,
              "#7201a8"
             ],
             [
              0.3333333333333333,
              "#9c179e"
             ],
             [
              0.4444444444444444,
              "#bd3786"
             ],
             [
              0.5555555555555556,
              "#d8576b"
             ],
             [
              0.6666666666666666,
              "#ed7953"
             ],
             [
              0.7777777777777778,
              "#fb9f3a"
             ],
             [
              0.8888888888888888,
              "#fdca26"
             ],
             [
              1,
              "#f0f921"
             ]
            ],
            "type": "surface"
           }
          ],
          "table": [
           {
            "cells": {
             "fill": {
              "color": "#EBF0F8"
             },
             "line": {
              "color": "white"
             }
            },
            "header": {
             "fill": {
              "color": "#C8D4E3"
             },
             "line": {
              "color": "white"
             }
            },
            "type": "table"
           }
          ]
         },
         "layout": {
          "annotationdefaults": {
           "arrowcolor": "#2a3f5f",
           "arrowhead": 0,
           "arrowwidth": 1
          },
          "autotypenumbers": "strict",
          "coloraxis": {
           "colorbar": {
            "outlinewidth": 0,
            "ticks": ""
           }
          },
          "colorscale": {
           "diverging": [
            [
             0,
             "#8e0152"
            ],
            [
             0.1,
             "#c51b7d"
            ],
            [
             0.2,
             "#de77ae"
            ],
            [
             0.3,
             "#f1b6da"
            ],
            [
             0.4,
             "#fde0ef"
            ],
            [
             0.5,
             "#f7f7f7"
            ],
            [
             0.6,
             "#e6f5d0"
            ],
            [
             0.7,
             "#b8e186"
            ],
            [
             0.8,
             "#7fbc41"
            ],
            [
             0.9,
             "#4d9221"
            ],
            [
             1,
             "#276419"
            ]
           ],
           "sequential": [
            [
             0,
             "#0d0887"
            ],
            [
             0.1111111111111111,
             "#46039f"
            ],
            [
             0.2222222222222222,
             "#7201a8"
            ],
            [
             0.3333333333333333,
             "#9c179e"
            ],
            [
             0.4444444444444444,
             "#bd3786"
            ],
            [
             0.5555555555555556,
             "#d8576b"
            ],
            [
             0.6666666666666666,
             "#ed7953"
            ],
            [
             0.7777777777777778,
             "#fb9f3a"
            ],
            [
             0.8888888888888888,
             "#fdca26"
            ],
            [
             1,
             "#f0f921"
            ]
           ],
           "sequentialminus": [
            [
             0,
             "#0d0887"
            ],
            [
             0.1111111111111111,
             "#46039f"
            ],
            [
             0.2222222222222222,
             "#7201a8"
            ],
            [
             0.3333333333333333,
             "#9c179e"
            ],
            [
             0.4444444444444444,
             "#bd3786"
            ],
            [
             0.5555555555555556,
             "#d8576b"
            ],
            [
             0.6666666666666666,
             "#ed7953"
            ],
            [
             0.7777777777777778,
             "#fb9f3a"
            ],
            [
             0.8888888888888888,
             "#fdca26"
            ],
            [
             1,
             "#f0f921"
            ]
           ]
          },
          "colorway": [
           "#636efa",
           "#EF553B",
           "#00cc96",
           "#ab63fa",
           "#FFA15A",
           "#19d3f3",
           "#FF6692",
           "#B6E880",
           "#FF97FF",
           "#FECB52"
          ],
          "font": {
           "color": "#2a3f5f"
          },
          "geo": {
           "bgcolor": "white",
           "lakecolor": "white",
           "landcolor": "#E5ECF6",
           "showlakes": true,
           "showland": true,
           "subunitcolor": "white"
          },
          "hoverlabel": {
           "align": "left"
          },
          "hovermode": "closest",
          "mapbox": {
           "style": "light"
          },
          "paper_bgcolor": "white",
          "plot_bgcolor": "#E5ECF6",
          "polar": {
           "angularaxis": {
            "gridcolor": "white",
            "linecolor": "white",
            "ticks": ""
           },
           "bgcolor": "#E5ECF6",
           "radialaxis": {
            "gridcolor": "white",
            "linecolor": "white",
            "ticks": ""
           }
          },
          "scene": {
           "xaxis": {
            "backgroundcolor": "#E5ECF6",
            "gridcolor": "white",
            "gridwidth": 2,
            "linecolor": "white",
            "showbackground": true,
            "ticks": "",
            "zerolinecolor": "white"
           },
           "yaxis": {
            "backgroundcolor": "#E5ECF6",
            "gridcolor": "white",
            "gridwidth": 2,
            "linecolor": "white",
            "showbackground": true,
            "ticks": "",
            "zerolinecolor": "white"
           },
           "zaxis": {
            "backgroundcolor": "#E5ECF6",
            "gridcolor": "white",
            "gridwidth": 2,
            "linecolor": "white",
            "showbackground": true,
            "ticks": "",
            "zerolinecolor": "white"
           }
          },
          "shapedefaults": {
           "line": {
            "color": "#2a3f5f"
           }
          },
          "ternary": {
           "aaxis": {
            "gridcolor": "white",
            "linecolor": "white",
            "ticks": ""
           },
           "baxis": {
            "gridcolor": "white",
            "linecolor": "white",
            "ticks": ""
           },
           "bgcolor": "#E5ECF6",
           "caxis": {
            "gridcolor": "white",
            "linecolor": "white",
            "ticks": ""
           }
          },
          "title": {
           "x": 0.05
          },
          "xaxis": {
           "automargin": true,
           "gridcolor": "white",
           "linecolor": "white",
           "ticks": "",
           "title": {
            "standoff": 15
           },
           "zerolinecolor": "white",
           "zerolinewidth": 2
          },
          "yaxis": {
           "automargin": true,
           "gridcolor": "white",
           "linecolor": "white",
           "ticks": "",
           "title": {
            "standoff": 15
           },
           "zerolinecolor": "white",
           "zerolinewidth": 2
          }
         }
        },
        "title": {
         "text": "จำนวนครั้งเลขที่ถูกจับคู่เข้าด้วยกัน ในเลขท้าย 2 ตัว"
        },
        "xaxis": {
         "title": {
          "text": "First Digit"
         }
        },
        "yaxis": {
         "title": {
          "text": "Second Digit"
         }
        }
       }
      }
     },
     "metadata": {},
     "output_type": "display_data"
    }
   ],
   "source": [
    "# Create heatmap plot\n",
    "heatmap_data = df.groupby(['last_two_digits_first','last_two_digits_second']).size().unstack(fill_value=0)\n",
    "\n",
    "fig = go.Figure(data=go.Heatmap(\n",
    "        z=heatmap_data.values,\n",
    "        x=heatmap_data.columns,\n",
    "        y=heatmap_data.index,\n",
    "        colorscale='Viridis'))\n",
    "\n",
    "# Update layout\n",
    "fig.update_layout(\n",
    "    title='จำนวนครั้งเลขที่ถูกจับคู่เข้าด้วยกัน ในเลขท้าย 2 ตัว',\n",
    "    xaxis_title='First Digit',\n",
    "    yaxis_title='Second Digit'\n",
    ")\n",
    "\n",
    "# Show plot\n",
    "fig.show()"
   ]
  },
  {
   "cell_type": "code",
   "execution_count": 35,
   "metadata": {},
   "outputs": [],
   "source": [
    "first_day_df = df[df.index.day == 1]\n",
    "sixteenth_day_df = df[df.index.day == 16]"
   ]
  },
  {
   "cell_type": "code",
   "execution_count": 36,
   "metadata": {},
   "outputs": [
    {
     "data": {
      "application/vnd.plotly.v1+json": {
       "config": {
        "plotlyServerURL": "https://plot.ly"
       },
       "data": [
        {
         "name": "เลขท้าย 2 ตัว",
         "nbinsx": 20,
         "type": "histogram",
         "x": [
          1,
          2,
          2,
          2,
          3,
          5,
          5,
          5,
          5,
          6,
          6,
          7,
          7,
          8,
          9,
          9,
          9,
          10,
          11,
          11,
          11,
          11,
          11,
          12,
          12,
          13,
          14,
          14,
          14,
          14,
          15,
          15,
          16,
          17,
          17,
          18,
          18,
          18,
          18,
          22,
          22,
          22,
          23,
          24,
          24,
          24,
          24,
          24,
          25,
          26,
          26,
          26,
          26,
          26,
          27,
          29,
          29,
          29,
          29,
          31,
          32,
          32,
          33,
          34,
          34,
          34,
          35,
          35,
          35,
          36,
          37,
          37,
          38,
          39,
          39,
          40,
          42,
          43,
          43,
          43,
          44,
          44,
          44,
          45,
          46,
          47,
          47,
          48,
          49,
          49,
          50,
          50,
          50,
          50,
          51,
          51,
          51,
          52,
          52,
          52,
          53,
          53,
          53,
          54,
          55,
          55,
          56,
          56,
          57,
          57,
          57,
          58,
          58,
          59,
          59,
          59,
          60,
          61,
          62,
          62,
          63,
          63,
          65,
          65,
          66,
          66,
          66,
          66,
          66,
          66,
          67,
          67,
          67,
          67,
          68,
          69,
          69,
          69,
          69,
          69,
          69,
          70,
          70,
          71,
          72,
          72,
          74,
          76,
          76,
          76,
          77,
          78,
          78,
          79,
          79,
          79,
          80,
          80,
          81,
          82,
          82,
          85,
          85,
          85,
          85,
          86,
          86,
          87,
          87,
          88,
          88,
          88,
          89,
          90,
          90,
          91,
          91,
          92,
          92,
          92,
          92,
          92,
          93,
          93,
          94,
          95,
          95,
          95,
          96,
          97,
          97,
          97,
          98,
          98,
          98,
          99,
          99
         ],
         "xaxis": "x",
         "yaxis": "y"
        },
        {
         "name": "เลขท้าย 3 ตัว1",
         "nbinsx": 30,
         "type": "histogram",
         "x": [
          126,
          183,
          200,
          200,
          211,
          216,
          234,
          238,
          239,
          242,
          245,
          246,
          251,
          256,
          264,
          272,
          275,
          285,
          286,
          294,
          295,
          295,
          302,
          303,
          311,
          314,
          316,
          330,
          337,
          338,
          356,
          363,
          371,
          380,
          383,
          385,
          395,
          395,
          403,
          407,
          408,
          409,
          412,
          413,
          414,
          418,
          421,
          421,
          431,
          432,
          432,
          435,
          440,
          441,
          447,
          447,
          456,
          462,
          463,
          469,
          470,
          470,
          473,
          474,
          474,
          482,
          489,
          490,
          490,
          498,
          499,
          511,
          518,
          522,
          523,
          523,
          524,
          526,
          530,
          544,
          544,
          546,
          546,
          562,
          567,
          567,
          570,
          571,
          576,
          579,
          580,
          581,
          584,
          597,
          598,
          598,
          600,
          606,
          606,
          606,
          610,
          617,
          618,
          620,
          623,
          625,
          626,
          627,
          627,
          628,
          630,
          638,
          639,
          639,
          641,
          642,
          643,
          648,
          649,
          656,
          656,
          656,
          658,
          660,
          660,
          661,
          664,
          670,
          673,
          677,
          688,
          691,
          694,
          695,
          703,
          709,
          713,
          714,
          716,
          718,
          719,
          720,
          727,
          732,
          733,
          735,
          739,
          745,
          747,
          748,
          753,
          761,
          763,
          764,
          766,
          766,
          771,
          773,
          775,
          781,
          784,
          786,
          788,
          793,
          794,
          796,
          799,
          801,
          801,
          810,
          817,
          821,
          822,
          830,
          835,
          848,
          851,
          855,
          855,
          857,
          859,
          861,
          863,
          865,
          871,
          873,
          879,
          880,
          881,
          885,
          888,
          903,
          918,
          920,
          942,
          990,
          999
         ],
         "xaxis": "x2",
         "yaxis": "y2"
        },
        {
         "name": "เลขท้าย 3 ตัว2",
         "nbinsx": 30,
         "type": "histogram",
         "x": [
          15,
          31,
          40,
          48,
          60,
          72,
          76,
          81,
          83,
          85,
          89,
          91,
          101,
          104,
          109,
          113,
          115,
          123,
          126,
          126,
          139,
          152,
          152,
          159,
          162,
          166,
          166,
          171,
          173,
          173,
          174,
          181,
          189,
          191,
          195,
          199,
          206,
          215,
          216,
          217,
          218,
          221,
          233,
          236,
          238,
          240,
          252,
          255,
          260,
          260,
          261,
          271,
          277,
          281,
          282,
          283,
          284,
          285,
          287,
          287,
          287,
          287,
          290,
          292,
          298,
          301,
          302,
          303,
          306,
          313,
          319,
          322,
          324,
          324,
          332,
          333,
          335,
          340,
          341,
          354,
          358,
          361,
          361,
          361,
          364,
          364,
          365,
          374,
          374,
          379,
          380,
          381,
          382,
          384,
          386,
          389,
          390,
          390,
          392,
          392,
          396,
          402,
          405,
          407,
          407,
          412,
          414,
          416,
          426,
          427,
          427,
          429,
          430,
          430,
          433,
          434,
          436,
          440,
          446,
          451,
          454,
          456,
          457,
          460,
          465,
          470,
          472,
          476,
          477,
          477,
          485,
          485,
          487,
          490,
          492,
          498,
          499,
          505,
          507,
          510,
          517,
          529,
          530,
          533,
          537,
          538,
          547,
          551,
          554,
          556,
          558,
          559,
          563,
          565,
          566,
          570,
          570,
          576,
          576,
          577,
          583,
          586,
          598,
          598,
          600,
          602,
          607,
          611,
          621,
          641,
          647,
          661,
          661,
          665,
          666,
          670,
          677,
          681,
          685,
          689,
          713,
          713,
          715,
          716,
          721,
          732,
          734,
          739,
          739,
          745,
          775,
          776,
          801,
          804,
          808,
          893,
          952
         ],
         "xaxis": "x3",
         "yaxis": "y3"
        },
        {
         "name": "รางวัลที่หนึ่ง",
         "nbinsx": 40,
         "type": "histogram",
         "x": [
          9554,
          12653,
          15865,
          21094,
          28866,
          54272,
          56860,
          66720,
          77626,
          82460,
          83537,
          93182,
          96597,
          104145,
          107987,
          110443,
          110866,
          113311,
          113410,
          119067,
          124025,
          154986,
          155537,
          161149,
          168795,
          169387,
          176893,
          179528,
          180149,
          180597,
          181752,
          185966,
          186312,
          187813,
          191100,
          196391,
          205434,
          206608,
          207542,
          210008,
          212684,
          215227,
          216822,
          218756,
          222518,
          236364,
          238654,
          240237,
          241559,
          257562,
          267540,
          270052,
          272028,
          272932,
          290582,
          312471,
          316933,
          320605,
          329997,
          331810,
          342860,
          354656,
          356435,
          361211,
          375615,
          378477,
          381761,
          386441,
          388551,
          408147,
          412729,
          414875,
          429924,
          430667,
          437367,
          439686,
          441022,
          444413,
          444874,
          454703,
          456370,
          461414,
          479957,
          480239,
          480449,
          481447,
          488372,
          493438,
          496930,
          504658,
          505498,
          511052,
          511825,
          512694,
          518677,
          524694,
          530213,
          534533,
          540054,
          548123,
          553091,
          561335,
          562370,
          565151,
          565566,
          571688,
          582473,
          591344,
          592761,
          594825,
          595123,
          605704,
          610089,
          614144,
          617629,
          622780,
          622953,
          633270,
          638684,
          640998,
          643997,
          646905,
          647882,
          656037,
          665959,
          669281,
          674071,
          676576,
          683472,
          689140,
          695993,
          697483,
          724533,
          737033,
          738365,
          739804,
          742425,
          748493,
          750792,
          759049,
          766066,
          766098,
          766391,
          766482,
          769925,
          776980,
          777661,
          781198,
          800751,
          802505,
          805540,
          805590,
          810850,
          814931,
          815753,
          816578,
          820088,
          830676,
          836393,
          836537,
          836569,
          850348,
          856763,
          872795,
          882727,
          882911,
          887956,
          895590,
          906318,
          910957,
          912040,
          915350,
          915900,
          920846,
          927800,
          927907,
          933164,
          935489,
          936685,
          941438,
          943671,
          947788,
          952335,
          952890,
          959517,
          961633,
          963948,
          968422,
          970577,
          974210,
          976241,
          976779,
          987844,
          990543,
          991307,
          994200,
          997833
         ],
         "xaxis": "x4",
         "yaxis": "y4"
        },
        {
         "name": "เลขหน้า 3 ตัว1",
         "nbinsx": 30,
         "type": "histogram",
         "x": [
          1,
          1,
          3,
          5,
          6,
          7,
          7,
          8,
          8,
          9,
          13,
          14,
          14,
          14,
          15,
          15,
          17,
          18,
          20,
          21,
          22,
          26,
          27,
          27,
          28,
          36,
          40,
          42,
          44,
          44,
          45,
          46,
          47,
          48,
          54,
          55,
          56,
          58,
          60,
          61,
          63,
          64,
          64,
          64,
          64,
          65,
          68,
          70,
          74,
          74,
          75,
          75,
          76,
          79,
          81,
          81,
          83,
          86,
          86,
          86,
          88,
          89,
          90,
          91,
          92,
          93,
          94,
          96,
          96,
          97,
          100,
          104,
          106,
          107,
          108,
          111,
          116,
          121,
          123,
          124,
          127,
          132,
          133,
          135,
          137,
          137,
          140,
          145,
          145,
          146,
          147,
          148,
          148,
          149,
          149,
          151,
          155,
          156,
          160,
          160,
          161,
          167,
          168,
          169,
          170,
          170,
          175,
          175,
          176,
          177,
          180,
          182,
          186,
          188,
          188,
          189,
          190,
          195,
          200,
          203,
          204,
          206,
          209,
          213,
          217,
          221,
          224,
          224,
          225,
          229,
          236,
          236,
          237,
          239,
          239,
          242,
          242,
          244,
          249,
          249,
          250,
          253,
          255,
          257,
          261,
          269,
          275,
          285,
          285,
          290,
          291,
          293,
          294,
          296,
          297,
          298,
          303,
          308,
          310,
          311,
          328,
          329,
          333,
          334,
          346,
          349,
          357,
          365,
          366,
          370,
          374,
          381,
          399,
          403,
          406,
          414,
          418,
          425,
          426,
          434,
          435,
          450,
          452,
          454,
          461,
          463,
          467,
          471,
          472,
          480,
          530,
          557,
          599,
          653,
          669,
          705,
          896
         ],
         "xaxis": "x5",
         "yaxis": "y5"
        },
        {
         "name": "เลขหน้า 3 ตัว1",
         "nbinsx": 30,
         "type": "histogram",
         "x": [
          287,
          316,
          338,
          375,
          380,
          386,
          395,
          426,
          437,
          502,
          520,
          520,
          523,
          532,
          535,
          544,
          551,
          553,
          563,
          572,
          586,
          596,
          606,
          609,
          616,
          616,
          621,
          627,
          636,
          637,
          642,
          645,
          648,
          650,
          659,
          663,
          664,
          664,
          664,
          665,
          667,
          669,
          686,
          688,
          690,
          691,
          693,
          693,
          694,
          703,
          707,
          711,
          714,
          714,
          715,
          723,
          725,
          728,
          736,
          739,
          743,
          743,
          747,
          749,
          752,
          757,
          759,
          765,
          768,
          769,
          770,
          771,
          771,
          777,
          780,
          781,
          782,
          784,
          791,
          792,
          796,
          797,
          798,
          798,
          799,
          799,
          800,
          801,
          802,
          806,
          806,
          807,
          809,
          813,
          814,
          814,
          817,
          818,
          819,
          820,
          820,
          827,
          839,
          847,
          847,
          852,
          856,
          856,
          857,
          858,
          861,
          862,
          862,
          863,
          864,
          864,
          864,
          866,
          867,
          877,
          877,
          878,
          879,
          880,
          882,
          882,
          889,
          893,
          895,
          902,
          904,
          904,
          905,
          909,
          912,
          913,
          914,
          915,
          916,
          918,
          918,
          918,
          918,
          920,
          922,
          923,
          924,
          925,
          926,
          926,
          929,
          929,
          930,
          933,
          936,
          937,
          937,
          938,
          940,
          941,
          944,
          945,
          946,
          949,
          949,
          951,
          951,
          952,
          955,
          956,
          957,
          957,
          961,
          962,
          962,
          964,
          968,
          969,
          971,
          972,
          976,
          979,
          980,
          981,
          982,
          983,
          983,
          984,
          985,
          987,
          992,
          994,
          996,
          996,
          998,
          999,
          999
         ],
         "xaxis": "x6",
         "yaxis": "y6"
        }
       ],
       "layout": {
        "bargap": 0.1,
        "template": {
         "data": {
          "bar": [
           {
            "error_x": {
             "color": "#2a3f5f"
            },
            "error_y": {
             "color": "#2a3f5f"
            },
            "marker": {
             "line": {
              "color": "#E5ECF6",
              "width": 0.5
             },
             "pattern": {
              "fillmode": "overlay",
              "size": 10,
              "solidity": 0.2
             }
            },
            "type": "bar"
           }
          ],
          "barpolar": [
           {
            "marker": {
             "line": {
              "color": "#E5ECF6",
              "width": 0.5
             },
             "pattern": {
              "fillmode": "overlay",
              "size": 10,
              "solidity": 0.2
             }
            },
            "type": "barpolar"
           }
          ],
          "carpet": [
           {
            "aaxis": {
             "endlinecolor": "#2a3f5f",
             "gridcolor": "white",
             "linecolor": "white",
             "minorgridcolor": "white",
             "startlinecolor": "#2a3f5f"
            },
            "baxis": {
             "endlinecolor": "#2a3f5f",
             "gridcolor": "white",
             "linecolor": "white",
             "minorgridcolor": "white",
             "startlinecolor": "#2a3f5f"
            },
            "type": "carpet"
           }
          ],
          "choropleth": [
           {
            "colorbar": {
             "outlinewidth": 0,
             "ticks": ""
            },
            "type": "choropleth"
           }
          ],
          "contour": [
           {
            "colorbar": {
             "outlinewidth": 0,
             "ticks": ""
            },
            "colorscale": [
             [
              0,
              "#0d0887"
             ],
             [
              0.1111111111111111,
              "#46039f"
             ],
             [
              0.2222222222222222,
              "#7201a8"
             ],
             [
              0.3333333333333333,
              "#9c179e"
             ],
             [
              0.4444444444444444,
              "#bd3786"
             ],
             [
              0.5555555555555556,
              "#d8576b"
             ],
             [
              0.6666666666666666,
              "#ed7953"
             ],
             [
              0.7777777777777778,
              "#fb9f3a"
             ],
             [
              0.8888888888888888,
              "#fdca26"
             ],
             [
              1,
              "#f0f921"
             ]
            ],
            "type": "contour"
           }
          ],
          "contourcarpet": [
           {
            "colorbar": {
             "outlinewidth": 0,
             "ticks": ""
            },
            "type": "contourcarpet"
           }
          ],
          "heatmap": [
           {
            "colorbar": {
             "outlinewidth": 0,
             "ticks": ""
            },
            "colorscale": [
             [
              0,
              "#0d0887"
             ],
             [
              0.1111111111111111,
              "#46039f"
             ],
             [
              0.2222222222222222,
              "#7201a8"
             ],
             [
              0.3333333333333333,
              "#9c179e"
             ],
             [
              0.4444444444444444,
              "#bd3786"
             ],
             [
              0.5555555555555556,
              "#d8576b"
             ],
             [
              0.6666666666666666,
              "#ed7953"
             ],
             [
              0.7777777777777778,
              "#fb9f3a"
             ],
             [
              0.8888888888888888,
              "#fdca26"
             ],
             [
              1,
              "#f0f921"
             ]
            ],
            "type": "heatmap"
           }
          ],
          "heatmapgl": [
           {
            "colorbar": {
             "outlinewidth": 0,
             "ticks": ""
            },
            "colorscale": [
             [
              0,
              "#0d0887"
             ],
             [
              0.1111111111111111,
              "#46039f"
             ],
             [
              0.2222222222222222,
              "#7201a8"
             ],
             [
              0.3333333333333333,
              "#9c179e"
             ],
             [
              0.4444444444444444,
              "#bd3786"
             ],
             [
              0.5555555555555556,
              "#d8576b"
             ],
             [
              0.6666666666666666,
              "#ed7953"
             ],
             [
              0.7777777777777778,
              "#fb9f3a"
             ],
             [
              0.8888888888888888,
              "#fdca26"
             ],
             [
              1,
              "#f0f921"
             ]
            ],
            "type": "heatmapgl"
           }
          ],
          "histogram": [
           {
            "marker": {
             "pattern": {
              "fillmode": "overlay",
              "size": 10,
              "solidity": 0.2
             }
            },
            "type": "histogram"
           }
          ],
          "histogram2d": [
           {
            "colorbar": {
             "outlinewidth": 0,
             "ticks": ""
            },
            "colorscale": [
             [
              0,
              "#0d0887"
             ],
             [
              0.1111111111111111,
              "#46039f"
             ],
             [
              0.2222222222222222,
              "#7201a8"
             ],
             [
              0.3333333333333333,
              "#9c179e"
             ],
             [
              0.4444444444444444,
              "#bd3786"
             ],
             [
              0.5555555555555556,
              "#d8576b"
             ],
             [
              0.6666666666666666,
              "#ed7953"
             ],
             [
              0.7777777777777778,
              "#fb9f3a"
             ],
             [
              0.8888888888888888,
              "#fdca26"
             ],
             [
              1,
              "#f0f921"
             ]
            ],
            "type": "histogram2d"
           }
          ],
          "histogram2dcontour": [
           {
            "colorbar": {
             "outlinewidth": 0,
             "ticks": ""
            },
            "colorscale": [
             [
              0,
              "#0d0887"
             ],
             [
              0.1111111111111111,
              "#46039f"
             ],
             [
              0.2222222222222222,
              "#7201a8"
             ],
             [
              0.3333333333333333,
              "#9c179e"
             ],
             [
              0.4444444444444444,
              "#bd3786"
             ],
             [
              0.5555555555555556,
              "#d8576b"
             ],
             [
              0.6666666666666666,
              "#ed7953"
             ],
             [
              0.7777777777777778,
              "#fb9f3a"
             ],
             [
              0.8888888888888888,
              "#fdca26"
             ],
             [
              1,
              "#f0f921"
             ]
            ],
            "type": "histogram2dcontour"
           }
          ],
          "mesh3d": [
           {
            "colorbar": {
             "outlinewidth": 0,
             "ticks": ""
            },
            "type": "mesh3d"
           }
          ],
          "parcoords": [
           {
            "line": {
             "colorbar": {
              "outlinewidth": 0,
              "ticks": ""
             }
            },
            "type": "parcoords"
           }
          ],
          "pie": [
           {
            "automargin": true,
            "type": "pie"
           }
          ],
          "scatter": [
           {
            "fillpattern": {
             "fillmode": "overlay",
             "size": 10,
             "solidity": 0.2
            },
            "type": "scatter"
           }
          ],
          "scatter3d": [
           {
            "line": {
             "colorbar": {
              "outlinewidth": 0,
              "ticks": ""
             }
            },
            "marker": {
             "colorbar": {
              "outlinewidth": 0,
              "ticks": ""
             }
            },
            "type": "scatter3d"
           }
          ],
          "scattercarpet": [
           {
            "marker": {
             "colorbar": {
              "outlinewidth": 0,
              "ticks": ""
             }
            },
            "type": "scattercarpet"
           }
          ],
          "scattergeo": [
           {
            "marker": {
             "colorbar": {
              "outlinewidth": 0,
              "ticks": ""
             }
            },
            "type": "scattergeo"
           }
          ],
          "scattergl": [
           {
            "marker": {
             "colorbar": {
              "outlinewidth": 0,
              "ticks": ""
             }
            },
            "type": "scattergl"
           }
          ],
          "scattermapbox": [
           {
            "marker": {
             "colorbar": {
              "outlinewidth": 0,
              "ticks": ""
             }
            },
            "type": "scattermapbox"
           }
          ],
          "scatterpolar": [
           {
            "marker": {
             "colorbar": {
              "outlinewidth": 0,
              "ticks": ""
             }
            },
            "type": "scatterpolar"
           }
          ],
          "scatterpolargl": [
           {
            "marker": {
             "colorbar": {
              "outlinewidth": 0,
              "ticks": ""
             }
            },
            "type": "scatterpolargl"
           }
          ],
          "scatterternary": [
           {
            "marker": {
             "colorbar": {
              "outlinewidth": 0,
              "ticks": ""
             }
            },
            "type": "scatterternary"
           }
          ],
          "surface": [
           {
            "colorbar": {
             "outlinewidth": 0,
             "ticks": ""
            },
            "colorscale": [
             [
              0,
              "#0d0887"
             ],
             [
              0.1111111111111111,
              "#46039f"
             ],
             [
              0.2222222222222222,
              "#7201a8"
             ],
             [
              0.3333333333333333,
              "#9c179e"
             ],
             [
              0.4444444444444444,
              "#bd3786"
             ],
             [
              0.5555555555555556,
              "#d8576b"
             ],
             [
              0.6666666666666666,
              "#ed7953"
             ],
             [
              0.7777777777777778,
              "#fb9f3a"
             ],
             [
              0.8888888888888888,
              "#fdca26"
             ],
             [
              1,
              "#f0f921"
             ]
            ],
            "type": "surface"
           }
          ],
          "table": [
           {
            "cells": {
             "fill": {
              "color": "#EBF0F8"
             },
             "line": {
              "color": "white"
             }
            },
            "header": {
             "fill": {
              "color": "#C8D4E3"
             },
             "line": {
              "color": "white"
             }
            },
            "type": "table"
           }
          ]
         },
         "layout": {
          "annotationdefaults": {
           "arrowcolor": "#2a3f5f",
           "arrowhead": 0,
           "arrowwidth": 1
          },
          "autotypenumbers": "strict",
          "coloraxis": {
           "colorbar": {
            "outlinewidth": 0,
            "ticks": ""
           }
          },
          "colorscale": {
           "diverging": [
            [
             0,
             "#8e0152"
            ],
            [
             0.1,
             "#c51b7d"
            ],
            [
             0.2,
             "#de77ae"
            ],
            [
             0.3,
             "#f1b6da"
            ],
            [
             0.4,
             "#fde0ef"
            ],
            [
             0.5,
             "#f7f7f7"
            ],
            [
             0.6,
             "#e6f5d0"
            ],
            [
             0.7,
             "#b8e186"
            ],
            [
             0.8,
             "#7fbc41"
            ],
            [
             0.9,
             "#4d9221"
            ],
            [
             1,
             "#276419"
            ]
           ],
           "sequential": [
            [
             0,
             "#0d0887"
            ],
            [
             0.1111111111111111,
             "#46039f"
            ],
            [
             0.2222222222222222,
             "#7201a8"
            ],
            [
             0.3333333333333333,
             "#9c179e"
            ],
            [
             0.4444444444444444,
             "#bd3786"
            ],
            [
             0.5555555555555556,
             "#d8576b"
            ],
            [
             0.6666666666666666,
             "#ed7953"
            ],
            [
             0.7777777777777778,
             "#fb9f3a"
            ],
            [
             0.8888888888888888,
             "#fdca26"
            ],
            [
             1,
             "#f0f921"
            ]
           ],
           "sequentialminus": [
            [
             0,
             "#0d0887"
            ],
            [
             0.1111111111111111,
             "#46039f"
            ],
            [
             0.2222222222222222,
             "#7201a8"
            ],
            [
             0.3333333333333333,
             "#9c179e"
            ],
            [
             0.4444444444444444,
             "#bd3786"
            ],
            [
             0.5555555555555556,
             "#d8576b"
            ],
            [
             0.6666666666666666,
             "#ed7953"
            ],
            [
             0.7777777777777778,
             "#fb9f3a"
            ],
            [
             0.8888888888888888,
             "#fdca26"
            ],
            [
             1,
             "#f0f921"
            ]
           ]
          },
          "colorway": [
           "#636efa",
           "#EF553B",
           "#00cc96",
           "#ab63fa",
           "#FFA15A",
           "#19d3f3",
           "#FF6692",
           "#B6E880",
           "#FF97FF",
           "#FECB52"
          ],
          "font": {
           "color": "#2a3f5f"
          },
          "geo": {
           "bgcolor": "white",
           "lakecolor": "white",
           "landcolor": "#E5ECF6",
           "showlakes": true,
           "showland": true,
           "subunitcolor": "white"
          },
          "hoverlabel": {
           "align": "left"
          },
          "hovermode": "closest",
          "mapbox": {
           "style": "light"
          },
          "paper_bgcolor": "white",
          "plot_bgcolor": "#E5ECF6",
          "polar": {
           "angularaxis": {
            "gridcolor": "white",
            "linecolor": "white",
            "ticks": ""
           },
           "bgcolor": "#E5ECF6",
           "radialaxis": {
            "gridcolor": "white",
            "linecolor": "white",
            "ticks": ""
           }
          },
          "scene": {
           "xaxis": {
            "backgroundcolor": "#E5ECF6",
            "gridcolor": "white",
            "gridwidth": 2,
            "linecolor": "white",
            "showbackground": true,
            "ticks": "",
            "zerolinecolor": "white"
           },
           "yaxis": {
            "backgroundcolor": "#E5ECF6",
            "gridcolor": "white",
            "gridwidth": 2,
            "linecolor": "white",
            "showbackground": true,
            "ticks": "",
            "zerolinecolor": "white"
           },
           "zaxis": {
            "backgroundcolor": "#E5ECF6",
            "gridcolor": "white",
            "gridwidth": 2,
            "linecolor": "white",
            "showbackground": true,
            "ticks": "",
            "zerolinecolor": "white"
           }
          },
          "shapedefaults": {
           "line": {
            "color": "#2a3f5f"
           }
          },
          "ternary": {
           "aaxis": {
            "gridcolor": "white",
            "linecolor": "white",
            "ticks": ""
           },
           "baxis": {
            "gridcolor": "white",
            "linecolor": "white",
            "ticks": ""
           },
           "bgcolor": "#E5ECF6",
           "caxis": {
            "gridcolor": "white",
            "linecolor": "white",
            "ticks": ""
           }
          },
          "title": {
           "x": 0.05
          },
          "xaxis": {
           "automargin": true,
           "gridcolor": "white",
           "linecolor": "white",
           "ticks": "",
           "title": {
            "standoff": 15
           },
           "zerolinecolor": "white",
           "zerolinewidth": 2
          },
          "yaxis": {
           "automargin": true,
           "gridcolor": "white",
           "linecolor": "white",
           "ticks": "",
           "title": {
            "standoff": 15
           },
           "zerolinecolor": "white",
           "zerolinewidth": 2
          }
         }
        },
        "title": {
         "text": "จำนวนการเกิดของแต่ละตัวเลข ในทุกรางวัลที่ประกาศทุกต้นเดือน"
        },
        "xaxis": {
         "anchor": "y",
         "domain": [
          0,
          0.2888888888888889
         ],
         "title": {
          "text": "ตัวเลข"
         }
        },
        "xaxis2": {
         "anchor": "y2",
         "domain": [
          0.35555555555555557,
          0.6444444444444445
         ]
        },
        "xaxis3": {
         "anchor": "y3",
         "domain": [
          0.7111111111111111,
          1
         ]
        },
        "xaxis4": {
         "anchor": "y4",
         "domain": [
          0,
          0.2888888888888889
         ]
        },
        "xaxis5": {
         "anchor": "y5",
         "domain": [
          0.35555555555555557,
          0.6444444444444445
         ]
        },
        "xaxis6": {
         "anchor": "y6",
         "domain": [
          0.7111111111111111,
          1
         ]
        },
        "yaxis": {
         "anchor": "x",
         "domain": [
          0.575,
          1
         ],
         "title": {
          "text": "จำนวนครั้ง"
         }
        },
        "yaxis2": {
         "anchor": "x2",
         "domain": [
          0.575,
          1
         ]
        },
        "yaxis3": {
         "anchor": "x3",
         "domain": [
          0.575,
          1
         ]
        },
        "yaxis4": {
         "anchor": "x4",
         "domain": [
          0,
          0.425
         ]
        },
        "yaxis5": {
         "anchor": "x5",
         "domain": [
          0,
          0.425
         ]
        },
        "yaxis6": {
         "anchor": "x6",
         "domain": [
          0,
          0.425
         ]
        }
       }
      }
     },
     "metadata": {},
     "output_type": "display_data"
    }
   ],
   "source": [
    "first_fig = make_subplots(rows=2, cols=3)\n",
    "first_fig.add_trace(\n",
    "    go.Histogram(x=first_day_df['เลขท้าย 2 ตัว'].sort_values(),\n",
    "                name = 'เลขท้าย 2 ตัว',\n",
    "                nbinsx=20\n",
    "                ),\n",
    "    row=1, col=1\n",
    ")\n",
    "first_fig.add_trace(\n",
    "    go.Histogram(x=first_day_df['เลขท้าย 3 ตัว1'].sort_values(),\n",
    "                name = 'เลขท้าย 3 ตัว1',\n",
    "                nbinsx=30\n",
    "                ),\n",
    "    row=1, col=2\n",
    ")\n",
    "first_fig.add_trace(\n",
    "    go.Histogram(x=first_day_df['เลขท้าย 3 ตัว2'].sort_values(),\n",
    "                name = 'เลขท้าย 3 ตัว2',\n",
    "                nbinsx=30\n",
    "                ),\n",
    "    row=1, col=3\n",
    ")\n",
    "first_fig.add_trace(\n",
    "    go.Histogram(x=first_day_df['รางวัลที่หนึ่ง'].sort_values(),\n",
    "                name = 'รางวัลที่หนึ่ง',\n",
    "                nbinsx=40\n",
    "                ),\n",
    "    row=2, col=1\n",
    ")\n",
    "first_fig.add_trace(\n",
    "    go.Histogram(x=first_day_df['เลขหน้า 3 ตัว1'].sort_values(),\n",
    "                name = 'เลขหน้า 3 ตัว1',\n",
    "                nbinsx=30\n",
    "                ),\n",
    "    row=2, col=2\n",
    ")\n",
    "first_fig.add_trace(\n",
    "    go.Histogram(x=first_day_df['เลขหน้า 3 ตัว2'].sort_values(),\n",
    "                name = 'เลขหน้า 3 ตัว1',\n",
    "                nbinsx=30\n",
    "                ),\n",
    "    row=2, col=3\n",
    ")\n",
    "first_fig.update_layout(\n",
    "    title_text='จำนวนการเกิดของแต่ละตัวเลข ในทุกรางวัลที่ประกาศทุกต้นเดือน', # title of plot\n",
    "    xaxis_title_text='ตัวเลข', # xaxis label\n",
    "    yaxis_title_text='จำนวนครั้ง', # yaxis label\n",
    "    bargap=0.1, # gap between bars of adjacent location coordinates\n",
    ")\n",
    "\n",
    "first_fig.show()"
   ]
  },
  {
   "cell_type": "code",
   "execution_count": 37,
   "metadata": {},
   "outputs": [
    {
     "data": {
      "application/vnd.plotly.v1+json": {
       "config": {
        "plotlyServerURL": "https://plot.ly"
       },
       "data": [
        {
         "name": "เลขท้าย 2 ตัว",
         "nbinsx": 20,
         "type": "histogram",
         "x": [
          0,
          0,
          0,
          1,
          3,
          3,
          3,
          3,
          3,
          4,
          5,
          5,
          5,
          5,
          6,
          6,
          7,
          8,
          8,
          8,
          9,
          10,
          10,
          10,
          10,
          11,
          12,
          12,
          12,
          13,
          13,
          13,
          13,
          14,
          14,
          15,
          15,
          16,
          17,
          17,
          17,
          18,
          19,
          19,
          20,
          20,
          20,
          20,
          20,
          21,
          21,
          21,
          23,
          24,
          25,
          25,
          25,
          25,
          25,
          26,
          27,
          28,
          28,
          28,
          28,
          28,
          28,
          29,
          30,
          30,
          30,
          31,
          32,
          33,
          33,
          33,
          34,
          34,
          35,
          35,
          36,
          36,
          36,
          36,
          37,
          38,
          38,
          39,
          40,
          41,
          41,
          41,
          41,
          42,
          43,
          43,
          44,
          44,
          44,
          45,
          45,
          45,
          46,
          47,
          47,
          48,
          48,
          48,
          48,
          49,
          49,
          50,
          51,
          51,
          52,
          52,
          52,
          52,
          53,
          53,
          54,
          55,
          55,
          55,
          55,
          56,
          56,
          56,
          57,
          57,
          57,
          57,
          58,
          58,
          59,
          59,
          59,
          60,
          61,
          61,
          61,
          62,
          62,
          62,
          62,
          63,
          63,
          63,
          63,
          63,
          63,
          64,
          64,
          64,
          64,
          65,
          65,
          65,
          66,
          66,
          67,
          67,
          67,
          68,
          68,
          69,
          69,
          69,
          69,
          69,
          71,
          71,
          71,
          72,
          73,
          73,
          74,
          74,
          74,
          75,
          75,
          75,
          76,
          77,
          79,
          79,
          79,
          79,
          79,
          79,
          80,
          80,
          81,
          81,
          82,
          82,
          83,
          84,
          85,
          85,
          86,
          86,
          86,
          87,
          87,
          87,
          88,
          90,
          90,
          91,
          91,
          91,
          91,
          91,
          92,
          92,
          92,
          93,
          93,
          93,
          94,
          94,
          94,
          95,
          95,
          96,
          96,
          96,
          96,
          96,
          97,
          97,
          98,
          98,
          98,
          98,
          99
         ],
         "xaxis": "x",
         "yaxis": "y"
        },
        {
         "name": "เลขท้าย 3 ตัว1",
         "nbinsx": 30,
         "type": "histogram",
         "x": [
          109,
          155,
          158,
          174,
          179,
          192,
          214,
          224,
          226,
          230,
          242,
          244,
          246,
          279,
          280,
          282,
          282,
          288,
          288,
          293,
          305,
          309,
          312,
          316,
          316,
          320,
          324,
          326,
          334,
          342,
          343,
          345,
          350,
          353,
          355,
          356,
          356,
          356,
          362,
          362,
          363,
          372,
          374,
          375,
          381,
          381,
          382,
          390,
          390,
          391,
          396,
          397,
          400,
          410,
          410,
          412,
          418,
          420,
          424,
          429,
          432,
          434,
          437,
          438,
          448,
          456,
          457,
          460,
          468,
          479,
          480,
          486,
          486,
          495,
          496,
          498,
          504,
          507,
          507,
          508,
          510,
          515,
          518,
          518,
          519,
          521,
          526,
          526,
          529,
          533,
          534,
          535,
          536,
          539,
          546,
          547,
          551,
          555,
          557,
          570,
          573,
          573,
          574,
          576,
          577,
          584,
          584,
          594,
          595,
          596,
          600,
          601,
          604,
          605,
          606,
          608,
          616,
          623,
          625,
          626,
          627,
          627,
          630,
          631,
          631,
          639,
          639,
          639,
          642,
          643,
          644,
          645,
          646,
          647,
          648,
          648,
          651,
          656,
          656,
          657,
          658,
          662,
          664,
          672,
          677,
          681,
          681,
          685,
          687,
          689,
          694,
          696,
          696,
          696,
          700,
          702,
          705,
          705,
          707,
          717,
          721,
          722,
          723,
          725,
          730,
          734,
          734,
          735,
          737,
          741,
          742,
          744,
          745,
          749,
          752,
          752,
          755,
          756,
          761,
          762,
          769,
          769,
          769,
          769,
          771,
          773,
          775,
          779,
          785,
          789,
          792,
          798,
          800,
          803,
          803,
          806,
          823,
          824,
          825,
          832,
          838,
          842,
          843,
          844,
          847,
          848,
          851,
          852,
          854,
          857,
          858,
          859,
          860,
          860,
          862,
          864,
          866,
          867,
          870,
          876,
          877,
          887,
          889,
          904,
          904,
          906,
          907,
          907,
          909,
          911,
          922,
          939,
          942,
          944,
          949,
          958,
          981
         ],
         "xaxis": "x2",
         "yaxis": "y2"
        },
        {
         "name": "เลขท้าย 3 ตัว2",
         "nbinsx": 30,
         "type": "histogram",
         "x": [
          43,
          71,
          71,
          74,
          74,
          80,
          84,
          85,
          86,
          103,
          110,
          114,
          114,
          116,
          120,
          124,
          125,
          134,
          135,
          137,
          138,
          140,
          149,
          150,
          151,
          152,
          158,
          159,
          164,
          165,
          167,
          167,
          169,
          173,
          174,
          177,
          177,
          179,
          183,
          183,
          191,
          193,
          198,
          200,
          200,
          202,
          205,
          208,
          209,
          214,
          216,
          219,
          221,
          222,
          227,
          227,
          228,
          228,
          228,
          234,
          235,
          235,
          236,
          240,
          241,
          242,
          250,
          257,
          257,
          261,
          263,
          268,
          270,
          271,
          272,
          273,
          273,
          275,
          276,
          280,
          281,
          283,
          285,
          290,
          291,
          291,
          293,
          295,
          299,
          304,
          304,
          304,
          305,
          306,
          309,
          309,
          312,
          312,
          313,
          315,
          315,
          321,
          324,
          328,
          329,
          334,
          335,
          339,
          344,
          345,
          346,
          346,
          347,
          349,
          350,
          352,
          357,
          358,
          358,
          362,
          368,
          370,
          371,
          378,
          381,
          385,
          386,
          386,
          388,
          392,
          394,
          394,
          397,
          397,
          398,
          400,
          401,
          401,
          401,
          404,
          408,
          415,
          417,
          422,
          425,
          425,
          432,
          432,
          434,
          439,
          441,
          442,
          444,
          445,
          459,
          459,
          460,
          461,
          461,
          463,
          463,
          465,
          467,
          472,
          474,
          478,
          479,
          492,
          494,
          502,
          506,
          508,
          512,
          522,
          524,
          526,
          529,
          529,
          534,
          538,
          539,
          543,
          548,
          550,
          552,
          569,
          576,
          577,
          578,
          586,
          588,
          589,
          589,
          589,
          592,
          596,
          605,
          607,
          608,
          612,
          618,
          619,
          620,
          622,
          624,
          628,
          633,
          635,
          640,
          644,
          663,
          676,
          695,
          715,
          721,
          734,
          742,
          744,
          750,
          751,
          763,
          763,
          763,
          774,
          784,
          789,
          799,
          800,
          802,
          805,
          806,
          818,
          823,
          834,
          843,
          855,
          950
         ],
         "xaxis": "x3",
         "yaxis": "y3"
        },
        {
         "name": "รางวัลที่หนึ่ง",
         "nbinsx": 40,
         "type": "histogram",
         "x": [
          816,
          1864,
          2612,
          9315,
          11421,
          12377,
          17422,
          19682,
          32988,
          33363,
          38564,
          38730,
          41072,
          46251,
          48151,
          55986,
          65720,
          73261,
          73577,
          73816,
          74114,
          74416,
          74946,
          81784,
          87523,
          88067,
          91982,
          100344,
          100474,
          100935,
          111411,
          116556,
          119327,
          120108,
          121507,
          133707,
          134918,
          137054,
          139850,
          140843,
          141737,
          146573,
          147977,
          151995,
          153406,
          156050,
          156967,
          159373,
          164311,
          177947,
          180387,
          181813,
          190611,
          196345,
          198019,
          202912,
          205588,
          208713,
          211743,
          214768,
          217948,
          221609,
          224675,
          232897,
          238511,
          244351,
          254004,
          257374,
          258487,
          261080,
          264825,
          268812,
          270744,
          277859,
          278794,
          281062,
          281343,
          289673,
          294240,
          305500,
          306902,
          307231,
          317009,
          321327,
          329231,
          330853,
          334380,
          335022,
          335921,
          340264,
          340998,
          341767,
          351276,
          354771,
          355858,
          356364,
          364222,
          368257,
          368415,
          380377,
          384245,
          389872,
          393194,
          405105,
          405124,
          406417,
          410227,
          428641,
          431277,
          432747,
          442183,
          449565,
          449764,
          451445,
          455578,
          459013,
          462933,
          475560,
          476207,
          477452,
          479372,
          479804,
          480012,
          481746,
          499336,
          499884,
          500104,
          506260,
          509691,
          512434,
          513501,
          522630,
          527384,
          527514,
          529524,
          531404,
          536960,
          537146,
          540143,
          551450,
          552784,
          556010,
          562481,
          562684,
          562856,
          565311,
          566996,
          572701,
          577278,
          583470,
          589207,
          593331,
          593856,
          598714,
          599991,
          600589,
          607064,
          612897,
          615366,
          616426,
          618818,
          620662,
          621267,
          621377,
          625094,
          633616,
          639500,
          644742,
          648684,
          653062,
          656409,
          659152,
          662842,
          673920,
          679545,
          683877,
          685141,
          685706,
          687125,
          690135,
          698002,
          705832,
          709670,
          729111,
          729816,
          731198,
          731342,
          737016,
          742518,
          743148,
          743212,
          754622,
          762394,
          772269,
          792354,
          793070,
          795283,
          806925,
          807806,
          813993,
          814362,
          814418,
          816422,
          820715,
          820981,
          825696,
          825988,
          836777,
          838739,
          840043,
          843846,
          858076,
          867134,
          875462,
          876763,
          884178,
          892525,
          904050,
          911097,
          915344,
          923373,
          930456,
          931342,
          936177,
          947175,
          948354,
          951083,
          955756,
          963289,
          968433,
          968630,
          969676,
          975005,
          977486,
          982800,
          997085,
          997777
         ],
         "xaxis": "x4",
         "yaxis": "y4"
        },
        {
         "name": "เลขหน้า 3 ตัว1",
         "nbinsx": 30,
         "type": "histogram",
         "x": [
          1,
          4,
          4,
          5,
          5,
          6,
          7,
          8,
          8,
          8,
          8,
          8,
          9,
          12,
          12,
          13,
          13,
          19,
          20,
          21,
          24,
          25,
          26,
          28,
          31,
          32,
          32,
          34,
          34,
          35,
          35,
          38,
          38,
          39,
          42,
          44,
          44,
          44,
          48,
          49,
          52,
          54,
          55,
          56,
          56,
          57,
          57,
          63,
          65,
          66,
          67,
          68,
          68,
          69,
          70,
          72,
          72,
          73,
          74,
          74,
          75,
          75,
          75,
          77,
          77,
          80,
          81,
          82,
          84,
          85,
          85,
          87,
          87,
          88,
          88,
          89,
          89,
          89,
          91,
          92,
          94,
          98,
          98,
          101,
          101,
          103,
          103,
          103,
          105,
          109,
          109,
          111,
          111,
          111,
          112,
          112,
          115,
          120,
          121,
          122,
          123,
          125,
          129,
          130,
          131,
          131,
          133,
          135,
          137,
          140,
          142,
          142,
          147,
          150,
          150,
          150,
          153,
          154,
          154,
          155,
          155,
          156,
          158,
          158,
          161,
          162,
          162,
          162,
          166,
          168,
          171,
          175,
          175,
          179,
          181,
          185,
          185,
          185,
          186,
          187,
          191,
          196,
          197,
          200,
          200,
          201,
          206,
          209,
          210,
          210,
          213,
          213,
          214,
          217,
          219,
          227,
          229,
          230,
          234,
          235,
          235,
          237,
          238,
          247,
          247,
          250,
          250,
          251,
          251,
          253,
          253,
          258,
          260,
          262,
          263,
          266,
          267,
          268,
          269,
          269,
          275,
          292,
          293,
          294,
          295,
          304,
          305,
          306,
          307,
          309,
          310,
          311,
          311,
          324,
          333,
          339,
          339,
          344,
          344,
          350,
          356,
          362,
          363,
          366,
          376,
          378,
          384,
          384,
          384,
          386,
          394,
          395,
          400,
          402,
          406,
          413,
          413,
          414,
          422,
          424,
          425,
          438,
          448,
          461,
          464,
          480,
          484,
          496,
          504,
          510,
          560,
          571,
          585,
          623,
          647,
          796,
          828
         ],
         "xaxis": "x5",
         "yaxis": "y5"
        },
        {
         "name": "เลขหน้า 3 ตัว1",
         "nbinsx": 30,
         "type": "histogram",
         "x": [
          226,
          305,
          349,
          355,
          356,
          378,
          401,
          424,
          431,
          435,
          457,
          459,
          460,
          460,
          470,
          486,
          494,
          498,
          502,
          505,
          507,
          510,
          523,
          530,
          532,
          533,
          533,
          535,
          535,
          539,
          555,
          559,
          560,
          572,
          576,
          580,
          582,
          584,
          589,
          593,
          595,
          605,
          606,
          606,
          607,
          608,
          609,
          612,
          624,
          632,
          634,
          639,
          648,
          654,
          670,
          673,
          680,
          686,
          689,
          691,
          693,
          694,
          699,
          699,
          702,
          705,
          708,
          709,
          716,
          724,
          726,
          730,
          739,
          744,
          750,
          753,
          754,
          754,
          755,
          757,
          757,
          758,
          765,
          767,
          767,
          770,
          770,
          775,
          775,
          778,
          778,
          781,
          781,
          782,
          782,
          783,
          784,
          784,
          790,
          790,
          794,
          802,
          802,
          804,
          804,
          806,
          811,
          811,
          812,
          814,
          816,
          820,
          820,
          822,
          826,
          830,
          830,
          832,
          833,
          836,
          843,
          843,
          844,
          845,
          845,
          846,
          847,
          849,
          859,
          865,
          868,
          870,
          872,
          877,
          877,
          877,
          877,
          884,
          885,
          887,
          888,
          889,
          889,
          890,
          892,
          892,
          893,
          895,
          896,
          897,
          900,
          901,
          902,
          902,
          903,
          903,
          904,
          906,
          906,
          906,
          906,
          910,
          912,
          913,
          915,
          916,
          916,
          917,
          918,
          922,
          924,
          925,
          926,
          928,
          929,
          929,
          933,
          933,
          933,
          935,
          935,
          935,
          941,
          943,
          943,
          945,
          945,
          945,
          947,
          950,
          950,
          952,
          952,
          952,
          953,
          954,
          954,
          957,
          959,
          959,
          961,
          965,
          965,
          966,
          966,
          968,
          973,
          973,
          974,
          975,
          975,
          976,
          976,
          976,
          978,
          979,
          979,
          980,
          982,
          982,
          984,
          985,
          986,
          986,
          987,
          989,
          989,
          991,
          992,
          993,
          994,
          995,
          995,
          996,
          996,
          997,
          999
         ],
         "xaxis": "x6",
         "yaxis": "y6"
        }
       ],
       "layout": {
        "bargap": 0.1,
        "template": {
         "data": {
          "bar": [
           {
            "error_x": {
             "color": "#2a3f5f"
            },
            "error_y": {
             "color": "#2a3f5f"
            },
            "marker": {
             "line": {
              "color": "#E5ECF6",
              "width": 0.5
             },
             "pattern": {
              "fillmode": "overlay",
              "size": 10,
              "solidity": 0.2
             }
            },
            "type": "bar"
           }
          ],
          "barpolar": [
           {
            "marker": {
             "line": {
              "color": "#E5ECF6",
              "width": 0.5
             },
             "pattern": {
              "fillmode": "overlay",
              "size": 10,
              "solidity": 0.2
             }
            },
            "type": "barpolar"
           }
          ],
          "carpet": [
           {
            "aaxis": {
             "endlinecolor": "#2a3f5f",
             "gridcolor": "white",
             "linecolor": "white",
             "minorgridcolor": "white",
             "startlinecolor": "#2a3f5f"
            },
            "baxis": {
             "endlinecolor": "#2a3f5f",
             "gridcolor": "white",
             "linecolor": "white",
             "minorgridcolor": "white",
             "startlinecolor": "#2a3f5f"
            },
            "type": "carpet"
           }
          ],
          "choropleth": [
           {
            "colorbar": {
             "outlinewidth": 0,
             "ticks": ""
            },
            "type": "choropleth"
           }
          ],
          "contour": [
           {
            "colorbar": {
             "outlinewidth": 0,
             "ticks": ""
            },
            "colorscale": [
             [
              0,
              "#0d0887"
             ],
             [
              0.1111111111111111,
              "#46039f"
             ],
             [
              0.2222222222222222,
              "#7201a8"
             ],
             [
              0.3333333333333333,
              "#9c179e"
             ],
             [
              0.4444444444444444,
              "#bd3786"
             ],
             [
              0.5555555555555556,
              "#d8576b"
             ],
             [
              0.6666666666666666,
              "#ed7953"
             ],
             [
              0.7777777777777778,
              "#fb9f3a"
             ],
             [
              0.8888888888888888,
              "#fdca26"
             ],
             [
              1,
              "#f0f921"
             ]
            ],
            "type": "contour"
           }
          ],
          "contourcarpet": [
           {
            "colorbar": {
             "outlinewidth": 0,
             "ticks": ""
            },
            "type": "contourcarpet"
           }
          ],
          "heatmap": [
           {
            "colorbar": {
             "outlinewidth": 0,
             "ticks": ""
            },
            "colorscale": [
             [
              0,
              "#0d0887"
             ],
             [
              0.1111111111111111,
              "#46039f"
             ],
             [
              0.2222222222222222,
              "#7201a8"
             ],
             [
              0.3333333333333333,
              "#9c179e"
             ],
             [
              0.4444444444444444,
              "#bd3786"
             ],
             [
              0.5555555555555556,
              "#d8576b"
             ],
             [
              0.6666666666666666,
              "#ed7953"
             ],
             [
              0.7777777777777778,
              "#fb9f3a"
             ],
             [
              0.8888888888888888,
              "#fdca26"
             ],
             [
              1,
              "#f0f921"
             ]
            ],
            "type": "heatmap"
           }
          ],
          "heatmapgl": [
           {
            "colorbar": {
             "outlinewidth": 0,
             "ticks": ""
            },
            "colorscale": [
             [
              0,
              "#0d0887"
             ],
             [
              0.1111111111111111,
              "#46039f"
             ],
             [
              0.2222222222222222,
              "#7201a8"
             ],
             [
              0.3333333333333333,
              "#9c179e"
             ],
             [
              0.4444444444444444,
              "#bd3786"
             ],
             [
              0.5555555555555556,
              "#d8576b"
             ],
             [
              0.6666666666666666,
              "#ed7953"
             ],
             [
              0.7777777777777778,
              "#fb9f3a"
             ],
             [
              0.8888888888888888,
              "#fdca26"
             ],
             [
              1,
              "#f0f921"
             ]
            ],
            "type": "heatmapgl"
           }
          ],
          "histogram": [
           {
            "marker": {
             "pattern": {
              "fillmode": "overlay",
              "size": 10,
              "solidity": 0.2
             }
            },
            "type": "histogram"
           }
          ],
          "histogram2d": [
           {
            "colorbar": {
             "outlinewidth": 0,
             "ticks": ""
            },
            "colorscale": [
             [
              0,
              "#0d0887"
             ],
             [
              0.1111111111111111,
              "#46039f"
             ],
             [
              0.2222222222222222,
              "#7201a8"
             ],
             [
              0.3333333333333333,
              "#9c179e"
             ],
             [
              0.4444444444444444,
              "#bd3786"
             ],
             [
              0.5555555555555556,
              "#d8576b"
             ],
             [
              0.6666666666666666,
              "#ed7953"
             ],
             [
              0.7777777777777778,
              "#fb9f3a"
             ],
             [
              0.8888888888888888,
              "#fdca26"
             ],
             [
              1,
              "#f0f921"
             ]
            ],
            "type": "histogram2d"
           }
          ],
          "histogram2dcontour": [
           {
            "colorbar": {
             "outlinewidth": 0,
             "ticks": ""
            },
            "colorscale": [
             [
              0,
              "#0d0887"
             ],
             [
              0.1111111111111111,
              "#46039f"
             ],
             [
              0.2222222222222222,
              "#7201a8"
             ],
             [
              0.3333333333333333,
              "#9c179e"
             ],
             [
              0.4444444444444444,
              "#bd3786"
             ],
             [
              0.5555555555555556,
              "#d8576b"
             ],
             [
              0.6666666666666666,
              "#ed7953"
             ],
             [
              0.7777777777777778,
              "#fb9f3a"
             ],
             [
              0.8888888888888888,
              "#fdca26"
             ],
             [
              1,
              "#f0f921"
             ]
            ],
            "type": "histogram2dcontour"
           }
          ],
          "mesh3d": [
           {
            "colorbar": {
             "outlinewidth": 0,
             "ticks": ""
            },
            "type": "mesh3d"
           }
          ],
          "parcoords": [
           {
            "line": {
             "colorbar": {
              "outlinewidth": 0,
              "ticks": ""
             }
            },
            "type": "parcoords"
           }
          ],
          "pie": [
           {
            "automargin": true,
            "type": "pie"
           }
          ],
          "scatter": [
           {
            "fillpattern": {
             "fillmode": "overlay",
             "size": 10,
             "solidity": 0.2
            },
            "type": "scatter"
           }
          ],
          "scatter3d": [
           {
            "line": {
             "colorbar": {
              "outlinewidth": 0,
              "ticks": ""
             }
            },
            "marker": {
             "colorbar": {
              "outlinewidth": 0,
              "ticks": ""
             }
            },
            "type": "scatter3d"
           }
          ],
          "scattercarpet": [
           {
            "marker": {
             "colorbar": {
              "outlinewidth": 0,
              "ticks": ""
             }
            },
            "type": "scattercarpet"
           }
          ],
          "scattergeo": [
           {
            "marker": {
             "colorbar": {
              "outlinewidth": 0,
              "ticks": ""
             }
            },
            "type": "scattergeo"
           }
          ],
          "scattergl": [
           {
            "marker": {
             "colorbar": {
              "outlinewidth": 0,
              "ticks": ""
             }
            },
            "type": "scattergl"
           }
          ],
          "scattermapbox": [
           {
            "marker": {
             "colorbar": {
              "outlinewidth": 0,
              "ticks": ""
             }
            },
            "type": "scattermapbox"
           }
          ],
          "scatterpolar": [
           {
            "marker": {
             "colorbar": {
              "outlinewidth": 0,
              "ticks": ""
             }
            },
            "type": "scatterpolar"
           }
          ],
          "scatterpolargl": [
           {
            "marker": {
             "colorbar": {
              "outlinewidth": 0,
              "ticks": ""
             }
            },
            "type": "scatterpolargl"
           }
          ],
          "scatterternary": [
           {
            "marker": {
             "colorbar": {
              "outlinewidth": 0,
              "ticks": ""
             }
            },
            "type": "scatterternary"
           }
          ],
          "surface": [
           {
            "colorbar": {
             "outlinewidth": 0,
             "ticks": ""
            },
            "colorscale": [
             [
              0,
              "#0d0887"
             ],
             [
              0.1111111111111111,
              "#46039f"
             ],
             [
              0.2222222222222222,
              "#7201a8"
             ],
             [
              0.3333333333333333,
              "#9c179e"
             ],
             [
              0.4444444444444444,
              "#bd3786"
             ],
             [
              0.5555555555555556,
              "#d8576b"
             ],
             [
              0.6666666666666666,
              "#ed7953"
             ],
             [
              0.7777777777777778,
              "#fb9f3a"
             ],
             [
              0.8888888888888888,
              "#fdca26"
             ],
             [
              1,
              "#f0f921"
             ]
            ],
            "type": "surface"
           }
          ],
          "table": [
           {
            "cells": {
             "fill": {
              "color": "#EBF0F8"
             },
             "line": {
              "color": "white"
             }
            },
            "header": {
             "fill": {
              "color": "#C8D4E3"
             },
             "line": {
              "color": "white"
             }
            },
            "type": "table"
           }
          ]
         },
         "layout": {
          "annotationdefaults": {
           "arrowcolor": "#2a3f5f",
           "arrowhead": 0,
           "arrowwidth": 1
          },
          "autotypenumbers": "strict",
          "coloraxis": {
           "colorbar": {
            "outlinewidth": 0,
            "ticks": ""
           }
          },
          "colorscale": {
           "diverging": [
            [
             0,
             "#8e0152"
            ],
            [
             0.1,
             "#c51b7d"
            ],
            [
             0.2,
             "#de77ae"
            ],
            [
             0.3,
             "#f1b6da"
            ],
            [
             0.4,
             "#fde0ef"
            ],
            [
             0.5,
             "#f7f7f7"
            ],
            [
             0.6,
             "#e6f5d0"
            ],
            [
             0.7,
             "#b8e186"
            ],
            [
             0.8,
             "#7fbc41"
            ],
            [
             0.9,
             "#4d9221"
            ],
            [
             1,
             "#276419"
            ]
           ],
           "sequential": [
            [
             0,
             "#0d0887"
            ],
            [
             0.1111111111111111,
             "#46039f"
            ],
            [
             0.2222222222222222,
             "#7201a8"
            ],
            [
             0.3333333333333333,
             "#9c179e"
            ],
            [
             0.4444444444444444,
             "#bd3786"
            ],
            [
             0.5555555555555556,
             "#d8576b"
            ],
            [
             0.6666666666666666,
             "#ed7953"
            ],
            [
             0.7777777777777778,
             "#fb9f3a"
            ],
            [
             0.8888888888888888,
             "#fdca26"
            ],
            [
             1,
             "#f0f921"
            ]
           ],
           "sequentialminus": [
            [
             0,
             "#0d0887"
            ],
            [
             0.1111111111111111,
             "#46039f"
            ],
            [
             0.2222222222222222,
             "#7201a8"
            ],
            [
             0.3333333333333333,
             "#9c179e"
            ],
            [
             0.4444444444444444,
             "#bd3786"
            ],
            [
             0.5555555555555556,
             "#d8576b"
            ],
            [
             0.6666666666666666,
             "#ed7953"
            ],
            [
             0.7777777777777778,
             "#fb9f3a"
            ],
            [
             0.8888888888888888,
             "#fdca26"
            ],
            [
             1,
             "#f0f921"
            ]
           ]
          },
          "colorway": [
           "#636efa",
           "#EF553B",
           "#00cc96",
           "#ab63fa",
           "#FFA15A",
           "#19d3f3",
           "#FF6692",
           "#B6E880",
           "#FF97FF",
           "#FECB52"
          ],
          "font": {
           "color": "#2a3f5f"
          },
          "geo": {
           "bgcolor": "white",
           "lakecolor": "white",
           "landcolor": "#E5ECF6",
           "showlakes": true,
           "showland": true,
           "subunitcolor": "white"
          },
          "hoverlabel": {
           "align": "left"
          },
          "hovermode": "closest",
          "mapbox": {
           "style": "light"
          },
          "paper_bgcolor": "white",
          "plot_bgcolor": "#E5ECF6",
          "polar": {
           "angularaxis": {
            "gridcolor": "white",
            "linecolor": "white",
            "ticks": ""
           },
           "bgcolor": "#E5ECF6",
           "radialaxis": {
            "gridcolor": "white",
            "linecolor": "white",
            "ticks": ""
           }
          },
          "scene": {
           "xaxis": {
            "backgroundcolor": "#E5ECF6",
            "gridcolor": "white",
            "gridwidth": 2,
            "linecolor": "white",
            "showbackground": true,
            "ticks": "",
            "zerolinecolor": "white"
           },
           "yaxis": {
            "backgroundcolor": "#E5ECF6",
            "gridcolor": "white",
            "gridwidth": 2,
            "linecolor": "white",
            "showbackground": true,
            "ticks": "",
            "zerolinecolor": "white"
           },
           "zaxis": {
            "backgroundcolor": "#E5ECF6",
            "gridcolor": "white",
            "gridwidth": 2,
            "linecolor": "white",
            "showbackground": true,
            "ticks": "",
            "zerolinecolor": "white"
           }
          },
          "shapedefaults": {
           "line": {
            "color": "#2a3f5f"
           }
          },
          "ternary": {
           "aaxis": {
            "gridcolor": "white",
            "linecolor": "white",
            "ticks": ""
           },
           "baxis": {
            "gridcolor": "white",
            "linecolor": "white",
            "ticks": ""
           },
           "bgcolor": "#E5ECF6",
           "caxis": {
            "gridcolor": "white",
            "linecolor": "white",
            "ticks": ""
           }
          },
          "title": {
           "x": 0.05
          },
          "xaxis": {
           "automargin": true,
           "gridcolor": "white",
           "linecolor": "white",
           "ticks": "",
           "title": {
            "standoff": 15
           },
           "zerolinecolor": "white",
           "zerolinewidth": 2
          },
          "yaxis": {
           "automargin": true,
           "gridcolor": "white",
           "linecolor": "white",
           "ticks": "",
           "title": {
            "standoff": 15
           },
           "zerolinecolor": "white",
           "zerolinewidth": 2
          }
         }
        },
        "title": {
         "text": "จำนวนการเกิดของแต่ละตัวเลข ในทุกรางวัลที่ประกาศทุกกลางเดือน"
        },
        "xaxis": {
         "anchor": "y",
         "domain": [
          0,
          0.2888888888888889
         ],
         "title": {
          "text": "ตัวเลข"
         }
        },
        "xaxis2": {
         "anchor": "y2",
         "domain": [
          0.35555555555555557,
          0.6444444444444445
         ]
        },
        "xaxis3": {
         "anchor": "y3",
         "domain": [
          0.7111111111111111,
          1
         ]
        },
        "xaxis4": {
         "anchor": "y4",
         "domain": [
          0,
          0.2888888888888889
         ]
        },
        "xaxis5": {
         "anchor": "y5",
         "domain": [
          0.35555555555555557,
          0.6444444444444445
         ]
        },
        "xaxis6": {
         "anchor": "y6",
         "domain": [
          0.7111111111111111,
          1
         ]
        },
        "yaxis": {
         "anchor": "x",
         "domain": [
          0.575,
          1
         ],
         "title": {
          "text": "จำนวนครั้ง"
         }
        },
        "yaxis2": {
         "anchor": "x2",
         "domain": [
          0.575,
          1
         ]
        },
        "yaxis3": {
         "anchor": "x3",
         "domain": [
          0.575,
          1
         ]
        },
        "yaxis4": {
         "anchor": "x4",
         "domain": [
          0,
          0.425
         ]
        },
        "yaxis5": {
         "anchor": "x5",
         "domain": [
          0,
          0.425
         ]
        },
        "yaxis6": {
         "anchor": "x6",
         "domain": [
          0,
          0.425
         ]
        }
       }
      }
     },
     "metadata": {},
     "output_type": "display_data"
    }
   ],
   "source": [
    "second_fig = make_subplots(rows=2, cols=3)\n",
    "second_fig.add_trace(\n",
    "    go.Histogram(x=sixteenth_day_df['เลขท้าย 2 ตัว'].sort_values(),\n",
    "                name = 'เลขท้าย 2 ตัว',\n",
    "                nbinsx=20\n",
    "                ),\n",
    "    row=1, col=1\n",
    ")\n",
    "second_fig.add_trace(\n",
    "    go.Histogram(x=sixteenth_day_df['เลขท้าย 3 ตัว1'].sort_values(),\n",
    "                name = 'เลขท้าย 3 ตัว1',\n",
    "                nbinsx=30\n",
    "                ),\n",
    "    row=1, col=2\n",
    ")\n",
    "second_fig.add_trace(\n",
    "    go.Histogram(x=sixteenth_day_df['เลขท้าย 3 ตัว2'].sort_values(),\n",
    "                name = 'เลขท้าย 3 ตัว2',\n",
    "                nbinsx=30\n",
    "                ),\n",
    "    row=1, col=3\n",
    ")\n",
    "second_fig.add_trace(\n",
    "    go.Histogram(x=sixteenth_day_df['รางวัลที่หนึ่ง'].sort_values(),\n",
    "                name = 'รางวัลที่หนึ่ง',\n",
    "                nbinsx=40\n",
    "                ),\n",
    "    row=2, col=1\n",
    ")\n",
    "second_fig.add_trace(\n",
    "    go.Histogram(x=sixteenth_day_df['เลขหน้า 3 ตัว1'].sort_values(),\n",
    "                name = 'เลขหน้า 3 ตัว1',\n",
    "                nbinsx=30\n",
    "                ),\n",
    "    row=2, col=2\n",
    ")\n",
    "second_fig.add_trace(\n",
    "    go.Histogram(x=sixteenth_day_df['เลขหน้า 3 ตัว2'].sort_values(),\n",
    "                name = 'เลขหน้า 3 ตัว1',\n",
    "                nbinsx=30\n",
    "                ),\n",
    "    row=2, col=3\n",
    ")\n",
    "second_fig.update_layout(\n",
    "    title_text='จำนวนการเกิดของแต่ละตัวเลข ในทุกรางวัลที่ประกาศทุกกลางเดือน', # title of plot\n",
    "    xaxis_title_text='ตัวเลข', # xaxis label\n",
    "    yaxis_title_text='จำนวนครั้ง', # yaxis label\n",
    "    bargap=0.1, # gap between bars of adjacent location coordinates\n",
    ")\n",
    "\n",
    "second_fig.show()"
   ]
  },
  {
   "cell_type": "code",
   "execution_count": 28,
   "metadata": {},
   "outputs": [
    {
     "data": {
      "application/vnd.plotly.v1+json": {
       "config": {
        "plotlyServerURL": "https://plot.ly"
       },
       "data": [
        {
         "coloraxis": "coloraxis",
         "hovertemplate": "Numbers: %{x}<br>Numbers: %{y}<br>Correlation: %{z}<extra></extra>",
         "name": "0",
         "type": "heatmap",
         "x": [
          "เลขท้าย 2 ตัว",
          "เลขหน้า 3 ตัว1",
          "เลขหน้า 3 ตัว2",
          "เลขท้าย 3 ตัว1",
          "เลขท้าย 3 ตัว2",
          "รางวัลที่หนึ่ง"
         ],
         "xaxis": "x",
         "y": [
          "เลขท้าย 2 ตัว",
          "เลขหน้า 3 ตัว1",
          "เลขหน้า 3 ตัว2",
          "เลขท้าย 3 ตัว1",
          "เลขท้าย 3 ตัว2",
          "รางวัลที่หนึ่ง"
         ],
         "yaxis": "y",
         "z": [
          [
           1,
           0.14563077804905875,
           0.056213785669895634,
           0.09420679958284474,
           0.08973630965210234,
           0.06631990504284593
          ],
          [
           0.14563077804905875,
           1,
           0.24472462158639738,
           0.4064919009128819,
           0.6041403124231158,
           0.01191335717386063
          ],
          [
           0.056213785669895634,
           0.24472462158639738,
           1,
           0.5804709283128426,
           0.4230112901635588,
           -0.03833832123434329
          ],
          [
           0.09420679958284474,
           0.4064919009128819,
           0.5804709283128426,
           1,
           0.7009585424419404,
           -0.024255596017134416
          ],
          [
           0.08973630965210234,
           0.6041403124231158,
           0.4230112901635588,
           0.7009585424419404,
           1,
           0.01655114556208607
          ],
          [
           0.06631990504284593,
           0.01191335717386063,
           -0.03833832123434329,
           -0.024255596017134416,
           0.01655114556208607,
           1
          ]
         ]
        }
       ],
       "layout": {
        "coloraxis": {
         "colorbar": {
          "title": {
           "text": "Correlation"
          }
         },
         "colorscale": [
          [
           0,
           "#0d0887"
          ],
          [
           0.1111111111111111,
           "#46039f"
          ],
          [
           0.2222222222222222,
           "#7201a8"
          ],
          [
           0.3333333333333333,
           "#9c179e"
          ],
          [
           0.4444444444444444,
           "#bd3786"
          ],
          [
           0.5555555555555556,
           "#d8576b"
          ],
          [
           0.6666666666666666,
           "#ed7953"
          ],
          [
           0.7777777777777778,
           "#fb9f3a"
          ],
          [
           0.8888888888888888,
           "#fdca26"
          ],
          [
           1,
           "#f0f921"
          ]
         ]
        },
        "template": {
         "data": {
          "bar": [
           {
            "error_x": {
             "color": "#2a3f5f"
            },
            "error_y": {
             "color": "#2a3f5f"
            },
            "marker": {
             "line": {
              "color": "#E5ECF6",
              "width": 0.5
             },
             "pattern": {
              "fillmode": "overlay",
              "size": 10,
              "solidity": 0.2
             }
            },
            "type": "bar"
           }
          ],
          "barpolar": [
           {
            "marker": {
             "line": {
              "color": "#E5ECF6",
              "width": 0.5
             },
             "pattern": {
              "fillmode": "overlay",
              "size": 10,
              "solidity": 0.2
             }
            },
            "type": "barpolar"
           }
          ],
          "carpet": [
           {
            "aaxis": {
             "endlinecolor": "#2a3f5f",
             "gridcolor": "white",
             "linecolor": "white",
             "minorgridcolor": "white",
             "startlinecolor": "#2a3f5f"
            },
            "baxis": {
             "endlinecolor": "#2a3f5f",
             "gridcolor": "white",
             "linecolor": "white",
             "minorgridcolor": "white",
             "startlinecolor": "#2a3f5f"
            },
            "type": "carpet"
           }
          ],
          "choropleth": [
           {
            "colorbar": {
             "outlinewidth": 0,
             "ticks": ""
            },
            "type": "choropleth"
           }
          ],
          "contour": [
           {
            "colorbar": {
             "outlinewidth": 0,
             "ticks": ""
            },
            "colorscale": [
             [
              0,
              "#0d0887"
             ],
             [
              0.1111111111111111,
              "#46039f"
             ],
             [
              0.2222222222222222,
              "#7201a8"
             ],
             [
              0.3333333333333333,
              "#9c179e"
             ],
             [
              0.4444444444444444,
              "#bd3786"
             ],
             [
              0.5555555555555556,
              "#d8576b"
             ],
             [
              0.6666666666666666,
              "#ed7953"
             ],
             [
              0.7777777777777778,
              "#fb9f3a"
             ],
             [
              0.8888888888888888,
              "#fdca26"
             ],
             [
              1,
              "#f0f921"
             ]
            ],
            "type": "contour"
           }
          ],
          "contourcarpet": [
           {
            "colorbar": {
             "outlinewidth": 0,
             "ticks": ""
            },
            "type": "contourcarpet"
           }
          ],
          "heatmap": [
           {
            "colorbar": {
             "outlinewidth": 0,
             "ticks": ""
            },
            "colorscale": [
             [
              0,
              "#0d0887"
             ],
             [
              0.1111111111111111,
              "#46039f"
             ],
             [
              0.2222222222222222,
              "#7201a8"
             ],
             [
              0.3333333333333333,
              "#9c179e"
             ],
             [
              0.4444444444444444,
              "#bd3786"
             ],
             [
              0.5555555555555556,
              "#d8576b"
             ],
             [
              0.6666666666666666,
              "#ed7953"
             ],
             [
              0.7777777777777778,
              "#fb9f3a"
             ],
             [
              0.8888888888888888,
              "#fdca26"
             ],
             [
              1,
              "#f0f921"
             ]
            ],
            "type": "heatmap"
           }
          ],
          "heatmapgl": [
           {
            "colorbar": {
             "outlinewidth": 0,
             "ticks": ""
            },
            "colorscale": [
             [
              0,
              "#0d0887"
             ],
             [
              0.1111111111111111,
              "#46039f"
             ],
             [
              0.2222222222222222,
              "#7201a8"
             ],
             [
              0.3333333333333333,
              "#9c179e"
             ],
             [
              0.4444444444444444,
              "#bd3786"
             ],
             [
              0.5555555555555556,
              "#d8576b"
             ],
             [
              0.6666666666666666,
              "#ed7953"
             ],
             [
              0.7777777777777778,
              "#fb9f3a"
             ],
             [
              0.8888888888888888,
              "#fdca26"
             ],
             [
              1,
              "#f0f921"
             ]
            ],
            "type": "heatmapgl"
           }
          ],
          "histogram": [
           {
            "marker": {
             "pattern": {
              "fillmode": "overlay",
              "size": 10,
              "solidity": 0.2
             }
            },
            "type": "histogram"
           }
          ],
          "histogram2d": [
           {
            "colorbar": {
             "outlinewidth": 0,
             "ticks": ""
            },
            "colorscale": [
             [
              0,
              "#0d0887"
             ],
             [
              0.1111111111111111,
              "#46039f"
             ],
             [
              0.2222222222222222,
              "#7201a8"
             ],
             [
              0.3333333333333333,
              "#9c179e"
             ],
             [
              0.4444444444444444,
              "#bd3786"
             ],
             [
              0.5555555555555556,
              "#d8576b"
             ],
             [
              0.6666666666666666,
              "#ed7953"
             ],
             [
              0.7777777777777778,
              "#fb9f3a"
             ],
             [
              0.8888888888888888,
              "#fdca26"
             ],
             [
              1,
              "#f0f921"
             ]
            ],
            "type": "histogram2d"
           }
          ],
          "histogram2dcontour": [
           {
            "colorbar": {
             "outlinewidth": 0,
             "ticks": ""
            },
            "colorscale": [
             [
              0,
              "#0d0887"
             ],
             [
              0.1111111111111111,
              "#46039f"
             ],
             [
              0.2222222222222222,
              "#7201a8"
             ],
             [
              0.3333333333333333,
              "#9c179e"
             ],
             [
              0.4444444444444444,
              "#bd3786"
             ],
             [
              0.5555555555555556,
              "#d8576b"
             ],
             [
              0.6666666666666666,
              "#ed7953"
             ],
             [
              0.7777777777777778,
              "#fb9f3a"
             ],
             [
              0.8888888888888888,
              "#fdca26"
             ],
             [
              1,
              "#f0f921"
             ]
            ],
            "type": "histogram2dcontour"
           }
          ],
          "mesh3d": [
           {
            "colorbar": {
             "outlinewidth": 0,
             "ticks": ""
            },
            "type": "mesh3d"
           }
          ],
          "parcoords": [
           {
            "line": {
             "colorbar": {
              "outlinewidth": 0,
              "ticks": ""
             }
            },
            "type": "parcoords"
           }
          ],
          "pie": [
           {
            "automargin": true,
            "type": "pie"
           }
          ],
          "scatter": [
           {
            "fillpattern": {
             "fillmode": "overlay",
             "size": 10,
             "solidity": 0.2
            },
            "type": "scatter"
           }
          ],
          "scatter3d": [
           {
            "line": {
             "colorbar": {
              "outlinewidth": 0,
              "ticks": ""
             }
            },
            "marker": {
             "colorbar": {
              "outlinewidth": 0,
              "ticks": ""
             }
            },
            "type": "scatter3d"
           }
          ],
          "scattercarpet": [
           {
            "marker": {
             "colorbar": {
              "outlinewidth": 0,
              "ticks": ""
             }
            },
            "type": "scattercarpet"
           }
          ],
          "scattergeo": [
           {
            "marker": {
             "colorbar": {
              "outlinewidth": 0,
              "ticks": ""
             }
            },
            "type": "scattergeo"
           }
          ],
          "scattergl": [
           {
            "marker": {
             "colorbar": {
              "outlinewidth": 0,
              "ticks": ""
             }
            },
            "type": "scattergl"
           }
          ],
          "scattermapbox": [
           {
            "marker": {
             "colorbar": {
              "outlinewidth": 0,
              "ticks": ""
             }
            },
            "type": "scattermapbox"
           }
          ],
          "scatterpolar": [
           {
            "marker": {
             "colorbar": {
              "outlinewidth": 0,
              "ticks": ""
             }
            },
            "type": "scatterpolar"
           }
          ],
          "scatterpolargl": [
           {
            "marker": {
             "colorbar": {
              "outlinewidth": 0,
              "ticks": ""
             }
            },
            "type": "scatterpolargl"
           }
          ],
          "scatterternary": [
           {
            "marker": {
             "colorbar": {
              "outlinewidth": 0,
              "ticks": ""
             }
            },
            "type": "scatterternary"
           }
          ],
          "surface": [
           {
            "colorbar": {
             "outlinewidth": 0,
             "ticks": ""
            },
            "colorscale": [
             [
              0,
              "#0d0887"
             ],
             [
              0.1111111111111111,
              "#46039f"
             ],
             [
              0.2222222222222222,
              "#7201a8"
             ],
             [
              0.3333333333333333,
              "#9c179e"
             ],
             [
              0.4444444444444444,
              "#bd3786"
             ],
             [
              0.5555555555555556,
              "#d8576b"
             ],
             [
              0.6666666666666666,
              "#ed7953"
             ],
             [
              0.7777777777777778,
              "#fb9f3a"
             ],
             [
              0.8888888888888888,
              "#fdca26"
             ],
             [
              1,
              "#f0f921"
             ]
            ],
            "type": "surface"
           }
          ],
          "table": [
           {
            "cells": {
             "fill": {
              "color": "#EBF0F8"
             },
             "line": {
              "color": "white"
             }
            },
            "header": {
             "fill": {
              "color": "#C8D4E3"
             },
             "line": {
              "color": "white"
             }
            },
            "type": "table"
           }
          ]
         },
         "layout": {
          "annotationdefaults": {
           "arrowcolor": "#2a3f5f",
           "arrowhead": 0,
           "arrowwidth": 1
          },
          "autotypenumbers": "strict",
          "coloraxis": {
           "colorbar": {
            "outlinewidth": 0,
            "ticks": ""
           }
          },
          "colorscale": {
           "diverging": [
            [
             0,
             "#8e0152"
            ],
            [
             0.1,
             "#c51b7d"
            ],
            [
             0.2,
             "#de77ae"
            ],
            [
             0.3,
             "#f1b6da"
            ],
            [
             0.4,
             "#fde0ef"
            ],
            [
             0.5,
             "#f7f7f7"
            ],
            [
             0.6,
             "#e6f5d0"
            ],
            [
             0.7,
             "#b8e186"
            ],
            [
             0.8,
             "#7fbc41"
            ],
            [
             0.9,
             "#4d9221"
            ],
            [
             1,
             "#276419"
            ]
           ],
           "sequential": [
            [
             0,
             "#0d0887"
            ],
            [
             0.1111111111111111,
             "#46039f"
            ],
            [
             0.2222222222222222,
             "#7201a8"
            ],
            [
             0.3333333333333333,
             "#9c179e"
            ],
            [
             0.4444444444444444,
             "#bd3786"
            ],
            [
             0.5555555555555556,
             "#d8576b"
            ],
            [
             0.6666666666666666,
             "#ed7953"
            ],
            [
             0.7777777777777778,
             "#fb9f3a"
            ],
            [
             0.8888888888888888,
             "#fdca26"
            ],
            [
             1,
             "#f0f921"
            ]
           ],
           "sequentialminus": [
            [
             0,
             "#0d0887"
            ],
            [
             0.1111111111111111,
             "#46039f"
            ],
            [
             0.2222222222222222,
             "#7201a8"
            ],
            [
             0.3333333333333333,
             "#9c179e"
            ],
            [
             0.4444444444444444,
             "#bd3786"
            ],
            [
             0.5555555555555556,
             "#d8576b"
            ],
            [
             0.6666666666666666,
             "#ed7953"
            ],
            [
             0.7777777777777778,
             "#fb9f3a"
            ],
            [
             0.8888888888888888,
             "#fdca26"
            ],
            [
             1,
             "#f0f921"
            ]
           ]
          },
          "colorway": [
           "#636efa",
           "#EF553B",
           "#00cc96",
           "#ab63fa",
           "#FFA15A",
           "#19d3f3",
           "#FF6692",
           "#B6E880",
           "#FF97FF",
           "#FECB52"
          ],
          "font": {
           "color": "#2a3f5f"
          },
          "geo": {
           "bgcolor": "white",
           "lakecolor": "white",
           "landcolor": "#E5ECF6",
           "showlakes": true,
           "showland": true,
           "subunitcolor": "white"
          },
          "hoverlabel": {
           "align": "left"
          },
          "hovermode": "closest",
          "mapbox": {
           "style": "light"
          },
          "paper_bgcolor": "white",
          "plot_bgcolor": "#E5ECF6",
          "polar": {
           "angularaxis": {
            "gridcolor": "white",
            "linecolor": "white",
            "ticks": ""
           },
           "bgcolor": "#E5ECF6",
           "radialaxis": {
            "gridcolor": "white",
            "linecolor": "white",
            "ticks": ""
           }
          },
          "scene": {
           "xaxis": {
            "backgroundcolor": "#E5ECF6",
            "gridcolor": "white",
            "gridwidth": 2,
            "linecolor": "white",
            "showbackground": true,
            "ticks": "",
            "zerolinecolor": "white"
           },
           "yaxis": {
            "backgroundcolor": "#E5ECF6",
            "gridcolor": "white",
            "gridwidth": 2,
            "linecolor": "white",
            "showbackground": true,
            "ticks": "",
            "zerolinecolor": "white"
           },
           "zaxis": {
            "backgroundcolor": "#E5ECF6",
            "gridcolor": "white",
            "gridwidth": 2,
            "linecolor": "white",
            "showbackground": true,
            "ticks": "",
            "zerolinecolor": "white"
           }
          },
          "shapedefaults": {
           "line": {
            "color": "#2a3f5f"
           }
          },
          "ternary": {
           "aaxis": {
            "gridcolor": "white",
            "linecolor": "white",
            "ticks": ""
           },
           "baxis": {
            "gridcolor": "white",
            "linecolor": "white",
            "ticks": ""
           },
           "bgcolor": "#E5ECF6",
           "caxis": {
            "gridcolor": "white",
            "linecolor": "white",
            "ticks": ""
           }
          },
          "title": {
           "x": 0.05
          },
          "xaxis": {
           "automargin": true,
           "gridcolor": "white",
           "linecolor": "white",
           "ticks": "",
           "title": {
            "standoff": 15
           },
           "zerolinecolor": "white",
           "zerolinewidth": 2
          },
          "yaxis": {
           "automargin": true,
           "gridcolor": "white",
           "linecolor": "white",
           "ticks": "",
           "title": {
            "standoff": 15
           },
           "zerolinecolor": "white",
           "zerolinewidth": 2
          }
         }
        },
        "title": {
         "text": "Correlation Heatmap of each prizes"
        },
        "xaxis": {
         "anchor": "y",
         "constrain": "domain",
         "domain": [
          0,
          1
         ],
         "scaleanchor": "y",
         "title": {
          "text": "Numbers"
         }
        },
        "yaxis": {
         "anchor": "x",
         "autorange": "reversed",
         "constrain": "domain",
         "domain": [
          0,
          1
         ],
         "title": {
          "text": "Numbers"
         }
        }
       }
      }
     },
     "metadata": {},
     "output_type": "display_data"
    }
   ],
   "source": [
    "correlation_df = df.loc[:,['เลขท้าย 2 ตัว','เลขหน้า 3 ตัว1','เลขหน้า 3 ตัว2','เลขท้าย 3 ตัว1','เลขท้าย 3 ตัว2','รางวัลที่หนึ่ง']].corr()\n",
    "fig_corr = px.imshow(correlation_df, labels=dict(x=\"Numbers\", y=\"Numbers\", color=\"Correlation\"),\n",
    "                     title='Correlation Heatmap of each prizes')\n",
    "fig_corr.show()"
   ]
  },
  {
   "cell_type": "markdown",
   "metadata": {},
   "source": [
    "### ML Approaches\n"
   ]
  },
  {
   "cell_type": "markdown",
   "metadata": {},
   "source": [
    "#### Linear Regression\n"
   ]
  },
  {
   "cell_type": "code",
   "execution_count": 29,
   "metadata": {},
   "outputs": [],
   "source": [
    "from sklearn.linear_model import LinearRegression"
   ]
  },
  {
   "cell_type": "code",
   "execution_count": 30,
   "metadata": {},
   "outputs": [
    {
     "name": "stdout",
     "output_type": "stream",
     "text": [
      "<class 'pandas.core.frame.DataFrame'>\n",
      "DatetimeIndex: 480 entries, 2016-09-01 to 1996-09-16\n",
      "Data columns (total 26 columns):\n",
      " #   Column                  Non-Null Count  Dtype\n",
      "---  ------                  --------------  -----\n",
      " 0   เลขท้าย 2 ตัว           480 non-null    int64\n",
      " 1   เลขหน้า 3 ตัว1          480 non-null    int64\n",
      " 2   เลขท้าย 3 ตัว2          480 non-null    int64\n",
      " 3   เลขท้าย 3 ตัว1          480 non-null    int64\n",
      " 4   เลขหน้า 3 ตัว2          480 non-null    int64\n",
      " 5   รางวัลที่หนึ่ง          480 non-null    int64\n",
      " 6   last_two_digits_first   480 non-null    int32\n",
      " 7   last_two_digits_second  480 non-null    int32\n",
      " 8   first_digit             480 non-null    int32\n",
      " 9   second_digit            480 non-null    int32\n",
      " 10  third_digit             480 non-null    int32\n",
      " 11  fourth_digit            480 non-null    int32\n",
      " 12  fifth_digit             480 non-null    int32\n",
      " 13  sixth_digit             480 non-null    int32\n",
      " 14  เลขท้าย 3 ตัว1_first    480 non-null    int32\n",
      " 15  เลขท้าย 3 ตัว1_second   480 non-null    int32\n",
      " 16  เลขท้าย 3 ตัว1_third    480 non-null    int32\n",
      " 17  เลขท้าย 3 ตัว2_first    480 non-null    int32\n",
      " 18  เลขท้าย 3 ตัว2_second   480 non-null    int32\n",
      " 19  เลขท้าย 3 ตัว2_third    480 non-null    int32\n",
      " 20  เลขหน้า 3 ตัว1_first    480 non-null    int32\n",
      " 21  เลขหน้า 3 ตัว1_second   480 non-null    int32\n",
      " 22  เลขหน้า 3 ตัว1_third    480 non-null    int32\n",
      " 23  เลขหน้า 3 ตัว2_first    480 non-null    int32\n",
      " 24  เลขหน้า 3 ตัว2_second   480 non-null    int32\n",
      " 25  เลขหน้า 3 ตัว2_third    480 non-null    int32\n",
      "dtypes: int32(20), int64(6)\n",
      "memory usage: 63.8 KB\n"
     ]
    }
   ],
   "source": [
    "df[df.select_dtypes(include='object').columns] = df[df.select_dtypes(include='object').columns].astype('int64')\n",
    "df.info()"
   ]
  },
  {
   "cell_type": "code",
   "execution_count": 31,
   "metadata": {},
   "outputs": [
    {
     "data": {
      "application/vnd.plotly.v1+json": {
       "config": {
        "plotlyServerURL": "https://plot.ly"
       },
       "data": [
        {
         "hovertemplate": "เลขท้าย 3 ตัว2=%{x}<br>เลขท้าย 3 ตัว1=%{y}<extra></extra>",
         "legendgroup": "",
         "marker": {
          "color": "#636efa",
          "symbol": "circle"
         },
         "mode": "markers",
         "name": "",
         "orientation": "v",
         "showlegend": false,
         "type": "scatter",
         "x": [
          335,
          596,
          538,
          552,
          173,
          321,
          775,
          268,
          238,
          228,
          390,
          855,
          426,
          312,
          76,
          532,
          264,
          140,
          181,
          241,
          166,
          134,
          440,
          209,
          260,
          624,
          598,
          461,
          565,
          386,
          700,
          799,
          195,
          164,
          558,
          622,
          31,
          392,
          83,
          398,
          853,
          763,
          380,
          422,
          607,
          784,
          159,
          257,
          477,
          633,
          576,
          117,
          271,
          158,
          324,
          150,
          158,
          344,
          499,
          305,
          537,
          397,
          492,
          149,
          503,
          228,
          734,
          304,
          173,
          529,
          324,
          235,
          281,
          417,
          451,
          352,
          284,
          114,
          713,
          261,
          359,
          834,
          430,
          529,
          721,
          386,
          641,
          334,
          589,
          734,
          434,
          576,
          217,
          152,
          554,
          242,
          598,
          612,
          745,
          159,
          611,
          479,
          576,
          309,
          468,
          216,
          332,
          350,
          199,
          214,
          498,
          328,
          168,
          295,
          739,
          425,
          221,
          329,
          189,
          589,
          533,
          74,
          583,
          227,
          390,
          167,
          556,
          71,
          421,
          263,
          40,
          463,
          396,
          388,
          361,
          227,
          186,
          315,
          470,
          763,
          739,
          385,
          91,
          103,
          570,
          578,
          191,
          219,
          893,
          628,
          374,
          151,
          382,
          285,
          174,
          619,
          457,
          137,
          577,
          459,
          419,
          524,
          252,
          299,
          465,
          135,
          255,
          200,
          446,
          577,
          374,
          177,
          233,
          125,
          240,
          368,
          301,
          179,
          113,
          228,
          238,
          434,
          427,
          800,
          197,
          715,
          260,
          589,
          333,
          526,
          302,
          534,
          206,
          445,
          386,
          401,
          287,
          345,
          666,
          193,
          1,
          43,
          195,
          85,
          85,
          512,
          472,
          548,
          490,
          432,
          485,
          198,
          277,
          663,
          104,
          273,
          505,
          236,
          48,
          183,
          287,
          589,
          433,
          751,
          553,
          522,
          677,
          191,
          801,
          607,
          287,
          293,
          403,
          439,
          236,
          347,
          647,
          358,
          804,
          290,
          600,
          221,
          487,
          432,
          126,
          381,
          382,
          463,
          82,
          442,
          301,
          205,
          586,
          240,
          384,
          222,
          150,
          802,
          72,
          502,
          171,
          346,
          551,
          124,
          123,
          272,
          152,
          460,
          427,
          74,
          405,
          465,
          73,
          346,
          381,
          394,
          681,
          86,
          389,
          291,
          221,
          183,
          139,
          744,
          661,
          200,
          547,
          774,
          456,
          114,
          510,
          461,
          313,
          459,
          776,
          492,
          385,
          721,
          808,
          478,
          510,
          309,
          361,
          357,
          435,
          676,
          559,
          474,
          216,
          84,
          379,
          494,
          661,
          271,
          460,
          281,
          282,
          605,
          354,
          362,
          498,
          823,
          732,
          208,
          322,
          805,
          429,
          441,
          191,
          312,
          298,
          789,
          341,
          177,
          358,
          169,
          126,
          173,
          529,
          304,
          517,
          472,
          485,
          508,
          695,
          586,
          430,
          370,
          715,
          167,
          621,
          116,
          611,
          538,
          713,
          339,
          392,
          110,
          287,
          291,
          218,
          588,
          602,
          250,
          364,
          550,
          490,
          80,
          294,
          378,
          407,
          400,
          292,
          275,
          89,
          358,
          600,
          313,
          454,
          304,
          407,
          276,
          436,
          806,
          365,
          120,
          665,
          397,
          689,
          592,
          716,
          174,
          422,
          273,
          477,
          71,
          416,
          618,
          109,
          640,
          263,
          140,
          952,
          324,
          570,
          467,
          215,
          283,
          261,
          371,
          303,
          138,
          152,
          742,
          340,
          843,
          45,
          394,
          670,
          415,
          612,
          404,
          361,
          543,
          778,
          306,
          115,
          763,
          81,
          695,
          306,
          401,
          60,
          644,
          15,
          401,
          101,
          235,
          530,
          950,
          202,
          202,
          563,
          506,
          285,
          234,
          685,
          425,
          320,
          408,
          392,
          539,
          283,
          280,
          476,
          335,
          319,
          569,
          414,
          750,
          412,
          635,
          507,
          620,
          56,
          165,
          162,
          444,
          364,
          315,
          402,
          257,
          314,
          608,
          566,
          349,
          290,
          270,
          166,
          818
         ],
         "xaxis": "x",
         "y": [
          630,
          631,
          871,
          734,
          302,
          749,
          880,
          382,
          403,
          507,
          546,
          877,
          530,
          535,
          625,
          743,
          596,
          250,
          238,
          643,
          473,
          412,
          799,
          375,
          403,
          648,
          648,
          761,
          567,
          429,
          876,
          851,
          366,
          495,
          861,
          623,
          498,
          825,
          286,
          595,
          950,
          775,
          580,
          480,
          855,
          848,
          251,
          342,
          490,
          639,
          623,
          205,
          441,
          576,
          409,
          246,
          673,
          355,
          835,
          400,
          753,
          521,
          888,
          242,
          513,
          742,
          766,
          672,
          256,
          876,
          576,
          574,
          570,
          448,
          718,
          526,
          903,
          390,
          716,
          390,
          516,
          862,
          670,
          860,
          775,
          657,
          695,
          374,
          832,
          745,
          489,
          627,
          285,
          396,
          873,
          752,
          639,
          730,
          796,
          224,
          656,
          547,
          606,
          504,
          589,
          722,
          581,
          573,
          295,
          420,
          598,
          639,
          541,
          651,
          857,
          551,
          380,
          507,
          499,
          645,
          821,
          345,
          660,
          534,
          463,
          486,
          656,
          700,
          524,
          397,
          584,
          737,
          544,
          510,
          432,
          546,
          933,
          529,
          474,
          907,
          801,
          518,
          246,
          316,
          656,
          689,
          727,
          309,
          918,
          681,
          673,
          293,
          517,
          744,
          447,
          756,
          470,
          362,
          694,
          646,
          598,
          694,
          412,
          536,
          642,
          174,
          435,
          353,
          447,
          658,
          421,
          356,
          385,
          179,
          242,
          838,
          549,
          570,
          363,
          424,
          295,
          939,
          660,
          842,
          831,
          803,
          617,
          824,
          421,
          644,
          311,
          557,
          413,
          457,
          408,
          486,
          490,
          639,
          747,
          214,
          133,
          584,
          200,
          158,
          371,
          630,
          732,
          942,
          741,
          460,
          627,
          752,
          524,
          685,
          126,
          604,
          518,
          312,
          885,
          334,
          638,
          907,
          523,
          858,
          729,
          866,
          794,
          350,
          942,
          625,
          865,
          803,
          811,
          647,
          462,
          508,
          739,
          832,
          879,
          864,
          626,
          230,
          817,
          518,
          183,
          410,
          526,
          696,
          117,
          769,
          522,
          320,
          801,
          280,
          720,
          789,
          308,
          958,
          764,
          741,
          216,
          410,
          766,
          282,
          338,
          844,
          272,
          642,
          641,
          605,
          579,
          648,
          383,
          627,
          482,
          601,
          714,
          192,
          571,
          479,
          603,
          288,
          691,
          904,
          745,
          438,
          781,
          867,
          709,
          288,
          811,
          696,
          598,
          911,
          990,
          526,
          550,
          721,
          851,
          779,
          610,
          798,
          469,
          391,
          654,
          735,
          719,
          594,
          264,
          109,
          407,
          909,
          793,
          496,
          733,
          363,
          395,
          922,
          523,
          608,
          522,
          906,
          863,
          702,
          628,
          857,
          661,
          519,
          609,
          616,
          337,
          843,
          383,
          244,
          567,
          823,
          395,
          705,
          544,
          539,
          763,
          662,
          643,
          725,
          739,
          949,
          456,
          707,
          748,
          769,
          859,
          434,
          873,
          887,
          773,
          600,
          431,
          626,
          303,
          806,
          294,
          717,
          848,
          282,
          546,
          606,
          920,
          437,
          543,
          800,
          600,
          773,
          356,
          305,
          245,
          515,
          763,
          555,
          664,
          381,
          606,
          372,
          618,
          860,
          474,
          155,
          881,
          656,
          761,
          771,
          810,
          226,
          740,
          362,
          511,
          326,
          627,
          631,
          597,
          847,
          301,
          656,
          999,
          723,
          855,
          468,
          234,
          734,
          275,
          696,
          688,
          343,
          211,
          859,
          606,
          870,
          134,
          432,
          713,
          418,
          645,
          456,
          735,
          854,
          921,
          498,
          200,
          785,
          239,
          755,
          470,
          584,
          316,
          677,
          771,
          904,
          314,
          316,
          649,
          981,
          325,
          664,
          786,
          852,
          562,
          356,
          788,
          792,
          788,
          762,
          677,
          573,
          830,
          356,
          639,
          687,
          658,
          596,
          440,
          944,
          620,
          769,
          784,
          769,
          656,
          279,
          330,
          705,
          414,
          533,
          703,
          381,
          584,
          681,
          822,
          577,
          432,
          324,
          418,
          889
         ],
         "yaxis": "y"
        },
        {
         "hovertemplate": "<b>OLS trendline</b><br>เลขท้าย 3 ตัว1 = 0.710042 * เลขท้าย 3 ตัว2 + 311.219<br>R<sup>2</sup>=0.491343<br><br>เลขท้าย 3 ตัว2=%{x}<br>เลขท้าย 3 ตัว1=%{y} <b>(trend)</b><extra></extra>",
         "legendgroup": "",
         "marker": {
          "color": "#636efa",
          "symbol": "circle"
         },
         "mode": "lines",
         "name": "",
         "showlegend": false,
         "type": "scatter",
         "x": [
          1,
          15,
          31,
          40,
          43,
          45,
          48,
          56,
          60,
          71,
          71,
          72,
          73,
          74,
          74,
          76,
          80,
          81,
          82,
          83,
          84,
          85,
          85,
          86,
          89,
          91,
          101,
          103,
          104,
          109,
          110,
          113,
          114,
          114,
          115,
          116,
          117,
          120,
          123,
          124,
          125,
          126,
          126,
          134,
          135,
          137,
          138,
          139,
          140,
          140,
          149,
          150,
          150,
          151,
          152,
          152,
          152,
          158,
          158,
          159,
          159,
          162,
          164,
          165,
          166,
          166,
          167,
          167,
          168,
          169,
          171,
          173,
          173,
          173,
          174,
          174,
          177,
          177,
          179,
          181,
          183,
          183,
          186,
          189,
          191,
          191,
          191,
          193,
          195,
          195,
          197,
          198,
          199,
          200,
          200,
          202,
          202,
          205,
          206,
          208,
          209,
          214,
          215,
          216,
          216,
          217,
          218,
          219,
          221,
          221,
          221,
          222,
          227,
          227,
          228,
          228,
          228,
          233,
          234,
          235,
          235,
          236,
          236,
          238,
          238,
          240,
          240,
          241,
          242,
          250,
          252,
          255,
          257,
          257,
          260,
          260,
          261,
          261,
          263,
          263,
          264,
          268,
          270,
          271,
          271,
          272,
          273,
          273,
          275,
          276,
          277,
          280,
          281,
          281,
          282,
          283,
          283,
          284,
          285,
          285,
          287,
          287,
          287,
          287,
          290,
          290,
          291,
          291,
          292,
          293,
          294,
          295,
          298,
          299,
          301,
          301,
          302,
          303,
          304,
          304,
          304,
          305,
          306,
          306,
          309,
          309,
          312,
          312,
          313,
          313,
          314,
          315,
          315,
          319,
          320,
          321,
          322,
          324,
          324,
          324,
          328,
          329,
          332,
          333,
          334,
          335,
          335,
          339,
          340,
          341,
          344,
          345,
          346,
          346,
          347,
          349,
          350,
          352,
          354,
          357,
          358,
          358,
          358,
          359,
          361,
          361,
          361,
          362,
          364,
          364,
          365,
          368,
          370,
          371,
          374,
          374,
          378,
          379,
          380,
          381,
          381,
          382,
          382,
          384,
          385,
          385,
          386,
          386,
          386,
          388,
          389,
          390,
          390,
          392,
          392,
          392,
          394,
          394,
          396,
          397,
          397,
          398,
          400,
          401,
          401,
          401,
          402,
          403,
          404,
          405,
          407,
          407,
          408,
          412,
          414,
          415,
          416,
          417,
          419,
          421,
          422,
          422,
          425,
          425,
          426,
          427,
          427,
          429,
          430,
          430,
          432,
          432,
          433,
          434,
          434,
          435,
          436,
          439,
          440,
          441,
          442,
          444,
          445,
          446,
          451,
          454,
          456,
          457,
          459,
          459,
          460,
          460,
          461,
          461,
          463,
          463,
          465,
          465,
          467,
          468,
          470,
          472,
          472,
          474,
          476,
          477,
          477,
          478,
          479,
          485,
          485,
          487,
          490,
          490,
          492,
          492,
          494,
          498,
          498,
          499,
          502,
          503,
          505,
          506,
          507,
          508,
          510,
          510,
          512,
          517,
          522,
          524,
          526,
          529,
          529,
          529,
          530,
          532,
          533,
          534,
          537,
          538,
          538,
          539,
          543,
          547,
          548,
          550,
          551,
          552,
          553,
          554,
          556,
          558,
          559,
          563,
          565,
          566,
          569,
          570,
          570,
          576,
          576,
          576,
          577,
          577,
          578,
          583,
          586,
          586,
          588,
          589,
          589,
          589,
          589,
          592,
          596,
          598,
          598,
          600,
          600,
          602,
          605,
          607,
          607,
          608,
          611,
          611,
          612,
          612,
          618,
          619,
          620,
          621,
          622,
          624,
          628,
          633,
          635,
          640,
          641,
          644,
          647,
          661,
          661,
          663,
          665,
          666,
          670,
          676,
          677,
          681,
          685,
          689,
          695,
          695,
          700,
          713,
          713,
          715,
          715,
          716,
          721,
          721,
          732,
          734,
          734,
          739,
          739,
          742,
          744,
          745,
          750,
          751,
          763,
          763,
          763,
          774,
          775,
          776,
          778,
          784,
          789,
          799,
          800,
          801,
          802,
          804,
          805,
          806,
          808,
          818,
          823,
          834,
          843,
          853,
          855,
          893,
          950,
          952
         ],
         "xaxis": "x",
         "y": [
          311.92941630556885,
          321.8700069227736,
          333.2306819138647,
          339.6210615963535,
          341.7511881571831,
          343.17127253106946,
          345.3013990918991,
          350.98173658744463,
          353.8219053352174,
          361.6323693915926,
          361.6323693915926,
          362.3424115785358,
          363.052453765479,
          363.7624959524222,
          363.7624959524222,
          365.1825803263086,
          368.0227490740814,
          368.73279126102454,
          369.44283344796776,
          370.15287563491097,
          370.8629178218542,
          371.57296000879734,
          371.57296000879734,
          372.28300219574055,
          374.41312875657013,
          375.83321313045656,
          382.9336349998885,
          384.3537193737749,
          385.0637615607181,
          388.6139724954341,
          389.3240146823773,
          391.4541412432069,
          392.16418343015005,
          392.16418343015005,
          392.87422561709326,
          393.5842678040365,
          394.2943099909796,
          396.42443655180926,
          398.55456311263885,
          399.26460529958206,
          399.9746474865252,
          400.6846896734684,
          400.6846896734684,
          406.365027169014,
          407.0750693559572,
          408.4951537298436,
          409.2051959167868,
          409.91523810372996,
          410.6252802906732,
          410.6252802906732,
          417.015659973162,
          417.72570216010513,
          417.72570216010513,
          418.43574434704834,
          419.14578653399155,
          419.14578653399155,
          419.14578653399155,
          423.4060396556507,
          423.4060396556507,
          424.1160818425939,
          424.1160818425939,
          426.2462084034235,
          427.6662927773099,
          428.3763349642531,
          429.0863771511963,
          429.0863771511963,
          429.7964193381395,
          429.7964193381395,
          430.5064615250827,
          431.2165037120259,
          432.6365880859123,
          434.0566724597987,
          434.0566724597987,
          434.0566724597987,
          434.7667146467419,
          434.7667146467419,
          436.89684120757147,
          436.89684120757147,
          438.31692558145784,
          439.73700995534426,
          441.15709432923063,
          441.15709432923063,
          443.2872208900602,
          445.4173474508898,
          446.8374318247762,
          446.8374318247762,
          446.8374318247762,
          448.25751619866264,
          449.677600572549,
          449.677600572549,
          451.0976849464354,
          451.8077271333786,
          452.5177693203218,
          453.22781150726496,
          453.22781150726496,
          454.6478958811514,
          454.6478958811514,
          456.77802244198097,
          457.4880646289242,
          458.90814900281055,
          459.61819118975376,
          463.1684021244697,
          463.878444311413,
          464.58848649835613,
          464.58848649835613,
          465.29852868529935,
          466.00857087224256,
          466.7186130591857,
          468.13869743307214,
          468.13869743307214,
          468.13869743307214,
          468.8487396200153,
          472.3989505547313,
          472.3989505547313,
          473.1089927416745,
          473.1089927416745,
          473.1089927416745,
          476.65920367639046,
          477.3692458633337,
          478.0792880502769,
          478.0792880502769,
          478.78933023722004,
          478.78933023722004,
          480.20941461110647,
          480.20941461110647,
          481.6294989849929,
          481.6294989849929,
          482.33954117193605,
          483.04958335887926,
          488.7299208544248,
          490.1500052283112,
          492.2801317891408,
          493.7002161630272,
          493.7002161630272,
          495.8303427238568,
          495.8303427238568,
          496.54038491079996,
          496.54038491079996,
          497.9604692846864,
          497.9604692846864,
          498.6705114716296,
          501.5106802194024,
          502.93076459328876,
          503.64080678023197,
          503.64080678023197,
          504.3508489671751,
          505.0608911541184,
          505.0608911541184,
          506.4809755280047,
          507.191017714948,
          507.90105990189113,
          510.0311864627207,
          510.7412286496639,
          510.7412286496639,
          511.45127083660714,
          512.1613130235503,
          512.1613130235503,
          512.8713552104934,
          513.5813973974367,
          513.5813973974367,
          515.0014817713231,
          515.0014817713231,
          515.0014817713231,
          515.0014817713231,
          517.1316083321527,
          517.1316083321527,
          517.8416505190959,
          517.8416505190959,
          518.5516927060391,
          519.2617348929823,
          519.9717770799255,
          520.6818192668686,
          522.8119458276983,
          523.5219880146415,
          524.9420723885279,
          524.9420723885279,
          525.652114575471,
          526.3621567624143,
          527.0721989493575,
          527.0721989493575,
          527.0721989493575,
          527.7822411363006,
          528.4922833232438,
          528.4922833232438,
          530.6224098840735,
          530.6224098840735,
          532.7525364449031,
          532.7525364449031,
          533.4625786318462,
          533.4625786318462,
          534.1726208187895,
          534.8826630057326,
          534.8826630057326,
          537.7228317535054,
          538.4328739404486,
          539.1429161273918,
          539.852958314335,
          541.2730426882214,
          541.2730426882214,
          541.2730426882214,
          544.1132114359941,
          544.8232536229374,
          546.953380183767,
          547.6634223707101,
          548.3734645576534,
          549.0835067445965,
          549.0835067445965,
          551.9236754923693,
          552.6337176793126,
          553.3437598662557,
          555.4738864270853,
          556.1839286140286,
          556.8939708009717,
          556.8939708009717,
          557.604012987915,
          559.0240973618013,
          559.7341395487445,
          561.1542239226309,
          562.5743082965173,
          564.7044348573469,
          565.41447704429,
          565.41447704429,
          565.41447704429,
          566.1245192312333,
          567.5446036051196,
          567.5446036051196,
          567.5446036051196,
          568.2546457920629,
          569.6747301659493,
          569.6747301659493,
          570.3847723528925,
          572.514898913722,
          573.9349832876085,
          574.6450254745516,
          576.7751520353812,
          576.7751520353812,
          579.615320783154,
          580.3253629700972,
          581.0354051570405,
          581.7454473439836,
          581.7454473439836,
          582.4554895309268,
          582.4554895309268,
          583.8755739048132,
          584.5856160917564,
          584.5856160917564,
          585.2956582786996,
          585.2956582786996,
          585.2956582786996,
          586.715742652586,
          587.4257848395291,
          588.1358270264724,
          588.1358270264724,
          589.5559114003588,
          589.5559114003588,
          589.5559114003588,
          590.9759957742451,
          590.9759957742451,
          592.3960801481315,
          593.1061223350748,
          593.1061223350748,
          593.816164522018,
          595.2362488959043,
          595.9462910828476,
          595.9462910828476,
          595.9462910828476,
          596.6563332697908,
          597.366375456734,
          598.0764176436771,
          598.7864598306203,
          600.2065442045067,
          600.2065442045067,
          600.91658639145,
          603.7567551392227,
          605.1768395131091,
          605.8868817000523,
          606.5969238869955,
          607.3069660739386,
          608.7270504478251,
          610.1471348217115,
          610.8571770086546,
          610.8571770086546,
          612.9873035694843,
          612.9873035694843,
          613.6973457564275,
          614.4073879433706,
          614.4073879433706,
          615.827472317257,
          616.5375145042003,
          616.5375145042003,
          617.9575988780866,
          617.9575988780866,
          618.6676410650298,
          619.377683251973,
          619.377683251973,
          620.0877254389162,
          620.7977676258595,
          622.927894186689,
          623.6379363736322,
          624.3479785605755,
          625.0580207475186,
          626.478105121405,
          627.1881473083482,
          627.8981894952914,
          631.4484004300074,
          633.578526990837,
          634.9986113647234,
          635.7086535516665,
          637.128737925553,
          637.128737925553,
          637.8387801124961,
          637.8387801124961,
          638.5488222994393,
          638.5488222994393,
          639.9689066733258,
          639.9689066733258,
          641.3889910472121,
          641.3889910472121,
          642.8090754210984,
          643.5191176080417,
          644.9392019819281,
          646.3592863558144,
          646.3592863558144,
          647.779370729701,
          649.1994551035873,
          649.9094972905305,
          649.9094972905305,
          650.6195394774736,
          651.3295816644169,
          655.589834786076,
          655.589834786076,
          657.0099191599625,
          659.140045720792,
          659.140045720792,
          660.5601300946785,
          660.5601300946785,
          661.9802144685648,
          664.8203832163376,
          664.8203832163376,
          665.5304254032808,
          667.6605519641105,
          668.3705941510536,
          669.79067852494,
          670.5007207118832,
          671.2107628988264,
          671.9208050857696,
          673.340889459656,
          673.340889459656,
          674.7609738335424,
          678.3111847682584,
          681.8613957029743,
          683.2814800768608,
          684.7015644507471,
          686.8316910115767,
          686.8316910115767,
          686.8316910115767,
          687.54173319852,
          688.9618175724063,
          689.6718597593494,
          690.3819019462927,
          692.5120285071223,
          693.2220706940655,
          693.2220706940655,
          693.9321128810087,
          696.7722816287815,
          699.6124503765543,
          700.3224925634975,
          701.7425769373838,
          702.452619124327,
          703.1626613112703,
          703.8727034982135,
          704.5827456851566,
          706.002830059043,
          707.4229144329295,
          708.1329566198726,
          710.9731253676455,
          712.3932097415318,
          713.103251928475,
          715.2333784893046,
          715.9434206762478,
          715.9434206762478,
          720.203673797907,
          720.203673797907,
          720.203673797907,
          720.9137159848501,
          720.9137159848501,
          721.6237581717934,
          725.1739691065093,
          727.304095667339,
          727.304095667339,
          728.7241800412253,
          729.4342222281686,
          729.4342222281686,
          729.4342222281686,
          729.4342222281686,
          731.5643487889981,
          734.404517536771,
          735.8246019106573,
          735.8246019106573,
          737.2446862845437,
          737.2446862845437,
          738.6647706584301,
          740.7948972192596,
          742.2149815931461,
          742.2149815931461,
          742.9250237800893,
          745.0551503409189,
          745.0551503409189,
          745.765192527862,
          745.765192527862,
          750.0254456495213,
          750.7354878364645,
          751.4455300234076,
          752.1555722103508,
          752.8656143972939,
          754.2856987711805,
          757.1258675189532,
          760.6760784536691,
          762.0961628275556,
          765.6463737622715,
          766.3564159492148,
          768.4865425100443,
          770.616669070874,
          780.5572596880787,
          780.5572596880787,
          781.9773440619651,
          783.3974284358515,
          784.1074706227946,
          786.9476393705675,
          791.2078924922266,
          791.9179346791698,
          794.7581034269426,
          797.5982721747155,
          800.4384409224882,
          804.6986940441474,
          804.6986940441474,
          808.2489049788634,
          817.479453409125,
          817.479453409125,
          818.8995377830113,
          818.8995377830113,
          819.6095799699544,
          823.1597909046704,
          823.1597909046704,
          830.9702549610456,
          832.390339334932,
          832.390339334932,
          835.940550269648,
          835.940550269648,
          838.0706768304776,
          839.490761204364,
          840.2008033913072,
          843.7510143260232,
          844.4610565129664,
          852.9815627562848,
          852.9815627562848,
          852.9815627562848,
          860.79202681266,
          861.5020689996031,
          862.2121111865463,
          863.6321955604327,
          867.8924486820919,
          871.4426596168079,
          878.5430814862399,
          879.253123673183,
          879.9631658601262,
          880.6732080470695,
          882.0932924209559,
          882.803334607899,
          883.5133767948422,
          884.9334611687286,
          892.0338830381606,
          895.5840939728765,
          903.3945580292517,
          909.7849377117406,
          916.8853595811725,
          918.3054439550589,
          945.2870470589004,
          985.7594517146625,
          987.179536088549
         ],
         "yaxis": "y"
        }
       ],
       "layout": {
        "legend": {
         "tracegroupgap": 0
        },
        "margin": {
         "t": 60
        },
        "template": {
         "data": {
          "bar": [
           {
            "error_x": {
             "color": "#2a3f5f"
            },
            "error_y": {
             "color": "#2a3f5f"
            },
            "marker": {
             "line": {
              "color": "#E5ECF6",
              "width": 0.5
             },
             "pattern": {
              "fillmode": "overlay",
              "size": 10,
              "solidity": 0.2
             }
            },
            "type": "bar"
           }
          ],
          "barpolar": [
           {
            "marker": {
             "line": {
              "color": "#E5ECF6",
              "width": 0.5
             },
             "pattern": {
              "fillmode": "overlay",
              "size": 10,
              "solidity": 0.2
             }
            },
            "type": "barpolar"
           }
          ],
          "carpet": [
           {
            "aaxis": {
             "endlinecolor": "#2a3f5f",
             "gridcolor": "white",
             "linecolor": "white",
             "minorgridcolor": "white",
             "startlinecolor": "#2a3f5f"
            },
            "baxis": {
             "endlinecolor": "#2a3f5f",
             "gridcolor": "white",
             "linecolor": "white",
             "minorgridcolor": "white",
             "startlinecolor": "#2a3f5f"
            },
            "type": "carpet"
           }
          ],
          "choropleth": [
           {
            "colorbar": {
             "outlinewidth": 0,
             "ticks": ""
            },
            "type": "choropleth"
           }
          ],
          "contour": [
           {
            "colorbar": {
             "outlinewidth": 0,
             "ticks": ""
            },
            "colorscale": [
             [
              0,
              "#0d0887"
             ],
             [
              0.1111111111111111,
              "#46039f"
             ],
             [
              0.2222222222222222,
              "#7201a8"
             ],
             [
              0.3333333333333333,
              "#9c179e"
             ],
             [
              0.4444444444444444,
              "#bd3786"
             ],
             [
              0.5555555555555556,
              "#d8576b"
             ],
             [
              0.6666666666666666,
              "#ed7953"
             ],
             [
              0.7777777777777778,
              "#fb9f3a"
             ],
             [
              0.8888888888888888,
              "#fdca26"
             ],
             [
              1,
              "#f0f921"
             ]
            ],
            "type": "contour"
           }
          ],
          "contourcarpet": [
           {
            "colorbar": {
             "outlinewidth": 0,
             "ticks": ""
            },
            "type": "contourcarpet"
           }
          ],
          "heatmap": [
           {
            "colorbar": {
             "outlinewidth": 0,
             "ticks": ""
            },
            "colorscale": [
             [
              0,
              "#0d0887"
             ],
             [
              0.1111111111111111,
              "#46039f"
             ],
             [
              0.2222222222222222,
              "#7201a8"
             ],
             [
              0.3333333333333333,
              "#9c179e"
             ],
             [
              0.4444444444444444,
              "#bd3786"
             ],
             [
              0.5555555555555556,
              "#d8576b"
             ],
             [
              0.6666666666666666,
              "#ed7953"
             ],
             [
              0.7777777777777778,
              "#fb9f3a"
             ],
             [
              0.8888888888888888,
              "#fdca26"
             ],
             [
              1,
              "#f0f921"
             ]
            ],
            "type": "heatmap"
           }
          ],
          "heatmapgl": [
           {
            "colorbar": {
             "outlinewidth": 0,
             "ticks": ""
            },
            "colorscale": [
             [
              0,
              "#0d0887"
             ],
             [
              0.1111111111111111,
              "#46039f"
             ],
             [
              0.2222222222222222,
              "#7201a8"
             ],
             [
              0.3333333333333333,
              "#9c179e"
             ],
             [
              0.4444444444444444,
              "#bd3786"
             ],
             [
              0.5555555555555556,
              "#d8576b"
             ],
             [
              0.6666666666666666,
              "#ed7953"
             ],
             [
              0.7777777777777778,
              "#fb9f3a"
             ],
             [
              0.8888888888888888,
              "#fdca26"
             ],
             [
              1,
              "#f0f921"
             ]
            ],
            "type": "heatmapgl"
           }
          ],
          "histogram": [
           {
            "marker": {
             "pattern": {
              "fillmode": "overlay",
              "size": 10,
              "solidity": 0.2
             }
            },
            "type": "histogram"
           }
          ],
          "histogram2d": [
           {
            "colorbar": {
             "outlinewidth": 0,
             "ticks": ""
            },
            "colorscale": [
             [
              0,
              "#0d0887"
             ],
             [
              0.1111111111111111,
              "#46039f"
             ],
             [
              0.2222222222222222,
              "#7201a8"
             ],
             [
              0.3333333333333333,
              "#9c179e"
             ],
             [
              0.4444444444444444,
              "#bd3786"
             ],
             [
              0.5555555555555556,
              "#d8576b"
             ],
             [
              0.6666666666666666,
              "#ed7953"
             ],
             [
              0.7777777777777778,
              "#fb9f3a"
             ],
             [
              0.8888888888888888,
              "#fdca26"
             ],
             [
              1,
              "#f0f921"
             ]
            ],
            "type": "histogram2d"
           }
          ],
          "histogram2dcontour": [
           {
            "colorbar": {
             "outlinewidth": 0,
             "ticks": ""
            },
            "colorscale": [
             [
              0,
              "#0d0887"
             ],
             [
              0.1111111111111111,
              "#46039f"
             ],
             [
              0.2222222222222222,
              "#7201a8"
             ],
             [
              0.3333333333333333,
              "#9c179e"
             ],
             [
              0.4444444444444444,
              "#bd3786"
             ],
             [
              0.5555555555555556,
              "#d8576b"
             ],
             [
              0.6666666666666666,
              "#ed7953"
             ],
             [
              0.7777777777777778,
              "#fb9f3a"
             ],
             [
              0.8888888888888888,
              "#fdca26"
             ],
             [
              1,
              "#f0f921"
             ]
            ],
            "type": "histogram2dcontour"
           }
          ],
          "mesh3d": [
           {
            "colorbar": {
             "outlinewidth": 0,
             "ticks": ""
            },
            "type": "mesh3d"
           }
          ],
          "parcoords": [
           {
            "line": {
             "colorbar": {
              "outlinewidth": 0,
              "ticks": ""
             }
            },
            "type": "parcoords"
           }
          ],
          "pie": [
           {
            "automargin": true,
            "type": "pie"
           }
          ],
          "scatter": [
           {
            "fillpattern": {
             "fillmode": "overlay",
             "size": 10,
             "solidity": 0.2
            },
            "type": "scatter"
           }
          ],
          "scatter3d": [
           {
            "line": {
             "colorbar": {
              "outlinewidth": 0,
              "ticks": ""
             }
            },
            "marker": {
             "colorbar": {
              "outlinewidth": 0,
              "ticks": ""
             }
            },
            "type": "scatter3d"
           }
          ],
          "scattercarpet": [
           {
            "marker": {
             "colorbar": {
              "outlinewidth": 0,
              "ticks": ""
             }
            },
            "type": "scattercarpet"
           }
          ],
          "scattergeo": [
           {
            "marker": {
             "colorbar": {
              "outlinewidth": 0,
              "ticks": ""
             }
            },
            "type": "scattergeo"
           }
          ],
          "scattergl": [
           {
            "marker": {
             "colorbar": {
              "outlinewidth": 0,
              "ticks": ""
             }
            },
            "type": "scattergl"
           }
          ],
          "scattermapbox": [
           {
            "marker": {
             "colorbar": {
              "outlinewidth": 0,
              "ticks": ""
             }
            },
            "type": "scattermapbox"
           }
          ],
          "scatterpolar": [
           {
            "marker": {
             "colorbar": {
              "outlinewidth": 0,
              "ticks": ""
             }
            },
            "type": "scatterpolar"
           }
          ],
          "scatterpolargl": [
           {
            "marker": {
             "colorbar": {
              "outlinewidth": 0,
              "ticks": ""
             }
            },
            "type": "scatterpolargl"
           }
          ],
          "scatterternary": [
           {
            "marker": {
             "colorbar": {
              "outlinewidth": 0,
              "ticks": ""
             }
            },
            "type": "scatterternary"
           }
          ],
          "surface": [
           {
            "colorbar": {
             "outlinewidth": 0,
             "ticks": ""
            },
            "colorscale": [
             [
              0,
              "#0d0887"
             ],
             [
              0.1111111111111111,
              "#46039f"
             ],
             [
              0.2222222222222222,
              "#7201a8"
             ],
             [
              0.3333333333333333,
              "#9c179e"
             ],
             [
              0.4444444444444444,
              "#bd3786"
             ],
             [
              0.5555555555555556,
              "#d8576b"
             ],
             [
              0.6666666666666666,
              "#ed7953"
             ],
             [
              0.7777777777777778,
              "#fb9f3a"
             ],
             [
              0.8888888888888888,
              "#fdca26"
             ],
             [
              1,
              "#f0f921"
             ]
            ],
            "type": "surface"
           }
          ],
          "table": [
           {
            "cells": {
             "fill": {
              "color": "#EBF0F8"
             },
             "line": {
              "color": "white"
             }
            },
            "header": {
             "fill": {
              "color": "#C8D4E3"
             },
             "line": {
              "color": "white"
             }
            },
            "type": "table"
           }
          ]
         },
         "layout": {
          "annotationdefaults": {
           "arrowcolor": "#2a3f5f",
           "arrowhead": 0,
           "arrowwidth": 1
          },
          "autotypenumbers": "strict",
          "coloraxis": {
           "colorbar": {
            "outlinewidth": 0,
            "ticks": ""
           }
          },
          "colorscale": {
           "diverging": [
            [
             0,
             "#8e0152"
            ],
            [
             0.1,
             "#c51b7d"
            ],
            [
             0.2,
             "#de77ae"
            ],
            [
             0.3,
             "#f1b6da"
            ],
            [
             0.4,
             "#fde0ef"
            ],
            [
             0.5,
             "#f7f7f7"
            ],
            [
             0.6,
             "#e6f5d0"
            ],
            [
             0.7,
             "#b8e186"
            ],
            [
             0.8,
             "#7fbc41"
            ],
            [
             0.9,
             "#4d9221"
            ],
            [
             1,
             "#276419"
            ]
           ],
           "sequential": [
            [
             0,
             "#0d0887"
            ],
            [
             0.1111111111111111,
             "#46039f"
            ],
            [
             0.2222222222222222,
             "#7201a8"
            ],
            [
             0.3333333333333333,
             "#9c179e"
            ],
            [
             0.4444444444444444,
             "#bd3786"
            ],
            [
             0.5555555555555556,
             "#d8576b"
            ],
            [
             0.6666666666666666,
             "#ed7953"
            ],
            [
             0.7777777777777778,
             "#fb9f3a"
            ],
            [
             0.8888888888888888,
             "#fdca26"
            ],
            [
             1,
             "#f0f921"
            ]
           ],
           "sequentialminus": [
            [
             0,
             "#0d0887"
            ],
            [
             0.1111111111111111,
             "#46039f"
            ],
            [
             0.2222222222222222,
             "#7201a8"
            ],
            [
             0.3333333333333333,
             "#9c179e"
            ],
            [
             0.4444444444444444,
             "#bd3786"
            ],
            [
             0.5555555555555556,
             "#d8576b"
            ],
            [
             0.6666666666666666,
             "#ed7953"
            ],
            [
             0.7777777777777778,
             "#fb9f3a"
            ],
            [
             0.8888888888888888,
             "#fdca26"
            ],
            [
             1,
             "#f0f921"
            ]
           ]
          },
          "colorway": [
           "#636efa",
           "#EF553B",
           "#00cc96",
           "#ab63fa",
           "#FFA15A",
           "#19d3f3",
           "#FF6692",
           "#B6E880",
           "#FF97FF",
           "#FECB52"
          ],
          "font": {
           "color": "#2a3f5f"
          },
          "geo": {
           "bgcolor": "white",
           "lakecolor": "white",
           "landcolor": "#E5ECF6",
           "showlakes": true,
           "showland": true,
           "subunitcolor": "white"
          },
          "hoverlabel": {
           "align": "left"
          },
          "hovermode": "closest",
          "mapbox": {
           "style": "light"
          },
          "paper_bgcolor": "white",
          "plot_bgcolor": "#E5ECF6",
          "polar": {
           "angularaxis": {
            "gridcolor": "white",
            "linecolor": "white",
            "ticks": ""
           },
           "bgcolor": "#E5ECF6",
           "radialaxis": {
            "gridcolor": "white",
            "linecolor": "white",
            "ticks": ""
           }
          },
          "scene": {
           "xaxis": {
            "backgroundcolor": "#E5ECF6",
            "gridcolor": "white",
            "gridwidth": 2,
            "linecolor": "white",
            "showbackground": true,
            "ticks": "",
            "zerolinecolor": "white"
           },
           "yaxis": {
            "backgroundcolor": "#E5ECF6",
            "gridcolor": "white",
            "gridwidth": 2,
            "linecolor": "white",
            "showbackground": true,
            "ticks": "",
            "zerolinecolor": "white"
           },
           "zaxis": {
            "backgroundcolor": "#E5ECF6",
            "gridcolor": "white",
            "gridwidth": 2,
            "linecolor": "white",
            "showbackground": true,
            "ticks": "",
            "zerolinecolor": "white"
           }
          },
          "shapedefaults": {
           "line": {
            "color": "#2a3f5f"
           }
          },
          "ternary": {
           "aaxis": {
            "gridcolor": "white",
            "linecolor": "white",
            "ticks": ""
           },
           "baxis": {
            "gridcolor": "white",
            "linecolor": "white",
            "ticks": ""
           },
           "bgcolor": "#E5ECF6",
           "caxis": {
            "gridcolor": "white",
            "linecolor": "white",
            "ticks": ""
           }
          },
          "title": {
           "x": 0.05
          },
          "xaxis": {
           "automargin": true,
           "gridcolor": "white",
           "linecolor": "white",
           "ticks": "",
           "title": {
            "standoff": 15
           },
           "zerolinecolor": "white",
           "zerolinewidth": 2
          },
          "yaxis": {
           "automargin": true,
           "gridcolor": "white",
           "linecolor": "white",
           "ticks": "",
           "title": {
            "standoff": 15
           },
           "zerolinecolor": "white",
           "zerolinewidth": 2
          }
         }
        },
        "xaxis": {
         "anchor": "y",
         "domain": [
          0,
          1
         ],
         "title": {
          "text": "เลขท้าย 3 ตัว2"
         }
        },
        "yaxis": {
         "anchor": "x",
         "domain": [
          0,
          1
         ],
         "title": {
          "text": "เลขท้าย 3 ตัว1"
         }
        }
       }
      }
     },
     "metadata": {},
     "output_type": "display_data"
    }
   ],
   "source": [
    "fig = px.scatter(df, x='เลขท้าย 3 ตัว2', y='เลขท้าย 3 ตัว1',trendline='ols')\n",
    "fig.show()"
   ]
  },
  {
   "cell_type": "markdown",
   "metadata": {},
   "source": [
    "#### Random Forest\n"
   ]
  },
  {
   "cell_type": "code",
   "execution_count": 32,
   "metadata": {},
   "outputs": [],
   "source": [
    "from sklearn.model_selection import train_test_split\n",
    "from sklearn.ensemble import RandomForestClassifier\n",
    "from sklearn.metrics import accuracy_score"
   ]
  },
  {
   "cell_type": "code",
   "execution_count": 33,
   "metadata": {},
   "outputs": [
    {
     "name": "stdout",
     "output_type": "stream",
     "text": [
      "<class 'pandas.core.frame.DataFrame'>\n",
      "DatetimeIndex: 480 entries, 2016-09-01 to 1996-09-16\n",
      "Data columns (total 26 columns):\n",
      " #   Column                  Non-Null Count  Dtype\n",
      "---  ------                  --------------  -----\n",
      " 0   เลขท้าย 2 ตัว           480 non-null    int64\n",
      " 1   เลขหน้า 3 ตัว1          480 non-null    int64\n",
      " 2   เลขท้าย 3 ตัว2          480 non-null    int64\n",
      " 3   เลขท้าย 3 ตัว1          480 non-null    int64\n",
      " 4   เลขหน้า 3 ตัว2          480 non-null    int64\n",
      " 5   รางวัลที่หนึ่ง          480 non-null    int64\n",
      " 6   last_two_digits_first   480 non-null    int32\n",
      " 7   last_two_digits_second  480 non-null    int32\n",
      " 8   first_digit             480 non-null    int32\n",
      " 9   second_digit            480 non-null    int32\n",
      " 10  third_digit             480 non-null    int32\n",
      " 11  fourth_digit            480 non-null    int32\n",
      " 12  fifth_digit             480 non-null    int32\n",
      " 13  sixth_digit             480 non-null    int32\n",
      " 14  เลขท้าย 3 ตัว1_first    480 non-null    int32\n",
      " 15  เลขท้าย 3 ตัว1_second   480 non-null    int32\n",
      " 16  เลขท้าย 3 ตัว1_third    480 non-null    int32\n",
      " 17  เลขท้าย 3 ตัว2_first    480 non-null    int32\n",
      " 18  เลขท้าย 3 ตัว2_second   480 non-null    int32\n",
      " 19  เลขท้าย 3 ตัว2_third    480 non-null    int32\n",
      " 20  เลขหน้า 3 ตัว1_first    480 non-null    int32\n",
      " 21  เลขหน้า 3 ตัว1_second   480 non-null    int32\n",
      " 22  เลขหน้า 3 ตัว1_third    480 non-null    int32\n",
      " 23  เลขหน้า 3 ตัว2_first    480 non-null    int32\n",
      " 24  เลขหน้า 3 ตัว2_second   480 non-null    int32\n",
      " 25  เลขหน้า 3 ตัว2_third    480 non-null    int32\n",
      "dtypes: int32(20), int64(6)\n",
      "memory usage: 63.8 KB\n"
     ]
    }
   ],
   "source": [
    "df.info()"
   ]
  },
  {
   "cell_type": "code",
   "execution_count": 34,
   "metadata": {},
   "outputs": [],
   "source": [
    "X = df['last_two_digits_first'].values.reshape(-1, 1)  # Reshape to make it a 2D array\n",
    "y = df['last_two_digits_second']\n",
    "# Split the dataset into training and testing sets\n",
    "X_train, X_test, y_train, y_test = train_test_split(X, y, test_size=0.2, random_state=42)"
   ]
  },
  {
   "cell_type": "code",
   "execution_count": null,
   "metadata": {},
   "outputs": [],
   "source": []
  }
 ],
 "metadata": {
  "kernelspec": {
   "display_name": ".venv",
   "language": "python",
   "name": "python3"
  },
  "language_info": {
   "codemirror_mode": {
    "name": "ipython",
    "version": 3
   },
   "file_extension": ".py",
   "mimetype": "text/x-python",
   "name": "python",
   "nbconvert_exporter": "python",
   "pygments_lexer": "ipython3",
   "version": "3.12.0"
  }
 },
 "nbformat": 4,
 "nbformat_minor": 2
}
